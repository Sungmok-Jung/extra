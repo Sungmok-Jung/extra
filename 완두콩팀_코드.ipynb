{
  "nbformat": 4,
  "nbformat_minor": 0,
  "metadata": {
    "colab": {
      "provenance": [],
      "collapsed_sections": [
        "WKih0KO5hQzj",
        "PtnayE-bmQAj"
      ]
    },
    "kernelspec": {
      "name": "python3",
      "display_name": "Python 3"
    },
    "language_info": {
      "name": "python"
    }
  },
  "cells": [
    {
      "cell_type": "markdown",
      "source": [
        "# 팀 프로젝트명: 웹툰의 드라마 실사화와 실사화된 드라마의 흥행 조건 분석\n",
        "- 팀원1(학과(부)/학번/성명): 자유전공학부/ 2021-19625 / 김수민\n",
        "- 팀원2(학과(부)/학번/성명): 국어교육과/ 2018-19369 / 정성목\n",
        "- 팀원3(학과(부)/학번/성명): 국어교육과/ 2019-10530 / 정수윤\n",
        "- 팀원4(학과(부)/학번/성명): 자유전공학부 / 2020-12161 / 정채연\n"
      ],
      "metadata": {
        "id": "ZiCZFHd2TUQY"
      }
    },
    {
      "cell_type": "markdown",
      "source": [
        "## 0. 프로젝트 요약(공백포함 500글자 이내)\n",
        "- 목적/내용/결론\n",
        "\n",
        "본 프로젝트에서는 드라마로 실사화된 웹툰들의 조건과 해당 드라마들의 흥행 조건에 대해 분석해봤다. 프로젝트는 크게 원작 웹툰에 대한 분석과 실사화된 드라마에 대한 분석으로 나눌 수 있다. 웹툰 분석에서는 실사화된 웹툰들의 별점 평균과 장르를 조사했다. 평균에서 크게 벗어난 웹툰들의 경우에는 왜 실사화되었을지 그 이유에 대해 고민해봤으며, 장르의 경우에는 왜 특정 장르의 웹툰들이 많이 실사화되는지 그 원인에 대해 분석해봤다. 드라마 분석에서는 실사화된 드라마들 중에서도 흥행작과 실패작을 구분하여 원작 웹툰의 별점과 해당 드라마의 방송사/플랫폼 분석을 통해 흥행의 원인에 대해 추론해봤다. 다만, 이 프로젝트는 네이버 웹툰들 중 드라마로 실사화된 웹툰들을 분석하였기 때문에, 드라마로 실사화된 웹툰의 모집단을 표본이 대표할 수 있을지에 대해서는 의구심이 들었다. 따라서 표본을 확장하여 다른 사이트에서 연재된 웹툰들의 데이터도 수집한다면 더욱 유의미한 결론을 얻을 수 있을 것이라고 생각했다."
      ],
      "metadata": {
        "id": "PtnayE-bmQAj"
      }
    },
    {
      "cell_type": "markdown",
      "source": [
        "## 1.전체코드"
      ],
      "metadata": {
        "id": "ZYZFDuriUHvr"
      }
    },
    {
      "cell_type": "code",
      "source": [
        "# selenium 설치\n",
        "!pip install selenium\n",
        "!apt-get update\n",
        "\n",
        "# chrom driver 구동\n",
        "%%shell\n",
        "# Ubuntu no longer distributes chromium-browser outside of snap\n",
        "#\n",
        "# Proposed solution: https://askubuntu.com/questions/1204571/how-to-install-chromium-without-snap\n",
        "\n",
        "# Add debian buster\n",
        "cat > /etc/apt/sources.list.d/debian.list <<'EOF'\n",
        "deb [arch=amd64 signed-by=/usr/share/keyrings/debian-buster.gpg] http://deb.debian.org/debian buster main\n",
        "deb [arch=amd64 signed-by=/usr/share/keyrings/debian-buster-updates.gpg] http://deb.debian.org/debian buster-updates main\n",
        "deb [arch=amd64 signed-by=/usr/share/keyrings/debian-security-buster.gpg] http://deb.debian.org/debian-security buster/updates main\n",
        "EOF\n",
        "\n",
        "# Add keys\n",
        "apt-key adv --keyserver keyserver.ubuntu.com --recv-keys DCC9EFBF77E11517\n",
        "apt-key adv --keyserver keyserver.ubuntu.com --recv-keys 648ACFD622F3D138\n",
        "apt-key adv --keyserver keyserver.ubuntu.com --recv-keys 112695A0E562B32A\n",
        "\n",
        "apt-key export 77E11517 | gpg --dearmour -o /usr/share/keyrings/debian-buster.gpg\n",
        "apt-key export 22F3D138 | gpg --dearmour -o /usr/share/keyrings/debian-buster-updates.gpg\n",
        "apt-key export E562B32A | gpg --dearmour -o /usr/share/keyrings/debian-security-buster.gpg\n",
        "\n",
        "# Prefer debian repo for chromium* packages only\n",
        "# Note the double-blank lines between entries\n",
        "cat > /etc/apt/preferences.d/chromium.pref << 'EOF'\n",
        "Package: *\n",
        "Pin: release a=eoan\n",
        "Pin-Priority: 500\n",
        "\n",
        "\n",
        "Package: *\n",
        "Pin: origin \"deb.debian.org\"\n",
        "Pin-Priority: 300\n",
        "\n",
        "\n",
        "Package: chromium*\n",
        "Pin: origin \"deb.debian.org\"\n",
        "Pin-Priority: 700\n",
        "EOF\n",
        "\n",
        "# Install chromium and chromium-driver\n",
        "apt-get update\n",
        "apt-get install chromium chromium-driver\n",
        "\n",
        "# Install selenium\n",
        "pip install selenium\n",
        "\n",
        "# 캡쳐시 폰트깨짐 해결\n",
        "!apt-get install fonts-unfonts-core \n",
        "\n",
        "# chrom driver 옵션 설정\n",
        "import selenium\n",
        "from bs4 import BeautifulSoup\n",
        "from selenium import webdriver\n",
        "chrome_options = webdriver.ChromeOptions()\n",
        "chrome_options.add_argument('--headless')\n",
        "chrome_options.add_argument('--no-sandbox')\n",
        "chrome_options.add_argument('--disable-dev-shm-usage')\n",
        "\n",
        "driver = webdriver.Chrome('chromedriver',options=chrome_options)\n",
        "\n",
        "# numpy, pandas 구동\n",
        "import numpy as np\n",
        "import pandas as pd\n",
        "\n",
        "# matplotlib, seaborn 구동\n",
        "import matplotlib.pyplot as plt\n",
        "import seaborn as sns\n",
        "\n",
        "# 한글 폰트 설치\n",
        "!apt-get install fonts-nanum*\n",
        "import matplotlib.pyplot as plt\n",
        "from matplotlib import rc\n",
        "import matplotlib as mpl\n",
        "import matplotlib.font_manager as fm\n",
        "\n",
        "\n",
        "font_name = fm.FontProperties(fname='/usr/share/fonts/truetype/nanum/NanumMyeongjo.ttf').get_name()\n",
        "#print(font_name)\n",
        "sys_font=fm.findSystemFonts()\n",
        "#print(sys_font) #시스템에 설치되어 있는 폰트들을 보여줌\n",
        "rc('font',family=font_name)\n",
        "fm._rebuild()\n",
        "mpl.rcParams['axes.unicode_minus'] = False\n",
        "\n",
        "# 시간 도입\n",
        "import time\n",
        "\n",
        "# 기타 웹크롤링\n",
        "from bs4 import BeautifulSoup\n",
        "from selenium import webdriver\n",
        "from selenium.webdriver.chrome.options import Options\n",
        "from selenium.webdriver.common.by import By\n",
        "\n",
        "# 서론\n",
        "# 통계청 '주이용 콘텐츠 이용정도' 데이터 활용\n",
        "\n",
        "이용정도 = ['전혀 이용하지 않는다', '거의 이용하지 않는다', '별로 이용하지 않는다', '보통', '어느 정도 이용한다', '자주 이용한다', '매우 자주 이용한다']\n",
        "응답자특성 = ['유아동', '청소년', '성인', '60대', '남성', '여성']\n",
        "유아동 = [21.5, 10.3, 11.1, 21.8, 19.8,\t10.2, 5.3]\n",
        "청소년 = [5.6, 10.3, 5.3, 19.8, 27.4, 16.2, 5.3]\n",
        "성인 = [9.1, 13.0, 15.7, 19.7, 23.5, 14.7, 4.3]\n",
        "육십대 = [26.3, 15.0, 15.3, 14.2, 16.4, 11.1, 1.7]\n",
        "남성 = [9.3, 12.5, 15.2, 19.9, 23.7, 14.9, 4.6]\n",
        "여성 = [10.8, 12.9, 16.0, 18.9, 23.3, 14.1, 4.0]\n",
        "비율 = [유아동, 청소년, 성인, 육십대, 남성, 여성]\n",
        "d1 = pd.DataFrame(비율, index=응답자특성, columns=이용정도)\n",
        "\n",
        "d1['이용X'] = d1.loc[:, '전혀 이용하지 않는다':'별로 이용하지 않는다'].sum(axis=1)\n",
        "d1['이용O'] = d1.loc[:, '어느 정도 이용한다':'매우 자주 이용한다'].sum(axis=1)\n",
        "\n",
        "d2 = d1[['이용X', '보통', '이용O']]\n",
        "\n",
        "d2.plot(kind='barh', stacked = True, figsize=(10,2))\n",
        "plt.title('주이용 콘텐츠 이용정도')\n",
        "plt.show()\n",
        "\n",
        "# 본론\n",
        "## 실사화된 웹툰 분석\n",
        "\n",
        "# 웹툰 리스트 정의\n",
        "웹툰_리스트 = ['간 떨어지는 동거', '계룡선녀전', '한번 더 해요', '꽃가족', '내 ID는 강남미인', '내과 박원장', '냄새를 보는 소녀', '놓지마 정신줄', '닥터 프로스트', '멜로홀릭', '사장님을 잠금해제', '송곳', '싸우자 귀신아', '쌉니다 천리마마트', '아일랜드', '알고있지만', '약한 영웅', '어서와', '오렌지 마말레이드', '운빨로맨스', '은주의 방', '녹두전', '조선왕조실톡', '참치와 돌고래', '청춘 블라썸', '치즈인더트랩', '커넥트', '타인은 지옥이다', '가우스전자', '금수저', '내일', '동네변호사 조들호', '머니게임', '스위트홈', '안나라수마나라', '여신강림', '우월한 하루', '유미의 세포들', '지금 우리 학교는', '지옥', 'D.P 개의날', '마음의 소리', '만찢남녀', '무한동력', '백수세끼', '소녀의 세계', '손의 흔적', '썸남', '연애세포', '연애혁명', '오늘도 형제는 평화롭다', '우리 헤어졌어요', '질풍기획', '후유증', '고래별', '낮에 뜨는 달', '닭강정', '마음의 숙제', '방과 후 전쟁활동', '비질란테', '사냥개들', '살인자o난감', '언터쳐블', '오늘도 사랑스럽개', '우연일까', '운수오진날', '이두나!', '이제 곧 죽습니다', '정년이', '하이브', '마스크걸', '이번 생도 잘 부탁해']\n",
        "웹툰_리스트.sort()\n",
        "print(웹툰_리스트)\n",
        "\n",
        "webtoon1 = pd.DataFrame(index=웹툰_리스트)\n",
        "\n",
        "### 웹툰 별점 분석\n",
        "웹툰별점_리스트 = []\n",
        "\n",
        "import re\n",
        "pattern = re.compile('[0-9]\\.[0-9][0-9]')\n",
        "rate = 'ddd'\n",
        "print(pattern.match(rate))\n",
        "\n",
        "def webtoon_rating(name):\n",
        "    driver.get('https://comic.naver.com/')\n",
        "    driver.find_element(By.CLASS_NAME, 'snb_search_text').send_keys(name)\n",
        "    time.sleep(3)    \n",
        "    \n",
        "    xpath = '//*[@id=\"search_bar_button\"]/span'\n",
        "    driver.find_element(By.XPATH, value=xpath).click()\n",
        "    time.sleep(3)  \n",
        "    \n",
        "    if (driver.find_element(By.CLASS_NAME, \"resultList\").text) != '검색 결과가 없습니다.':\n",
        "        xpath = '//*[@id=\"content\"]/div[2]/ul/li[1]/h5/a'\n",
        "        driver.find_element(By.XPATH, value=xpath).click()\n",
        "        time.sleep(3)\n",
        "        html=driver.page_source\n",
        "        soup = BeautifulSoup(html, 'html.parser')\n",
        "        \n",
        "        strong_list = soup.find_all('strong', {\"class\": \"\"})\n",
        "        \n",
        "        rate_list = []\n",
        "        \n",
        "        for strong in strong_list:\n",
        "            if pattern.match(strong.text.strip()) != None:\n",
        "                rate_list.append(strong.text.strip())\n",
        "            \n",
        "        \n",
        "        for i in range(len(rate_list)):\n",
        "            rate_list[i] = float(rate_list[i])\n",
        "        \n",
        "        mean = sum(rate_list) / len(rate_list)\n",
        "        \n",
        "        return mean\n",
        "\n",
        "for i in 웹툰_리스트:\n",
        "    웹툰별점_리스트.append(webtoon_rating(i))\n",
        "    \n",
        "print(웹툰별점_리스트)\n",
        "\n",
        "webtoon1['별점'] = pd.Series(웹툰별점_리스트, index=웹툰_리스트)\n",
        "\n",
        "### 시각화\n",
        "sns.boxplot (x='별점', data=webtoon1)\n",
        "plt.title('드라마로 만들어진 웹툰의 별점 boxplot')\n",
        "plt.show()\n",
        "\n",
        "별점평균 = webtoon1.mean()\n",
        "print(f'별점 평균 : {별점평균}')\n",
        "\n",
        "### 웹툰 장르 분석\n",
        "웹툰장르_리스트 = []\n",
        "def webtoon_genre(name):\n",
        "    global 웹툰장르_리스트\n",
        "    driver.get('https://comic.naver.com/')\n",
        "    driver.find_element(By.CLASS_NAME, 'snb_search_text').send_keys(name) \n",
        "    time.sleep(3)    \n",
        "    xpath = '//*[@id=\"search_bar_button\"]/span' # 검색 클릭\n",
        "    driver.find_element(By.XPATH, value=xpath).click()\n",
        "    time.sleep(3)  \n",
        "    if (driver.find_element(By.CLASS_NAME, \"resultList\").text) != '검색 결과가 없습니다.':\n",
        "        xpath = '//*[@id=\"content\"]/div[2]/ul/li[1]/h5/a' \n",
        "        driver.find_element(By.XPATH, value=xpath).click()\n",
        "        time.sleep(3)  \n",
        "        웹툰장르 = driver.find_elements(By.CLASS_NAME, \"genre\") \n",
        "        if len(웹툰장르) != 0:\n",
        "            for i in range(len(웹툰장르)):\n",
        "                gen_text= 웹툰장르[i].text\n",
        "                웹툰장르_리스트.append(gen_text) \n",
        "    else:\n",
        "        웹툰장르_리스트.append('None')\n",
        "\n",
        "for i in 웹툰_리스트:\n",
        "    webtoon_genre(i)\n",
        "print(웹툰장르_리스트) \n",
        "\n",
        "genre = []\n",
        "for a in 웹툰장르_리스트:\n",
        "    a = a.split(', ')\n",
        "    for b in a:\n",
        "        genre.append(b)\n",
        "print(genre)\n",
        "\n",
        "def pop_vote(data):\n",
        "    result = dict()\n",
        "    for each_data in data:\n",
        "        if (each_data in result) == True:\n",
        "            result[each_data] = result[each_data] +1\n",
        "        else:\n",
        "            result[each_data] = 1\n",
        "    return result\n",
        "\n",
        "dic_genre = pop_vote(genre)\n",
        "print(dic_genre)\n",
        "\n",
        "### 형식 차원\n",
        "print('스토리:', dic_genre['스토리'])\n",
        "print('에피소드:', dic_genre['에피소드'])\n",
        "print('옴니버스:', dic_genre['옴니버스'])\n",
        "print()\n",
        "\n",
        "### 내용 차원\n",
        "print('로맨스:', dic_genre['로맨스'])\n",
        "print('드라마', dic_genre['드라마'])\n",
        "print('개그:', dic_genre['개그'])\n",
        "print('감성:', dic_genre['감성'])\n",
        "print('스릴러:', dic_genre['스릴러'])\n",
        "print('액션:', dic_genre['액션'])\n",
        "print('판타지:', dic_genre['판타지'])\n",
        "print('일상:', dic_genre['일상'])\n",
        "\n",
        "### 형식 차원의 구분 코드\n",
        "form_num = [59,9,4]\n",
        "form_genre = ['스토리', '에피소드', '옴니버스']\n",
        "form_column= ['웹툰의 수']\n",
        "form=pd.DataFrame(form_num, index=form_genre, columns= form_column)\n",
        "\n",
        "sorted_form=form.sort_values(by='웹툰의 수')\n",
        "sorted_form\n",
        "\n",
        "### 줄거리의 내용 구분\n",
        "story_num = [20,23,10,1,13,3,1,1]\n",
        "story_genre = ['로맨스','드라마','개그','감성','스릴러','액션','판타지','일상']\n",
        "story_column= ['웹툰의 수']\n",
        "story=pd.DataFrame(story_num, index=story_genre, columns= story_column)\n",
        "\n",
        "sorted_story=story.sort_values(by='웹툰의 수')\n",
        "sorted_story\n",
        "\n",
        "## 시각화\n",
        "sorted_form.plot(kind='barh', stacked = True) \n",
        "plt.title('드라마 실사화 웹툰의 장르 구분 (형식 차원)')\n",
        "plt.show()\n",
        "\n",
        "sorted_story.plot(kind='barh')\n",
        "plt.title('드라마 실사화 웹툰의 장르 구분 (내용 차원)')\n",
        "plt.show()\n",
        "\n",
        "## 실사화된 드라마 분석\n",
        "드라마_리스트 = ['간 떨어지는 동거', '계룡선녀전', '고백부부', '꽃가족', '내 아이디는 강남미인', '내과 박원장', '냄새를 보는 소녀', '놓지마 정신줄', '닥터 프로스트', '멜로홀릭', '사장님을 잠금해제', '송곳', '싸우자 귀신아', '쌉니다 천리마마트', '아일랜드', '알고있지만', '약한영웅 Class 1', '어서와', '오렌지 마말레이드', '운빨로맨스', '은주의 방', '녹두전', '조선왕조실톡', '참치와 돌고래', '청춘 블라썸', '치즈인더트랩', '커넥트', '타인은 지옥이다', '가우스전자', '금수저', '내일', '동네변호사 조들호 1', '머니게임', '스위트홈', '안나라수마나라', '여신강림', '우월한 하루', '유미의 세포들 1', '지금 우리 학교는', '지옥', 'D.P.']\n",
        "드라마_리스트.sort()\n",
        "\n",
        "from selenium import webdriver\n",
        "from selenium.webdriver.chrome.options import Options\n",
        "from selenium.webdriver.common.by import By\n",
        "from bs4 import BeautifulSoup\n",
        "import time\n",
        "import pandas as pd\n",
        "import numpy as np\n",
        "\n",
        "url = \"http://naver.com\" \n",
        "options = Options()\n",
        "options.add_argument(\"--headless\")\n",
        "options.add_argument(\"--no-sandbox\")\n",
        "\n",
        "options.headless = True\n",
        "\n",
        "driver = webdriver.Chrome(\"/usr/bin/chromedriver\", options=options)\n",
        "\n",
        "시청률_리스트={}\n",
        "방송사_리스트={}\n",
        "기준=['시청률']\n",
        "\n",
        "### 시청률 분석\n",
        "for each in 드라마_리스트:\n",
        "    driver.get(url)\n",
        "    elem_search = driver.find_element(By.ID, 'query')\n",
        "    elem_search.send_keys(each, '드라마')\n",
        "    xpath = '//*[@id=\"search_btn\"]' #검색버튼 xpath\n",
        "    driver.find_element(By.XPATH, value=xpath).click()\n",
        "    driver.implicitly_wait(3)\n",
        "    html=driver.page_source\n",
        "    soup = BeautifulSoup(html, 'html.parser')\n",
        "    b=soup.find_all('em', class_=\"value\")\n",
        "    for i in range(len(b)):\n",
        "        c=b[i].get_text()\n",
        "        if c==None:\n",
        "            시청률_리스트[each]=np.NaN\n",
        "        else:\n",
        "            c = c[:-1]\n",
        "            c = float(c) \n",
        "            시청률_리스트[each]=c\n",
        "\n",
        "df1=pd.DataFrame(시청률_리스트, index=기준)\n",
        "df1=df1.T\n",
        "\n",
        "## 방송사 분석\n",
        "방송사_리스트 = ['tvN', 'tvN', 'KBS2', 'MBC', 'JTBC', 'tvN', 'MBC', 'SBS', 'KBS2', 'OCN', 'KBS2', 'tvN', 'OCN', 'ENA', 'JTBC', 'tvN', 'tvN', 'JTBC', 'KBS2', 'tvN', 'KBS2', 'OCN', 'MBC', 'tvN', 'KBS2', 'tvN', 'OCN']\n",
        "df1.insert(1,\"방송사\", 방송사_리스트, True)\n",
        "\n",
        "### 웹드라마 리스트 추가\n",
        "extra_list = ['D.P', '가우스전자','놓지마 정신줄','사장님을 잠금해제','아일랜드','안나라수마나라','약한 영웅 Class1','은주의 방','지금 우리 학교는','지옥','청춘 블라썸','커넥트','툰드라쇼 꽃가족','툰드라쇼 조선왕조실톡']\n",
        "extra_broadcast = ['넷플릭스', 'Seezn','JTBC', 'ENA', '티빙', '넷플릭스', '웨이브', 'Olive', '넷플릭스', '넷플릭스', '웨이브', '디즈니플러스', 'MBC every1', 'MBC every1' ]\n",
        "extra_rating = ['넷플릭스 국내 1위', 'NaN', 'NaN','NaN','NaN','넷플릭스 국내 7위', '국내 OTT화제성 4위', 'NaN', '넷플릭스 국내 1위', '넷플릭스 국내 1위', 'NaN', '디즈니 플러스 국내 1위', 'NaN', 'NaN' ]\n",
        "\n",
        "s1=pd.Series(extra_rating, index=extra_list)\n",
        "s2=pd.Series(extra_broadcast, index=extra_list)\n",
        "\n",
        "df2=pd.DataFrame()\n",
        "df2['비고']=s1\n",
        "df2['방송사']=s2\n",
        "\n",
        "### 새로운 데이터 프레임 생성\n",
        "new_df = df1.append(df2, ignore_index = False)\n",
        "\n",
        "new_df=new_df.fillna(0)\n",
        "\n",
        "### 채녈명을 방송사 유형으로 변경\n",
        "방송사_mapping={'KBS':'지상파', 'KBS2':'지상파', 'KBS1':'지상파', 'MBC':'지상파', 'SBS':'지상파', 'tvN':'종편', 'OCN':'종편', 'JTBC':'종편', 'Olive':'종편', 'MBC every1': '종편', 'ENA':'종편', '넷플릭스':'OTT', 'Seezn':'OTT', '티빙':'OTT', '웨이브':'OTT', '디즈니플러스':'OTT'}\n",
        "new_df['방송사']=new_df['방송사'].map(방송사_mapping)\n",
        "\n",
        "### 흥행 여부\n",
        "new_df['흥행'] = 0\n",
        "\n",
        "new_df.loc [ ( new_df['방송사'] == '지상파' ) & ( new_df['시청률'] > 10) , '흥행'] = '성공'\n",
        "new_df.loc [ ( new_df['방송사'] == '지상파' ) & ( new_df['시청률'] <= 10) , '흥행'] = '실패'\n",
        "# 지상파의 경우 10% 이상을 흥행작으로 설정\n",
        "\n",
        "new_df.loc [ ( new_df['방송사'] == '종편'   ) & ( new_df['시청률'] > 5) , '흥행'] = '성공'\n",
        "new_df.loc [ ( new_df['방송사'] == '종편'   ) & ( new_df['시청률'] <= 5) , '흥행'] = '실패'\n",
        "# 종편의 경우 5% 이상을 흥행작으로 설정\n",
        "\n",
        "new_df.loc [ ( new_df['방송사'] == 'OTT'   ) & ( new_df['비고']=='NaN') , '흥행'] = '실패'\n",
        "\n",
        "new_df.loc [ ( new_df['방송사'] == 'OTT'   ) & ( new_df['비고']==0) , '흥행'] = '실패'\n",
        "new_df.loc [ ( new_df['방송사'] == 'OTT'   ) & ( new_df['비고']!=0) & (new_df['비고']!='NaN') , '흥행'] = '성공'\n",
        "# OTT의 경우 화제성이나 국내 랭킹 10위 안에 들어가면 흥행작으로 설정\n",
        "\n",
        "final_df=new_df[new_df['흥행'].isin(['성공'])]\n",
        "\n",
        "success_index=final_df.index.to_list()\n",
        "print(success_index)\n",
        "\n",
        "## 시각화\n",
        "### 성공작들의 별점\n",
        "성공작_별점 = [9.96, 9.96, 9.89, 9.94, 9.91, 9.90, 9.95, 9.84, 9.95, 9.72, 9.73, 9.93, 9.78]\n",
        "sns.boxplot(data=성공작_별점)\n",
        "plt.title('웹툰 원작 드라마 중 성공작들의 별점 boxplot')\n",
        "plt.show()\n",
        "\n",
        "sns.boxplot (y='별점', data=webtoon1)\n",
        "plt.title('드라마로 만들어진 웹툰의 별점 boxplot')\n",
        "plt.show()\n",
        "\n",
        "### 성공작들의 방송사 종류\n",
        "sns.countplot(x='방송사', data=final_df)\n",
        "plt.title('흥행한 웹툰 원작 드라마가 방영된 채널 유형')\n",
        "plt.show()"
      ],
      "metadata": {
        "id": "IfUFVQbmUK7q"
      },
      "execution_count": null,
      "outputs": []
    },
    {
      "cell_type": "markdown",
      "source": [
        "## 2.부분코드 작성요령\n",
        "\n",
        "- 설명과 구현방법을 자세히 작성하세요. 부분코드는 기능별로 자유롭게 나누시면 됩니다.\n",
        "- 부분코드의 셀은 필요한만큼 추가하시면 됩니다."
      ],
      "metadata": {
        "id": "I9uLuuwXULv1"
      }
    },
    {
      "cell_type": "markdown",
      "source": [
        "### 2.0. 기본 설치"
      ],
      "metadata": {
        "id": "t7hwB1z2pn-j"
      }
    },
    {
      "cell_type": "markdown",
      "source": [
        "1. selenium 설치"
      ],
      "metadata": {
        "id": "-qV6HEMBqI6d"
      }
    },
    {
      "cell_type": "code",
      "source": [
        "!pip install selenium\n",
        "!apt-get update"
      ],
      "metadata": {
        "id": "4XilfQscpxJp",
        "colab": {
          "base_uri": "https://localhost:8080/"
        },
        "outputId": "0f587d35-6f6f-4924-b6a6-f04801fc28bb"
      },
      "execution_count": null,
      "outputs": [
        {
          "output_type": "stream",
          "name": "stdout",
          "text": [
            "Looking in indexes: https://pypi.org/simple, https://us-python.pkg.dev/colab-wheels/public/simple/\n",
            "Collecting selenium\n",
            "  Downloading selenium-4.8.0-py3-none-any.whl (6.3 MB)\n",
            "\u001b[2K     \u001b[90m━━━━━━━━━━━━━━━━━━━━━━━━━━━━━━━━━━━━━━━━\u001b[0m \u001b[32m6.3/6.3 MB\u001b[0m \u001b[31m43.4 MB/s\u001b[0m eta \u001b[36m0:00:00\u001b[0m\n",
            "\u001b[?25hRequirement already satisfied: certifi>=2021.10.8 in /usr/local/lib/python3.8/dist-packages (from selenium) (2022.12.7)\n",
            "Collecting trio-websocket~=0.9\n",
            "  Downloading trio_websocket-0.9.2-py3-none-any.whl (16 kB)\n",
            "Collecting trio~=0.17\n",
            "  Downloading trio-0.22.0-py3-none-any.whl (384 kB)\n",
            "\u001b[2K     \u001b[90m━━━━━━━━━━━━━━━━━━━━━━━━━━━━━━━━━━━━━━\u001b[0m \u001b[32m384.9/384.9 KB\u001b[0m \u001b[31m34.3 MB/s\u001b[0m eta \u001b[36m0:00:00\u001b[0m\n",
            "\u001b[?25hCollecting urllib3[socks]~=1.26\n",
            "  Downloading urllib3-1.26.14-py2.py3-none-any.whl (140 kB)\n",
            "\u001b[2K     \u001b[90m━━━━━━━━━━━━━━━━━━━━━━━━━━━━━━━━━━━━━━\u001b[0m \u001b[32m140.6/140.6 KB\u001b[0m \u001b[31m14.1 MB/s\u001b[0m eta \u001b[36m0:00:00\u001b[0m\n",
            "\u001b[?25hCollecting outcome\n",
            "  Downloading outcome-1.2.0-py2.py3-none-any.whl (9.7 kB)\n",
            "Requirement already satisfied: idna in /usr/local/lib/python3.8/dist-packages (from trio~=0.17->selenium) (2.10)\n",
            "Requirement already satisfied: attrs>=19.2.0 in /usr/local/lib/python3.8/dist-packages (from trio~=0.17->selenium) (22.2.0)\n",
            "Collecting async-generator>=1.9\n",
            "  Downloading async_generator-1.10-py3-none-any.whl (18 kB)\n",
            "Requirement already satisfied: sortedcontainers in /usr/local/lib/python3.8/dist-packages (from trio~=0.17->selenium) (2.4.0)\n",
            "Collecting sniffio\n",
            "  Downloading sniffio-1.3.0-py3-none-any.whl (10 kB)\n",
            "Collecting exceptiongroup>=1.0.0rc9\n",
            "  Downloading exceptiongroup-1.1.0-py3-none-any.whl (14 kB)\n",
            "Collecting wsproto>=0.14\n",
            "  Downloading wsproto-1.2.0-py3-none-any.whl (24 kB)\n",
            "Requirement already satisfied: PySocks!=1.5.7,<2.0,>=1.5.6 in /usr/local/lib/python3.8/dist-packages (from urllib3[socks]~=1.26->selenium) (1.7.1)\n",
            "Collecting h11<1,>=0.9.0\n",
            "  Downloading h11-0.14.0-py3-none-any.whl (58 kB)\n",
            "\u001b[2K     \u001b[90m━━━━━━━━━━━━━━━━━━━━━━━━━━━━━━━━━━━━━━━━\u001b[0m \u001b[32m58.3/58.3 KB\u001b[0m \u001b[31m6.6 MB/s\u001b[0m eta \u001b[36m0:00:00\u001b[0m\n",
            "\u001b[?25hInstalling collected packages: urllib3, sniffio, outcome, h11, exceptiongroup, async-generator, wsproto, trio, trio-websocket, selenium\n",
            "  Attempting uninstall: urllib3\n",
            "    Found existing installation: urllib3 1.24.3\n",
            "    Uninstalling urllib3-1.24.3:\n",
            "      Successfully uninstalled urllib3-1.24.3\n",
            "Successfully installed async-generator-1.10 exceptiongroup-1.1.0 h11-0.14.0 outcome-1.2.0 selenium-4.8.0 sniffio-1.3.0 trio-0.22.0 trio-websocket-0.9.2 urllib3-1.26.14 wsproto-1.2.0\n",
            "Get:1 https://cloud.r-project.org/bin/linux/ubuntu focal-cran40/ InRelease [3,622 B]\n",
            "Hit:2 http://archive.ubuntu.com/ubuntu focal InRelease\n",
            "Ign:3 https://developer.download.nvidia.com/compute/machine-learning/repos/ubuntu2004/x86_64  InRelease\n",
            "Hit:4 https://developer.download.nvidia.com/compute/cuda/repos/ubuntu2004/x86_64  InRelease\n",
            "Get:5 http://archive.ubuntu.com/ubuntu focal-updates InRelease [114 kB]\n",
            "Hit:6 https://developer.download.nvidia.com/compute/machine-learning/repos/ubuntu2004/x86_64  Release\n",
            "Get:7 http://security.ubuntu.com/ubuntu focal-security InRelease [114 kB]\n",
            "Get:8 http://ppa.launchpad.net/c2d4u.team/c2d4u4.0+/ubuntu focal InRelease [18.1 kB]\n",
            "Get:9 http://archive.ubuntu.com/ubuntu focal-backports InRelease [108 kB]\n",
            "Hit:10 http://ppa.launchpad.net/cran/libgit2/ubuntu focal InRelease\n",
            "Hit:11 http://ppa.launchpad.net/deadsnakes/ppa/ubuntu focal InRelease\n",
            "Hit:12 http://ppa.launchpad.net/graphics-drivers/ppa/ubuntu focal InRelease\n",
            "Get:14 http://archive.ubuntu.com/ubuntu focal-updates/universe amd64 Packages [1,288 kB]\n",
            "Get:15 http://archive.ubuntu.com/ubuntu focal-updates/main amd64 Packages [2,916 kB]\n",
            "Get:16 http://ppa.launchpad.net/c2d4u.team/c2d4u4.0+/ubuntu focal/main Sources [2,377 kB]\n",
            "Get:17 http://ppa.launchpad.net/c2d4u.team/c2d4u4.0+/ubuntu focal/main amd64 Packages [1,126 kB]\n",
            "Get:18 http://security.ubuntu.com/ubuntu focal-security/main amd64 Packages [2,439 kB]\n",
            "Get:19 http://security.ubuntu.com/ubuntu focal-security/universe amd64 Packages [986 kB]\n",
            "Fetched 11.5 MB in 4s (2,714 kB/s)\n",
            "Reading package lists... Done\n"
          ]
        }
      ]
    },
    {
      "cell_type": "markdown",
      "source": [
        "2. chrom driver 구동코드"
      ],
      "metadata": {
        "id": "dR-YRRL2qKjG"
      }
    },
    {
      "cell_type": "code",
      "source": [
        "%%shell\n",
        "# Ubuntu no longer distributes chromium-browser outside of snap\n",
        "#\n",
        "# Proposed solution: https://askubuntu.com/questions/1204571/how-to-install-chromium-without-snap\n",
        "\n",
        "# Add debian buster\n",
        "cat > /etc/apt/sources.list.d/debian.list <<'EOF'\n",
        "deb [arch=amd64 signed-by=/usr/share/keyrings/debian-buster.gpg] http://deb.debian.org/debian buster main\n",
        "deb [arch=amd64 signed-by=/usr/share/keyrings/debian-buster-updates.gpg] http://deb.debian.org/debian buster-updates main\n",
        "deb [arch=amd64 signed-by=/usr/share/keyrings/debian-security-buster.gpg] http://deb.debian.org/debian-security buster/updates main\n",
        "EOF\n",
        "\n",
        "# Add keys\n",
        "apt-key adv --keyserver keyserver.ubuntu.com --recv-keys DCC9EFBF77E11517\n",
        "apt-key adv --keyserver keyserver.ubuntu.com --recv-keys 648ACFD622F3D138\n",
        "apt-key adv --keyserver keyserver.ubuntu.com --recv-keys 112695A0E562B32A\n",
        "\n",
        "apt-key export 77E11517 | gpg --dearmour -o /usr/share/keyrings/debian-buster.gpg\n",
        "apt-key export 22F3D138 | gpg --dearmour -o /usr/share/keyrings/debian-buster-updates.gpg\n",
        "apt-key export E562B32A | gpg --dearmour -o /usr/share/keyrings/debian-security-buster.gpg\n",
        "\n",
        "# Prefer debian repo for chromium* packages only\n",
        "# Note the double-blank lines between entries\n",
        "cat > /etc/apt/preferences.d/chromium.pref << 'EOF'\n",
        "Package: *\n",
        "Pin: release a=eoan\n",
        "Pin-Priority: 500\n",
        "\n",
        "\n",
        "Package: *\n",
        "Pin: origin \"deb.debian.org\"\n",
        "Pin-Priority: 300\n",
        "\n",
        "\n",
        "Package: chromium*\n",
        "Pin: origin \"deb.debian.org\"\n",
        "Pin-Priority: 700\n",
        "EOF\n",
        "\n",
        "# Install chromium and chromium-driver\n",
        "apt-get update\n",
        "apt-get install chromium chromium-driver\n",
        "\n",
        "# Install selenium\n",
        "pip install selenium"
      ],
      "metadata": {
        "id": "PwW-kqHbp1D4",
        "colab": {
          "base_uri": "https://localhost:8080/"
        },
        "outputId": "c9307ca9-d91b-402e-bfe6-2dec03278030"
      },
      "execution_count": null,
      "outputs": [
        {
          "output_type": "stream",
          "name": "stdout",
          "text": [
            "Executing: /tmp/apt-key-gpghome.x27BWkTxEE/gpg.1.sh --keyserver keyserver.ubuntu.com --recv-keys DCC9EFBF77E11517\n",
            "gpg: key DCC9EFBF77E11517: \"Debian Stable Release Key (10/buster) <debian-release@lists.debian.org>\" not changed\n",
            "gpg: Total number processed: 1\n",
            "gpg:              unchanged: 1\n",
            "Executing: /tmp/apt-key-gpghome.XohAIB8Bbk/gpg.1.sh --keyserver keyserver.ubuntu.com --recv-keys 648ACFD622F3D138\n",
            "gpg: key DC30D7C23CBBABEE: \"Debian Archive Automatic Signing Key (10/buster) <ftpmaster@debian.org>\" not changed\n",
            "gpg: Total number processed: 1\n",
            "gpg:              unchanged: 1\n",
            "Executing: /tmp/apt-key-gpghome.hFh88mHrMz/gpg.1.sh --keyserver keyserver.ubuntu.com --recv-keys 112695A0E562B32A\n",
            "gpg: key 4DFAB270CAA96DFA: \"Debian Security Archive Automatic Signing Key (10/buster) <ftpmaster@debian.org>\" not changed\n",
            "gpg: Total number processed: 1\n",
            "gpg:              unchanged: 1\n",
            "gpg: cannot open '/dev/tty': No such device or address\n",
            "Warning: apt-key output should not be parsed (stdout is not a terminal)\n",
            "gpg: [stdout]: write error: Broken pipe\n",
            "gpg: filter_flush failed on close: Broken pipe\n",
            "gpg: cannot open '/dev/tty': No such device or address\n",
            "Warning: apt-key output should not be parsed (stdout is not a terminal)\n",
            "gpg: [stdout]: write error: Broken pipe\n",
            "gpg: filter_flush failed on close: Broken pipe\n",
            "gpg: cannot open '/dev/tty': No such device or address\n",
            "Warning: apt-key output should not be parsed (stdout is not a terminal)\n",
            "gpg: [stdout]: write error: Broken pipe\n",
            "gpg: filter_flush failed on close: Broken pipe\n",
            "Hit:1 http://deb.debian.org/debian buster InRelease\n",
            "Hit:2 http://deb.debian.org/debian buster-updates InRelease\n",
            "Hit:3 http://deb.debian.org/debian-security buster/updates InRelease\n",
            "Hit:4 http://archive.ubuntu.com/ubuntu focal InRelease\n",
            "Hit:5 http://security.ubuntu.com/ubuntu focal-security InRelease\n",
            "Hit:6 http://archive.ubuntu.com/ubuntu focal-updates InRelease\n",
            "Hit:7 https://cloud.r-project.org/bin/linux/ubuntu focal-cran40/ InRelease\n",
            "Hit:8 http://archive.ubuntu.com/ubuntu focal-backports InRelease\n",
            "Ign:9 https://developer.download.nvidia.com/compute/machine-learning/repos/ubuntu2004/x86_64  InRelease\n",
            "Hit:10 https://developer.download.nvidia.com/compute/cuda/repos/ubuntu2004/x86_64  InRelease\n",
            "Hit:11 https://developer.download.nvidia.com/compute/machine-learning/repos/ubuntu2004/x86_64  Release\n",
            "Hit:12 http://ppa.launchpad.net/c2d4u.team/c2d4u4.0+/ubuntu focal InRelease\n",
            "Hit:13 http://ppa.launchpad.net/cran/libgit2/ubuntu focal InRelease\n",
            "Hit:14 http://ppa.launchpad.net/deadsnakes/ppa/ubuntu focal InRelease\n",
            "Hit:15 http://ppa.launchpad.net/graphics-drivers/ppa/ubuntu focal InRelease\n",
            "Reading package lists... Done\n",
            "Reading package lists... Done\n",
            "Building dependency tree       \n",
            "Reading state information... Done\n",
            "chromium is already the newest version (90.0.4430.212-1~deb10u1).\n",
            "chromium-driver is already the newest version (90.0.4430.212-1~deb10u1).\n",
            "0 upgraded, 0 newly installed, 0 to remove and 33 not upgraded.\n",
            "Looking in indexes: https://pypi.org/simple, https://us-python.pkg.dev/colab-wheels/public/simple/\n",
            "Requirement already satisfied: selenium in /usr/local/lib/python3.8/dist-packages (4.8.0)\n",
            "Requirement already satisfied: trio~=0.17 in /usr/local/lib/python3.8/dist-packages (from selenium) (0.22.0)\n",
            "Requirement already satisfied: certifi>=2021.10.8 in /usr/local/lib/python3.8/dist-packages (from selenium) (2022.12.7)\n",
            "Requirement already satisfied: urllib3[socks]~=1.26 in /usr/local/lib/python3.8/dist-packages (from selenium) (1.26.14)\n",
            "Requirement already satisfied: trio-websocket~=0.9 in /usr/local/lib/python3.8/dist-packages (from selenium) (0.9.2)\n",
            "Requirement already satisfied: sniffio in /usr/local/lib/python3.8/dist-packages (from trio~=0.17->selenium) (1.3.0)\n",
            "Requirement already satisfied: idna in /usr/local/lib/python3.8/dist-packages (from trio~=0.17->selenium) (2.10)\n",
            "Requirement already satisfied: async-generator>=1.9 in /usr/local/lib/python3.8/dist-packages (from trio~=0.17->selenium) (1.10)\n",
            "Requirement already satisfied: outcome in /usr/local/lib/python3.8/dist-packages (from trio~=0.17->selenium) (1.2.0)\n",
            "Requirement already satisfied: attrs>=19.2.0 in /usr/local/lib/python3.8/dist-packages (from trio~=0.17->selenium) (22.2.0)\n",
            "Requirement already satisfied: exceptiongroup>=1.0.0rc9 in /usr/local/lib/python3.8/dist-packages (from trio~=0.17->selenium) (1.1.0)\n",
            "Requirement already satisfied: sortedcontainers in /usr/local/lib/python3.8/dist-packages (from trio~=0.17->selenium) (2.4.0)\n",
            "Requirement already satisfied: wsproto>=0.14 in /usr/local/lib/python3.8/dist-packages (from trio-websocket~=0.9->selenium) (1.2.0)\n",
            "Requirement already satisfied: PySocks!=1.5.7,<2.0,>=1.5.6 in /usr/local/lib/python3.8/dist-packages (from urllib3[socks]~=1.26->selenium) (1.7.1)\n",
            "Requirement already satisfied: h11<1,>=0.9.0 in /usr/local/lib/python3.8/dist-packages (from wsproto>=0.14->trio-websocket~=0.9->selenium) (0.14.0)\n"
          ]
        },
        {
          "output_type": "execute_result",
          "data": {
            "text/plain": []
          },
          "metadata": {},
          "execution_count": 29
        }
      ]
    },
    {
      "cell_type": "code",
      "source": [
        "from selenium import webdriver\n",
        "from selenium.webdriver.chrome.options import Options\n",
        "\n",
        "url = \"http://naver.com\" \n",
        "options = Options()\n",
        "options.add_argument(\"--headless\")\n",
        "options.add_argument(\"--no-sandbox\")\n",
        "\n",
        "options.headless = True\n",
        "\n",
        "driver = webdriver.Chrome(\"/usr/bin/chromedriver\", options=options)\n",
        "\n",
        "driver.get(url)\n",
        "print(driver.title)"
      ],
      "metadata": {
        "id": "LrJ_PkN2p7ih",
        "colab": {
          "base_uri": "https://localhost:8080/"
        },
        "outputId": "c1fbd81e-b783-4965-e732-e951d99c41f2"
      },
      "execution_count": null,
      "outputs": [
        {
          "output_type": "stream",
          "name": "stderr",
          "text": [
            "<ipython-input-30-ea46c2b1f9c4>:9: DeprecationWarning: headless property is deprecated, instead use add_argument('--headless') or add_argument('--headless=new')\n",
            "  options.headless = True\n",
            "<ipython-input-30-ea46c2b1f9c4>:11: DeprecationWarning: executable_path has been deprecated, please pass in a Service object\n",
            "  driver = webdriver.Chrome(\"/usr/bin/chromedriver\", options=options)\n"
          ]
        },
        {
          "output_type": "stream",
          "name": "stdout",
          "text": [
            "NAVER\n"
          ]
        }
      ]
    },
    {
      "cell_type": "markdown",
      "source": [
        "3. 캡쳐시 폰트깨짐 해결"
      ],
      "metadata": {
        "id": "ySE6hTwFqE__"
      }
    },
    {
      "cell_type": "code",
      "source": [
        "!apt-get install fonts-unfonts-core "
      ],
      "metadata": {
        "id": "2spbPVrVp9_4",
        "colab": {
          "base_uri": "https://localhost:8080/"
        },
        "outputId": "bddd5690-1938-44f5-e39e-ac4c3fb979fa"
      },
      "execution_count": null,
      "outputs": [
        {
          "output_type": "stream",
          "name": "stdout",
          "text": [
            "Reading package lists... Done\n",
            "Building dependency tree       \n",
            "Reading state information... Done\n",
            "fonts-unfonts-core is already the newest version (1:1.0.2-080608-16).\n",
            "0 upgraded, 0 newly installed, 0 to remove and 33 not upgraded.\n"
          ]
        }
      ]
    },
    {
      "cell_type": "markdown",
      "source": [
        "4. chrom driver 옵션 설정"
      ],
      "metadata": {
        "id": "mdvc6rLaqQYl"
      }
    },
    {
      "cell_type": "code",
      "source": [
        "import selenium\n",
        "from bs4 import BeautifulSoup\n",
        "from selenium import webdriver\n",
        "chrome_options = webdriver.ChromeOptions()\n",
        "chrome_options.add_argument('--headless')\n",
        "chrome_options.add_argument('--no-sandbox')\n",
        "chrome_options.add_argument('--disable-dev-shm-usage')\n",
        "\n",
        "driver = webdriver.Chrome('chromedriver',options=chrome_options)"
      ],
      "metadata": {
        "id": "idzETccwqEP3"
      },
      "execution_count": null,
      "outputs": []
    },
    {
      "cell_type": "markdown",
      "source": [
        "5. numpy, pandas"
      ],
      "metadata": {
        "id": "kQ-mO9LhryKM"
      }
    },
    {
      "cell_type": "code",
      "source": [
        "import numpy as np\n",
        "import pandas as pd"
      ],
      "metadata": {
        "id": "WTSlOzV1r142"
      },
      "execution_count": null,
      "outputs": []
    },
    {
      "cell_type": "markdown",
      "source": [
        "6. 시각화"
      ],
      "metadata": {
        "id": "k-uSxQkUqWjk"
      }
    },
    {
      "cell_type": "code",
      "source": [
        "import matplotlib.pyplot as plt\n",
        "import seaborn as sns"
      ],
      "metadata": {
        "id": "tS0uZ1MyqeFY"
      },
      "execution_count": null,
      "outputs": []
    },
    {
      "cell_type": "markdown",
      "source": [
        "7. 한글 폰트 설정"
      ],
      "metadata": {
        "id": "0SEJIVPysIoy"
      }
    },
    {
      "cell_type": "code",
      "source": [
        "# 한글 폰트 설정 < 이거부터!\n",
        "!apt-get install fonts-nanum*"
      ],
      "metadata": {
        "id": "Td3rFLvWqXE6",
        "colab": {
          "base_uri": "https://localhost:8080/"
        },
        "outputId": "8342e2e9-e3ee-4da2-f298-3d992237f8b1"
      },
      "execution_count": null,
      "outputs": [
        {
          "output_type": "stream",
          "name": "stdout",
          "text": [
            "Reading package lists... Done\n",
            "Building dependency tree       \n",
            "Reading state information... Done\n",
            "Note, selecting 'fonts-nanum-eco' for glob 'fonts-nanum*'\n",
            "Note, selecting 'fonts-nanum' for glob 'fonts-nanum*'\n",
            "Note, selecting 'fonts-nanum-gothic-light' for glob 'fonts-nanum*'\n",
            "Note, selecting 'fonts-nanum-coding' for glob 'fonts-nanum*'\n",
            "Note, selecting 'fonts-nanum-extra' for glob 'fonts-nanum*'\n",
            "fonts-nanum is already the newest version (20180306-3).\n",
            "fonts-nanum-coding is already the newest version (2.5-2).\n",
            "fonts-nanum-eco is already the newest version (1.000-7).\n",
            "fonts-nanum-extra is already the newest version (20180306-3).\n",
            "0 upgraded, 0 newly installed, 0 to remove and 33 not upgraded.\n"
          ]
        }
      ]
    },
    {
      "cell_type": "code",
      "source": [
        "# 반드시!!!! 다음 순서로 실행해야 한글폰트가 제대로 적용됨\n",
        "#1. 폰트 설치\n",
        "#2. 현재 셀 실행\n",
        "#3. 런타임 -> 런타임 다시 시작\n",
        "#4. 다시 한번 현재 셀 실행\n",
        "\n",
        "import matplotlib.pyplot as plt\n",
        "from matplotlib import rc\n",
        "import matplotlib as mpl\n",
        "import matplotlib.font_manager as fm\n",
        "\n",
        "\n",
        "font_name = fm.FontProperties(fname='/usr/share/fonts/truetype/nanum/NanumMyeongjo.ttf').get_name()\n",
        "#print(font_name)\n",
        "sys_font=fm.findSystemFonts()\n",
        "#print(sys_font) #시스템에 설치되어 있는 폰트들을 보여줌\n",
        "rc('font',family=font_name)\n",
        "fm._rebuild()\n",
        "mpl.rcParams['axes.unicode_minus'] = False"
      ],
      "metadata": {
        "id": "Yc4XZtNxqdgR"
      },
      "execution_count": null,
      "outputs": []
    },
    {
      "cell_type": "markdown",
      "source": [
        "6. 기타"
      ],
      "metadata": {
        "id": "yNuOoKiDqi17"
      }
    },
    {
      "cell_type": "code",
      "source": [
        "import time\n",
        "from bs4 import BeautifulSoup\n",
        "from selenium import webdriver\n",
        "from selenium.webdriver.chrome.options import Options\n",
        "from selenium.webdriver.common.by import By"
      ],
      "metadata": {
        "id": "0t0v0mpsqkTV"
      },
      "execution_count": null,
      "outputs": []
    },
    {
      "cell_type": "markdown",
      "source": [
        "### 2.1. 서론"
      ],
      "metadata": {
        "id": "kvWSza3kVXCR"
      }
    },
    {
      "cell_type": "markdown",
      "source": [
        "통계청 '주이용 콘텐츠 이용정도' 데이터 활용\n",
        "\n",
        "https://kosis.kr/statHtml/statHtml.do?orgId=127&tblId=DT_120019N_2016_004&vw_cd=MT_ZTITLE&list_id=110_12019_2016&seqNo=&lang_mode=ko&language=kor&obj_var_id=&itm_id=&conn_path=MT_ZTITLE"
      ],
      "metadata": {
        "id": "UB3NH06yquFS"
      }
    },
    {
      "cell_type": "markdown",
      "source": [
        "![image.png](data:image/png;base64,iVBORw0KGgoAAAANSUhEUgAABfgAAAI3CAYAAADHpzoBAAAAAXNSR0IArs4c6QAAAARnQU1BAACxjwv8YQUAAAAJcEhZcwAAEnQAABJ0Ad5mH3gAAP+lSURBVHhe7N0JXFTl+gfwn/9MsVzIFbQSyhS8YeBVL2glkivmysUNMw0rFcsFcos0FRdU3BLFroipuOaeoGaguUBKQtIVXBI0F3AdxXIwvf3PmTkDwzAzzOgAM8ff9/M5Ne85x2Fmnvc9y3Pe854KO3bs+BtERERERERERERERGRTKszb+BsT/GSVrl08hbovN5VKRNaJ9ZRsgVhP/92zo1QiIiIiIiIiIrn4P+n/RERERERERERERERkQ5jgJyIiIiIiIiIiIiKyQUzwExERERERERERERHZICb4iYiIiIiIiIiIiIhsEBP8REREREREREREREQ2iAl+IiIiIiIiIiIiIiIbxAQ/EREREREREREREZENYoKfiIiIiIiIiIiIiMgGMcFPRERERERERERERGSDmOAnIiIiIiIiIiIiIrJBTPATEREREREREREREdkgJviJiIiIiIiIiIiIiGwQE/xERERERERERERERDaICX4iIiIiIiIiIiIiIhvEBD8RERERERERERERkQ1igp+IiIiIiIiIiIiIyAYxwU9EREREREREREREZIOY4CciIiIiIiIiIiIiskFM8BMRERERERERERER2aAK8zb+9rf0msiqXLt4CnVfbiqViKwT6ynZArGevt6orlQiIiIiIiIiIrlggp+sFhOnZAtYT8kWiPX03z07SiUiecn8NQ0ur7tLJSIiIiIioqcLh+ghIiIiIiIiIiIiIrJBTPATEREREREREREREdkgJviJiIiIiIiIiIiIiGwQE/xERERERNYsX4kH0kurkq9A3l2lVNBhrZ+ZiIiIiEhmmOAnIiIiIjLF9T1YNHg8jlyXykblYu+nlTH+u1yprOV2JlKSM5EnFR/kpCElPRcPkI0jKxbiyAVpgYoCR2Y2xvR4Pe9TkrTZaPVaX+zNkcoWdvP7j/HOPxciXSoXykViaGMsSlBI5SfwSKm+iGDWb28hFv/b+uIrSI/CiMFROC0ViYiIiIjMwQQ/EREREZHgZsJ4jBjcSc8kJXcfKXDlSDbuPTJxfUMubMeI97YjWyrmpczCiP8kIg85OBM+HmduSwtEGasQlToWA7vUk2bYgnpo98FYnFy4yvSk9Z+Z2BveA4H+0m/43jDEpiiA9IXqiwg6v73mAkqXrtq/u/ZkRkLe7L+tIz8Xp5PTcDNfKhukJ74i4f1TjigM3/GQswHjX3sZfd7T/n7aEy8OEBERET3NmOAnIiIiIhLU8gnH0lV7hWk1elQ/gGr/Xi2Vw9GmjrSSFnPXL7ggMCNGKMVgoZScPalerIcSKXHzgV7eaCLNsRmu3uiM+UhINjCEj468wwvxxfmemL5Z/P2EKageFk0o+QJBs+Ga31x30h8DfR73bxe4nYiV781Cim7iXtftHFwW/pd5SbwbIw2bNQl6VX0oiRcC52p/P+1pmO3VDyIiIiKyGCb4iYiIiIiKyMKVFODk6QxVr+rTq6VE7GezjCTjS6a5ILBwdE+h1BkfLFYnZ5uJC1Nm4YvB47FDfF0gE+lbAB8Pd6ksykZK5DAE+r8hTD2w6LvMEsa6V+Bk7CiMFz5/YNc3MGJKDLL/lBYJHpzfgEWfthWWCZOm57qWkpYXUiI9si1a+c9Guur93dGsE7AzLVO1tCTV3hyN6a9sxxeqXvTC34rIxajZg0tMXJ9cNkgdG91p5h7clNYpyeP+bY28kweQiO04ftL4kERX9sVgZ516OPn1UuE3coe/JkH/+RBpDSIiIiIi8zHBT0RERESk5cr2BVjWwBvOW6YgNk2JJoOkROzciepkfDH3kX8XyPvjvlQ2JheJGxeiVp1t+DZeM0iPoMVETF8Vjh5SUSUnE5nX28GpgVQWe/SHv40vsr0xffMviI4eDsx8X/UZDctA1vP9ESp8/uidG9Hu8jAMX3ZAfVEgZwO+6LQA8NuB6N0HsWySC1L6d0KM5v1KWq7lQcoszFloj9B5E+D2nHpe/Vfa4eapTNMS7c+5oNN44e+oetELfyt6Nro3zEF2tvFu8QZ78E/qjFrSOiV6zL+tcvcA1i6JQ5sunXFkyQKkCPVAn7wjU/BFKBC6/jhCPWIw7uMppg8h9Iw96rdRYMcEnYsYBROH6CEiIiJ6mjHBT0REREQkuXlwCr74LAejpu1F6CQnbBrRA4v2ZRvvJZ+TjCNHgJTvE3FFmqWh6WG+WfUkWiWyN47DwqvhWLh5Dqoueh9zv8tE3kPVqsVdz8ZJuKK2ZqiZnO3YvMIRAz/oh/piuXpn+ARcxaZkY73kvdCjpyeqiS+fcYGPXz/cjEpUJYRPxy9AYpth8G9rLy5FJddhCBiahmXbDqgeAFzS8gK392DRpzFwWrAI3RtK8wS1HF2FHyUbN6SyYdnYq0le+zdBq9eE33zTKuyMTyv6d3RUdfBG3rcGevCbPAb/4/1tUd6ZDZgb2AkpnTYhfPFGzOl0ACMCR2HvGe2e/OKdDZ3Q57NktFj1jfD71EObqScxp20m5vaYgpQSx+0X1OmMUfouYhRMHKKHiIiI6GnGBD8RERERkSB7dQ90mZ4Gn/U7EOAK1H/3G2xa3AU3Fk1Bojh4ugGnv1uAkwOGwf/UFGw+UrR3u6aHub8bkLdvNIZ/54DQhaPRpEE/fLF2OLAxBie1hswp4hGK9H5/8FsqEtEZzYTPplG/oZe6l3zabLR6rXLBFJMmraBDlXRHJq7k5CI7VVippav6YoGKHZz/0RNYl4ZslLRcIxWbZn6Ezdd94dPGSZqn5brwuaWXhjmh02wpWa0arsYLnf9lhyMJMVgWu129SjH10GaSdpJbdzJ1DH7z/7Y4bNHcoU3wzohtqD3yNKKDPFFJ+G3cgg4iPtgZCSPqoefQUdh7XqwLwvwByxG9Zy+Gt1FfKAHs4TZ0I7YfnYoWlYViw55Yuqan8EmKM/wg5+KT+iISERERET1tKszb+Nvf0mub8/CPu/hL+P+zz1dHRfUs63QzCam/14GLWyNUeUaaZ8DD66lIv1wNHu6NpDlPr2sXT6Huy02lkg17lI/7ynzgmeqoYifNs0r5uPzzXjx06oSGtcSzTSP+uovc/yYhT1i3keZc9SnFelrWWE8fh1hP/92zo1QikpfMX9Pg8rr2GPVP4JESD2CHSoaO13I2YPxb2+BzaCM6OahnPUibjeH+qehzYCNanx6FPqEKjN78DTo1yMXeT19GQseLCH+3nnplCO//qPj7P8hJw8nrjmjmdh/HV2wHOoxGG7EnfMZCvNddiXFnJ8BNKN78ri+6jEmDWxsnFNkCNh6D6fqGpBGT/sJnm671edXzMhB+dA4eTH8ZXzQ5iGNBntJCzd/wQPTZIbgifH7Dyyegvuq18Hndh8HfMQoJDfZix3hvVJLWVf2tyXZYs3O06T3Mb2ci5TTQxNNFfdeBpuzxAq6kXkVtD3fUOhOFERHbVKsXuJ6BlNsvoEVjzRdVazJoNUb5aH7/Epjyt1U/vAJXzgO1X7FXf9fre7Dos0S0mKu5qKBE3vkc4BUn9fuo5OLIzEGIPSMVtf2RjZS0IarfVIwzEREREZE5LNuDX0wQ/XFXPRkbCtSAy3sGImrGQBwRDphLdh3pX3vgiw8mIL3IwJ5an8HA9PCRtGpJcg7g4M4VOPjz79IMdbLo3H/PQT3CquZvSffWFltflI8LB2YidtnaIg80MyQ3aTJiZ0Ui3fgzuugJiReHCuqDNM9kigPYJdTTqNU6t6cbcn6FUE+Furo7VZohURZ+Bv2TKfdsi+4KdUyodzs34cIf6jkPb54S6mkSLt+U3kP6W+q6X3x9lZt7sX/OGOxM/k2aYYQyCQdnjcCuA6ekGVQaWE9ZT4mojD2jTr6nR1ZGq8hkaaYW1VjoTqiqStArcSV+FIb7x8B5cTg6NQCq+YRj2ShgoX8PbM7QNx6/+v0LHtorTaMnjMfKiEEYPfhjxB6OxxXNOO61neCEVFzJURdrveiBWmiHgQu0e6oLkxnjzV85nQi4eqB+nXpwaloPOJ6hNayQEln/3Q4McBf+bknLNTwxfHI4PhsejtorpgjfW5otuHlJ2Kc0cUJtqVyyZMS0egPpdlKCXfSCC1qICffbiVj53iykiMPiuw1Tfe+FizdiYbT6N5g+3Et6jkHR38bk5L6pf1tFqAea5L7okQJXjmTjXsE5hh2qFUnui4zccWDKQ3avH8DmKX0x4j2tuiO8DovcjmwD4/4TERER0dPBIj3472euwK61a3HsrHZiW+DggVbvfI5u3T1QRTUjFfv7/ht7VK+19PkW8/w8cGHLq/hqE9A57De0f02Yf3MnvhkxBnrvNu2zAAEXxyA2uRMCli6Fh+asxti/kRS8f4HrSF3gWfy9zkYiJHR+wecr/Pxj8cnGIDTU/K1Ws/DZsM6ofnYFvpgVqbW+IG8vNg0dgXN+32JcHw/1nQZ553Du5F4c2TQf6Tnd8f7yBXDT9C7N2YToURNxd9AujOkqg17BT8DiPaOV55C6ZRb2/3gAuUUuoNRBvX/2QPuAsfBooO4Pl3dkBKYu3qt6XUiqH5Di7rkAU8Z0V528aepuccK/+fQfiF2sXY/UDP8bidb7FyhWJ0XF66/m87t9moz329Qp+FvtJ6ai7WvXkB7VCZuOFa3vl3d2w4LdLyFgqjBP7Pz2h/B7bZ+F+J0HcEv8jdoEYcBH76GBqnd3Ps6tb4uo7Z0RuPJLuD4vzns6sZ5aRz1V/17q36jzoLFwcxB/I9ZTDfbgJzmzaA9+iZjgD0TRnuv6PMjYgMSHndGp4EBOLe9CNtCwCo4W68FfkmTEvNYW2JyPIaqvlIbY7v/C3cn5GN5CKvv/Cwmee7Ew2Fu97b2eiSvPu6C+9GDbIlS99bchYPlOdaL78gZ84f8+7o06jQV9nYSNfAzGtI9C4zV7MdzTHg/OR+GLTjFwWn9Q+HvCDr+E5dq9+d2gwJEpzTDm9hzEL+6HWhAfCFwDi+r+hDXil7m7B4t698CeNjuwaWrnovuNAurvv8PdG/V1t9mPcpCV7ILRBXcjFP2txKFsvkhup/9OBmRi83sdMVc5Fms2G7qbwJy/rUPPnR3Fqe/oWPibN5z1Dh3UC6MMjaWffwDL2o0H5moP8yNS4sqW99EzvjO2rxiiNZQSERERET1NnrwHf84mrJsyC8f+6oTAJacwb+Nv6umbAwhslY9jsf/GugM6iX8EIXBlKqZrpq6FySTRrawknDt/HQ+re6H95LUYJky93lEvaxWoLg/zLGEIGzHprv03tCbvIsn94jS9Ss9lXZLm6JqPr/q+ihDNhYRjEzFX7PkqJvd13D+ThGN4Ca1aSMl9wYV9nRC1WEzuSzO0ObRDc+Fc8nLSz8JpAFlOPs5tG4jYnQdQ128Xpq+V6unGU5geHoS6P69A7LRInBPHfNLi9tFerbozG27aZ4x/nkO2UE9y84C6nlK9HBMEVc1sFoT3VXV3JBrpP4MtICYztetnwTRcJ2lajOaOkhPINXB3SPpiT4QIdVWToN0/S7zrRUyaqsuFhDp/5BSqNeuBRqoT0+tI/boTYn+8hIbdJ6K994vIPfIlFkTvlXqDV0ajFu8Jn28NMs+a2oObSsZ6KjK9nubj8vcThN/rN9RsFYT27zTCn8Jv9M2USFxQ9aJkPSWi0lXJtV+x5L6oWkPd3tuPyx0turtj50+auwncERD9C/o8XIbRXd9Q9+aO2I6s68ZunXUCMqYI676BPh/FoPIHBzFNTO6LGg7BtN1j8GBdDwR2bYvhU9LQbP1edXLflOVF2KPNB1PRJn4c1qqeQ5CG9B3u6OwpXXyp7gmfgH6oXWT8fv16fK6nl/vciWgmLdenlk+4kTsZnNDyvf5ok5aEbH3H31pK/tviUDtavejFaUIM8toosEPzsN6CKUr1MGNtmmcyFJ/4oFwiIiIiejxPnuB/vi5qiuc1inO4fPl35EnDNuTd/E0oXxcW1EHNajVUqxaqjOeer44qmknnHOFY9EBE7UjC/WfroME/vNBImF6UjtZrOqvLjRqU8NQsTdK92KQ7pI/gr3O4pDpv2ouzvwmfP3MJoqYJnyHaULdV6QLFvFnqcTI1FxMmBqmWFsrH5cw1wvmONxpoddxq6Ccm7L5FZ6lcVB3UbdwUOHsAF0o4ASFzVEaV6i+qXt29/CuuKTTDi1zDtezfoLqzuY5QF59VrVLIrkZhPRWmIs96OBmJb4R6Il6oqdJAqpevNVLfrfJcIzip6m5TVFPfvmKQOpmpZ9IdKkVw62KS+sWxn3EZvyFdrKfTRmD/SfVsXZrEb2BPdVmdpN2LPq3U5QI5vyJDONuu+eqrUkKiDjwGrsX74zcjIGAoOg+fjV7ime2PB5CtGe+l/j9UJ7tHMk6oy2QBrKci0+tpZTToOg2Bn69BYOBYdP5oFrqIlVKxCWcvqFZgPSWix1KpmjdaHJ+ik6wtnBYlmNYNo6qDt/6e9WZo0mEYXGLjkaK5TlndBZ3Gb0T07l+wdM1eLJ09AW0a6ku4C9wn4NjZjRgVFCWs+ws27d6L0KGeRS4+VGvcD6MWHxTeT5jWRCGgRdELFsaW13p3o/D+WuPGNxyCBWcvYlQbOzw4sg2bmg5Du4IHAtujfgN75A3SHt5Hlx2qtvHG8YV6fndVEl0zPJLIyLrSVPjQWTs4veSIu+7t0MRgD3tT/3ZJD/fVnoom7cX6kPftoOLvL00G61VlbwzfEY7a+z7WGaKnB1bm9Mem+ey9T0RERPQ0e/IEv3AC1Ct8Lfq8XRfnvh2KqVLSZ+qcJThXrQf6TN6FXv+sLq2shzjm8vVTOPd74eCR4hA684oM+XAdd6Vkd+5N8aKBtrvIPSv1+JfmGLcXJzOLvsetpDU4KL0+tnMNbv1zqbrXbNhYaW4JDPbgv4Y88XPXeRU1zRgaoqbDP4X/HsBdkwbOJlM16LoSnwVPxIuKndgUqklQ+mPTj9fwYsBSfDZxKBpI6xYnPm/hulDXUnFL00lOHJpEqCftte8IufO7ulda5u/qZKy2m7+q7gwRe1KbZNNRaHKUKspUHNsnJU6zV+DAkdpor+rdnYwA4yMIFDDYM1pxCedQBy861JVmCOp4we0VTdutjOfE3IF4Tq8ZX1a8uCeeoedcN22MdzIJ66mZ9fTZpnBt9pJUyFc9eB34B6prEmqsp0T0GJoM0pesLZxMG9ddnQg2fQx4kSeGnNUMzyNp2B8fBBzAju9t6d7OXCR+m4w+I/sXJp7TZuOLTY4IHWloeB6RO/z1/N6Fk+YhtqKS1t0Lf82Vh5wNCJuciT7zBhu5uGDO334cJV8YMFpX6njDf+pG9UUdzb8RXocG9YSTkVMtIiIiIpK/JxuDX3yortLEYQ+eqY4qdgbG4Be9vRTvO4zAN5v0jJH/VxJ2DRyoTsJ7L8X04Z1QpWA8Z9UaWuNAiwmuEj5TJakH7KO7uHxoFr5Ztgm3XhuLgHbnsPPrnchz6IRugVPRpsomTNA7Br8Ozd82NGa/8N2mBHXSOZnRvJfOGPwi6X08xogJsSc6k7BplhzbXHxYqc6oJgY9+3x13Nc7trmoDjqPmYTLC4qOba5x64eBmPm1mNxsim7hu9BWPIvU1AtJQf0WL24VPIxNn8qo8rx6rPWHNw9gf+QE7P8v4PHRJNRLHIM9Z+ugUdex6NarHa6t0D+2uS713zY0FvoJdJ6VjPavSCtrk543kd1qAT4J7o6aqpnS+2SOxZjlQUaSzvLGemoF9fSv67h85gSyf/wPth24hEb9l2FoT82waKynIo7BT3JWGmPwExERERER2YonS/DrJISMkpLexRNYhcmh+5eTcFkBVHvZC/W0slG3fgjEzK//i5oOwuucOmg/9Vt0drlbLPmDv+7i/gP1vynRM9WB/36JOXPWIO+19xA46ku41slH7oEvsXp9IlyCDqJblRU6CXuJob/z1x3cF3vN2onDFonfiQn+J2G5xKnOxSCjpPpUvXiMn7WrjorirdmqZOI53K/SCE6v1CkcDkWZhF2jBuKg3UuomfM7bnkuwKQx3VFT00606pF5idxLOBLaDbvO1oHroJV4v2tTVMxLwv4lE4X6MwKTJrbDBd22IDH0dx7+eQd/PQKq1HkJVYTvZDzBfxcZ0R0Rvc8ObSbuRC93TTcxJk5FrKdq5VpPtR+u7vQeAj6dWPAgYtZTNSb4Sc6Y4CciIiIioqfZkyX4dWknvlU99qXXRWiSWMWTPBe2qB+yqN2D/35mJFZMmY8Lr03EmFEv4UDoCKTCG93GT0T1HZ2KvI+h3qB6qZJYryL37DVUf6WRKnkkUiWalPl4aFcd1fKScPDYOaBBJ7T9p2YICBP+TkGC7BQOju+GXQ7Fe9AaTfBnzkfIlE1oM3GfVjL16WPJntG6tBOKYk/oImOWa+hJeKpokonaPaMf/Y7UKH/E/gi0GbcZrX4fgwXrU9Gw81IEtDqHmdO030cTe1Oo67ebUJdy8Soa1JKSlqq7Z+7iobIyKgpV5NqRTci+Wx1O7/RBw4LhoEr6O4Vt5/7PX+KLOWuKtD2NW0fG4KvFO/Gs91IMG95J6r0vEr5zhDdib3+Jz8LegzkDEMgJ66mo/Oup6KGwzT4QPhB7znqg17xv0Ua12WY9FYn19PVGWkMbEREREREREZEsWCTBfz9zBbauWIHU33XGx3fwRts+E9GlTSOtxFTJvVQ1yRsxmbNgzhrcsvdGr4lL0capcmHC3zMI7f8Xif3HCpM/KiYMG1TQw1Xj0e9I3/Al9vx4ALkKaZ7KS2joHYjeg95DA+0x9A314D+7Qj0Of0GC7DrSIz3xzY9j8cnGIDRUryUxnOC/9eMIzIw8hW6zDqCtvuFSnhIWT5wqzyF1yyzE7zyAW9IstTqo12Yo+gwZiobaV2E0iVNDNInTR+dwZE4nbEsDGnaOxuAh3sI8TSK1Dtr7/RP7t6wploAtuXd04d0tGvfPr8GuldE4dvZ3aY5atZe80bzPl+jWqvBClEj/37iG9ChxfHOttnM+ElMnzofTp8l4X2uAWU1yP8+hD94PnQW3IjeUpGKPUId/8l6KscN171B5erCelm89fXj9d/wl9vBXlYALm17FV1ugdQcU66lIrKdPcw9+9vCWN8ZX3hhfeWN85Y3xlTfGV94YX3ljfOXnyRP8fxzAtg8CccQpCMNCg9CompToyTuFIyu6YVuy1hjPKoU9+PvMmw23wu7AyN7pgejt2j34ryM9dhMqdg2Cq3YPd8Up5D5TDVdWeBe/E6CkZJdAt/dn7p5/Y25MKtwCd6HPO02l3vz5yPt5PlbMWYG7naMxboh3QQLJ9B784vBC4ljXldFnUTRaOYhzfkfGzr24hks4F7sGGWgKj5498GL1RnDr6o2awt89F9sUUT8Kv+eSsWgkPivgKWXpxOnl3d2wYPUpuA3fi4C3GkkXeQrjfLljNKYHFsa5oC71FOZ3by7NFNzag00hE4v0jH54fgXiL3qjvXejwn+Pu7iVfQfV/9qp8ywHkQnDsWj3vBaJbW2s0NbshyJw3Fi4anpJF7Q17V7LItN7Rhc856LnWszr76VaeuvIREQt3oRbaIRWfv6op7kj5+VOaOsu/JGcTYgaNRHPDj+AQO+iCdunCetpOdZTxV5sGj8Cx+y80aaNF6rkJeHEvgO4Zd8d789cADfx37CeqjDBzwNYOWN85Y3xlTfGV94YX3ljfOWN8ZU3xld+/k/6/+OrVBlVxOS74nfkXvwdeX/cxX1hunXzHPJuiivUNTBUjynqwC1AJ7kvsm+KetUMvOlrQZi38Te90yd9pHV0PGtXQ/X/u8JnvnVL/fnvi9/n+jXcFeZXr14D+vLsbh/txfSVqcWnzoXJvpqveqMBDiDjjKYn6w1cjp2FXarkvugUUrcL5Z3/xX2x+NcJnPsRqObZHA2e4uR+aajyvHp4irtXTyFXT5yrPVdZb5xNUfGVoehWJGkqqo6aTi/pH1ZFqNseY/TX03lLF8BNWqsIsa2J/1dcw60c/W3tuefE/+sKQqC+erpyNlw0I0A9+w80EnN/B5JwQfVA1VScUCX3RedwbItYZ9XTgew81dxbmXuFJR5wefXpTZqWBtZTM+qpfSd0G/Ml2jS4hJNCHd2/7zdh2zkUAZNnq5P7AtZTIiIiIiIiIpIzy4zBr0jCkS1rkJ5xAuc0w/Q4eKCRSzu0efc9uL2kPY686UP0GFd4J0CRHvxGXNAzxr9aPnKPrcHRIwdwLjNJGqbnJTRs5gWnNn3Q3tujSEKs5LH+tYfk+R3HZnljk2IixoQPLfEBj/ePTcQXEUloP3UvOrsUHfbiaWPxoU9wVxXng98n4tzJVCl5XQf1/tEcjVq9h/YdvFBNe+gmU4c+kYoGad5HZ+gTg/SNna6Rl4pjOzfhREYSzknDn1R7Sainrt5o3lloawUPFhWVPIa6m/ZQJ/+djxnTItFsXCp6/VO7zeqjfr7EgboL8Elwd61x+Z8+rKesp7aAPfjZQ0XOGF95Y3zljfGVN8ZX3hhfeWN85Y3xlR/LPmTX2inv4v4jPWPwlzIxIbVs9128GTARHkUSW7ru4sL2KdiZ1Q4BY57uZJTI8olTW5GP+3+Iz5EoPrZ56fodxxaMQbbz5+jWs+hFLV0PL+/ErtWrUaVXLC9EsZ6yntoAJvh5ACtnjK+8Mb7yxvjKG+Mrb4yvvDG+8sb4ys8zHf1HfSm9lr+KlfFspcr4vycfmMgs/1fXC/9q4w3H6voHwShUGfYunfEvryZGk1ZPiz/uXMfzNYo81fUpUVFVT5+tVFJ9sbQaaODVB/9wcSxxCJj/q94Erm/1QaPaZf0ZrQ/rKeupLRDraVOXV6VSKbqwB7HfnkPt5o2K3tVxPRl7t/wH26JnI3bjWuze/h1OZd/EPbuX0MihqrSSNiVuph/G7387oHZVTfz0zTPNjWs5qF1X9SAckqEyje/1PVgU9B88atMBLz8vzVNRIH1LFH564IImDlrDSN5Nxs413+NBIw/UM/s6o4H3FOZfObgeOzcuR9SKr4T2JLSp5F+huPMItV8U2p6+v6OvbRpqrwblYu+ntfCfRx+hQ2N97dYYQ9+lZGUa35wNGO8xHf/r449GpnxFs39DbYyvyKLxzc/F6ZRzqFDHAc/p2008UXs0F+Mr4v5X3so0vmXafoErCQuxM8sBzZx1x4suBYba81Nz/Pwk26fHYcHt8+1MpPxyA9VerI2CxfrmGZM2G63eOgzPT99EPWlWWSjb7fPj10OzlfXvaUXt9+nqwU825entGU22hPWUbEGRHvzpURgRsU39WpB/6QDS/3RBi8aFB3hNBq3GKB9Dh0TCQfHqKVibkIk8h3bw/2g02r0iHRyLB1T+QPTZCQXPaHiQPhvDe8fDZcEiDOvgLh0cK5GXsR1Rk99H5js/Ydkwd1RSra0hHui/jISOFxH+ruZz6JtnGvZQkTdLxvdmwnh8sTpNKmlzR8DccLR5tAHj39oGn0Mb0anIOZGB+ikmjPWuX+jB+e2I/XoZjufYw9lnDIYN8pROEPS3g8TPWmLO3RGYPnk0WjSQ2t6f2UhZPUr47PYYt/UbtNP9W3raZvF5uTgycxBiz6gKOnph1KpeyC6hDealLMSi8G3Iel74XH/Yodn74Rj+rovQvq2k/YoXaD5bgNNSUaNd8F74iz+Cvng9ykV6/Hrs2RePrLvOaNKtJ/w7dEZ9cZQ4fb+rDsbXOIvGt1j8khHzWltgcz6GiH9CT3wNt3lJ4zGYPqkzDI0Gy/gax/2vvFk8vnfTsHdZFHZkZKF+y+EYOKQnnDTP7tK3fc5XIC/fDtWqS23JZGnYPHg8EqVSET7hWDrIHemRlRGIgzgW5CktMPJvJAX7Er2e7uNn48dXY3FvevHPXWSb9igHWcmZqOzujfoFHSzEbdswNJFKuqx/+yx9fn3vUQbKYvt887u+6LKvF+IXt0OKnnqYd2Y7vl25DId/U6Kyat+jRL6jOzr7jUGPtk469VujhPbbbE/x3/MpOf9lgp+sFhOnZAtYT8kWFEnwF6FA4oR6GH8qHGt2jjZ4gFxIidNRnTD6t+GInt0P1VJnY/SnGRioOeDVc4BzOuplvHdqjnBg169YgkR10DfGQ1rfWHJCPOgKh8v2f5l8gKONCQZ5K534GjigLpJgKFpnb5w5gLwXvOEs3dSlOtGvoychoS1nO77ovQCvLN6BIR4K7J3wNja9ulM66NfzGa4L67fui1c0Ccsi1MnMzAXS+tonM38IJ6jCebVbGyd1bzIxaembhi6GTij1JVJKOsk4E4XAronocWAjuosPnbp7AMsGDsK94JP4rG2+WSco2kq3/SZj2WujUH3nTwhwFYrFvrcCR6Y0Q9ifcxAd1g/1KyqQEtUDIw70wprNwjazpJNyxrdEFo2v6nuNQ5anK2qrhmNV4sqRZECTEFIliFww2lB71FGYmCi+/1JhfEvE/a+8WTa+aYj1747MgB/xRTd74fixB8Zlj8HauT3V7U9PvS6xjZrCwHa8eIJf54KhWXj8XEjftqiE7ZMoYyHe6z4eTSJzEdrRhLsqymr7XEwvjBqtwHtF4lnC9yvpWKKUWDS+qu8QI+2n1PveHsJv2f2S4QT/g5Qp6NM/Df6bv0GAu1ZMxc4YgT2Q/f5pLPBzkmYaoO+3K/H3lO/5bxkPVkNERETWIu/gLKzc4okWNeZj5bpMPJDmGySc8O+MsMPwkf1Q/xmgWovRGN5jA1bGG+796NxmBNzil2Hld2nIEx/boCL2YBD+3Tfb4RbcWTqwqoc2k/Zi6eJF8H/TRd3DproL2gxYhPBVezHKx1G1FlHZyMKVFODk6QxVuzi9uhNGDBamz2bhpHoFgVRnhfopTpuO5iN+d2HZcC++QqfjZ2Fvj6kIaCGc2DzjhE4jp6JyRAyO35VW0FXHCz4962HTstlIuayUZgrEHmZRs7CpTj90biGdALgNK/gsSzefxrGzpxGtKRvpkfy4bp5JRHqXXmgjJgdF1b3xZqdcbP41U5oh/J7LBgm/43gcuS7NKG8XMpAOTzhpPrOuu8k4us5Vvc0TM6vP2KPFUCFeaeuRkqFexRjGtzx4IXCu9DusCkcPYU6Pz6Xy3Ilopl7JIhhfIst5cGQ9FuWPxcCeTqgkbGvdBoxBm+3LcOSCtEIpuXJa7AeciMzzYknsGaze3y80lL99HDx+fjJ/ZmLzsvG44emNrCWzcOS2NN+Istg+Tx/WD02ki031XfvhA9W+x/AdBfI3BKNV+yn1vrckWSkxuNKxP9ppJ/dFdTrDxwc4kpyGm9IsS5Lz+S8T/ERERE+b22lIjOiBPhPT0HrVDixdvgku8R3R59OFRQ9qdV1IQwLawbmhVIYdnP/RE6dPZRs8AKvkNgHRu/sja0x3BA6VkqSDeyAw8H1kdfsF0UVuTxQO4APfwJ7nhiNUPECcOgSVvnsDo1czwUBl68r2BVjWwBvOW6YgNk2JJoPEExZh0pcgvJ2M2DFvoI9/J/Tp2hZhq9PwQOx9VOyCgK5cXDmVhnb/cC1sAw1d0RLbcMZgQqMe2s09idAXp2DE+5r2JEzi6wgnhO4pfvv4lX3jMca/LUa81xaBH4/H3vNG2rjG7RxcQTZumHASrVGrcTvhZGYbjlyWZggnRIf31oP/6y7SDKDZ8NWqE782VvLompvpe5DSxQsu4nA7Fsf4WosdM6TfUU97FHvStWr9RuFvrTV98a0CLRx0Eg8FGF8iS8o6cwBo4w5nqYwX3NGszQGc/k0hzSgFfyZjR2wGWngqsXLZBqHduMNflaDci9G9pHUsgcfPWu4j/y6Q98d9qWyMEjeToxD2/huIfS4Ky5bvxfThdzC3aycsKpI41VX62+e8g6MwcGYmWgSL9WUHhrfMxKIeo3Ck4AJCDBaK/97YEHBPuSYdp6JN6hSsXJ2MK39KMx8pcSV5NlZucoL/u94lXsx+8Ie4o7uNfIN1QctTcP7LBD8REdFTYMTMPaqDkJv7hqGLv3AAajcEy/bsxfA29sBznhiy5iSW+gF7JvwLXSZsR576nxX1SPj30ssi8ktIOFS3R7UivSpXI7AFUK3mC9IKkpw0pKT1hI+P1INBOLnz6dgT6SmFPTiYYKDSdvPgFHzxWQ5GTduL0ElO2DSiBxbtyzbQwycbOz9ri5SWG7Fp815hCketb7sj+jdvjBLregk9hh/oPSHJVbU1w+xRvabwv17hUnsSps+HCDMcUV0nUf0geQoCv1Si+9cHsXTNQSz0U2LhwFlIKfi70gmotH3QOH1kPU4jDXuOmHFi2ngYFq73wsnRbREovGdg4AI8+GgfRrU1lCAtb8L3+2Y7ur9rjwTViZcw6SaAq3ui9YAMLFuyAVfE3+yRAikrpiDWvT9aiEP6lIDxLQ9JiP5MiqdwMrxDmFNiD/4WEzFd81vrTsbG32d8iSzmwZ9Cfa1qp5X0qoLKQptIiOirf/v8pB5lY++UPtjZZDGmLw9Hn+z3MWJCDLIN9fB+Ejx+LpSTjCNHgJTvE3FFmqWhTmJ2wuZ0ofBIHLKpMYbHZKBJ8EVsnz1E9TyG+l2isH3HVDj/dxZGd/0XYg3cTVfa2+fsX6Nws1Mv6fe0Qy2fXvC5HoUzqjtBRFJv9kGmDoGjf3suCymz8MXgQYhOkcoarwzBAuFctN3zydg8TdpvB47G5jNO+GDrL/jMhP3P6bT1wn/X43iqblsq+ns+Lee/TPATERE9BTRJilodoxC//yBCg3rCqcjBqj3qtx2N0DW/IH52T/UBhq4GLuiEVFzJkcqCKxeSUKupi54EiDimoHSwpjop0066qA/yNAfyBT0SHNzRwn07EsQHGIlvcTsNCfu2w62Fu8WHIyDSJ3t1D3SZngaf9TtUY7LXf/cbbFrcBTcWTUGipmerNvFE9WBPdG4r9XIVThbe9MlFzM+mJNbqwalpPZy8kCWVBTnZyEQ//UPGiGO+qtqLNHTAtvEF5REzYoQZ0smMOEk9xk7/PBs3A/qjnXQuUa1jf/S5PhvpBSfE0gmodhIzZzvWrrTDqAWLUDt8Fvbq+94GiLcth24+qBpKJHrzDoxSPaBTHPJgEK70zUVoh5LHDy0bSqRHjsIihMO/Y+eCHpvFE8D2aDP1JBa2zcbKj4XfNfBjJFabiO3RpozZyviWOYd+CD97EZvWSPFcdRDbz2qNp/xCO3ywZiJa6JxbPx7Gl8iSatX2Bq4ptBJsV3EjG+g8aYeB7bPgOSe0uBuDLzRtR3cylCy9vQdzu7+NhTkjMGdqT9QSE33f/ISA/IUYveyAgQv6dqjaxhvHF0rv3fXlYnf/qBLT+vD4ucDp7xbg5IBh8D81BZuPFE2QqpOY0hCHz7gjYLOwPV++CP6eOtueOp7oPn4jovdLz88ppvS3z06vD0OtvdukHtVK3EzYhoQ6w9D4FdXix6Bney4Xqovo6uR2MdWd0MZvNEbN1uy3ozBqUD+4OUgPsDXm9nbsWOgB/0EeiFmxXueCUdHf82k5/+VDdslq8eGlZAtYT8kWFDxkVzyA1X0o1PUMpNx+AS0aFx0XoP6/lyP0Xd0HG6kfOLmy7iYsC/JEpcsb8IX/MrhEH1QfYFviIVF3M5G4aRn2HBYOcsQxCN8dju4dxR4NJjyAywA+5E/Hn8IJ1XMmHDjrylfiQWXt3nXWwaLxfSR8R+EkvpLqAZ166D7kL/8AlrUbhAdzz2BUG/E3zRbqaRMkNA1H/eR4nC7poZ4ZCxEYmIo+m79BpwZi0rkTxl2biE1TOz9RndfISxiFPsscMSdaaJPCCU1eymyM7p+Ngcei0O6Cnvb6Zxpix3RHQjN1G7/x3fsInAkMX7sc3V+5U+LneZCThpPXHdHMrZ7wt8fjC9WJsM6DTn3CzejRVhrtVyFsCvti3GoHjFb97tJskd6HkxpR0jaP8S1RaWyfxWdmLEqQCtr0tMebBd9DpPNdVNwRMNdArznGt0Ry2P8++BOo9JxUMIeV7jMtyaLxvRCDMe23o/XeHfB/RajvB8ejz0Q7TE+cihbiM1DM3T4bpcTN9EygqTtqGdjfX0lYiET0RICP/od8mveAXx4/ix4I33O4v7DNPLARrU8L27dQhbQf1v2M+h48qm/7LOqC4dGj4aYbx1LePotuJsdg7fYNOJ2jHoO/8wdD0ELcVxSLp+G/9+CuEpXOL3zy+D8Gi8a3yHcufCC1/ofswoz49sIovc81EI63P3sbaxtsQvRoO2z2/xcSvA9iodC+qun+/k/R+S8T/GS1mDglW8B6SragIMGvh3knKII/07D58/ex+ZJwQPSnHdoEL8IozcmPgQMccfzMleu2IUscJlE8AH+kRD4c4NJhDIYNEg7EVGtpKJCdnAY08YZTkV6W1nOC8vjUJywpnquF36zk76BKPCW3w3STe/OY8v7iLc8f48HknzCkxKNQ7fcDEj9riZQuJ/GZj3UN2VAa8U2PrIxAHMQx4UC+CHFs/c8S0UIr4ffg/AYsC1+Gk0J7wK0c1O+1HOOGSvXahITEFSHOcyP2IP854MaLwzF9hnAio0omGajz4knAmoXYnJylbk+C/D+UqPxqF/h/NBrtXtG+eKPA6S1TELXyAPJrCu+v9IL/5NnwdxNiqNte/zyARd07IbHFRiyd3RP1Vf9eiewtozFuGTB8/VQ8mG68DZq9PTGBJeObd2YDVk4fhz0YgumLpxbvya0Tr2KJ4ucdUP8ZBa7cdUSTN93RxkGBEWOMn9QxvsaV6fa5xPZYmJQo6PVfAsbXOOvZ/z4mMUk4Xolx2yagiW4C0ahcq91nWpKl45uXshBzpsTgilDf8yp3RuCkqeikaRMWTfAXyjuzHd+uXIbj4t0uqmNU8f/OaDlgNP6tSrDpx+NncyhxJV44pv10D5wX70VoF/F7C9unjR9j+CIFPohehOrLmpTwGa1t+1z0omiRC3nF4qn+ewt/84az5mKxqp4B1RoOx6hemeipJ/6lzaLtV08SvV3wXvhc0LQT7QS/vhibEd/bwroT+mDTnyMwZ7nwm4kxvX0Ayz7qhL1Nd2BNrzS8U8LvKdf2ywQ/WS0mTskWsJ6SLbBogt8YPQc44hjCPWYqERqt0wPyUTZ2jmmCxLanscBPu6eE4QO8B3cVyK9sj2piTy4zWO4AVn2Q9UW8VNTivzwXn7klY9FnC3BanKHTM6TJIHWSvOhBmjj0wXgkqtbQIvWQLBYbVXLZnPcvLm/fMLyT0Bk/zO6Jaua+X8ZCvDceCN1pyvAkZac0EkgGE/zmeqKEhL6DeqHdDG2CIz6/IHRA0cRDntDWRowFRml6O5ZET3vNu5ANNHQykNAo+SSjWJ29LNSxcKGOqR72aY8mQ8ILT4hMZMn4PsjYgB2/u6OzoaSNufEycFJnGsZXVGrtd5snWrxYNBmjZqRH/mMkkAxjfEWWjq+xC996l6l+pxi4tXGC3p/V6B0JCiROqCfEKxehHe3Vv8eE8TipBCp7hCNU+DvqCynA6Zi2mINFiNauOFa6z7Sk0mi/BhXZPqs7IBTtAWyIoR7AAtVdA3vQbv836N5Qa3uRLz5fR98xaiEeP5tH3P8mPuyMTuIFSi3q7VYVHC1h+2SN22eDdeCREnl/ANWq69sH6fFExxKPryzab+FvZMEEvxCrlC2ZqN9T2AZLF2JUHuXiyvUaqJ9T8h0Rcm2/HIOfiIiISpkdKleUXj6BSuLDisw8ObGseui0OB/HzhZOayZ5Al2+QYDYQ69OZ/WDVYVp+nCvIg9u1N+jXol7Rw6g5Wj1OuI0vOUBpOQZeGiT2e+vKxuJm2Lg39FbfeJi7vu5eqMz5iMhuYSHSlHpqyy0KemlJVUzmBw0k3Bye/N8JhI3j0Jsw4lYKo6JHuSC2Jnb1ReUykkl135C/TeQ3LcmjO+T035IYpFJc7ItJgg14+Jqpik4rj3GdsEkjZNrKYzv4/szGyk5Cqmgw9gyA9p5GMkkXdiGnVuGoZ2nmJBUImXDR8h77yCiNx+E/92PsEOzL7y9BztjPTG8r857cZ9ZiuqhzSTdtm1oMpDcN4fWGO2a6YtvFfrH/y8Y8ssS5HL8rN7/6ib3RRbbblmKJbbPz9iZntynx+CEFn46yX3RM/VQ35Sx+8tM2bdf9uAnq8We0WQLWE/JFpRZD/4LexD7vXDCPLSwV5vIvFsUDfRqL2CkJ5YBpdZDRdWbbBma7ZTGYCygREp4DYxYMQTh4ljJDwt7yt84cwDOkzS9V4r31tDuOW44Nqa+v47r2/FF6/V4s1jvZNPfLz3yZYx7Zifih5XC7/mYSiO+BsfwlqjvcDDhosrdZOzclAHnPkNUY2ibR4H0LauQ9epgdHfXOik28xZygwy0V8MMfB4tBeOZV3eBWzN3vPkvRyQsmaUevkhph2bDtW5pNlGZ9hDVMwSTUWb/htoYX1F5tF9zx5F/PIyvyNLxVe0XZ2YWGzdZRbwT7dU5RfeZT9Az9mb8++gS30V6vzTEtJ6F+puF/WcD4Mr2vgjMmajaF55e8S9EVduIBX2L/zbWuM+0pDLdPj/R/tQwzRA9h38DKotjf6uOUV3x5nvGh+ixqKft+LkY9R0ZxoeYtGQPfstsnwu2mQaYfKyoGt4GZsfnSZVFfAuHMQISjfbgV9dfBEsPWX4SJvyecj3/ZYKfrBYTp2QLWE/JFhhL8D8NSusAVjypf+/cRPVwN9I8FelBcfBJxV3pYYfqsTl1bwk2IcEvJTKKnCSY/P46xETHCGDN0QlFDxDNeL+iCQ/rUKYJBipzjK+8Mb7yZun4GkvK6F2mSvA/3hA94v543DM/Scl5cX+9APWlC+Sqv3VhDI75ZWN87wz4GxhayRr3mZbE9itvjK+8Mb7ywyF6iIiIiMyWjKMr0wqHu9G4vB1zQ4YBYYuwYPbXcNnWFsOnb0D2XWm5uaRhcwqS+0/w/jevZgjv54TaUlnFzPer5egKpGTjhlQmIiKyWu4TcOzsaUSrhmqZipY6w+IZvpMjFzeygWYvOkplZzj1TML5bHG4HSWy/puETq84IH3LAmDSEDQ5swGLJnTCiE9HYWd64TBB3GcSEVFZYYKfiIiIyFwZyUi43g8ttMcTPROFMd7jcaXTQUwTb9V/oTM+2/oTOt+aheiEbGklbXaoqjPe87Lj3mhRzcAQDWa/v45HOuMAP+77XQceSC+JiIjKVMqs4uOeC9MXy5KkFdTEoZqKrjMeO4T5O2bozo/S+2yBB/nSC5V6aDNyDm5GCOu/J+yr8+Zg+KuJWLm3Fwa2yETUxwfQLHgvln7RDic/noIj2hfJuc8kIqIywCF6yGpx6BOyBaynZAs4RI/lb0FV3XY/3bXYcDcP/gQqPScVilHiZnoybtTxRBMTHgKlb7iBJ3n/vIRReGe715O9nzjcwWQ7rNk5ukzHCTVGDrcYG4+DEflKPKhsJw2pJE+ML+Nr7Rhfw0o3vpYck1uXAkem1MPOlobGixafXdMYezxOIrRuFFqtdJL2reqh7a58IH0mK9xnWpI1tl+2R8splfg+9u8s/Lt84d+V88OC5YTtV37Yg5+IiIjITDcuJBYf7kYgHpSKiflWrd/Q6SEoTj0w/ONOWJlyR1pbTdXL0MhDurQ9zvtrVKvjiFrx2bgilUXmvt/NS6lAk+Lfm/QREz2VMf67XKlsQMZCDO83G6cfSWWT5SIxtDEWJRQOB0FlifGVN8ZXLvIu7MHOFeMRVrBv64u5C6OwN81YbO1R27EeEi9kSWUdF9YjNmUs/Dvaqx6eWEuIv7rD/33gUb2CB3Ryn2kpbI/yoMCRmY0xPb6EOOpxM/5j9Ji5B3lSmWwJ229ZYYKfiIiIyCxK5N0RDlJfcTL80Dxp7PyCcX5V02oEtpCWa3mQdwApeTrD5whqvbsRxww9mM+M9y/Q0B0+SMWVy1JZm0nvJ447vB1Nmhr53nIg9rh8bTbSpaJR6VFaF0QKp0UJpp68KpD4zXg4jxyGJmJC6PIeLHrvDQT6v4ERwoms9sWY0zFtERijfSGoHtp9MBYnF67SO7wEGcD4yhvjS1oepM/G6P7rgTZjMS5as2/biFH+Tjg/oyW+MJJorN+4F3Cq6EVxNQWOrJyN+sMHq3vlN/ZE530HcPq28Pp2Go7v64XGDcUFT8k+01LYHuUvYxWiUsdiYBfxrhglTq/uiz5d2wpTX2zO0DoOvr0Hc9uPwhGxTUlqdRmDgalTsDNDmkHWhe3XKjDBT0RERGSWO7gpJsmfVZdsRnVPtPDbjoRUUw+2daUhfYc7Onta1+285eqRAilH2mG4zsWRgocil+TCNuzcMgztPMVnOSiRsuEj5L13ENGbD8L/7kfYkSyd8AonuztjPTG8r85v7+qNzpiPBM16ZFmMr7wxvjal+Jj6U3Bc5zk26mk8jlxX/5v8W1dxpbYT6jeoh0pi0khSycEFDRxzceW6VgZRRzWPdui+bxvSc6QZGhmrsPLyBAT4SM/gqewN/+U1sHlgWwQOXIZqy8egTXVxAfeZZmF7lDkhJnHzgV7e6gtjF9Yj6lsvTN99EJvmeWFnxPqCJO7p7bNw5UOhHb0gzVBxR4tewNq4A3ymhTVi+7UKTPATERERmaUeOi3Ox7EgT6ms4zkntLgbo+chgIOw46436uuMLVmpmjdaHJ+is27htFm3K6qZ71/IHm16TsDJ7XFFeySa+H4PjmzDpqbCwberukxP7uapAzjSxQsuqmRQJtK3eKHlP8STG3s08RROeNMyxQU4vWWKcLI7HC2KxdYdzTqhYD2yLoyvvDG+ZavJoKKJI8NTONrUUf+bam3DsWxkFez5tC0C/bX3b+NxusVBLBzkol5Rnxc6o/OwJOw5ovPQedfRiF4xBPWloqi+TziW7j6I6N1iQstJNY/7zLLF9mjtxJgAPh7qxKwqXj6e6mS/qydaHzyA0+KFudvbsfk/ngjopm5H2pp49AK2JMPAwFlkw9h+LYMJfiIiIiILqiWe6OtNOqgn3d4sJSUt/N2kFSXmvr+2Sp4jMPq5hdibVtjDxbT3y0Xit8noM7J/kaSGLD1jjxZtErGsyMUOrWnmHtyUVn1SV85vQK2mLtLwDUJMxJNbqZdp5YrCCc8jYV7OBqxc2RkBPYuf7Irqv9JOODHKtNhnkj3GV94YXyrCDk4dJyB0ldgTVGvftmYjPhvkiWrSWvrZoUXAHFRauQHp6gH2zfAU7TOtBNujlcvJROb1dnBqIJXFeGjdCWsnxOyBMC993SzcDNaXwBU0cEGL66nI1r2rhmwe269lMMFPRERE9NQQ7z74BUPc7aSyqYR/t+DgY/w7G+Q2rMgFjmLTpM7SCYhpTi4bpEosFrsTA7m4kQ00e9FRKjvDqWcSzmcLJzHCyU3Wf5PQ6RUHpG9ZAEwagiZnNmDRhE4Y8eko7EwvfJBYLUdXICUbN6QylYDxlTfGlyzJoR/Cd0+AW2WpbLKnaJ9Zhtgebdj1bJyEK2pLd9fUauiBWqkZ6jtKL2TgZB0POGE71u7thQ86AEdWjMJ4IdZhkXtwRfPQ1ToOeAVJuCImf8nmsP2WPib4iYiIiIiEE4wjM4UTBuHko+QpyuQHeTUbvlqVWNS9E0P0oEiv0HpoM3IObkYI7/9eJyzLm4PhryZipXCyO7BFJqI+PoBmwXux9It2OPnxFBy5K/0zkXCyyzFpS8L4yhvjSyR3bI827BGK9qx2G4bpHtvxhX8nBIZsR7P5Q5AXOw74aAiqbX8fUQ+HIFyM9TNT8EWs9rAruar3ItvD9lv6mOAnIiIiIhJPKCYJJwzCyUfJ0zD1uLGG5CvwoMQT0MqoWuQBckClhv0Quvkglq45iOiwnriybQpqjRwGt5w0bG7hjWZiz7c6XmjZIgpnzqv/jYqrHSpJL8kQxlfeGF8iWWJ7lIfKdjrbXXu0CNqhGjorevMODHGMQ+zBsfjgXeB0SjJ8pIdTN/HshfSUNK2LA+6oZPYdNVRu2H7LFBP8RERERESSmwnjzRynOwYLNT2D35P+//EEbE6/Ki03xB61Hesh8YKBx8VdWI/YlLHw72ivGoe0lnCCpO7gdB94VK9gbNKbl1KFM2An1FYXqQSMr7wxvkS2jO1Rtmo7wQmpuKJ3/HwlUjbMRv3Rg1UXAcQEvvKhegkeCjGqLA11lZONTLigPgNkpdh+yxsT/EREREREGn9mIyWncExPo9wn4NjZ04jW9Axeo+khHIUAd81YoobVb9wLOJWtHoO2CAWOrBROdoerT3bR2BOd9x3A6dvC69tpOL6vFxo3FBeIY5NuR5OmTmaNK/5UY3zljfElsk1sj/JWxwkurttx/pJU1pYRhWUpw9Hdx14o1EOTFt44mpamWnQ6bU9BTB78lopEVw/UF3tvk3Vh+7UKTPATEREREZWDah7t0H3fNqTr9mjLWIWVlycgQHWyK6jsDf/lNbB5YFsEDlyGasvHoE11cUEa0ne4o7N0KztZF8ZX3hhfIuvB9mjt3NGiuzt2/pQslTUUOLJhGZqNLhw6rX63cHQ/+T76+L+BL04OQWhfdUxOp61Hk+7eBeuRfLD9WkaFeRt/+1t6TWRVrl08hbovN5VKRNaJ9ZRsgVhP/92zo1R6+mT+mgaX13nCJleWjq84xMcXq9U9x/RqPAbTJ3U2oYeQ+NDPQUjxXI1RPvWkebqUSIlojFinH7HAz0maZ7oHR8ajR4wLolcMQX1pntwwvoyvORhf68L9r7yVXXzZHsuDxeN7IQZj+mcjIHEqWpg7jv6fB7Co/QI4r9+B7qoe2/Sk2H7lhwl+slpMnJItYD0lW8AEPxMMcmbz8c3ZgPGB2Ri4dQLczDrhzcXeMX1w5f29GOIujU8rQ4wv42vVGF+juP+VN6uLL9ujRVk+vkqkR3bCpoabMP1dQ4le/W5+9z7GXRiOZUGefAiyhbD9yg8T/GS1mDglW8B6SraACX4mGOSM8ZU3xlfeGF95Y3zljfGVN8ZX3hhf+eEY/ERERERERERERERENqjCuLm72IOfiIhI5l5vVFd6RURERERERERywSF6yGrdvZyG6g14yxBZN9ZTsgViPX2327tS6enDW1DljfGVN8ZX3hhfeWN85Y3xlTfGV94YX/nhED1ERERERERERERERDaICX4iIiIiIiIiIiIiIhsk2yF6/n70Fx4qb+Fv/E+aU5IKqFipKv7v2apSuSj1+90U3s/0n+uZis/jmcrVpVJRlv58cvS0DH1izXWV9bRkrKeGsJ5aE7GeNvdoKpUMe+756rB/obZUKvTXg3zcvJGD//3vkTSnBBUqoHqNF1C1qr00o3xZwy2olv4NHzxQ4ub1q/j7b9PbEONbehjf0sP4qjG+pYfxLT2MrxrjW3oY39LD+KoxvqWH8bUsWSb4Hz24hz9zj8H5pbqoXOlZaa5xYgW4eDkHDyu9CDv7RtJctUcP8vBnzk941ckRz1asKM0t2aUruVA+44gqL7wmzVGz9OeTq6chcWrNdZX11DSsp/qxnloXsZ66OleRSoaJv3G9F5vApek/pTlA3t3bSDq8Gy861Db7N37R6R9o7OIhzS0/5X0Aa+nf8O6dW0g+tBsvv1jX7DbE+Foe41u6GF81xrd0ML6li/FVY3xLB+NbuhhfNca3dDC+lifLBP8fuano/GZjtPJwk+aY5s/7SkRErUYVx7ao8H+FQbx37QR833RBS/fXpTmmUeY/wLxl38DO4S3h/SpJcy3/+eTqaUicWnNdZT01DeupYayn1kOsp1PH9JZKhql+46hv4NOxL5591k41LyV5P/75j5ce7zdevhrvdOyPZytVluaWj/I+gLX0b3g8+Xu0fL3h47UhxtfiGN/SxfiqMb6lg/EtXYyvGuNbOhjf0sX4qjG+pYPxtTxZjsH/6K97eLmBo1Qy3XNV7GBfvSr+91ApzVH734M/8FJ9B6lkOrvKlVCj2vPC++VLc9Qs/fnIdllzXWU9JQ3W06eH6jeu+jzu//mnNAfIy1M8/m9crSru3/9DmvP0svRveO/encdvQ4yvxTG+8sb4yhvjK2+Mr7wxvvLG+Mob42t5Mn3I7t+oUKGC9NoSrP39yHZZc91iPSUN1tOnG3/jJ2fh3/BvtiHrwvjKG+Mrb4yvvDG+8sb4yhvjK2+Mr6XJNMFvmDge0Y1bt9UFIivGukq2gPWU6MmwDckb4ytvjK+8Mb7yxvjKG+Mrb4yvvDG+j+epSvDnP3iAdVt2I3LlBvxy6ow09/H873//k14VZWg+kTlYV8kWsJ7aFv7G1odtSN4YX3ljfOWN8ZU3xlfeGF95Y3zljfF9fE9Ngv/m7TtYvnozMs6ex18PH2Lzzr3Ym3gE//tbvDZknvMXLmHRf2JxNfe6NEd9hSnxyDH8Z+0W/PXXQ/VMosfAukq2gPXU9vA3ti5sQ/LG+Mob4ytvjK+8Mb7yxvjKG+Mrb4zvk3kqEvxnsy4i6puNuHbjFpq5NsYH/XuhWtXnceinE1izaSfuK4s+BLck54T3u3lbga/XfouTGWfw4MFfWL81Dj8c+klVIR/nVpLVwueYH7W62CTOp6eHtddV1lMSsZ7aJv7G1oNtSN4YX3ljfOWN8ZU3xlfeGF95Y3zljfF9ck9Fgv/C71eQn/8AHb1bw79HJ7zS8EWMGNxX9YTl36/k4M/796U1TSO+T88uPvj7f39j8469WPD1Gpw68xsc6tbG8Pf7wLFeHWlNIvOwrpItYD21TfyNrQfbkLwxvvLG+Mob4ytvjK+8Mb7yxvjKG+P75J7p6D/qS+m1bOTfvYCWbzRB1eefU5WdhYrh0sgJr7u8Bs1zkCtXqgT3112E+c6oW7umNBc4lpqOhxXr4v+eqSzNKf5+ovoOdfGK04s4c/4C8u79gX+4NMJ7fu8WWUdk6vu98Y8m8GrxRrFJnK9N3/vJVX5eDipXd5BK8mTNdZX11DSsp2qsp9ZNrKcBPdua/BvXcXBGZbsqqnL2+VNwb9rosX9j7fcqLzeu5aB23fJrp7q/obltSPc31BcTc9oQ42tZjG/pYnwLMb6Wx/iWLsa3EONreYxv6WJ8CzG+lsf4Wt5T0YNfrBxiYHVVfOYZ1dWbx/VyA0fVlZ8uPm+iX88uqFTpWWkJ0eNhXSVbwHpqu/gbWwe2IXljfOWN8ZU3xlfeGF95Y3zljfGVN8b3yT01D9ktLdWrVUWbVh6qykhkzVhXyRawnpY+/sbyxvjKG+Mrb4yvvDG+8sb4yhvjK2+Mr7w9LfFlgp+IiIiIiIiIiIiIyAbJMsEvjqcsjq9krr+FSZmfL76Beoakwv89i7t596SS6cT3Uz3puULRn9nSn49slzXXVdZT0mA9fXpofuP/0/pdxPEDn+Q3rvgsb3O19G/47LOVn6gNMb6WxfjKG+Mrb4yvvDG+8sb4yhvjK2+Mr+VVmLfxN/EzyMqDvEuo8ugC3vL8p+qhDKb4+++/cea3bKSfu4Zq9b2kuWr59y7D7kEW2nq1QOXKpr3f//7+H06fy8Z/f7te7P0s/fnk6u7lNFRv4C6V5Mma6yrrqWlYT/VjPbUuYj3179JMKumn+Y0v5d7Fm97dpbnA7xfO4OJvqY/1G/+eewdt2ha+V3nJ/DUNLq+XXzu19G/4+8WzyD7z82O1IcbX8hjf0sX4Mr6lifEtXYwv41uaGN/SxfgyvqWJ8bU8WSb4RX/9kYsHf1wVfuX/SXNK9n+VqsGuhjMq/F9FaU6hv/7MFd4zR3i7R9KcklTAM5WroXJ1J/3vZ+HPJ0dPQ+JUZM11lfW0ZKynhrGeWg+xntarU1kq6fd/Ff4P1Wq8gFdefR0Vny16IJNz5QIuX/oN/zM5XkC16jXRqLEbKlY07aCoNJX3AazI0r/h1SvZyLmcjYeP/pLmGMf4li7Gt/QwvoxvaWN8Sw/jy/iWNsa39DC+jG9pY3wtS7YJfrJ9T0vilGwb6ynZArGevtvtXan09LGGA1gqPYyvvDG+8sb4yhvjK2+Mr7wxvvLG+MoPH7JLRERERERERERERGSDKkyev4U9+ImIiGSukfOL0isiIiIiIiIikosKN/LymeAnq5Sa/CM8PN+WSkTWifWUbIFYT9u3by+Vnj779+9/qr+/3Inxrd0sXSqR3Nw46cb2K2PcPssb4ytvjK+8Mb7yxvjKD4foISIiIiIiIiIiIiKyQUzwExERERERERERERHZICb4iYiIiIiIiIiIiIhsEBP8REREREREREREREQ2yCIJ/jvHY7B0X7ZUKnTnzAGkX5YKgoL1cvdgcp8o8HFoZJWUCtxRCv+/k4y1S/bggnoukXVhPSUiIiIiIiIieuqZkOBX4PjahVi6SM+0Pg35whr52XuwJF2hXl3LmW2dsORYrlTSWu+hAhdPFF+fyKLO7ymoo+a4tutjeEWmAfeysX9hGu5K84lKBespyZTyUgKixwWgqWNzRAhVtZASGetDEDBgJEKF5e90D0Fc8T4CajdSsW7uSHR9rQJG7uJxg3VKRYSXkfjcS0XkgHcQMC4UQ7u/g6ExGdICNcX3M+DXR6gLk4eiq89QRGdKC6hcPbhyFtunrUVvtwis+VWaqfF7BuZ/uBHzwzfik/f249gtab6uPy5j4+hVmB2+E5N6r8X2s9J8KndPvH0+F4eIuRFa0wwM9amA1pMShDNHKm+G4wskTa+AriO0YxeNJD1By1nvh+aDQrXWi0DcOWkhlStj8VWkRGKouE8V2++ASKTekxYYpEDcCEc0X5Aqlal8GdsGq5eZcszE9mu9jLXfQsaPrRlfW2c8vorDERjacShC5grbAp+umJFo+pGVCQl+e7QcOBojRgnTvx1w7Csl3hJfi1N/d1SW1iqUjf3SBYBvjwFn4pcWXAzgAR+VqZtpmJyYjTtSUdeFeK2LVYtGoV+jYfiu8HoUUdlgPSWZsqvdHH6TQhHsJc3QSIlGRKoPwtYtQdicWOweZ4fQEdHIkhYXYe8K3w/DEOQvlcnqpC4IwTxDF2gESQv8cLTbCsTOCcOKnUvgsX5kwQmpMmUG/L4S4r9SqAvTVmD3pmC0rq1eRuWrUq0X8c6oDhjUQppR4Ba2jz+MOqP8MHZ8X0SMfIAF40/gprS00EMci9iCrI7dMWF8d8xc1BSHe+/HSWkpla8n3j438kXwZ8GFU39X3EeQsK6PcOZI5c1gfJGDq2cd4NwtUCt+gfDSE7Sr2Udh1zJAa71g+DaSFlK5MhjfG3EIHZeFAUul9jskS1gvzmgORrErFCO3SQUqf8a2wTcSsDW1NeaJy8RjpvmuiBSWFe02ocb2a70Mb58LlXRszfjaNuPxTUXsOjsEbVqBeZ/NQ+ymQGT5hCFBHLnBBOYN0XMzBxdyryJXzESJw0JISacV32t/Oie0ly4A/LsV0LjLiIKLATzgo7KUflQ4WlmfiJMGMqcNu0gXqsRpcBc0FOr2oQ269ZmodLGekmzZ2cPe/gVUqSiVNVoEYcUcXzhLRbs3u8IvPhUZ+s5AK9oJ72GPF6pIZbIu56IRuskHIw1egMlBVro9mrtqou2K5m8lIPWsGGwljm7aAo9PAuFRVb0UtV3hygS/dahcBdVqPIfKuu036yzi0Qw+r6sXVPrXG/A9fxLHrqiKhfKzcPigE3za1FSXX3JFT984HPtZXaRyZontcwElkmLmAR8Gw/dFaRaVL0PxFSiVjnB2LPmsXPkwB82dHKUSWRUD8VUkxeFoO7+CC+V2HQIQdCgacZfU5WLuJSBs7G0EfthamkHlztg2uLYvPp/TG86auLu3hl9iKrL0bJ/Zfq2Yke2zSonH1oyvTSsxvh4IWhoED81uunZr+PgL504m3uFsRoJfieM7t8H+7TRErEhDfg1PDJSSTkM7OEnr6PhL+j9RWbsYg4gdvbD8KwUi5h4w2Dta486P27H/y6kIN1afiSyN9ZRIOLy4j9vudrCTimQrsrBuUjRaLwiGTx1pVjEO8OriiFjh5FQtC6eSfOHhKh61piJprnDQ2pLdP2zJg4u5uNuiHgpDXhPOLU7i8lWpqHHlFk6/8iJerSGVUQW1X2mAzIt5Uplsginb5xtxiN7aGoEdNCkpsl73cd/oxRoNJe6zqdoc5T1hQ1xVu726wqPDVmTpTfArkTQnFFenhWGAqzSLrI+xbfCNq8hyd8QLxRay/douU46tGV/bZUp8dV3F1bPOcDSxA5TJCf4L6z/GqMtjsHDHNwg69z76hZWUjMrG6ePAll8ycE18uG6xnv5EpePavinoN/gn/HvVBPgNXo45DgvQZXgMzvwhrVBMGmKjsjCig7tUJip9rKdEasqkBGz18kFz5nltStaaECxxCkOQp/FLM85DohGS3hyO3UMRPWsG4jqEIUC8jfhSFk4IJ6ZIjcTID4YioPdQhKxJFU5byJrl3boFPP8sKkllMXFfvR5w4+Z9qSy5lYdjNatorQfUqVsLl6/xiTG2xJTtc873sTjRwRfNefeNDcgR4pWK6MniGN4j0dXg2L4K5Ain7XEzQ6QxgIs/P4Wsj8NLrkg9e7XIkDxKYad69XrxGCsPhyE4LRCh/Z2FrThZK0PbYOUNoR2PjYTdtAHwKnYYxvZrq0w7tmZ8bZWp504F7mUhblIIEgaForeJd0iakODPxndjemD8f3th/Vc90bCiE95ddhDhTeIxKnSP4ST/ye3Y8nxPvLt2G042HmK8pz+RBdxJmo3RPfoi4nw7LN4XhXdfFufawW3kDsR/8gK++6QT+n22AWeKZA+UOB4+CrveHoPGJ/UNOUVkWaynRNqysHVZAgIHcdxmm5K9DqExzggbV1LclMiKCcWWlieQsbQrcD0LqYknhKhL0nYjLscHYStXIHbrPLRO8kXg5hxpIRGVL1O2zwqcOHQUrds15zbcJnjh87zbOLFTHMN7CXbvDMbtAUHYWmyz64ABq2/j1CFpDOCEFfDa7IMZKdJisk4t/BCWGoboFOEk4qECSQsCERIvLdN2LwkRk1MROCcQ7LxvzfRtg4W4xkQgbHIo1il90Lulvjun2H5tksnH1oyvTTI5vmpZuyIQMW0GwtJcEdDB2fidlFpMSPA7oUPYRmwIE5P70izhIzX2D8eqsM4ouPO2iGxsWRKDlsO+wZy5Coz/bDuuSUuISksNrwlYuGMjwod5o65YV4/PRu2P1HWvRtOeGLtyLzbM7YfGBa1DiTOrPsao//bHnJGd8Zb0MGleiKLSxHpKVChrfSiiHUIRaGpPBrICCsTND8Y6OyVShZPMiLkRiE0Cjm6eh4jNGcIWS8ulrQj52hWhYzxg/6IXAufvRqx7JEb+JwOoag9HFz8E9neVDnTt0XtAINYdOlH0PciqVKtZE5m5f+KBVBaH/Lib2wC1az0rlSU1q6HV73eh3V//+rWbaFC3ulQia2fa9jkLqduc4fqSKaerZBWEbW9BRKv6wO/DdUhI1bPVtRPWKzj3d4ZP/9bYncReolbNzgOfx8fCNT0SEQtikeUVirAOHnDWaZ8ZMcEIvW2vTiAJ+/Al8UI7/j4aEcsSwEvs1kP/NtgeXkOCEbZ0N3742gsJXQL0XKATsP3aGDOOrUWMr40xM74C527BCJ6zAkd3BuP+NFeTL+CYNERP5efFjUoy5ld7H9/lqucVUdUJTZ6XXgsf/tCXH2Ntk+UIftsOdXstR1STZeg5fANO50urEJW3h9n4bmJfTD7dC+tXDoNbQf0lsiKspyRjyuQZGLq+OebN9IWDNI9sgT18F1/F33FLEPyZcPApTAFeQGv/EAT7uxbtYXIpC1s9XAseFifereTl64eE1Cwo7B3hbHcUGTpjA4t1gQl+61Xp5XpolXkL16UycAtZKbXQwLHgTFOtfk00+SEXlwuO/e/jxnnA5WUOBmELTN4+52ThVE5zOPPhujZKiftKD9jZmbDVVSrwQtUiW3iyRvbO8B0i7puDMMBTgYxUH3jotE/XT47i79RYhEn78JFdnOHRIRDBw314PGYlTNoG2/uga+91SDhuwoM12H6tnBnH1vowvlbuCeJb0Rlde7XGlkOa55kZZ8ZDdg2r2yUc24ZpxoW2w8u9l2NVsCcqS+WWwXuROK8nXlbPICp/FZ3QYcJGbJilfWcKkZVhPSWZEk9cfMZcRfDiYHhUlWaKFHEY6VgBXWMKBnEhW6MdQxcPBG3bioQb0jJB6qHd8PVwFg51PdD7UyXmrdccsCqRtC8BPm9xqA+r5vwauuAwEn5VFx/89Av2uzZHq/pC4U4GZruNxSfrbwGVnfHmqJ8R/4M0Nv/vGdie/gbefJ07M2tn1vZZqYRS70MeyRplfR+JrVLbVcneiugUH/i6CVtdrfgq09Yh+rBWt+B7SVi33g69vfggZWunvCe9EGStmYfdvn5oLT4fg8dXNsPQNjgnMRLrUrSS+Q9TkbDVFx6vsf3KHuMrbzrxjYzX3k7n4Oj3WfB53bT4VriRl/+39LoEYg/+ZWh87hu8W0+aZaZrm/vC++JEnOqXicFtsxF8bgLcpGVEulKTf4SH59tSqQR3krF2VXKRW8ENatwTI7oYHt6E9ZTMwXpKtkCsp+3bt5dKZSELcXO3IgO3cWLdDCi85sHH2Q4e7wWh9SXhxKVlKDAkDH6uhVkhuxYBCGpnj6zko1A28oFrbXGc0WgcvSG8W2IIjtb+HAFuL8C5SxB6v25eNmn//v1l/P2fLknTKyDW/TaWdBNT80qtGAqlzHUInRwNhZMv7BUJULwUhM8n+sJZlecVYjw3CKGpjvCwS4XC+XN8/oWPVo9/04jxrd0sXSrRk7uFw5EnhVb8JzK27kdei+5o9XJFNPF/E63qCot/z8D8SYeR91ot5N2qjj7B7dHqJfHfPcTln7PwwPk1ONcUin9cxsbgnfilfgNU/v0h3hjVHT0fI8F/46Qb269FWWL7LC1InoEKw+1wIjUYHtIsc3H7bGmG4+tjl4GtX0UgOkMoNwIyLtnB79MwDHAXY6217bbPQcKyMER/r4TjW/ZQHFfC9cNgBHcwP4HE+FqakfhWTUXkpyFIsPOCszJJ2KcGIXhMb7iqksRF983actb7wTcnFCfGmN+KGV/LUqYY2Qa3vI2tCyIQmW4Hr5Z2yDmkgPNw4bipi9gu2X5tg5H2q3OrhsFja8ZXFgyfOwnnRl+FYt4uJZw7OECZmgV0CEHYEA+TOkCZkeDPxv5F23FGKhXngq6jOqOhVNJLqcCdR/aocW8PJn+UDf8dw5iQIoPMSpxaEuspmYH1lGxB2Sf4rQsPYOVNjC8T/PLFBL+8cfssb4yvvDG+8sb4yhvjKz9mDNHjhPaj1A931D+VkNwX2dmjhjiGdL3OmMZkFFkr1lOyBaynRERERERERERPPYuMwU9ERERERERERERERGWLCX4iIiIiIiIiIiIiIhtU4fvvvzdxDH4iIiIiIiIiIiIiIrIWZjxkl6hsldvDS4nMwHpKtoAP2eVDpORMjC8fsitffMiuvHH7LG+Mr7wxvvLG+Mob4ys/HKKHiIiIiIiIiIiIiMgGMcFPRERERERERERERGSDmOAnIiIiIiIiIiIiIrJBTPATEREREREREREREdmgsk/w5+7B5D5RsNZHoR0Pr4yPt+VKJRPcScbaJXtwQSpa3EMl7vwhvS4VwvvfUUqvgfzLaTh+XiGVZOTyBgxuNNusenchfiG2nCj8bUqVwXqUiy2DXsb8E1KxQDb2L9qA9FKtG2TVlAqomm5pb4OIiIiIiIiIiMhqVbiRl/+39Np0x2ej9n9ccOrrnqgrzdImJkZ3n5EKGs+4oOvIzmgoJlrbZiP43AS4SYsABY6vXYXjN6WiHo17jUb7l6WCmNBalYy72YmY/IsjxvZwgb0wW/Hf9Vir8MbINo6o3nowBrYU5+rQ/FupWED6fNfCK2NF44tY3quetECkwJldqxAdl4l83AZqdUbAmCFoWUtYpOf7FP3+WfgxdBswcizedpBmoQZaDhb+fQ2paEwJv7Xu9xF/g/nnPAp+E5XGPTGii5PqZXpUJ2xuuBHTukhLdT7/tc194X1xIk4Fu6uXl6PU5B/h4fm2VCqZ3nonqPfWMPjV266n3glyD2DtV9tw6E4+kF8Zb3QbjsBuLqgsLBIv9hSpC2b+1sU8zMb+iAVY+5uwmlCXL5zMR5NhEzDWR1hfJw6F3+U2ftk0G3daheNt6W3VbSEZ86stQ+Nz3+BdTVU9vwdLd2VKBR1iW/ljiOF6RI/N3HpajBi3nxwQ2N9dVe9MVdBW+2Xqr9tEWsR62r59e6lUNpSXEhC7OBoRazIQGH8C+ncrqYjwao6sSbexpFvxfbbicARC5mTA3t0OGYdvw3d+NIKE1+bav39/mX//p4fxGCJ7K0LGxQEuQEaaPYIWz4OvZjd5LxWRH4Xg6IteqJKZBPRaghVDXKWFphPjW7uZtXYdkZe8n3/C9uT7Ukl0F7+s/xn5QaPwVf+a0jzJ7ycxf1oG0Eg4Gv61CvrO7I43X5KWmeHGSTe2Xwsztn02bdvN7bM1s9j+V2i/9h3scTU+A02/iMXn7fRs40vA+FqesfgqUiJV7dLB6TaSLrXGvK+D4FFVWqiF8bVWSmSsD0XYLiWcXxRimOmIYO3jpgJsv7bKUPtVJEcj+pB2R9urOLoyFspxR7F7iLM0TyIeP38ahowXnXH78FX4LI1FoHCcbS7Gt6wJ7TsmBCMP2cG39lXEZTbF5ys/h09tabHGE8T3sRL8+Qnj0SDSBT9vGYKG0jxtxRKj2slLvQl+sZdyS1wYfRFjm0uzTKGT/H7s5LTWZ1LqSfCnL+mEyYqJWBXqDTEnn38mBp/6p8H/x0Vof0/f99FycztGO/VF5U25CNck1c1wYVUP/DPMHdt+nYq3SjxmVgq/fVt02dkLiQeFz1NRmq1Ff2zW4+VP2kG8/qC6SNJkuU0m+PUp+L6tEovH6eYejPfdDrc1CzGwsfjjKnDoyx6Y6bAc8cNciv9WOtIX/QvtNvVH4pHRJiVW0xe1RUSN5Vg1WGqdDzMR3fd95E/5CSNqlVCPitGT4DempAtF9NieuJ6adcE0Cz9+lY+BR6LQ6kcm+Ml05ZHgF+8yUSivYssHAVBM1p9gSF3wDnznJMDvaz0nKDlxCJmUhYDF0slp9jr4OZ9A0P158DEzh8QD2NJjNIbiCahPKOyX7lYfmJ6LRtf3lJiXFAQxjZ80/RUsafQDYvuLJy4ZiOw4EnaLfzD7JEWMLxP85eNB2n58EmGHMSvehEuRq9SXsaZ3HKqFf4ierwnFrJ/wSdBfGBv3JnROU0vEBH8pMLZ9NmHbze2zlXvS/a+w7Y4ccRStZwrxFRfd2IqhdY5iAONrHQzF90YcRvZJQO9NQpxqC6t9H4Kmu3xwYrFvYWc0FcbXaqVEYugmZ3w+x1e1r1QeDhXi5IwtcYFF9p1svzbMlH2sQJkyA12n2WPeJiGOReKmRMI4H2z1isWSXkKtEPe/XlkIufo5vKQ1TMX4lq2czQEIOBSAFcI2WdW+s1NxtbYHnItchH2y+D7GED3Z+G7VdjQ8F4Utx8to+JJylYZD6+0xcIg6uS+q3HgIhvpH4fufSvj+D7OxZeJ4XBg5GooJo7DlojTfRHcSpmD0Zi8s/zIX4z+NwZkShmO5sGs8Zv7YC8s/zMDkiYaH7Li4bymWLlqonv4TL6znBf9RozFCmIZ2MND7XIbuHIvHrt6DpeS+yB5vfTAc9TYdgJ4bAYq4kzQb41Z6YETrbRgXnox8ab5hubjw32Q0+4dW1qKiC5p5XMWZCwaGhLq4HZM/eB/jwxZi8ic9MDr8AK5Jix5H3Rp2ZvUQp7KRfnQbsD4RJ+9IM3Q07KJum6ppcBc0zL2KQxsWYsX32dIaRFbKzh729i+gip6LzSrnohG6yQcj/aWyLgdfzFspJY9ETj7w809AqoEblagclBTDtATE1g5AV82ur5EfAl1HYmuyWMhBVro9mrtqTlld0fwtIb5nZThMoGzl4YfIU2g52lMnuS/49Sziav0Tb4nJfZFzM/RsvBU//CyVqXwZ2z6XtO0Wcfts3Z50/wsPBC2VkoOi2q3hw/haDwPxVSTF4Wg7P7SWeoPadQhA0KFoxF1SlwsxvlarRRBWSMl9kd2bXeEXn4oM7UMjtl/bZso+VjhG3jpnN3wmBeok9wXKo4j7vjV6t5NqiZMvAnuFIkF1bE3WKwu7/6PAgBFa7dtJN7kveML4mpngV+B4xChsfuMbJOwag9NDPzY7aW3Msc1S0rnYpJOsFodKEeevSwL+uw0rpPXEhNe1ozGq12aNnZ5/H3d8XKC/I7Q9qtdW4n6RDK4SSmU91DB0BfShEhd+jMLoAR/j2Ns7sGrCRCzeNwQXxrTFYOG7nDEyFJHq357cjqUfdMLHCa4I3zQBfgOjED8sHxHdemDy2gM4k6v13ZQKnPlxA+YP74QFp7pg4Q5h/cHfYHm3TMzs2gPjo4r/vZc7jihMGH7YBQ2RiIhPhmG0MH2xNk1aSw6EOOXVQ5OG+iNrV9kO1+7r1JOHQl14obLBRHj+zTR8F/4+Bi8AJsXNRvCXO7CowSr09BuPtcdzjST66+Gtfw/Dt3MXFgxFdef4QkQm9Me7rfV9vmysHbMADqO/QXjoaEz7agcC7cZj3KIN6rq/aD2OSWua4lp2qnAy5lBwkYqsxMUYROzoheVfKRAx9wAM5PgL3PlxO/Z/ORXhT9nFOJKjLKybFI3WC4LhU0eaVaL7uK9whL3ugRCVExNiqFQitbY9Cg+X7OHh5YMTWTnCawd4dXFErHDiqpaFU0m+8HDV7YlGVuvXn7H6j3/hnX/qOUvNf4jMmlVQSSoCVeDS4jVkXsyTyiQv3D7bjsfZ/17F1bPOcNQdRoCsivLeVaCqndY+1xUeHbYiq1iCXxfja7WU93HbXTumbL9PhbRYzLsXiN6eehKOl7KQ+lpzNC04XLaH42se0rE1Wa1LSYi77oPmJd2l/ITxNTnBf0ccJ/qDvljx/FQsD/ZEjZf7YfmuXvhljJh0Tsa1h9KKJtEklDcU6Sndyl+rp2qRqXPRoYBqeGKgOH/BDtw48g0mtVZi8n+dMPTrn3BjyyLVv/Frbij7LhGHptE8dPVmLg6pZqqdiVf3cFdfJHBCx8H2WDBhIdJV2Telqqf8/NSx6NZK398QnycQhUN3PDFp9V6ED3wB+z9phsjL3hi75SAWdbFD+mZhuaELI+cP4NAFJ3T9ai82hPVD4+fVs2s0H4blCRsR3ApIT0grTAQ+UuCOvSeChPUXjhd+J+kcq+7bo7F89w5M83VAbm7R3nCa76eaVD342yH4qygsFKbpAw3cI2RDxKF11A9KvoNr2r9zbpI6OS49kLRy6/6Y9OMUjN8l9YS+mYylQpwbDvbVO/QUzuxB9OZM1Oi1CNs2TcBbV6Lw6pgDsBcvwMSOxRs5cYhen2YwyV+j4yIkLvBGbrz6t/822xNz4sLRXnyWg166F6mE+lZXqvuj+kOoCgXEYVwKYqpnitiwHfVObxNe88G81uLavinoN/gn/HuVeFFuOeY4LECX4cbu1ElDbFQWRnSw/TZKlLUmBEucwhCk78DVkHMJ2JonHBg1kspUrkyKoYMzeidlCKejhZTC8WJWzlXVa+ch0QhJbw7H7qGInjUDcR3CEMD42oyT+xJRu9trRYYNKFC3Jt5JycVlqSh6IMT+8rViT8EiOeD22WaYvf+9l4W4SSFIGBSK3i9K88gqObzkitSzV6F95q8UTievXjdyZxzja9WUScK21UvYtkrJPrbfp0PSrnlw9PdRDWdZzI0cJBTpPAM4CsfbmmNrslKXsrDVwx63t83AyEFD4TdgJCK+1z5DkjxhfE1K8Oef3IDYfQq0nLUXy4e5F/YCfrknpm35BoF1M/DtigMGh4QpTpNQ7ofG0pzydO3GbbzV3Klg/OvGXdQ93DUXCer2+gYJs91xZr2YLI3CIQzB8h2j4aZ3u2qPloNHY2A3d9TVs7xGY2/4DRuGtzQPDNbVuLPq3zaUEvtF2an/fX9PdQzEOxlWbMfxxO2Ijiye1BWn6G0HkP79Kizdp05itxyfj8Svp0oXToTpy2+QqDV2d43WE7G8m1x6BgsHOHf6o1kDqVjPS50cFx/2LJbt3DF23yYMRKL699qcDbfZB7Gwm4FB7YXYjBjWD2811tO70K4e3LoNwYgSHpRauYE73h0ofIahg/Hvji7AxWQc2rcB3x3TPfBywsAFE5Ezr69qiJ6ZY/piyfWJmNpff2yKDOOimvqj3s/zoXxLXQ7fool7P7jprVtUVsThnUb36IuI8+2weF8U3lVtC+zgNnIH4j95Ad990gn9PtuAM0Wu74jP1xiFXW+PQeOT6rbNIXrIZmWvQ2iMM8LG+Qh7TFMpkbQ6Gvaf9oaHNIfKkakxdPJBgFskojeLvU6UyNoWgpD5p9TLxHJMKLa0PIGMpV2B61lITTxR5GIAWbPL+GV3LbzpofNgXY2XXkMX18PYvlPssf8Ql+N2Yn4Ue5fJE7fPNsPM/W/WrghETJuBsDRXBHRwLpJwICvUwg9hqWGIThFOIh4qkLQgECHx0jI9GF9rl4WtyxIQOEhqr2y/T4lUHN3qDN+WertPkC2L34ok+0AsWb0CW74OBBa0xowUaZmFPNZDdkti/kN2xV7vqwqGLtGneuvBGNhS2JSJSe1VyTCl/0/Bv9FH7+fQ89lLovM+RR+IaUwNtBw8BC21x0zR992yEzH5F0eM7eFSdEPeuCdGdNGT7DXlYapGfkM5PGRXbwwNxNuYIu9jRr3TF5szQr3Yr6kXt1Oxea09Alf2QkNhV1uviQvq/bEHozqa8/nEoZmyYd9K/4Wkx35wNZmttB+yK544n1n1MQYneGH5smEFF2gKHirOh+ySCcrlIbsqOVjXxxdXJ2keIqVA3Keu6HrOD/OksQWzEkNwtPbnCOgWgCB/V70nIMrkGeg6U9+DpkzDh0hZkpkxfJiDpM1bcPSSEvav94bzr35Y1ygBK1rGwc//KkKTgqWkoBJJk1sj9KVY/PCh3j5LBonx5UN2y9i1k5j0zjn4Hu6NNw2N//cwDyd3/YJfrjxENZdmqJ8Zg3jnEZjiW0VawTR8yG5p0d0+azO2rChun62VZfa/Kg+zED2gNXLGXcXnLaR5JmJ8S4uBNqrIQty2rci4YQfHt3xgtzoAWR+V0I4ZX6uUtT4AQ5MCELvYFw5svzJjZB+bsxUBHgkIyFgCX32pzHPReOdTYIXWg5dTFzRHmEMctvR3kOaYhvEtQ2kRaL7YGQkrexfkdbPW+CFAEYajn2id9zxhfEstwT/utwnw/8cL6hmqhKYrFosJqMdItBanxLUTabj/qicamjWouBLp66NwSHxSqfiZIhR466susD+dhov36qHxv7qg3uW22KeVHL72YxS+TdXqSvuM8C6XM4X1a+DlRo6oW19oGBOVRb/PzUwcuvwC3mpm4kUCY0pM/qkvjtx5ezTaiz2BTUnwG1GQNCzpaL4MmJU4vbgHS7epnxxz4cfxOFZ3KgL/cR8pp3NR3ckdbzcF1n6iKIyTMhPfLd8D7RF8Kj+8jfTsXKCWE9xecEdlZQ8cKnKh4HHrnQ59bcDIBafJ2RPQzUVqSwWy8GOoAgPPfYN3NR+vSOyZ4C8rpZrgf5iN774YhbUYgvDpPQuG4BIxwU/msJ4Ef3FJ0ysg1v02lnQzcEE+ex0CPjiKgJXCge5j3mDGA9jSVWIMC4j1IRD3p+1GoGIGKqz2wO2lvoUdGJL1zDOBGF8m+MtYmtCmgitiyQ/eKGk4UbU8xH+4AfnjPkRPzYN3TcQEf2kxtn0uedutwu2zFbPA/ldLzno/+OaE4sQY8+7TYHxLiyltNAkzvLbAa9c8+JQw/jrja13UF07tMG9dcOHDzHWw/doyI+03ZQYcP7RDXKqmA4wOZQJCqsTB977QrlVXdRSIG+GD1EFH8bk5Q58KGN8ypIjDyBdSEfD35/CSZulN8D9hfEseokfsuaw15IvRycRhYJ7cHRxa2AdbfpOKJrODW3+tz5S3A9MGD8PYWeJwQcLnHegJ3ZFz6r49rPB7iNPI0dL64RgrlAe21nMV5fx29FqSBPE6QunLx8V983HyhlSs5Y5pbzsYHSZGlUxu1AOT9cTw2yteGFn4RAfb8XLnghiphqNZNgEDR05VPVdgWvAwtG+m853sXPCuJqbSFBisXn/hlxMQOKozmkirFnrcevdkijwUuWAqOgZ/cfXgt5rJfZtX0QkdJmzEhllFk/tEsiUe/DhWQNcYaaAWMXnUIRbN58977OQRlTGdGCrvFXaSUB5egiV2AfARM8IuHgjathUJmuMXQeqh3fD1cDYruU/lJP8Bbr5SHUWe8XcnA7PdxuKT9bdUxQd/FD6g68FPh7Ch8j/R0szkPlkRbp/lTSu+yrR1iIzXHjAtB0e/z4LP65r+hGStlPekF4KsNfOw29cPrcXkPuNrM8Tkvs+YqwhebDi5XwzjKx/K+8h5zRGOUlFFe/9r1xq+E2OxLl4a4jk7DtGpfvB1Ny+5T2XM3ge9Jy5B9DbN0NxZSNp1FV29hHZpwfiWSg9+o3R7Kj/W0Cel1ztZ7/Auxujref2EveiLKPG9HuO3MNBb3No8cc9obY/xnYvXBQvVO32fxcDnM1wfkzG/2jI0NtiDn8qKWfX0CYd60sYe/GSOsu/Bn4W4uVuRgds4sW4GFF7z4ONsB4/3guCjc108qUgPJCWyko9C2cgHrsqtCGjph1SvYAR4ORbeeuzka/xWZD3YQ6V0GYxhbaEejAtBxA1neNllCfXBByHTguAl9SRUZq5D6ORoKISY2isSoHgpCJ9P9IWzmRc0xfiyB3/ZurltFdon/ws/hruimjQP4lj7P2fhgfNrcK55C4en7cSaWzXRrPItYYvQCIPGv4lmBobsN4Y9+C3N2PbZ2DJun22DBfa/tRVI+ioU83Yp4dzBAcrULKBDCMKGeJh9AZbxtTQj8a2aishPQ5Bg5wVnZRIUzkEIHtMbrqokMeNrC5QpM+DTMhQYEgY/18ItqV2LAAS1K9qA2X5tUcnbZ/FuC8dDgTp3s2rHVyjeE9r6RyE4+qIHqmQr4TVpHgIfI8HP+JaxexlYNy0EsQpXOCuEdtlFaKdCu7SzYHzLP8H/WMwYs99M4hj6h2qb8W9VCTsF3holPbhVdH4Plu5SDxejnwu6aq9vTIlJ28f4LXL3YPJHMch9+QXoHwXVCX5fTsBbtaRiObFogl9fnEpQvC5YqN6pfv9s+O8YVmKCPz2qE2YcdYZDsSGB7kNx0QEDvw5He02C35L1jkxm0XpqDqUCdx7Zo8Y9PfWJSEfZJ/itCw9g5U2MLxP88sUEv7xx+yxvjK+8Mb7yxvjKG+MrP2Wf4CcyUbklTsuFEnfuADVqmH/llcrX01VPyVYxwc8DWDkT48sEv3wxwS9v3D7LG+Mrb4yvvDG+8sb4yk/JY/ATURmwY3KfiIiIiIiIiIiIzMIEPxERERERERERERGRDeIQPWS1OPQJ2QKxnhIREREREREREZUHJvjJajHBT7aA9ZRsAcfg5xiTcibGl2PwyxfH4Jc3bp/ljfGVN8ZX3hhfeWN85YdD9BARERERERERERER2SAm+ImIiIiIiIiIiIiIbBAT/ERERERERERERERENogJfiIiIiIiIiIiIiIiG8QEPxGRDbsQvxBbTiilkpbjs1H7o+24JhU17hyPwdJ92VKJiIiIiIiIiIhsWYUbefl/S6+JrEpq8o/w8HxbKhFZJ7Pr6Z1krF2VjLtSUZ/GvUaj/ctSQXDnRAxmRu1Bfl0vVL+TiNyKPTEybAjcngeOh1fGisYXsbxXvaLvnZ2IycfsMbaPB+zFcl1vBPZ3x53NfeF9cSJOBbuLcwUKHF+7CsdvSsUibuOXTTFo8tVFjG0uzSKbJNbT9u3bS6WyobyUgNjF0YhYk4HA+BMoqHJQImN9KEK3KeHqokTqYaD30hUIdJEWa5yLQ8S2DKkgEv5dfChOef6AuJk+6nptov3795f595e7pOkVEHZ1HnycpRlCRFp/GAgv3cDcSMW6mGjEfh0J5/m3saSb1grGlplBjG/tZulSiUrfQ2St34nZP1XEmzXv4vBZBwQuao9WNaXFkpvbVmHkD3Xh6/qcNAdw9vXGmwV1xjQ3Trqx/VqY4e2zIDsOIeO2AsI2OSPNGcErP4dPbWmZlpz1fvCNd0WA2wvSHMC1VzB8G0kFE3H7bHlPvP8tQoG4Ea4IfS0OJ8Z4SPNMx/hanrH2q0iJRMicDDg43UbSpdaY93UQPKpKC7XdS0XkRyE4+qIXqmQmAb2WYMUQV2mh6RhfS1O30bBdSji/KMQw0xHBi+fB10labOL2WXE4AiHTMmDfwR5X4zPQ9ItYfN7O/GMsxtfSjMXX9O0z42urhBjHhGDkITv41r6KuMym+FxfG36C8yMm+MlqMcFPtsCy9TQXWwa1xIXRWgn1m9sx2icVfj9OxVs11LPu7BsPr/h2SFrQGWe0E/wmuFYswW+Mns9DNqk8EvxQKqBQXsWWDwKgmKx1AnojDjPmKDFgZm84VxTKaRFoPtYesQmBMHpqeWkrAgYlIGD1Evi+KM0zEQ9gLS0HWwd5IKF/BpZ0KeGg86ESintKHJ3zAuK8dA5SjS0zgxhfJvjLzs2dazHpp39i8gxXNBDKD36/jOs1G6DB8+rlGpmLpmDW8yPwzVDT9k+GMMFfCgxtn5GFaN+RUMzcIsyzg/JwKFovboq4TQPgIK2hkTrLEUFVE3D0E/OTgtq4fS4FFtz/KnaNRPOPtsB+HBP8VsNIfEf2SUDvTfNUCSPl9yFoussHJxb7FusUkTT9FSxp9ANi+4tXXDMQ2XEk7Bb/UMLFnuIYXwtLicTQTc74fI4vxMiotsEznbElLlAom7p9TkXkiKPCvwuChxj4G1sxtM5RDLgv1As79RqmYnwtzFh8Td4+M762KmdzAAIOBWCFsE1WxT87FVdre8BZ9yLsE5wfcYgeIiJrdiET+95wRRMpuS+q4eKBVgmZuCiVi1IgPWoY+n0yHkvDRuHjD0Zh7Uk9Q/iYzBk1zDxYIFKxs4e9/QuoIh6kaqvtKxzYSgevIvfW8EtMRZZCKuulRFLMPODDYLOT+1Q6lEpHODuacMBZ0U6oB/Z4oYpU1mZsGVmpWzi09j66DFYn90WVXiqe3Bc9eJQH15erSyWyKoa2z+cSsA690dtdveO3e9MPAWe3IOGSqliE8mEOmjs5SiWyKpba/95LQNjY2wj8sLU0g6yCgfgqkuJwtJ0fWku9Qe06BCDoUDTiirXfHGSl26O5q+Z2Klc0fysBqWeNHohRWWgRhBVS8ldk92ZX+MWnIkMMjcnbZw8ELZWSv6LareHjL8Q3UypT+TEWX5O3z4yvbcrC7v8oMGCEVvyd9CT3RU9wfsQEPxGRNWveGcE3YxCxKxv5YlmZje++Wg/lJ95wU61QVP6PCzD4dE8s/yocI0IXYfncdkjpPQvR2xZi6aKFWPG9OePvZ+HCNifUqyUViUrDjavIcnfEC8YuJN2IQ/TW1gjsoDkkovJ1H/eZB3g6XcnG4ZuvweU1qWzQQyjvSS/JZiizMnDbqykK0/bOcPXaiqxiCSQl7udJL8l2Gd3/KpE0JxRXp4VhwJPdpEFlRHnvKlDVDoXhdIVHB33t1wFeXRwRG58qlbNwKskXHq6m9xKlMqK8j9vu6piavn3WdRVXzzrDUc9QPlTOtOJbjCnnRyqMr024lIS46z5obuZdUuZigp+IqNykIbrHeOwvGP/+KnJ/a4fGmm6RKu4I3LERgTWSsXbRQixdngi7D7/BhqGGh9i5L/2/wPNAsy6jMWLUaAztoBnEUSCO2S++p6Hpy2XYBQUObRBe88G8VAqUN1IRPTYSdtMGwMvIAWzO97E40cEXzXnwaiVyhJgIsZs8EqHC1NWnK2YkMuP/VLh6Cz+4VcHduP2YPXIjQoZtxZqDt6SF2u7j5u/A4YU7MT9yJyb1Xoap63OlZWStFDeydBKE9njBUQj7dd32rUCOcFgQNzMEIXNDEODzDobGaD8zhaxdSftf5eEwBKcFIrS/M3iTlW1weMkVqWevCq2zkFKpr/0CzkOiEZLeHI7dQxE9awbiOoQhwMznZ1DpUyYlYKuXD5rbm7N91nIvC3GTQpAwKBS9eQes1dGOrzZTz48YXxtyKQtbPexxe9sMjBw0FH4DRiLie6FNWxgT/ERE5UaJOwk5UD6UikJZkavnNKqiPRq/3Q+Bo4YhYHAvtKynQPqPB/Dd2j04La2iUfntMdjYZDsGDxeH6BmPjz/ZA7c1E9FS38FBDU8MHKVO/BdMrZWY/F8n/Ft8/eU3SMzbgXDxdUetCwNET0yBpJgIhE0OxTqlD3q3NNYzX4ETh46idbvmZj1Yl0qTFz7Pu40TO5cgbNoS7N4ZjNsDgrA1R1pM8vbDSZys8S9MWNIX8yL+BSxfhBVp0rIC1dBlyQxs3dkXY4O6Y+bWvnhj11I965FtcsCA1bdx6tAKzPtsHmITVsBrsw9mpEiLyYqZsP+9l4SIyakInFPCs3HIurTwQ1hqGKJTlMBDIc4LAhESLy0rQomsmFBsaXkCGUu7AtezkJp4ApZPNdGTycLWZQkIHOTzWMe/WbsiEDFtBsLSXBHQwVl/L3EqR/ria/r5EeNrg+K3Isk+EEtWr8CWrwOBBa0tftzEBD8RkbXIVUD5D3c01DyP8GbRHvbj/Wrg46gDOPlLNhT2TnirmzcaSqsWsofbsChsWyYO0ROO5euiENiscJdfo/VELO/GZD2VN3t4DQlG2NLd+OFrLyR0CTCSHBZOPLc5w/UlpvetSlX7wpOJqj7w+3AdElKf5HkfZBMqV4TLO/9C3zbV1OXnG8CnlzMOpejpnV+5CioVjBFdEy0NrUdWw762M1Kv3kZhS1bg9lUPONbRkzqwE7YBBfF1hk//1tidxF781q/k/W9GTDBCb9urE0hzI7AkXtgPfx+NiGUJ4HVcK2bngc/jY+GaHomIBbHI8gpFWAcPOOseP13aipCvXRE6xgP2L3ohcP5uxLpHYuR/2H6tSdb6UEQ7hCLQU739NWv7LHDuFozgOStwdGcw7k9z5QVYK6MbXzXTz48YXxtjZwePLoEIaic9EruqB3qXwnETE/xERNaiXmdM2zGscGz9WkV72P+7FVCjsRfeetsbbzVzQo0aBsbsu7wBgxv1wGStiwOaKWLqx/h4l/ZwO7nYMuhlzD8hFYnKmr0PuvZeh4TjBm4xzsnCqZzmcOatp1ZMiftKD+HYlQl+2XupHt5Yf+3xenrm30f155+VCmSN7Jxd4fNrFq5KZfECa0aSs7D91Z9AKkKpwAtVTViPrIeB/a/rJ0fxd2oswj4LRrAwjeziDI8OgQge7gMpNUHWyt4ZvkPEuAVhgKcCGak+8NA9flINFeFa8KBHoeXDy9cPCalZMDLYC5UhZfIMDF3fHPNm+ha0ucfePld0RtderbHlkOaZC1Te9MW3mJLOjzQYX9vg5IrWMRko7cuoTPATEZWV83t0Eu7rcQyZ2LVMe540PfGY917w17o4oJmKjMGvT8sJuPF1T9SVikSWlpMYiXUpWgerD1ORsNUXHq/ZA4o4jHSsgK4xWulDpRJKkx4yRWUl6/tIbP1VKoiytyI6xQe+bgZiSPJR4zX4jDqEbXGap73cwsl9d/FWi1rAnQzMdhuLT9bfwoNfT2D7T1pPYf0jG/FbK+KdFjWlGWSVGvlgAIT2LQ2lpDy8BVvcAuAjJgi12rYybR2iD2t1K7yXhHXr7dDby9hwa1TezN7/ks3Rfrh51pp52O3rh9bi84u04+vigaBtW5FwQ72eKPXQbvh6OGsNFULlRUz++oy5iuDFwfCoKs0UmbF9jozXbsc5OPp9Fnxe5/bZGhiKr6nbZ8bXRtn7oPfEJYjepolxFpJ2XUVX8bjJgvvfCjfy8v+WXhNZldTkH+Hh+bZUIrJOZVlPj4dXxorGF7G8l2YMH/3zVD3422Yj+NyEwrsBJNc294X3xYk4Fax5SK/Yg78lLoy+iLHNpVkkO2I9bd++vVQqC1mIm7sVGbiNE+tmQOE1Dz7OdvB4Lwg+VTOwdUEEItPt4NXSDjmHFHAe/jk+7yIemCqRlXwUSuEkxlXzQF3hQLjCcDucSBUOhKVZ5tq/f38Zf3+ZUwgx/CoC0RlCTBsBGZfs4PdpGAa4i1dhtGMojiUajaM3hBqRGIKjtT9HgNsLcO4ShN6vK40sM+9qjhjf2s3SpRKVuj9yER+xE3F36qHB3VuATweM7d8AlfAQl3/OwgPn1+BcPQ/HVn2P7Qf/Qm3PKshLe4hXBnrjvbbmJ/hvnHRj+7UoI9tnsSthdhxCPo2EwsUZt284Imjy5/BR9Q3Qatv2OUhYFobo75VwfMseiuNKuH4YjOAO5icYuH22NAvufyU56/3gmxOKE2PM3wszvpZmLL6piPw0BAl2XnBWJkHhHITgMb3hqkoiFo2vMnMdQidHQ+HkC3tFAhQvBeHzib5wLhh2yzSMr2UpU2bAp2UoMCQMfq6Fx0J2LQLUQ3uYsn0Wj72+CsW8XUo4d3CAMjUL6BCCsCEeZl/AYXwty2h8W942cfvM+NqsexlYNy0EsQpXOCuEuHUR4ijEzU43vk9wfsQEP1ktJvjJFpRlPU2P6oTNDVdjWpcSEvy5ezD5oxjkvvwCij2y985VXGg9FduGaRL8ChxfuwrHb0pFPaq3HoyBLdmnx5aVfYLfuvAAVt7E+DLBL19M8Msbt8/yxvjKG+Mrb4yvvDG+8sMEP1ktJvjJFpR7Pf1DgTvP2KOGeR1e6SnDBD8PYOVMjC8T/PLFBL+8cfssb4yvvDG+8sb4yhvjKz8cg5+IyJY9z+Q+EREREREREdHTigl+IiIiIiIiIiIiIiIbxCF6yGpxiB6yBWI9JSIiIiIiIiIiKg9M8JPVYoKfbAHrKdkCjsHPMSblTIwvx+CXL47BL2/cPssb4ytvjK+8Mb7yxvjKD4foISIiIiIiIiIiIiKyQUzwExERERERERERERHZICb4iYiIiIiIiIiIiIhsEBP8REREREREREREREQ2iAl+IiKrkY39izYg/Q+paMwfCuQ/FP6vzEV6UjbuqOeW6M7xGCzdly2VzHQnGWuX7MEFqVgoF1sGvYz5J6RiATO+DxERERERERERma3Cjbz8v6XXRFYlNflHeHi+LZWIrJN59TQTWz5ZiEPiy4e3kXMTcKj3gmoJWo/Gwv4KzK+2DI3PfYN366lnG3I8vDJWNL6I5a0SMbhtNoLPTYAbFDgUMQFbxPy97vs79cPUYG/kb+4L74sTcSrYXT1f18Ns7I9YgLW/AY1fBi6czEeTYRMw1scJuLxB628Jy+IXYvcZ8R/dxi+bZuNOq3C8LawmatxrNNq/nFz8+5zfg6W7MqWCjuxETP5jCE593RN1pVlkGWI9bd++vVQqG8pLCYhdHI2INRkIjD8B/VUuFRFezZE16TaWdLOX5hVSHI5AyLQM2Hewx9X4DDT9Ihaftyu+Xkn2799f5t//6WE8hsjeipBxcYALkJFmj6DF8+ArbSdy1vvBN94VAW7Sdkrg2isYvo2kgonE+NZuli6VqNT9noH5kw4j7/V6yP8pF68ED8TQNlWkhYXyfjqA+RG5qNa2Cm78YHi9ktw46cb2a2HGts+mbbu5fbZmltj/WnL7zPhalrH4KlIiETInAw5Ot5F0qTXmfR0Ej6rSQm03UrEuJhqxX0fCeb6B/bcJGF9LUyJjfSjCdinh/KIQw0xHBGsdNyVNr4Cwq/Pg46wuA/Zo/WEgvHTCp9o+C/XA3t0OGYdvw3d+NIKE1+ZifC3PWPs1Nb4ixfczEPifq3B1USL1MNB76QoECsfa5mB8y5bJ8TVy7lQSJvjJajHBT7bgseupTrJcTSchLvaYX5WMu8LLCz+Ox8m6E9DNRTjRquWJxpfbYnOxBL8Wve8PXCshwZ++qC0iaizHqsHSEcLDTET3fR/5U37CiFr639MwPQl+Y47PRu3/uDDBXwrKI8EPpQIK5VVs+SAAisn6EwypC96B75wE+H2t7+QyFZEjjqL1TOHkVFx0YyuG1jmKAfeFAyMzz1F4AFt6SophhE8o7JfuVp90nItG1/eUmJcUBFdx6SxHBFVNwNFPxNLjE+PLBH9ZyUP8hzG4PGwEhv6zIvBHBma/chY+F7ujVWVpFZXL2Dg+C29MehMuNYTirZOY6pqNLsXWKxkT/KXA2PbZhG03t89W7on3v5bdPjO+FmYovjfiMLJPAnpvEtphbWG170PQdJcPTiz2RbEIP1RCcU+Jo3NeQJwXE/xWIyUSQzc54/M5vhBzgMrDocJ21hlb4gKFcg62DvJAQv8MLOliJF45cQiZlIWAxdLFnex18HM+gSBun62Dwe2zifEVKFNmoOs0O8xbF6yO8Y0MZAhH1q5CuzcH41uWTI2v8XOnknCIHiKi8nAzBxdyryK32Ng6mdi1bCGWikPh1PDEwFGjMUKY/t0KeLnjCNXrEQM9IeZLjFK9f4YwCa/FCwWLhPcUphXfGxueJxcX/puMZv/Quvxf0QXNPK7ijOqN9Li4HZM/eB/jwxZi8ic9MDr8AK5Jix5H3Rp2MDP3Q9bKzh729i+gSkWprEs4YAnd5IOR/lK5GA8ELZWSR6LareHjn4BUAzeAUDkoKYZpCYitHYCumk1KIz8Euo7E1mR1UfkwB82dHNUFshE3cXnni3BpJDXs51/EG93P4vRZdbFQA/QNl5L7oprOaKV3PSoXxrbPJW27Vbh9tmpPvP/l9tmqGYivIikOR9v5obWU5LPrEICgQ9GIu6QuF1HRTngPe7xg/k1VVJpaBGGFlNwX2b3ZFX7xqchQqMtKpSOcHY0nf+Hgi3krpeS+yMkHftw+Ww8j22eT4gsljm7aAo9PAgtjXNv85D6VPZPiW8K5U0mY4CciKnNKHNoUg3od0xCxIg350lw1F3QbPhojRnZGQ2mOhmrMfZMosD8mBm8MBiJXJSNf60LB0A7G7u+qh7f+PQzfzl2I4zfVc+4cX4jIhP54t7W+LvjZWDtmARxGf4Pw0NGY9tUOBNqNx7hFG6QLCutxTFrTFNeyU4WDUoeSL16QDGRh3aRotF4QDJ860qwSXcXVs85w5AGslTAhhkolUmvbo7DDmD08vHxwIitHeK3E/Tz1XLIlL6LZqF/ww0EpeH/kIOPya2jykrpo2F3cOF8LtWtKRZIZbp9thyn7X26fbZHy3lWgqp3WPtcVHh22Iktfgp9sg/I+brtrYnof96VEv3nEf+cIe31DNZEVMTW+qUia2xo+LUu6EEDWxcT4Gj13KhkT/EREZUqJM6s+xvibUxG+8RsMPd0Xn67K1Eny68rGxV+A7/6bIZXV0tdPweipMSg6MIUC6Us+RsTDqZj01VQE35iCfmEHTH4Ib42Oi5C4wBu58eoe/99me2JOXDja15JWKEYp/V9D2B3V1VxQ6I9W0lyROGa/+J6GpogN21Hv9DbhNR/MK3dZa0KwxCkMQZ6Fhy9G3ctC3KQQJAwKRe8XpXlUrkyKoYMzeidlIEsqipQPhX+bc1V4pUBONhA3MwQhc0MQ4PMOhsYU3caRNaqIVkFD0GDFFLw/+jA2LjqCB6PfRCtjV2b/uIXDM3fiWJ8OeKe+NI/kg9tnm2La/pfbZ1vk8JIrUs9eFaJXSCkcpl+9/lhZYbICyqQEbPXyQXNVLjcHOd+nInrySIQKU1efrpiRaEJszwnvkSe8h5nPz6CyZmJ8L2XhhLsjkBqJkR8MRUDvoQhZk1rsjJysjYnxNXruVDIm+ImIysofaYj+oAcm5w5B/LKeaFjRCX5f/4ShymX4dImR+67OJ2JzjjfeWrsN+7Uy9W79p2LhlCGF4+Erhfcf1BdLHo3Bhq/Eceyd0H7uDixslYYpE/eYPHRO5QbueHfgaIwYOhj/7ugCXEzGoX0b8N0x3Z2QEwYumIiceX1VQ/TMHCP87esTMbW//rsEGnZR30VQOPVHvZ/nQ/mWuhy+JR+JX08VXveD2/PSPyL5yV6H0BhnhI3zKT4mrB5ZuyIQMW0GwtJcEdDBWatHA5UbU2Po5IMAt0hEb1b32M/aFoKQ+afUy+CAAatv49ShFZj32TzEJqyA12YfzEiRFpOVuo9jkQdwY1goloyqhQdZl5CRfBOGOvte3ncAayK+x39+rQfftjVRSZpP8sDts40xef/L7bNNauGHsNQwRKcogYcKJC0IREi8tIxsUBa2LktA4CBNe/XC53m3cWLnEoRNW4LdO4Nxe0AQthrt2KtE0upo2H/aGx7SHLJWZsQ3bTficnwQtnIFYrfOQ+skXwSqjrXJepkYX6PnTiVjgp+IqKw8746BX+3FhvHeWsPQ2KPlsEVYPtJTeO2Cd3eP0ekJqcShlbNR45PVWD5XgfGfbTecqLdzR+DqvVg+SnuMfjs07DgaC2d1Vj24tm635UgapveJeTij3cP+y/fR7o0p2PVLGk4L+5d6b3TGW2/oOR18uSemrd6oGqJn0oKNWB6mPbSQvu9DTzcF4uYHY52dEqkxEYiYG4HYJODo5nmI2Jyht/eJc7dgBM9ZgaPCgdD9aa5MMJQ7c2LogN4rjyLg4RZhvUgk2AUh+CNHNHeSRpe1s4ddwRikzvDp3xq7k9hL1Kr9fATT7vwLQb41Uc3ZFe/9ZwT6/b4M/zmofwy5Bh298d7kvvhmtTfyI2ZjRZq0gGSB22dbYub+l9tn22Pngc/jY+GaHomIBbHI8gpFWAcPOL9k/HIOWaes9aGIdghFoPbdNlW1hu6o6gO/D9chIdVw321lcgRC0wIQ0kszqj9ZNVPiK6zj6OKHwP6u0oUfe/QeEIh1h07oPY8iK2JS+y3h3KkETPATEZWhys8D1zb3RdM+4wuT6QXTFEzuugDHNL30H+Zif1hfzLwTjkm96qFur+VY1Xw9evaJwkkjY6PeOR6j573V08xPO8ErSn+GpbF2D/sPu6AhHPHG2954621PNK5njxoGnn57PLwyugyfoufv6Xwf0fHZqP2RkYsUJHP28F18FX/HLUHwZ8GqKcALaO0fgmB/V+O9Pys6o2uv1thyKFWaQeXDzBhWdIBXf+HgVFgvsEsV5Bx3hJergWSDUoEXqhqtBVTObl68hGqvVEc1qQzURCvfZjieaeBB7BoVa+ItX2f88NNlaQbJCrfPNuAJ9r8ibp9tg70zfIeI8Q3CAE8FMlJ94MGhs2yOMnkGhq5vjnkzfeEgzStOiftKD9jZGUjrZq9D4KSrCF4cBA82XRtkIL72jnC2O4oMnWdriPWECX5bYqT9mnPupIMJfiKi8vCv/oXJ9IKp6Jj1qFgZL3dapBpuR90r3g5uwzbi6KZhaFaYXSmmRsshet5bPRl/yO7je7njCD1/T+f7FFMPfqsvYmxzqUikiMNIxwroGpMFZdo6RMZrj0CYg6PfZ8HndfZCsmpaMRQp7xUeuCoPL8ESuwD4uAivhfhGH9a6L/VeEtatt0NvL8bXmtVybYRKm84iUyoDeUhLvouWLjWBOxmY7TYWn6y/hQe/nsDGH25J64iE9Q7eVK9HtonbZ3nTiS+3z7ZJeU96IchaMw+7ff3QWnz4tc6+mayXmNz3GSMm5oPhofVg3KzvI7H1V6kgyt6K6BQf+LrZF49v9joEdIhF8/nz4Fs6p35kYabH1wO9P1Vi3nrNBXUlkvYlwOet5lKPfrJG5rRfQ+dOpmCCn4jIatmjcUsnreF2iGxFFuLmikMALMHus6lI+Fp8HYkE3XEGddn7IHjbD5jXzRl27r5ofi4Cfh2HImRuKEYOCEbCW9EI7cDDV6umFUOxHiRMC8A7H4QgdIQfAtY5ImL+AIhL7F73gXNqGAK6i/ENwdAPYmE3cQkCTTyApXLi8iaWzAQ29lmF2eFxmD1sB467++HDtlWAGq/hvVXDMbZTTVR63RWuWQcQ0mcj5kdK6/2rn3o9KmfGts9GlnH7bCMssP/l9tmKGYnvvVREf/oO/EaEIuSDdzAjOwDRY7zUd2cU2TcrkKQ7TJPweuuv7P9b3pQpM+DjFQq4OiJjszpG4hSZmAPnlj7AtqHoOkD9kE6/aSfQdX4YfMQLONrxvbQVAV4BSHVzhfL7yIL3MDQUJpUlw+3X5PgKnIfEIhLz8M6AEKGtd0X0s2EI8zd8rweVP9Pja/jcyRQVbuTl/y29JrIqqck/wsPzbalEZJ0ep55eix+Pj9fkoGEt3UTHfSguOmDg1+FoX0+aZcCdMwdw8XlPuGE7BrfNRvC5CYUP2zVCHB7I++JEnArWPw5/gdw9mPxRNvx3DCt838sb9P6t9KhOmHHUGQ7FrkTo+T7n92DprsK+n8W5oOso7XH8yRLEetq+fXup9PTZv3//U/395U6Mb+1m6VKJ5ObGSTe2Xxnj9lneGF95Y3zljfGVN8ZXfpjgJ6vFBD/Zgqernipx5w5QowYHcrQ1TPDzAFbOxPgywS9fTPDLG7fP8sb4yhvjK2+Mr7wxvvLDIXqIiMhEdkzuExERERERERFZEfbgJ6sl9jglIiIiIiIiIiIiIv2Y4CerxSF6yBawnpIt4BA9vAVVzsT4coge+eIQPfLG7bO8Mb7yxvjKG+Mrb4yv/HCIHiIiIiIiIiIiIiIiG8QEPxERERERERERERGRDWKCn4iIiIiIiIiIiIjIBjHBT0RERERERERERERkg5jgp6dG/uU0HD+vkEolycb+RRuQ/odUNNOF+IXYckIplbQpce3kAXy3diGWLhKnKGzZl4wLd6TFJkqP6oTJ8aZ+F5IlpQJ3xCp2Jxlrl+zBBfVcIiIiIiIiIiJ6ijDBT/LxRya2hL6Pfp+Mx9LQYeg1aDy+O1+YZL9zdBbe35YtlfQkyXP3YHKfKKSrCjk4GRqPC/dUBSMUOL52IfZflIqSayfHY59u1v6PZMz364u1Fxzw1r9HY8QocRqM9i5K7P6kLUbvypVWFD7r8RjpAoDupL7ooLxzALnKfGltyfk9etaXpjE9UPuj7bgmrUpWRIzb+jToRLNE13Z9DK/INOBeNvYvTMNdaT6RtVBeSkD0uAA0dWyOCKGqajO2TD8F4kY4ovmCVKlM1iMVEV4VMHKXgYvO91IROeAdBIwLxdDu72BoTIa0QIjq4Qhh3lCETB6Jrj4BiEzTd2GcysODK2exfdpa9HaLwJpfpZkav2dg/ocbMT98Iz55bz+O3ZLma8vKwJrIA1rTfkztPRbvzzyLPGkVKj+Gt8FKZKwPgV+fkQidPFRol0MRnSkt0sH2a72M72OFGMeMxDsfhCBCWOed7jOQcENapE3cdn/gh5GTQxAgxNdQPaCyZyy+ipRIDBXbrxjbAZFINXAum7PeD80HhSJibkTBFHdOWkjlSL0NDhggxbB7COIK0hfcPsuBJfa/IsX3M0xel6yBifE9F1dkuxwxdwaG+lRA60kJwtlwyZjgJ5lQYH9oXxz651Rs+CocI8KisC3MA7t6jcd+A73jiyXJHypw8YS5veLzcXHffJzUd2Cs49q+ZVjRaiLGdnNBDTtpJuxQ42Vv4fMOhyJ0vXRxAajRcoh0AaA/6v08H8q3NBcE+sHteWklXa90ltbRMw3wklYiq3MzDZMTs2HoJg7xbpDCizWj0K/RMHxXeC2IyGrZ1W4Ov0mhCNaz+TG2TB/FrlCM3CYVyKqkLgjBvMJr58UkLfDD0W4rEDsnDCt2LoHH+pHqA9qcOISttEPQuhWYN20Jdq/sigSPUCTwHNQqVKr1It4Z1QGDWkgzCtzC9vGHUWeUH8aO74uIkQ+wYPwJ3JSWFnB2xXtB3oVTr7rCEdOb+HDwa6gmrULlx+A2+EYCtqa2xrx1SxA2bQV2z3dF5IhoFF6Wk7D9WjVj+9iczYEYmeqLFSvnIXhOLHYv9oVzwXmJhhIJ04KQ0W0elkybh1ghvnHt/p+9e4Fr4sr7x//x97g1PrUalQpUq6Sr1nSLEtYbPNpqlG2J1RWo9YJttWBFwXoJrRaz3hatWPBSwUuFYlXAywLWC/gooi0sYLUEsSusugZdKWBRg9glWJ5//zPkACEkIShCEr/v12t2c2aGCP3OOXPmO2fOrEU220ral/H6mwLFJyrM2MbVXz62s1XcfikGk0IlRVkQDPOF/GN5/SLrzzaS9nMhBhFKKUL5NpiP4ScCKLg2WMVvo/bZJjz2+ZejubAWPlu5Y+Mrtu9BOdzt2EZimcyNb39Zo3ZZPl2MKgRy7YAUQraLKZTgJzaiEPnRLhjv7sTKnL5j8achycj/FysbcClhJRYtCNAuq2PrE+xPQq8hnhj+vwlIvKJ3dq0pQ9pXsbgyYyQGslVPQq9uAnRin4nluJSVDCScQb6RDH8/T50bNbM80a+sBBn7NyP6lImMGiGWQCCEUNgdnTuysi5T2/Q9SEfoknvwm+POVhCLcS0GioNSBE1h5SZKobokhKtYxMpiuI5Oh/KqGnCQIfyrQEi6sE1OUvhM4bbRCCTL0Kkznuv23+ikX0dVV5GKwZC+qt3wzIghkF3Px/c/1RaNqEH+/rPAu2Mw6gW2irQvY22wnQzLN3hDVLfexR0+Z5RQ6WcIqf5aNqPnWBWO71JjxnwZ6lplgZMEoro41tFkIeWUO7zHsr2cZPDzUiA9R1sk7cxIfNXZKcga61Of6BN4+CIwIwYpt7RlXZqaUrg6ObISsRhDAxG9Qad+jpoAn1QlCvg2mNpn2/C4519okHUwEZIFfg0xthNDTAl+y2Z2fHVpkB0bDsyRQ9aHrWoGJfiJjXCBx6oiRO3OqZ/qpDo/AUfvLIHHK2yFAc7TV2Pz1h3aZeVsOLP1WkVI28WPmjY1v3lVbYJe0+xUPpyXpmF3ghsy/vgGps1jNxW4/5/2p76I7rMFZ5aOfGIJ+NtFSu5k74BurEwsxM1YRHzjhZ1b1Yj4/KzRUfx1Kr47jLRVqxG2cBH8PXRuZhFis7iOzQYFStaEYoaYrSIWQoX4kBi4b5JD+jxb1YQD3DwdEcddnGqpcDlbBonY0BiUKlSpHSHUTzQRi/LwZhnuD7VHQ8h7QDQ0H8UlrGjI3ctIPu6Eya/3YCuI1SgvgcrFEd2bjPDWR/XXKtzKRsrPUrgOYmVjbqmgHOCKV+qbaiEcB0iQqyplZWKJNA+4hriLAA3VVQyJRxJUTRL8GlTRXGnWQVOFey66MdVB7bNtMxpfJbI/d4d0mDnjuYnFMqf+lqcgJskdfh51t/yaRwl+YiMEcJZ/gy2v5GDFh+/XJs5XnHGAfM8iODd70jPGCePn8COn30Q/tqaJO3nIOArs+67pkJa6pwM2puvclrN3Ql/ue2euYjcVtu+A/A2gW8/uhpP7mgJcTC7D95ebjtbW/f7G07g0XSL2H4b9P5O5z4/+4mDSum6fXIlps87h7d3L4DNrJzY4bILnvFhcMRqfPMTtUGG+hwsrE2L7NJmhkOf5QTFdhM5sHbEMqr3BiHQKReBI0ydZ0ewYBF9yheMkBWI+W4sUj1D4GpoG4Fo6kiqlcKUpAixa5d27wLO/wzOsDK5mdrXnrkHuVLFyU3e+zUXh62KIKb9vVTTlSsQsiYJgzQy4NdeXpvprHW6pkCQR4l7yWgS95w+fGUGIOFU7+Udj5aVItxM2Sio6OoigKjV1J4+0N4cXxVBeLWk0JY9GA5T8rD9EVI1S7tIyZV0wgj/n37HQ+P04xHJosrm21Y1rW/VyudQ+2zaT8eXa8VwXR0AZhaAP/OHr7Y/gvUrQDEzWw9z6W3oqDrkeMri24OkMSvATGyLEwImLEPbl17WJ8zB+vvqebBOnm/un2DmxYdSzoNsYVCTrTNETmgzNH1p2J/RSwnbcWBWGmamfYd91tpKpezpgiVSIKwns31iwHflSNf62qq4cgOiLur/HemToTGR7++h2HJ85G4JVscjQa7V1v7/RNC61S+O5+8MSq3Hmy9XcZxNz+JM2UZG9Hov+PBUR18fii5M78FZffq0AzkHfIHVBdxxb8AamfbwfjWdy0uB82EIcfW0xBuZrb9rQFD3E5j3IRsQKJfw2+IEG71uYongoYkUI/aS5+SA1UMUqkDgsFwXbJgA/q6A8k6udS7YRDbL3xED4kTckbA2xFVUoyFFhyP/0obn3rYYa2bERCF2hQLxGCu9hzY0co/prVVKTkC30Q+SeaCR+6QdscsfaC2wbsW5DfRCqDEXMBe4iooarx5v8EJzKtjXigBl77uFyRjTCPw5HXHo03A5J6TiwOCokbU+H33u6fS1qn22bmfHNO46UUilCv4pGXFI43LNl8DtET1hZvpbUXzVyM7LgPtbVrLn361CCn9iWihzs0xu9XrdErJ6LuUcbkqLOAf+L/XvYSPra0fQHsP+bAL1peoyrPr8eK1I9sSZwEeSb3RDnvx7njYy+Hji97t/5Gru/+Qa7tzf8uzvjdX+PZRhdd1Pi5n78Jbw7Vit2cEse5n50GLfZJmK9urktw+ZvDiAsYAx68XOwcceR3Yfa2HZ7ZTKWfMUdD59Pw8D6u7kaXNk9Fwv/MR0bgt7E6JnamzY0RQ+xdQWxcijuCaE6GoGIzyMQmaqC8lQMIriLHerCtic1UjbKES/QQMl1UvnYxGUDWYfCEXGogGuxdNxKQvCXYigWSyDs4wa/jccR5xKFoF2NRwpqciKgyPNFsJf5j6CS9vFcjx4oLPsPHrIyn8C/X9Ybdj1/x8r67qIwpSdEvekZHOshhNtsOUK3HcfpL92Q7umLJBONLtVfKyIQQOLph8CxDtpyFwm8p7vjeLbe6G07B0iLSnCPFXklpSqIHGjOdosmkGB5ahzEl6IQsSkOKjcFQj0kEL1oID0kEEJQPwe4CFJDxwFpV6oEBWIcFPBr9KQktc+2zYz4dhHCcZAP/KaLWeJXCO8ZfojPyG3cBycWqCX1l7vuTRZBbKj9NoES/MS2dBuJmY1GsjcsBhOiOsnVxgToJnUwPN8dpyJ9JaYFFcFvu3YKoE7DlmHHx/ewTvo+9l1hOxlw+7tYrPs4AEsVK9mNh5VY+t77WLojp/H862UnsG5eLF6O3Iy3egP9Zh3A1y9vx2RTU7gY/VuI1aopwrFPp2LFP72Q8FUAPX1BniriBVn4TRmH0I/lkHNLkKcIEg8/yOdJwVITpF0IIfuiBL+lRNbGhV983QD3KcGQTxE3Pm/WTgchrn9ZHH9udZP5IF2pQv2EAUXx8AspgfyLQEiMnXSJxXimrz2GF97Fz6zMJ/BVF3qit6P+2+KY23dw/XYfbjsrE+silGKCdzzSzxt5CxzVX+viJIZ7bAGaTeP24c63qQVQ1WeL1Ci5CriKWpZoIO1AKIJsNn9uDsSMkWoUKKWQmPNyRo0a3btQJbYUmpy18E9wRfg6mfE+L7XPts1YfIWOEAmyUKD3bg3+OKEEvxVprv6WqnC51BUiM1+uW4cS/MS2FO/HrP5/xgq90fv88ref3BDU8LaoZrjA75swjLdnRT2C/l7YXD+9ilY/zzAkf7sTUwayFXqqv1sJz32d4fvZDoSF8tPl8DceViNsz9eY320T3ELr5vHX4FJ6IV7+6wEsGVZ3NhZgmPx/cXie2MwX8drDZ89NLHFlRWKdOjrBY9kB7P9sMvoZyZ0QYlPUKQhy7IAJsQbmBCbWQTeGgyQITE5CejnbxlFmHIdMItKOOuIuPn094uC6MRwyeijJOogGwBOZSP9RW3x47iLSxK4Y/gJXqCjAeuclWJBwV7uRV12Dh692RVdKLliF0jNRiL+gc7FZo0R6kgySAVyN1W+fqf5aH6EU3p9GIia5LsYqZB8twQQ3UeP4Ctwh+zQO8alsv6IUxCh9IHOhimzpNA/YB45qbziOy3zgzs/frBNfTV48YjJ1ho0+yEZ8ggDe/HFA2h2f3Jcu5hPzckh0XoxL7bNtMz++Enh/pEF4glK7HzTIPpkO6eiWTeVC2laL6i9Po4HGrJdoN9ahvLL6N/aZEIuizPkOkpGvsZKZ+AT/60WQX1tm3lQ7/Kj3XYNw+cvJ6MVWtYbzYZ0QPfAmdno13CHgE/ySaDFS90xr8tLeGwlT4f2vxchSjDQrgW/o+5/U30JMa9Fxyk8htTsH91nRpIGTMd/TeI/s9qGpGHPzU1yeVtiyY548lfjjdPz48azUFlRI+TwJBbiH3Pi1ULuFQyoSQPJuIKQOprZpoMrJgqa/FGK9FwqVJvhAVqpA7uKWzyKalpbWxn//0yX7rx0Q53IPkRP5S4vGMdQUxkOxIgZqJxmE6nSoXwzE8k9lEJUmwXeYD5Ru/BMAjg0j/7n9AvWfBGgGH1+7wZdYiTy+u8iMyudq8X9QkJSGyqGTMLxvR7w8ZRSG8x2MfxdgY0gmKgf0ROXdrnhHPh7DX+R/rgbFP6jwUDQAoroX6v6QBsknHZFwegwGsVUtVZ7vTPW3VZlog7sUIGlTBKIuCeA2TIDSDDVE85ZjuSef+NOp25rWrb8U39Zk6hzLbX5QgPg1wYhTiyFSqwBPBcJnS7iY6Z1/HygR9WEwsvpI0LlIA7eQcPg9QoKf4tvaTNVfLmYfBSNd4AaRJhtqUSDki70hrk0S68RXWIr07aGIOaWB42gh1Oc1EM+RQ+7R8gQ/xbd1aS6shXSYApgdCh9xQ30TDPVF4LB71D5bvVY4/9ZeH6mR/XkgFEpHSARKrq5z+/1FqvPErHkovm2IO/eaH19Ozlp0mCdArlLeovdnUIKfWKxHSvCXncCKD2NR1rc7DM/26gSfVTrz3F8/gW1HC1nBgGaSrMYYTMBzbn+3AxH7soFeTuj3fHduzT2U/qMI1a6zIfdnc7KbweD3N/e3cJfWExa+2eTmAnk8j3SctgaNGhX/J0S3B/wxX4QpLXh/BHn6tH2C37JQB9a28fGlBL/togS/baP22bZRfG0bxde2UXxtG8XX9lCCn1isdkucEtICdJwSa0AJfurA2jI+vpTgt12U4Ldt1D7bNoqvbaP42jaKr22j+NoemoOfEEIIIYQQQgghhBBCCLFClOAnhBBCCCGEEEIIIYQQQqxQh1OnTtEUPYQQQgghhBBCCCGEEEKIlemgLNtICX5ikfg5V2lOXWLp6Dgl1uBpP06pnto2iq9to/jaNoqvbaP42jaKr22j+No2iq/toSl6CCGEEEIIIYQQQgghhBArRAl+QgghhBBCCCGEEEIIIcQKUYKfEEIIIYQQQgghhBBCCLFClOAnhBBCCCGEEEIIIYQQQqxQqyT4K384h72n77JS88zd/2FFFR7yH6orUXjuLipr1xpSg8qKGvaZ+7mfipGvqmIlQh5BRREO7yxAMSs+MtU5BMsLTBy7de4iMyoXhb+wYhsrPnkWqXlcHcrLxNw12t/3zqHdCDnS/G9O2kl1FSqruf9vrWOVEEIIIYQQQgghhFid/wr4+I1V7LMJVVCl/B07o87h9LE85KiA3n+wR/dntFsfnEuD4mpfvDeya22ZTxZ+c6II+ee1S+aeRIRc7Ve/XX9/wypxcsEGZPYdC9f/9w+sf+c6Bsx/CXbclsLo7dhT/ircfv877a4/5WG5tAB92XZ1WhLmfP9CM99PLN1/yuzx3/a3WclcVShM/hbRG7/D6Tw1/v3jZaTu+TtSvn2A5//YF/ad2W51bhchNYE7prPLUOnogL7d2D2vu9cR/dFtvMqOKa1KpM5Zhy8udMCdyw3Ht+5S+bwT+nZnu6MG328/jv972wNuDv+vSb2oXZRVsBv6PLqiDCcn/oD/8h+Ml57V/nTlubNYv+Qccm9fx9H130HV5xW49mXHvAmVeZlY/5cL+EfeD4hJuI8BY/vCjtVVrUpkrtiD7Of/iFd7adcUffMFUv5rFMZ1uYEVf+8MX5k9evZ/FoV+/0BXf93/BkTfox2nOlQF2Jv2EOI/dMV/sVXmuHM0Dm+ffh7vDSg3cKwS0thjH6eP4OFPV3F0UypCgk7h4WvuGMLaG75tVCUfw+db/oHCXK6dii5C92Evc+0v22xQFTKXhmLp9YF4e2jLz+3t8fc/PYqxV7YKqc+/hlF1/bI6fPsW/w+d8941HF4fidh/vYTxo3uiE7dL5bdpWL42D1cL8rF34z/w0PVVDOqp/XFzUXxbm+k6arxuN3YneTf8on5Claq4/hho3E8yD8W39ZmM4b8LsDE4HdkF/0D8zlLYjXkJvfX7z5xH7afqo/i2PlPxNbf+4m4xUr9Kwxcf7UJ+XwPtu5kovq2tddpn/FKMAx/FIT73Z2RGp+Hb6r4Y49yFbTQfxbf1mYph89f5DMXXYrXa+fdT7vx79QriN/6Ayj+8gld7tXzsNsW3beVvXILQw51w50rddVEZOrzcB/YCtgPzOP0rs46Cwp27sf6qEwI3T8XKyJkIHHobq8ZtR4j8AFZzS0TCLbanVu8/jcG7gQ3LtHH8ldotZEadxV5u2X/6jnbHWnzSdCUWrNBu0y6mR6M+vH8V5ZqGEftaKqQY/H7y9KjB9+sisOcXZyzZNQsrV/DHnwzLImdhXdDvsOf1FOTrHjb/zkXIlHPAuFGYOr0HCuduQzQ/ir0ZQ7wbH9+6yygR24l39zJSf3TFOJeOtcU7Px5BwYt/bNjfqysuRhbXjpZvqhgpSR0xdddULAmchHXRI1DsfQrf8yO2TblbgKg1d+EZ5o3AFTOxdfpdBK9r+gRBZcktVDb3p3YagHHvXkTKt83/NyGPgbuA2vjtHSPHgfaGaUPbmIQFzgdwms7DxAo807MPxi30wHtD2Yo6eTnYc2kAAnewdiqoI6KWnjN53q88mYr1KaxALErhziP4+t+soE8kbnSOfNerF6oxCnNmDcBz3OaHeWkIju4I/83csbB0KrZGj8GQFib3yRPQTB01Wrf1/HxThWdcdPo93NKon0TajfEY3sXhpZl4fqEPlnB1MiLoITYtzUXTK6tH7KeSNmGqjppbf9HVHqNmemLqJFYmlqGV2uf8nbG4+MZUrFshw8q93hiUnITDV9lG0q6MxtDM63wexddyPfb593YBdiVw598d3Pl3qTe2bnkF58el0PnX4lXi5+vPofefRuj0i0dgcJMBbo/XvzIjwV+M8wc7Y/IUp9qLMd5zI1wxTXwH4nenYmXEVMin92FbtBonpOoS7n0wiv0h2oR/Y42TpmL0ZuuNKU7PaPg3dl/mfksRZCa+nzwNypCf0AejpfZociP7xQEYNzQXF39kZf5mwN4UdF0+CZ6ijnimxwD4bxiM01vy6ztIj6vywjUU/k8f7sh8FL0xNWwUBtVV+B4iDJ90Ff9s5sRceaEAF0cNhksPbfmZ1/+IqTnnkPmTttxSg4aKsfdblXaqLPJEFOZcBA5dQ0EFW6Gn0Q3TmVzbePs+zh+iG5nECnTqjOe6/Tc6ae9xNnAZhZUrGs7zz4x4BeNOF0NlpA7gl6vYteI/mDyTMoMWR3UOUd8MwDSzEkA1yN9/Fnh3DEa9oC3nHbmIl/1HYBB7cg097CFi5y/Sjpqro8bqtp6H/1cJcV96mtYiGYuh6ipSMRjSV7UbnhkxBLLr+fi+ST/y0fqppI2YqqNm1l907Mjt1xld9UYWknbWKu1zJYoLOkM8oO6Eaw/xyKsopCmOLYORGJp/nU/xtWiPe/7tJcaSzdz5t67vzOe56PxrFR5Wd0XvJlOK6Hu8/pWZz3H8imq9OwbVv3TFM0ZO+PojlQMj5Uhb2NnICP5H01s6uiHpNesV7j/DVUQbeaKAPC16Y9TCKhyOykdxo0HnNbhzOgcp1WMwzIWtQhn+eboPhryqU8FedcKolCKojM6D35E77sai09/ZjaWluyCRHUBU3Y0mbslUsV05qh8zMaT+xGqOu8iM5b/H0BMs91F+vSfsmvm6h7/cB579nc4NDnu8/Dr336OEFWtx9bmikqvDlchP0P7eKRfYJn0vOmDct8W4zoqklf37HKKPD8G6iP9g15arRkfx16n8ez4yQ2RYxrV7dCOT2IzqX3Gf68waesK4NikcmYrypTJ4DmSriIW4i9R15zDkr2Mw3Jzm6O5lJB93wuTX605kt5AfxXVaXZrr6JJ2Z7KOGlMDzQP2kViNhzfLcH+oPZ5nZe7KEqKh+v1IQ8zrpxJCWtkjtc/PYbC0K1JO111x3sX1C2IMGkDnY0tm3nU+j+JrjR79/MvndrriubqEP7FQfJzYxxZpWf/KjAR/b8gWdkZ0RG590rH4UAr2dOyD8tPa5KBZCfuarhg+V5uQb0li6nzUAazmLiALWbmO6qT+CP4B8I8w/EQBeXoM8p+H8Fm/w/mIJIQEaW/4BMtTkHb/FazaMwqD2H61FexHrjOkd+e0E/6D6voEf91No1xo8/adMXg6u6nEL++IgJfEmFZX5paGR8/5R3B6o/cLLTmR9sCo2fz36D3B8stdZK47gu/f8cC42lGPVciPSkLwnH3YmMJeVs3to7oN9HyhFwqv32+UKH5YDZTf0bljf/cWLn4LJGfeqf97ZMYe43yhBwb9eBfl7fTyX1t253QKFswtgufO8fCcOQ2f2p/F+4vOmbjBVIzD0Xfx7rjmnm8ixLo8vHAV6UMHQNzkEUVu27mTiPhxBOZ49QANIrQsxYeOYP+Lnpj6R5PDBOvd+TYXha+LIa7roP50F4WvdgV+zMT6RQcQMvsANh4qpifGLJCpOmpcFe78G8jcfAQbo44gxHs7VieUsW3EUlXe5fqVjRJInfmZWhr3I/U16acSQtrKo7XPQO/p0/BeQQTGv5uCw1tOIfN1GWT0oKRFM+s6n6H4Wp9HOv/yVFdx+sEADKL4Wrj7KP+2GMlhSYjilgXeuxD992Zi+wj9K7NG8PecNA07vf6DvUH7sJpb9t4ejIhd3ghkSU39hP0zXQeg8mhKbXKVX0KCuD9iZyZSLjbzBxgwLHAqVoaM0EnMAoOXbERCpKw+qfpuyEwkXBpfv89zIzywTkZDSJ5Wzw0QY/JSb6yL1N7wCY+YhKleTujZKAfRFb1ld1HO8uO17t5HcS8HPF//opO6m0auEN1teEKkfom9heEVuYjUX39IewHLn3B19Xx1EsT//qHhxlTyfQwJ6F0/9ZUhtdNdRZzCrh/tIXu9h7bBL7yKglfHIHyXD7yqM7FgBlcvF53C97drAJchCLx0Cof5dwnUVCF/535sPF37VfWKU3LxU8gkeHHfnWru1D00DX+rqTyXhtXv7MYu1QCsOjIV417k13bEoLlz8HVAZ5yWb8eC5blQNTp+apC/MRFpo8ZAdEl7/NAUPcQ23MXp3dcw+R3tnOyN/FKEPWHF8Fox4hGnOiNPzL9zEZXQA4FBBuJmUBUKclQY8j99Gu//42Vk3h5Q+46ndbGTMOTCl1y72NyzTKRtmaijJj0Hz8i1SOLOc7VziCZNxZCj/LuO2GZiEwz2UwkhbeRR2+caFCek4LREjuSwV4A7d1GYeavVpqklT4gZ1/laFN+nRw3yD57Dc3MGN8qXEkvkBP/ra7F/L//eMW9s3TsG9wMSjb5b8VH7V2ZO0dMRvceNwrLImbUv2V0WOBgiE4+A8KOot+7SJlf5ZV2k9mbA5D+y0czP9sDvH/cRkooiHK5LlOotu9btR0jdyGbydNA9HvSnztEvn+SPjR4YPqkrdiVdrR8tWJxyDtf9xYYbR36OfnY81y+Rs7Bz76zG6/hlin3tjzzTqfb/6um/fFq76I3W11P7Myum4us9Y1AdsV57YTxoMKbWTnHQGSKvSdgaz9VLrr5N5edr69Qb/gkzISrIxN6dP6B4qAcCX294kuDhD2lYk9QHgf5jMGdDH+z3T0Oh3o2IJnTf7E4e23MjxmPlwVlY5j9Ae9OJi4kkKL/2BTrPcbH138G1n2tdIao/fmqg2rcfqwpc8elcMYazpy5oih5iC4qTU3C4lwe8DIwCVyUcQVRF5/r3+vA3tQq/PYe9u68aeOEjaTtVyNzxDVIFNfinzjRvF4+cwd4jZUZG4HMXlyk9Ieqt81Tbs51hN2AwJnvZs8REZ4zzHoHUc7doFL8FMVVHm9Wps86Tkj0wzEuEjAs0it+SPdejBwrL/qNTB6twv6w37Hr+jpUbM9hPJYS0iUdun3/Kx6a99vCf2xvPveCEyWvmYN2rmVi/j9pni9bMdX49iq9Vaun5l/fwh7OI+tEV79HgZuvAXfvUJ+qfHYDxM3Nx/pLhkbSP2r8yM8HPK0K0/T6jdxgMqSzMR/TSfVi/JkWbWA07gtVzDiC5ZgS2+uumNStxkV0k7l2XhNXyfQiJuor7bKtB3bjGqkmyVLtQ4usppHs86E+do1/+k7YB7Ok1FZG9zmFBwBFELd2NTddHYF1gb9N3xyrKcHpjEkIWJdXfMIhaw08DlIbTV3Ur53N4/qViFP+k99SKTjK3sd/hude7Qu+eQIOOPTBaJsLpc2bce+/WA6Nqk8Cj4PnHKqguDcDLL3AngB8zIf/LHbyzZTwGPws888fxiFwKRIcV4Gf2o03wUyi82Au9W/jYJ2klNXdxekUsNl4ZjK3bdV6mQ4gNqLvhuDhEDENnbZH/R1CentnoacFBr4/Au7MGGNyftJXOGLV2NZTx3tpzKrfw07wNmTQW704y8JJ73u07uH67D3o7sjKvW1f07lQEld6TZHxsm7vvTNpGc3W0xaqr0PVZ4xeqpP0909cewwvv6vQL70J1oSdXd5tJILakn0oIeWyP1T6XcNcXzvY6g8w6YvD4Ifj+0t1m3wdG2pmR6/xGKL5WqcXn33/nYtXa+3h33SgMMppEIparBprq3nhG8CsrG9HC/lULEvzG9fSahbSFeuOQVecQsuQ2hofMxLIVbDqdpZOwcpcPhl/ah5BDdSPsn4Pnro3YGqa9SHw3xBsrI2ZiXeAAdGV7GPRTLoKdd2EjS7LqLik/OeF9cUvmPidPp84Y5D8TO3dMQmDYLISvGIzeJq9f7uLwvANQ/Y8n1m1umKIqcMVUhK/pj8KAfUj9N9uVI3p1FL6/au6TJL0x9eAkjGKj5R/+mIsDp3V/thJ5397BsEHN3519qDOHe/Ghs8gYr33b/jPc77M1pW5KGK3nXh/P/d1inZe56Pl3KYpH2sOOFUkb4xt0+WxsXdPcsUmIdeEvTOf8he+Ujml846qiAOudl2BBAj2FZ7UMxbC6Bg9f7YqujV6k0BtS/1+xJ7muw1qD/LPXMHyE3jQ+pF0YraOm6MSe78ccPqeTSvilCKlJHTFuKI0ys2iiAfBEJtJ/1BYfnruINLErhvMJJL34Pmo/lVgoOv9ajcdtn9Gfu+5Mycf3OqEuzLmMUc496Pxr4Yxd51N8bYCZ599a/85FyJQfIF4zCaN0cjvEchV/m4nTui+W/Xc+DucNwCg+b92K/av/Cvj4jVXsczPUyA2/ie7zB+Mlc04k6mKkJj/EH99/CfaNElP/H8r+nouL3QfjT38wlYR/iGtHs1A5fCxcny3ByX1VcJ3/UkOisZJfJ8DUWCnGDXfCEP3l95Tgt3b/KbPHf9u34JGROiXXsTPvWbwn437eUNkctceX3jGHKhQm/oB7I90xvI/evbFf1TifVITuni4Y0F27qlP3X1G45S76Te0Dtsrs3+W/egnx/6Wn4fP1+fjx9k18+1UefvqfiQh4q4fxUf68X4rxt+Vx2H3mZ/x4PA05HUZg4dyXYdfMpF1l2f+LH3uMxbiuxY1+v/yDqah2G4sxTjTizpgWHaf8VFIxeTh/vgj5dcut/we356twVXcdv6i71rZj/yUwfB+2qjAPf6v4Pd77wy8GjlVCGnvk9vSR3UVm1Dl8e/5f+CHrIlTlnXDnyi1UO/XF81e5C1PPFGDMq+hRfrP+mC/8tSdeHWAP0Yj+GD6Uazf1TuP8MZ/yy+/x9lCTt/8Navu//+nCn0Ou9hqHUb/nzhWC7k1jeO0fWHqqI6Z+4NSonerq/AoGnk/Biq+KcDXtLC72eAMBsxxND/AwgOLbuh7mmaijfX8xWrd792yIvV3vLrh/8hSiNuXjItf3Obm7GM9/KMNU15b3zym+rc14+9z72c4YNLw7Tq85jJM/3kDq+f/G7I/dMIB/klOnbtv1e8R+qgEU39ZmKr4mtunU3+6dq5Cf8Hec/K4Iuef+iYs3/x+qVMUo79oHL9m1bHwgxbd1tUb73L378xju8RBHV3P1PO8X5B45hdz/HouP/JzQtYXDPym+rc1EHYWJ63zdvhfF14I9/vm3+718hHjuQeGQV/HSr2X4B2sD8ks7Q/xyF/yX9h8yC8W37XTt3gmqg8ex6esrUP2jAAdPPsAYuQxj+nGVshX7Vx2UZRt/Y5+bwR+M+VCxUlP2kOrNJ85P0XNgVy6Ku/XCSz3/G6j+D4oLKmHnNQZTZXVzrhpTgzt5KtzvOwAiTS6C37gLf50X6eJ2ATYGnUP5i52N/KE94bl8PIbTQBKrVZ7vDLvBl1ipBfIyMTepJ9atYY8s6pfNwSdi91VhmP4c+fwUPTFnkVrwO7zg0qN25Ht1xV0U3ukKzzn/g3GDdC9ca/D9uvXIlyng78JWqQqwN8XE/HcDBtdPIdQu+N8vpzMmT3fCc9VXETX9BsYlcPWupVdrT5FHPk4fV3UVKms647lf+LbwDmQHR9HLdYhR7XacWoin/e+3dRRf20bxtW0UX9tG8bVtFF/bRvG1bRRf29OCBD8hbcsmGhzVOQRHdsXKCLHVPRJ359A+RHT6M9ZNoof5TKETI7EGT/txSvXUtlF8bRvF17ZRfG0bxde2UXxtG8XXtlF8bU8LH9IhhLSIaATCrTC5z+s5ZSYl9wkhhBBCCCGEEEIIsWCU4CeEEEIIIYQQQgghhBBCrFCH8spqmqKHWCRlzneQjHyNlQixTPxxSgghhBBCCCGEEEJIe6AEP7FYlOAn1oCOU2IN+ON0/PjxrPT0SUtLe6r/flvHx5fmELVd/ByxVH9tF7XPto3ia9sovraN4mvbKL62h6boIYQQQgghhBBCCCGEEEKsECX4CSGEEEIIIYQQQgghhBArRAl+QgghhBBCCCGEEEIIIcQKUYKfEEIIIYQQQgghhBBCCLFClOAnhBBLUbwfs/qvR0teFXkjdTMSczWs1PqMff/tQ1PxSkQeKzV40r8PIYQQQgghhBBCCGnQobyy+jf2mRCLosz5DpKRr7ESIZappccpnwA/foUVdNiPDoCP/WHMer0I8mvL4MzW1yo7i31bk5FRUQ1Ud8KQifPgN3EQOnGbzod1QvTAm9jpZa/dtyIH+3bn4L62BPU/ErDxmgRL/jwIQrYOAydjvqcTK3A/khuLdTtOoLqXG7pWnEFZx8kICp0N52f1vv/6CWw7Wlj7M7Xfe2ck1rwmqi1DzH3nn5ya/j4oQtqWwzDwJ3NU+E6hxsxrX+Otut3JE8Efp+PHj2eltqG5lY64L2IQsbcAfqm5kLuwDbU0KIgNRlCGADK7EqQUvoLlXy2H1I5trlOuRHxsDOK+jIJo4z1ETqw/ilskLS2tzf9+W5f91w4ILQmHlDUB4FoY9zl+cNMLkTozAsEbCiB0EaAg8x5kG2MQyH2uoz61Fn67SiAepIEyE/DeFg2/QWyjmfj42g1uya1R0pyHP11FSvQ57DlUBq8EOd59lW3gVOZlYmPUbdi9+B/k/+SExRGjMIg7XxhS+W0aVu+7D1H/X1F4DhgXNhWTB7CNZirPd6b626bMa59LE3wgSxXD17k7W8N1BbzkkPVnBTNR+9z6TJ9/6ygR4eYKVYjxc2trtc8U39bE1c8EBUKPaiDqcw/ZhY6QfxEOWUO3nmkmvkVJCP4kBeDiWZAnRKDB72gexbf1Gau/6pwYxGSotYVaJcj6Kg6aT7JwfHZ9Z6wWtc/WSX0hqrbP7ODE1e1b7gj/MhCSLmyjjtq+9Rqub+0hRElqAV75SxyWj235NRLFt+20Vf2lBD+xWJTgJ9agNY7T+qT48DNNE/x3TmCp7DCc927GzIF8UkyNjFV/xjqHnUgNGGQgod7YpS0jMPbgdJz5+6LGNw3q3DmMRVIlfL5bjdHdtKsqTi6FW+pYZG96E1ea+X59zf0+jeVg43PbMZAS/E9ceyT4oVFDrSlB4ge+UK9onGAoPeQL3wxfRH8hA9+l0RQpUWIngUi/E1ujgfqBBlkbuiPFjRL8lqMUSe9JkD69AJGeJmJSmoLgEBV8v2AXKEXx8BHlIrAqHFKuOdNcWIsJawQIj5drt5cXoABiiPVv9DSDjy8l+FtZdRUqNfdxetE+VMp1Evx3C7De/yqk0ZMwvAfw8Nsj8D45AAlrxXiO7VLnYV4aFkR0xOIdY7Q3AO6WQQV7iLifawlK8Lctc9tn5WeOCOySjqwFYrbm0VD7/ASYOP/WUW4aB9mGdPh8afjc2prtM8W3FV2Igv9BEZZvYPUzUwH3dSIkpvjVluuYjq8SEVIFhNuOa2/YXIvBhHc1CM8O5CLcMhTfJ8CM+svT1lEhwg9yfayGcRO1qH22QuUpCHonHd4HuT4y185qTgXjlaNS5HLn4sY1WImo+Vlcvefizm8oT4L/81mYwfrWLUHxbT9Pqv7SFD2EEGLBKr5PxVHvWSy5zxNi9AfzYH/wrJFR8Q0qstfjk68kmO+ejE/CclDN1jdyoxAnh4jxMkvu87oNkmB4eiFusnIjNUU4pngfcz9eiW2KAExbsB4ZxWzbo7AXQtDCzgixEgIhhMLu6NyRleupcHyXGjPmay9OeQInA8l9XkcB9x1CdO/MysRiaDSOEDmaSO7zHGQI/0pn9JGTFD5T0qGsfRBIg6yDiZAs8GvYbtfy5BF5Qjp1xnPd/hud9Opv5YUCXBw1GC4sSf/M63/E1JxzyPxJW25Qg7wjF/Gy/4iG0f09Wp7cJ23N/PZZU1MKVydHViIWxej5l7kWA8VBKYKmsHIT1D5brKGBiGbJfZ5g1AT4pCpRoDswtLn45qUjzs4XE+qexujvAz9xEJJyWJm0r+bqb61SJG04DmkIV0cNXEdR+2x91NkpyBrrA3fWzgo8fBGYEYOUW9pyAwkCt7HkPs/OHdL6vjWxDk+u/lKCnxBC2pUGmkp7vNzP8BB2QScBblfpzWlfU4WK7p1qp+gxpPpOHo6FvY9Zm4CQlPWQr/oGW3rvxmSfpdh3vqxxot/1TcjvxCLiaJF2vaYIx7YmQLNgjMER/zf2L0SUw2Ls/Hw15ofuwP45Aqz4eDMS923Gti2b8bfv2Y7mKC5CPhxhr3NzgTwFbmUj5WcpXFv4mD+xJFWo0k0mmI3/OUcIaxNGSmR/zl2UDGvmJgGxKA9/uQ88+zs8w8oAd/56PR/FJaxY7xbyo0QY7kJ356yK2e2zBlWV7COxMirEh8TAfZMc0ufZqiaofbYamirccxGgIUdkRnw1GijthDo/I4TETYpcVSkrE4uXF4fwB37wHmlolBS1z9ZI84DrSHXRrctiSDySoGqS4NdXgpKrIjjSDVjr8QTrLyX4CSGkHfBT2cxNLuM+VeC27lD5smzs27IZ2yJP4AZX7OQ+HSHfrcTSo0Xa7XdysG3ZZvSbJUM/7ZrGrpxAzKFCdPPaguSDyzD6px34/eKzEM7cgdS4JRhSmoKYhDydJL8L/L45AL9uOdp/d+cZCOZ8jf3+Rp4H5ei/QlcABwyduQjzFy7C28PZSh4/Zz//ncaW8AQcsy/AUe4zvZj3KXJLhSSJEPeS1yLoPX/4zAhCxCkV20isQylKTykRsyIICm6ZIJ2AtWfMyPhfS0dSpRSu/ByS3HGQ6+IIKKMQ9IE/fL39EbxX2aR9IZal5wu9UHj9PnSvPR5yJ5TyO1WsxPx0F4WvdgV+zMT6RQcQMvsANh4qxkO2mVgos9tnNUq5bknKumAEfx4MX+k4+McWsG3Ekqn2BiPSKRSBBhMLDLXPVkOTzZ1X3bjzKrsXY1Z8HUTwzi6Abs3W1HA/W9rkTi2xUNlHw+E4RWpkSiVqn62Rw4tiKK+WcNFroOEa3ZKfTfSvH6iQEhKM9PcU8O7D1hGL9yTrLyX4CSGkXXEn8orpGNybFe3dMHPhIswPelObwBe4YMnJg5iJM9qk+KEiOK//FpsnGpm0fuCbmB8wDaMHGhh1JbCH88TZmD/dpfHo/45CDHxtGvwWBsB3lheG2atx6buzOLbvBP7JdqnTb9oWyEs/w6zFK7Ft1ULM2lwC+fpphm82vMT9LvzforO8/UI2ImvGaMubvkH5379GCPfZx9XEhQixPalJyBb6IXJPNBK/9AM2uWPtBbaNWAE3LK+8h9wjkQhdE4njR+S4NyMQSSYH/2mQvScGwo+8IWFrkHccKaVShH4VjbikcLhny+B3iEYQWjSXIQi8dAqH82pqnybL37kfG0+zbfp+vIzM2wMQuHkq1sVOwpALX2LVERpWaPHMap8dMGPPPVzOiEb4x+GIS4+G2yEpteOWrigeilgRQj+R6s3pbAC1z1ZAhaTt6fB7j8XT3Pg6SeHrHIWY2nhqoEoORvDGy9ptxAookZUkgmyY7lsXdFH7bJWG+iBUGYqYCxquf6VG9iY/BKeybQaojkYgYs1ahOaJ4esh0hn5Tyzbk62/lOAnhJB2xY+gD8N4Uy+Z7cgS83xSnE/ev2Sk217BRuHrLlkCrPlDEf6mvz61qPZpAN39l/p0w9wdZ5F/sQhqoRNGTxzTNHHf0QlvhR7A7k2rMX/VFuz+ivvd+7JtnIFe/4ug4TTnDjFBIIDE0w+BYx205S4SeE93x/FsGl1kVbroPN7fRQqfOfFIVxof36nJiYAizxfBXqxDy/284yAf+E0Xs0SEEN4z/BCfkUujRC1Zp97wT5gJUUEm9u78AcVDPRD4em/0fkFvKp5nO8NuwGBM9rJnL9/tjHHeI5B67haN4rdkLWmfBVwbUD9HtAhSasctnBopG+WIF2igjI1AxOcRiMsGsg6FI+JQQeN2l9pnq6BKUCDGQQG/2tH6LYgvHOD9VRZ8axK5/aKQLgiE/ENHuDoZSzgRi1KqQm6pK0SmRmxT+2x9BBIsT42D+FIUIjbFQeWmQKiHBKIXDV/3iybKId8QjawjclStEdMNHGvxhOsvJfgJIaSt3GyYsoafq/7KyVjsi1yJRQsCsCJiB9Ly9R7B0xTimE4Cnl9iIrT7L1q1HjFb9EbYdxuJmQsD8PbokZgwq/HI+SaLpxPQk9+/YR0/vU63gW4Y/doYjB7shG7ddOcB1HF+PeykAVin97vxy7pP30Dk9xVsR14ONj73Po7xsxERwnMSwz22AHSZYUs0qNJIIBAYSf0UxcMvpATyLwIbXiYldIRIkIUCvblF+bQiJZAsXLceGDV9DN4NHAXPP1ZBdWkAXn6BbavTrSt6dyqCSu/luz25xeAL34lleJz2WaNG9y4Gew3EIggh+6IEv6VEQv6xvHbxdQPcpwRDPkXcuL9H7bPF0+SshX+CK8LXyWrj0qL48jo6wG16YO1+fp6dUXreEW5iIwOIiGW5VYB0BxEcWxIuap+tg1AE2Wy+/gZixkg1CpRSSJqbeqejCBO83JGYoWQriEV7wvWXEvyEENJW+jZMWROWWI0z25dhZtBqbN66A2vkARg/WK+lFwzCWzoJeH7xk2v337xqGfwWvomX2a4NKpCx+R0k/osVn5T+b8Jf73fjl0Zz8BvQa8oBXJYbn9+fPAWEUnh/GomY5LobWipkHy3BBDcRoE5BkGMHTIilOfktmepUFJJ+ZAVeURJiLkghc+baMP0YFsXD1yMOrhvDIXPSrtKSwPsjDcIT6i5INMg+mQ7paFc2YpRYqoe/sA+c4kNnkTF+MFx6cIWKAqx3XoIFCXe5Qm9I/X/FnuTi2v2AGuSfvYbhI/qwEf3EIpnZPmvy4hGTqTNdy4NsxCcI4M3vR6xTo7ab2mdLxif3pYv5m+ZySGpfWm8GvXOz5kHDrRpNZiQiBb6QNvtybWIRNFUoHeAIR1asRe2zTdA8YB84qr3hOC7zgTv/8ly9+Eal6l4nlSLrlArSVym+VuEJ119K8BNCCCGklamQ8jn/iHgkjl9VIv1L/nMU0mv7KwJIQ9IhzfbFhA+DEfROMLI8oyAfKqhNLsmTTyN8It+JUSNb/zFz7nPSjzR+sL2JhkmBZH9MmKF9ya7PmlxM2BgKKX8RohvDW0nwdfOF0lkMzamo2vjVLmy6ANHsOEQhHONmBCP4gwmI+V0oQqewqUFIO7qLzKiz2BuVgYzrxfh+L/85E9/f5jb9Uozk5dsRvDQFGxdtR/S/XbFqrhOe4X+s2wC8u3selrzBZ/uB3tNn4lOcwdyAI9y+u5D8O08ETqL0vmUzr30WvCqFSBkK30n+tS+B8/8gDoJPI+FHCUILYOr8a0Kj8y+1z5ZKc2EtpG4KQOyIgkPsnMotUWeaCXCj+KqQvsYX4z4IhmK+D3zjHRGxcQbMSx+RJ6v5+lv67wLATmeaRB61z9bvgRIxH42Dz3wF1+aOw9oiX8QsdtPGWTe+LjK4XouAz5/4+CoQNEOO9NExUHjQ7Vdr8KTrb4fyyurf2GdCLIoy5ztIRr7GSoRYplY9Tvk59HerMXohe8GuGW6kbkaG3SzMHFZ3Ulfj/L7dOH+HFQ3o6q67f4NLO97AoX57sMaz4YUA58M6IXrgTez00nlJQO4OeK0/g3723dmKBlV3VLB/V/c7ipC25TCusJIhAycuwviXWIE8EfxxOn78eFZ6+qSlpT3Vf7+t4+NrN/gSKxFbU57vTPXXhlH7bNsovraN4mvbKL62jeJreyjBTywWJfiJNbD54/QXNSr+S4hujW4zE2tDCX7qwNoyPr6U4LddlOC3bdQ+2zaKr22j+No2iq9to/jaHpqihxBCiHHPUnKfEEIIIYQQQgghxFJRgp8QQgghhBBCCCGEEEIIsUI0RQ+xWDRFD7EG/HFKCCGEEEIIIYQQQkh7oAQ/sViU4CfWgI5TYg1oDn6aY9KW8fGlOfhtF83Bb9uofbZtFF/bRvG1bRRf20bxtT00RQ8hhBBCCCGEEEIIIYQQYoUowU8IIYQQQgghhBBCCCGEWCFK8BNCCCGEEEIIIYQQQgghVogS/IQQQgghhBBCCCGEEEKIFaIEPyGEWJDq4jycv65mpeYUIW3Lflz6hRWbU5GDfZEncIMVG7lTiPMn9yNmy2Zs45d9h5GRX8Y2mil3B7wUJ1DBioQQQgghhBBCCCHkyaIEPyGEtKVfCpGoeB/TFizFNkUAvN5bimPXNWwjUJH1Gd5PLmIl4NKON7AiVSfhX3YCK97ZgUu1hVLkK1Jx40FtobHrJ7AtIQ/VrFjrQRHSNufhPivWuXEoAJ6rzgKDJsNv4SLM5xcvNwj/uRHTfDbjUt2vx98gqLsBoLck5nI7/Z8aGbc1jf/N2psQhn9m25aFmPbc+zjWwvsIxDpobqUj5hNfvOLoiog8trJOUQqC3/FH8Ap/TJi0FunlbL1RaqTMd4TrJiUrE8uhRIRbBwQdbe7GpIEYPlAiasY4+H6igP+kcfCPLWAbSPuqgSr5CEICkhC1Zh/mvnsEmf9mm0xua6zy3FmsfucANkZx+3vvQvTfq9gW0t5Mtc8m225dRUk67XgwUhq6LsSCqS9Ewf+dICi4GI+bEQWloT4koz61Fj78vnyMpf6IKWQbSDvSoCAhGL4zWAz1656Z/avSBB+4vqdAxOcR9UvKNbaRtKPWiS/1ryxXa10fUftszR7j2qkZlOAnhJA2o0aaYioy/rga+7eGYX7oDiSHSnDUaynSjAx711ScRZlGJ2Veo8bNXDNG+N/Jw4ozRWaMps9D4qf34L8sAMP6Ctg6zrP2cJ4SBrlkKWJOsX+v20jMZDcA3n4hG5E1Y7Q3A7jFx1XnZxtxwni2T9NlOoazvYjtEdi5widEAbkbW1FPhZj5UXAMiUT4mmgkflKF4PnxKGVbDVEfVSAomRWIRVFuCka4GYk9QzHM3uSDrInRiNsQiugjkZAkBNEFiiXIy8GeSwMQuMMbgStmYmtQR0QtPYfi5rY1UoyUpI6YumsqlgROwrroESj2PoXvG98BJu3EePtselsD7uL0gxiIuTacb8ePbxQjanoUKIVk4cpToPhEhRnbIhG6IQ7HZ6u4WKdwvdOmNBfWwmerAIqvuH35GB+Uw92ObSTt50IMIpRShMazGH7CxWh+DNez4pnfvyopyoJgmC/kH8vrF1l/tpG0n1aKL/WvLFdrXB9R+2zdHufaqTmU4CeEkDZTiPxoF4x3d2JlTt+x+NOQZOT/i5UNuJSwEosWBGiX1bFs9H5rGYTRs/JwaF9Ok5sBFZdjEX10Mkb/QcjWPAH2QgiM3Rsg1k0ghFDYHZ07snKda+mIhze8XbSBF4zyge/VRKTfqi029SAdoUvuwW+OO1tBLMa1GCgOShE0hZWNMRjDUqguCeEqFrGyGK6j06G8asYNTPJkuYzCyhVi9GbFZ0a8gnGni6HiTxKmtjXSG1PDRmFQN1bsIcLwSVfxz6usTNqXsfaZZ2pbnbx0xNn5YsIgVu7vAz9xEJJyWJlYJHV2CrLG+tQnggQevgjMiEFKk/OvBlkHEyFZ4AdJF7bKTgwxJZDa39BARG+Qoe7MKRg1AT6pShTwp84W9K80NaVwdXJkJWIxWiW+1L+yaI99fUTts1V7rGun5lGCnxBC2owLPFYVIWp3Tv00NtX5CTh6Zwk8XmErDHCevhqbt+7QLitnw5mt1ypC2i5+uhu9ufVrqoA799D8hAgCDFOcg1ywEm4T3sdSdiNh7gdvYPKkQkxJOQCfl9iura24CPlwhH1dAog8FTSqAtxze4WLfB0RxG5JUBlM8GuQvUGBkjWhmCFmq4iFUCE+JAbum+SQPs9WGWQshg5w83REHHfhqqXC5WwZJOIneEORPJrqX3H/1Y54hhUbMbWtkfsov94Tdj1YkVg3jQZKOyHXg6gjhMRNilyVqWexSHvTPCgBugh04iaGxMPQ+VeJ7M/dIR1G7bHF01Thnos2pub3rzSoqmQfiWV7pPhS/8oamR9fap+t1+NeOzWPEvyEENJmBHCWf4Mtr+RgxYfvY9G8AKw44wD5nkVwbrjaaiEnjJ/DT3fzJvqxNbxL358ATp7AhZtsRb0ziKhN4u/HFbaGvzDv9wLXSZAuRhi7kbDzr7O57+sO+55sl0Y0+OfFw7idpWz6wt6LsVjHf3/EWVTw7wEwOPc+W8ITcMy+AEe5z7Vz+JOngrpcpZdgEKI715st+bnpyCJNZijkeX5QTBehM1tHLINqbzAinUIRONJ042UqhqLZMQi+5ArHSQrEfLYWKR6h8KUpAizOwwtXkT50AMQGbsaa2lbvl7vIXHcE37/jgXEvsHXEujmI4J1dwF2qNtDUcO1CaQkrEUvk8KIYyqsljabk0XDdrybn31sq5LpwJ2ZlFII+8Ievtz+C9yq53h+xNJrsdCS5SeHKdePN71+pUVoEpKwLRvDnwfCV0hztlurR4kv9K2tkdnypfbZarXHt1BxK8BNCSJsSYuDERQj78mts3r4DYQunwVknid7N/VPsnNgwhY+g2xhUJOtM0ROaDE1zU+bcOYF98SMRFgr85auzei+9HQt5bRJ/GgbeOYuN7HvXHdXg5R826f07SkTWlRN0Jm4sPoyYo7Mx89mViPtOrzsxZDZC+O+Xj0G3l97Um3Nfb+7+Td+g/O9fI4T7bHwOf/LUepCNiBVK+G3wAw3etzBF8VDEihD6iZRr0UwwGUMNVLEKJA7LRcG2CcDPKijP5DZKGBJLcBend1/D5HcG4Dm2poGpbVrFJ89ib8Qp7PrRHrLXe5gx0p9YBScpfJ2jEHOIH7HP1eXkYARvvKzdRizXUB+EKkMRc4Hru9Wokb3JD8GpbJu+vONIKZUi9KtoxCWFwz1bBr/aeBPLoULS9nT4vdfMubgJB8zYcw+XM6IR/nE44tKj4XZIirUX2GZiIR41vtS/snnUPlufVrl2ah4l+AkhpK1V5GCf/mh2tkSsnou5RxveuuIc8L/Yv4dNz8Mv2w9g/zcBetP06CpC4qdLUa0Igd/CMPz1p7n46JCRt7j0HIMldd+75xskx3+t9+8cwM668vS6iXa571/9GYShq7F51WrkfzAXx5q+XZEQo4R2IihL7umMNFHjXokEjs83vslTECuH4p4QqqMRiPg8ApGp3AXKqRhEcBc71IVtT2qkbJQjXqCBMlYbm7hsIOtQOCIOFTQaQWQyhreSEPylGIrFEgj7uMFv43HEuUQhaBeNIrQkxckpONzLA15/bDohu6ltdXr/aQzeXTEVX+8Zg+qI9YjOYxuIlXOA91dZ8K1J5Op2FNIFgZB/6AhXp7o5n4lFEkiwPDUO4ktRiNgUB5WbAqEeEohe1Es3dBHCcZAP/KaLWSJCCO8ZfojPyG3UxpP2pUpQIMZBAT82GtTc/lUtgRCC+qZbBOl0dxzPpvOvJXnk+FL/yiqZHV9qn61QK107sX1MoQQ/IYS0tW4jMVNnVLvu4u+h8wLeOufXw+7Dw7jNig0E6CZ1aHiU75dC7Jv3Z+x7eSfCJtpzK5zgs+kAhh/9M7xWnW3yEt16FYU4tmUpls5biHXsRsM6RQBmLViPY1d0Tjk1ZUhbNbfh+1+aja8TxIjxDsA+3f0aycHG597HsTJWJE89gUgM6Y8qNEzkoEJBtgiiPo07sOIFWfhNGYfQj+WQc0uQpwgSDz/I50nhwPYh7UEI2Rcl+C0lsjYu/OLrBrhPCYZ8iljn0eJmYnhLhSSJGA3pQAHcZD5IV6q4bjCxBA9/SMOapD5YHCKG/mxtprYZ1LEHRstEOH2O7gjbjI4OcJseWFu3/Tw7o/S8I9xojmfLJxRBNptvkwMxY6QaBUopJH3YtjpCR4gEWSjQm/uZP/dSAskyaHLWwj/BFeHrZPV9InP7VwZp1OjexYz9SJt4rPhS/8oqmR1fap+tUCtdO7F9TKEEPyGEtLXi/ZjV/89YoTNyv275209uCHrF3AtkF/h9E4bxfC6f96wDhs87iWT5SHRiq/Ast8+ei9j/8RgYniK5CPs+mIsrwz9F2PYttdPl8DcaQkJ3YPf6Mcif/T4S2Tz+1ZfP4MrLYdit8/2dhi1D8pEAvGzmNUGvKQdwWe7CSuSp1F+KGYhCEhvJq8lMRKKzL6R8gkGdgiDHDpgQSw8SWy1zYzhIgsDkJKSXszJHmXEcMomIjUgi7YlP4M/5y328u24MBj3LVjJGt1UUYL3zEixIuIuHP+biwOm7bAOvEnnf3sGwQfSWXaulV7c1DxpSCZrMSEQKuHa87mE/YrE0D9gHjmpvOI7LfOBuxxUaxVcC7480CE+oe0mnBtkn0yEd7UrtswXgk7/SxSWQfyGHpAtbyTOzf6XJi0dMps5Y0AfZiE8QwNuNnsCxBI8bX+pfWSmzr4+ofbY5ev2rx9GhvLL6N/aZEIuizPkOkpGvsRIhlumRjlM+wf96EeTXlpmYakcHP4J/1yBc/nIyerFVj8Tgv1uEfT5TcTP4W4S46WXpf8nBuomb8HL0Afi8xNaZYvD35Efwb8fAa1/jrbobEaTN8cfp+PHjWaktqJDyeRIKcA+58WuhdguHVCSA5N1ASPnhB0UpCP4oCupBItwrd0TgiuWQ1j68ooEqJwsarpMr5hMOOkoTfCArVSB3sYStMV9aWlob//1Pl+y/dkCcyz1ETuQvLcyPoaYwHooVMVA7ySBUp0P9YiCWfyqDyPiMLwbx8bUbfImVyON6mJeGOW+kANNlGD+gIRjPuPwRXs+eM7pt6v90RvEPKjwUDYCoRxXyo1Ox5+SveOH15/Dw0l3g9bEInN7b6Hz9xpTnO1P9bVWm2mdT23TrNrffJ8GIKBfBTaDi9pcieE0g3PTqvDmofW5DD5SI+igY6QI3iDTZUIsCIV/sDXFtElG/7VYj+/NAKJSOkAiU3L7LsfwvUp1Rweah+LYuzYW1kA5TALND4SNu6LcLhvoicCzXwTKnfyUsRfr2UMSc0sBxtBDq8xqI58gh92h5gp/i27paJb5c/W3N/hXFtzW11vURtc/W7lGvnZpDCX5isSjBT6zBIx2nZSew4sNYlPXtbuTN6E7wWbUMo+vmPbh+AtuO6rzkVt/AyZjvaWBqH33GbizwU/Ts2Iy//asTBv5BO7pDc0+F/DuOeHteAN4y94kCgwn+IqRtOYwrrGQI/9Lh8ebcQCCPrO0T/JaFOrC2jY8vJfhtFyX4bRu1z7aN4mvbKL62jeJr2yi+tocS/MRiUYKfWAM6Tok1oAQ/dWBtGR9fSvDbLkrw2zZqn20bxde2UXxtG8XXtlF8bQ/NwU8IIYQQQgghhBBCCCGEWCFK8BNCCCGEEEIIIYQQQgghVoim6CEWi59SghBCCCGEEEIIIYQQQohhlOAnFovmNifWgI5TYg1oDn6aY9KW8fGlOfhtF83Bb9uofbZtFF/bRvG1bRRf20bxtT00RQ8hhBBCCCGEEEIIIYQQYoUowU8IIYQQQgghhBBCCCGEWCFK8BNCCCGEEEIIIYQQQgghVogS/IQQQgghhBBCCCGEEEKIFaIEP7E9FTnYF3kCN1ixTnVxHs5fV7NS66s4H4ttJ4tYibkei1kLTqCCFY0rQtqW/bj0CytaiRupm5GYqwFyd8BLof07bydMxdzkMu0O5MnRqFHB/ac3drwTQgghhBBCCCGEENtHCX5iex4UIW1zHu6zYp2KrM/wfrJeAl7X9RPYlpCHalbUdzt1KaZF57FSU9VFJxB5SfcGggYZe/Zj8Owx6MaV+GT4ti16S31ithT5ilTceFBb0LqTh8QtCzFtSCcsTdW7MfFLHmLmTcXS0KWYO+F97LvC1jejuvgs9ineh3v/EdiWz1YyFbk7sOi9hVjHbff6YIeBmw1lSPv0z4jR+bnb+Utx8kYF8H9qZNzW1P636+U1D/1WxeKSdhfSnGaOO2NuH50LtyjueDRyvBPS3jS30hHziS9ecXRFhNGmU4kItw4IOmr45qs6MwL+f/JH8OfB8JVOwNozT+4mLXlUpmOIoiQEv8PFcIU/JkwKRorB07AaKfMd4bpJycrEkuVvXIIFS89ib1Tdcg75RkYyVH6bhuA5SYgKO4AF3gdw+CrbQNqVyfa5KEWnzq5Fejlbr4faZ8tlKr7Zf+2ACfMjEPF53RKDbAOho/haLlPxVV+Igv87QVBw28fNiIJS99pS1wMlomaMg+8nCvhPGgf/2AK2gbQvDQoSuDo3g8VQp9+kzonRqbf8EgwfsSMmxKq0OxhE/StLY/r6iIt/bBDGfRCMiNr4Gz4H17bPk/jzdBAmSH0RlceP+iOWri3Ov5TgJzZCjfP7WNJ8VypuIBuH6pLoqSaS+rru5GHFmSLjo+0fFDW+gOVHTtf9G9wSfUrv37lzAomXpuEtV0FtkU+GX+w7HfMXLtIubzvge1OJ2W6DMH7Wavh7sXI9DTI+W4grsjCEKcKwc7sn0mTrcZ5tNaVTTxdM/PhTzB/OVtThftd1f1HBZ9MWhIR+jf0zVZi1qumTBxXFSlTUsIIxgjGY+EEyDqXTicYszRx3jW8MLcS0/gE4Rg9IECsgsHOFT4gCcje2wgDlpmCEG22ilYiLFyDwYDTCPw5H3EE/qKShoKbFsjQXw4gPYiBew8WQW45vFCNqehT00wjqowoEJbMCsXCV+Pn6c+j9pxF4N3AMW0ZgMD+SQc/DvDQER3eE/2ZvBC6diq3RYzCkJ9tI2pXx9lmFmPlRcAyJrK2ziZ9UIXh+PErZ1gbUPlsy4/EtRclVB4gm+kH+sZwtfnATss31KL6WzGh8y1Og+ESFGdsiEbohDsdnc9d2ISncVXJT2Zt8kDUxGnEbQhF9JBKShCDEFLKNpP1ciEGEUorQeBbDTwRQzI/hWmZAOFK33soROLY71AMUCJ0u0v6sAdS/sjymro9KD/khSClD9FfhkPPx/0IGkTaV1KA0BaFfce1zPN+3jsTxryYgXaKg9tnitc35lxL8xEYIMWwmS5x/4Il+ZW6YWJdI93Ri+5h2KYs7+yWcMToKrYluIzGz7t/gFn+Pxv9OxfdncPE1CQaycot1FKBbNyG6dWblOpocnDozEm+9xv69vm9i5sSVyDAnwy/gvq9bd3TuyMpMxfep+P41LwxnF96dpNPhlxWLtGJtuaWch7+Jbek5LR6V/jRq7rjr59lwjM2fxR/bJcjYb+CGEiGWhmtvhMKm7U29azFQHJQiaAorNyFB4LZASOo6PnbukE5Jh5IuQC1HczHMS0ecnS8mDGLl/j7wEwchKYeVeQ/SEbrkHvzmuLMVxNI9rO6K3vb6nRN9Ncg7chEv+4/AoGfZqh72EPVgn0n7MtY+X0tHPLzh7aLNKAhG+cD3aiLSb9UWdVD7bNFMnH81GkeIHJtkFPRQfC2akfiqs1OQNdYH7nbassDDF4EZMUhpUn9LobokhKu4LjEshutoLr5X6SmNdjc0ENEbZKiLjGDUBPikKlHQJDSlSNpwHNIQP0j0E8B1qH9lmYy2zyoc36XGjPk68XeSQNSFFeo4yBD+Fdc+1613ksKH2mer0BbnX0rwE5tz+1wyvrePxanvNI1G2ZtMiN6MRcQ3Xti5VY2Iz8+aMWc+585ZbFwQgEVs+cu+xs9YXcnfgeEDzbu5oFWEtF3879rMfOo/qXDp9xK8XD9aTgj737sgv+jRh3VXPygFnhWgEysDg+A89jBu/MSKtapQVVEGzYOy+qcl/vY926SvrxhvncmDmTMHPb1aeNxVfHcYaatWI8zADSVCrIsK8SExcN8kh/R5tqpZJSi5KoIju3Al7c2MGGo0UNoJ0XDtKYTETYpcVd14YA2yNyhQsiYUM8RsFbFwv6LarE7SLeRHiTDcpbkbAcSSaFQFuOf2ChxZGRBB7JYEVZMEoT5qn60D15d/pBwuxdcaaB6UAF0EOudcMSQehuqvA9w8HRGXWjdtiwqXs2WQiJtLPJE2p6nCPRfdmDJ5cQh/4Afvkcay+9S/sjq3spHysxSudYNizMa3644Q6t8IIBambc6/lOAntuXmfvwlvDs27F2NGwvmYt8dl/pR9sYSordPrsS0Wefw9u5l8Jm1ExscNsFzXiyuNPfC255jsGTrDmxmy19nurANvDKU/csF/Xq3pKPkhPFz+N/1TfRjawy6U4aMnkKdZDxgb++EG2Vcp+6XQiSuCsCsGQGIyWUtyJ0i8NPkm9KrzyBc+ldpowRzdTX3V5TrtEJ38nAhHdj3nar+aYm39af6qdPbCYPzVSizspcGt6WWH3d5iNuhwnwP3eOMEOuk2huMSKdQBBq9MNHzQIWUkGCkv6eAdx+2jrQrs2LoIIJ3dkHto+V1NDXcz5Zy5yv+c2Yo5Hl+UEwXgdLA1uI+yr8tRnIYP69+EhZ470L036vYNh0/3UXhq12BHzOxftEBhMw+gI2HivGQbSaWSV3O1dZGCUIhujtyl5c/m7gqpfbZipSi9JQSMSuCoKidu9mMuX0pvlbD4UUxlFdLGk3Jo9EYrr+i2TEIvuQKx0kKxHy2FikeofDtzzYSi6HJTkeSmxSueimF7KPhcJwihbHcPfWvrNAtFZIkQtxLXoug9/zhMyMIEadMvV+BucYdI5XcMUL118K1zfmXEvzERqhx4+R6zJp1FqP3bsZbbtOwM30e7of+GdMUJ3Cb7aWrIns9Fv15KiKuj8UXJ3fgrb78WgGcg75B6oLuOLbgDUz7eD+u6Mx3dTsrls2FvhIr+JH7Hy7EivoX5TZWrTdPVq/BYRhyM4H9PLf8rRTDF7iAu/xtNbd/OAt4b8buPasxMGMuPN/jfsfF23G1udF2Ei+EXPwMcbncL12jxvnIuVhxkm1jbhxNwI1VYZiZugmJ5k7d09x8/U+hRznuuG4azoctxNHXFmNgvvb4oSl6iNUqiociVoTQT6Qw5xao6mgEItasRWieGL4eoqajmEjbMzeGTlL4Okch5hA/Yl8DVXIwgjde1m57kI2IFUr4bfAzeoFKLJET/K+vxf69/Lz63ti6dwzuByTitKGO1o+XkXl7AAI3T8W62EkYcuFLrDpSyTYSW0Dts7Vxw/LKe8g9EolQfu7mI3LcmxGIpKYvWahF8bUyQ30QqgxFzAXt9Vz2Jj8Ep7JtjXDn41gFEoflomDbBOBnFZRnchvdjCeWQIWk7enwe0+/r6VEVpIIsmFG5t6n/pX1Sk1CttAPkXuikfilH7DJHWsvsG0GaZC9JwbCj7whYWuIpWqb8y8l+ImN4A757m9iw8kdmDmQHf49R2L+V/+L/aFvohdX7OT0JoJeaTg9dnNbhs3fHEBYwBj04udAO78edh8err0Z0O2VyVjC/+zn01D3db2mHEB54hY2H/pqrOFH7n+5BWuCDI+476RXCxvNpV6/NDNa35Ce9hh9s/HojLKyIvSzd0Sv1wLgM5j7hzty+yw8gNQ93O+4Jwzja5PIJghcsCT5awy8vAPbovbj5ohPESJteAKhmvtvs+iQBCEBiyDfLEH0u+txSe8GRhP27P9JIy097vgT95Xdc7HwH9OxgTvWRrOnJ2iKHmKd1EjZKEe8QANlLNdx+TwCcdlA1qFwRBwq4I72pkQT5ZBviEYW1xGqWiNupqNLnryWxNAB3l9lwbcmkdsvCumCQMg/dISrkwgFsXIo7gm1HVjuOyJTVVCeikEEdzFrpK9LLMWznfEM+4hnB2D8zFycv6R3R5/bx27AYEz2ssdztSs6Y5z3CKSeu0Wj+C2Y0E4EZck9nXqsxr0SCRyf1+vUMtQ+W6EuOtOmdZHCZ0480pWGO/UUXysjkGB5ahzEl6IQsSkOKjcFQj0kEL3YOD2MW0kI/lIMxWIJhH3c4LfxOOJcohC0S/8V+KQ9qRIUiHFQwE//SclSFXJLXSEyMqKX+ldWSiCAxNMPgWMdtOUuEnhPd8fxbOP1UpMTAUWeL4K9jNzsIZalDc6/lOAnNkKAfsNcahOmFdk7sPTDqVj08UrtSPnQhZg7432s+0EMXzNfuGtU2QmseGcHLrFiI12c8HLdi+RgD/vf5+FGsd5jNzrJ3MYE6CZ1aKjwprwggvPJQtysbwvUKPsXMNipflL+R9PNibtI55PHAfAZpsaVi2Pg3Buozt+B95cWwW/7Mgzj/r5Ow5ZhvwKICD0Bo7P+Fxchv68YfR/zV3rq1RTh2KdTseKfXkj4KgDO9ccXIdZKCNkXJfgtJRLyj7mOC7f4ugHuU4IhnyI23QZ2FGGClzsSM+rmjCXto4Ux7OgAt+mBtfv5eXZG6XlHuImFEC/Iwm/KOISy7wjyFEHi4Qf5PCnYpQ2xCjXQVPfGM4JfWZnp1hW9OxVB1ehdPgD/Ln96Ab/lEojEkP6ognYSLZ4KBdkiiPo000Ol9tlKaVClkUAgMJxgqEfxtR5CEWSz+fNqIGaMVKNAKYVEPxFcOxWIuP5Fnvx1qJvMB+lKVaMBZKT9aHLWwj/BFeHrZE37RLcKkO4ggrF3dVL/yko5ieEeWwCzb7MVxcMvpATyLwKNv2iZWLAnc/6lBD+xLddjMXe5Gm9vOoDNn6/WjpJXbMHO+J14u3whFiY85rQmNWrcrJvbXk8vzzAkBzTMjz5wcAAyrpj777nA75swjDdn1LtgJDzkCUg8xX6Pmyew76IXPJwfr2Wv1pn7/UbCJpx6wwvDuSvxTtzfsT+9bioZrW7SZdgd+qbxQfo3C3DDfRAN4n9cHZ3gsewA9n82Gf2avGmfEBukTkGQYwdMiFVBkxePqFTdB8ZLkXVKBemrNErFounEkKd50NBx1WRGIlLgC2mLXyBGLEXxt5k4XcgKvH/n43DeAIwSdwYqCrDeeQkWJNzlNvSG1P9X7Emum9OvBvlnr2H4iD5sRD+xSP2lmIEoJOVpi5rMRCQ6c3WWTxBS+2z1VKe42P7ICryiJMRckELmLKT42gjNA/aBo9objuMyH7jzL2fUPTcPkiAwOQnp5dr9eMqM45BJRGZNnUieLD65L13MJ27lkBh6caqmCqUDHHVehs7R63sRKySUwvvTSMQk1+WaVMg+WoIJbly7qx/fonj4esTBdWM4ZPRQv1Voq/Nvh/LK6t/YZ0IsijLnO0hGvsZKZrpzAkulqRidvgVv8cPE6miKkPjRn/H9298i7E9cJarIwb7dObjPNps0cDLm1438L96PWa8XQX5tGZy1a4y7cxiL3ruH+cdnYyBbVTuCf9cgXP5ycu20QcapcX7fbpy/A9z4bim+77kMU/7QHX09AvDWKwLglzzELODWv+CCzjc1GBochpn81DwmFSFty2FcwT1cPLgeFcPD8JqTAM7TAjC6C/d9wUuRIRiJvhruv4vTPMwPmoyBzYwYPx/WCdEDb2Jnn9hGf9f5sNdxdNg3WCO1/W5ii47TRz3uDLh9aCrG3PwUl6cVmn9MkqcWf5yOHz+eldqCCimfJ6GAa29y49dC7RYOqUgAybuBkOoNH8r+awfEudxD5ES+vdBAlZMFTX8pxHZqZG9VIPyoBiIPB2iUXGfHIxihsyUtvgBNS0tr47//6WI8htxx8EkwIspFcBOouONBiuA1gXDjkw16ShN8ICtVIHdxy2cR5eNrN9jgs3WktVWU4XTMWRy+8jsM4q41VCUdMc5fBs9X+bvQNSj+QYWHogEQ9eB3rkJ+VCKiLnXFy4JiVPYdD/8lA9Cb39QC5fnOVH9bVTPtc1EKgj+KgpoL8L1yRwSuWA5pbXeE2mfrYCK+ggIkbY1ATAFX7g8U3BLA56NQzHDhryEovtbBRHy7KBH1UTDSBW4QabKhFgVCvtgb4toksW58uVJhPBQrYqB2kkGoTof6xUAs/1QGUQsHFFF8W5fmwlpIhymA2aHwETdc2wuG+tZP3cL3lxwz/HBvGxe72jW8xvHV9bj9K4pva2rm/PugAPFrghGnFkOk5tpdT64d5tpdgW58NUnwHeYDpRv/BK1jw5OzXF0ObO5paD0U3zakbpvzLyX4icV6pAQ/rywHicmp+P5iGaq115vo1HsERk+S4a3BjzmmvNkE7SBMqJ9XX4OMVUNwftI/scS1dgVw/QS2HdUd+qanmaSuxeL/riwhfGeORDfNWazzycHExGV4zIcKrMIjH6ePS6NGxf8J0e3BCaz4sAhTvgmgBD8xqu0T/JaFOrC2jY8vJfhtFyX4bRu1z7aN4mvbKL62jeJr2yi+tocS/MRitVvitDVdj8WsTY7YsvVNPC3T0d9OeB9/EWzATq+nY4IemzhOic2jBD91YG0ZH19K8NsuSvDbNmqfbRvF17ZRfG0bxde2UXxtD83BT8iT9NJs7H6Kkvu8XtO/fmqS+4QQQgghhBBCCCGEtCcawU8sFo2MJtaAP04JIYQQQgghhBBCCGkPlOAnFosS/MQa0HFKrAFN0UOPoNoyPr40RY/toil6bBu1z7aN4mvbKL62jeJr2yi+toem6CGEEEIIIYQQQgghhBBCrBAl+AkhhBBCCCGEEEIIIYQQK0QJfkIIIYQQQgghhBBCCCHEClGCnxBCCCGEEEIIIYQQQgixQpTgJ4QQS1G8H7P6r0dLXhV5I3UzEnM1rNT6jH3/7UNT8UpEHis1eNK/DyGEEEIIIYQQQghp0KG8svo39pkQi6LM+Q6Ska+xEiGWqaXHKZ8AP36FFXTYjw6Aj/1hzHq9CPJry+DM1tcqO4t9W5ORUVENVHfCkInz4DdxEDpxm86HdUL0wJvY6WWv3bciB/t25+C+tgT1PxKw8ZoES/48CEK2DgMnY76nEytwP5Ibi3U7TqC6lxu6VpxBWcfJCAqdDedn9b7/+glsO1pY+zO133tnJNa8JqotQ8x955+cmv4+KELalsMw8CdzVPhOocbMa1/jrbrdyRPBH6fjx49npbahuZWOuC9iELG3AH6puZC7sA21NCiIDUZQhgAyuxKkFL6C5V8th9SOba5TrkR8bAzivoyCaOM9RE6sP4pbJC0trc3//qeHEhFurlCFGIlPURKCP0kBBgEFeUIEfhEOWV3z04rxtRvckluj5HHkb1yCXWWTMLwvW4HOGDJzBAZ3Y0Udld+mYfW++xD1/xWF54BxYVMxeQDbaKbyfGeqv21IfSEKwRsK4OB0D9m33BH+ZSAkXdhGXQ+UiPooFAV9RLiXWQLptjj4cfW8pah9bn3Gz7/cuTdBgdCjGoj6cPEtdIRct002SI2U+WIoBqQgd7GErTMfxbf1mepfmVV/r6UgIrmAFXjccZGqwOWRp5GyTtpwvWAGim9rM11HzW2f1ZkRCF5TAKGHECWpBXjlL3FYPrblfSyKb+szeX1UlILgj6KgdhGjKtN43Grjyx0HQhcBCjLvQbYxBoHc55ai+Lat7L92QGhJOKQsfQKutXWf4wc3/RDz/asPg5HVxw2dC7MBr0hEzxazjaZRgp9YLErwE2vQGsdpfVJ8+JmmCf47J7BUdhjOezdj5kD+xK1Gxqo/Y53DTqQGDDKQUG/s0pYRGHtwOs78fVHjmwZ17hzGIqkSPt+txmiWnKk4uRRuqWORvelNXGnm+/U19/s0loONz23HQErwP3HtkeCHRg21pgSJH/hCvaJxB7b0kC98M3wR/YUMfB9HU6REiZ0EIv2LlBoN1A80yNrQHSlulOC3RMpN4yDbkA6fLw3FR4kIqQLCbce1ib9rMZjwrgbh2YGo7aa2Ynwpwd9WKnE6KBznvZZh2bjObJ1hD/PSsCCiIxbvGINBz3Ir7pZBBXuIemi3m4sS/G2oPAVB76TD+yB3AWrHtc2ngvHKUSlyuba6ce3UIP0TKZLc4hDpxbXiRfHwcVMhuGQ53Nge5qL2+Qkwdv69EAX/gyIs38DOvZkKuK8TITHFr7ZsiPpoEFw/TITwE0rwWwxj8TW7/uq5lQTf99LhuycSsj5snZkovq3MVB01O75KRM3P4n4uEBJ+Q3kS/J/Pwowq7udamAOm+D4BRq+PShH/jjdUS9KxfCQXqAdcvJ/j4q0ft9IUBIeo4PsFu7nDn39FuQik+Fq4UiS9J0H69AJEepq+3sn+60uI7H8acdP5VqAAUX8KguCL02YNoqApegghxIJVfJ+Ko96zWHKfJ8ToD+bB/uBZI6PiG1Rkr8cnX0kw3z0Zn4TloJqtb+RGIU4OEeNlnZGX3QZJMDy9EDdZuZGaIhxTvI+5H6/ENkUApi1Yj4xitu1R2AshaGFnhFgJgRBCYXd07sjK9VQ4vkuNGfO1Fy88gZOB5D6vo4D7DiG6m84jkvZyLQaKg1IETWFlfXnpiLPzxYS6Dml/H/iJg5CUw8oUX6v0sLorets3F7Qa5B25iJf9R2iT+7weLU/uk7alzk5B1lgfuLOnqQQevgjMiEHKLW25niYLKafc4T2WteJOMvh5KZBeV7dJ+zJ2/h0aiGiWOOQJRk2AT6oSBWq2Qt+DdIQuuQe/Oe5sBbEIRuJrdv1tRIPs2HBgjrzFyX3yBJioo+bHV4LAbSy5z7Nzh3RKOpTah7BJezNxfaQ65ArJIHZh3MUV7obi5iBD+Fc6T244SeFD8bUKGo0jRI6mk/v8jQDVJSFcxXWtgBiuo7n4XjV2om6MEvyEENKuNNBU2uPlfoaHsAs6CXC7Sm9O+5oqVHTvVDtFjyHVd/JwLOx9zNoEhKSsh3zVN9jSezcm+yzFvvNljRP9rm9CficWEUeLtOs1RTi2NQGaBWMMjvi/sX8hohwWY+fnqzE/dAf2zxFgxcebkbhvM7Zt2Yy/fc92NEdxEfLhCHsD0zoQG3YrGyk/S+H6CFM5EEuiQnxIDNw3ySF9nq3Sp9FAaSdEwz08ISRuUuSqSlmZWJ9fUV3BPpp0C/lRIgx3obs31kTzoAToItCps2JIPJKg0k8g3VJBOcAVr9RfpwrhOEBCddvaaKpwz0U33ro0yN6gQMmaUMwwb2YA0s7Mrr+6ylMQk+QOP4+6ZBKxKDp19JHiW6sEJVdFcGQ3BoilksDt00QknWLn0QeXkftvKSQmp1DjVaFK7QihoYFSxILwcWIfTXKAm6cj4lKVrKzC5WwZJOLmbgxoUYKfEELaAT+VzdzkMu5TBW7rDpUvy8a+LZuxLfIEbnDFTu7TEfLdSiw9WqTdficH25ZtRr9ZMvTTrmnsygnEHCpEN68tSD64DKN/2oHfLz4L4cwdSI1bgiGlXEc+IU8nye8Cv28OwK9bjvbf3XkGgjlfY7+/7oSAjem/QlfAnYiGzlyE+QsX4e3hbCWPn7Of/05jS3gCjtkX4Cj3mV7M+xS5pUKSRIh7yWsR9J4/fGYEIeKUim0k1kK1NxiRTqEI5B8jNsZBBO/sAq5r2kBTw/1sKXeRSqzUfZR/W4zksCREccsC712I/nsV26bjp7sofLUr8GMm1i86gJDZB7DxUDEess3EMjm8KIbyagl0r0E13Om55Ge9q9LyUqQ3unkHOHL1neq2ddFkpyPJTQpXA3kDTWYo5Hl+UEwXgW7TWQez66+O0lNxyPWQwZWSvxZJt44+SnzxQIWUkGCkv6eANz2hYeEEkH6SBNEXjnD/IApR66KgCQmEtLm87jXuGKnkjpH+rEwsVCnX3ioRsyIICm6ZIJ2AtWcM113R7BgEX3KF4yQFYj5bixSPUPiaGV9K8BNCSLviOmoV0zG4Nyvau2HmwkWYH/SmNoEvcMGSkwcxE2e0SfFDRXBe/y02TzQyaf3ANzE/YBpGDzTQGxDYw3nibMyf7tJ49H9HIQa+Ng1+CwPgO8sLw+zVuPTdWRzbdwL/ZLvU6TdtC+Sln2HW4pXYtmohZm0ugXz9NMM3G17ifhf+b9FZ3n4hG5E1Y7TlTd+g/O9fI4T77ONqIklIbE9qErKFfojcE43EL/2ATe5Ye4FtI5avKB6KWBFCP2nmZXxOUvg6RyHmED8aSQNVcjCCN17WbiNWygn+19di/15vBC71xta9Y3A/IBGnb7PNun68jMzbAxC4eSrWxU7CkAtfYtWRSraRWKShPghVhiLmggaoUSN7kx+CU9k2YmNUSNqeDr/3DLTjD7IRsUIJvw1+2velEOvQ4vqrRm5GFtzHupo+l5N2oldHWxhf1dEIRKxZi9A8MXw9RI1uyBJLpEb6hnCULLmOlBARNNeUXP1UNbqh05QG2XtiIPzIGy1/QwppW25YXnkPuUciEbomEsePyHFvRiCSmjz4yF0vxSqQOCwXBdsmAD+roDyT22iwlCmU4CeEkHbFj6APw3hTL5ntyBLzfFKcT96/ZKQbXsFG4esuWQKs+UMR/qa/PrWo9mkA3f2X+nTD3B1nkX+xCGqhE0ZPHNM0cd/RCW+FHsDuTasxf9UW7P6K+937sm2cgV7/i6DhNOcOMUEggMTTD4FjHbTlLhJ4T3fH8ewCbZlYODVSNsoRL9BAGctdPH4egbhsIOtQOCIOFeg94eMA76+y4FuTyO0XhXRBIOQfOsLViaYCsGrPdsYz7COeHYDxM3Nx/lINW8Fw+9gNGIzJXvZ4rnZFZ4zzHoHUc7doFL8lE0iwPDUO4ktRiNgUB5WbAqEeEohe1Ot32DlAWlSCe6zIKylVQeTgyErE0qkSFNLCfaMAAN0nSURBVIhxUMDPwFNYBbFyKO4JtQlCro2PTFVBeSoGEdvTQZMwWTBz6289Lq7JIoiNbiftqUkdbWF8RRPlkG+IRtYROarWiGkgjaXLiYK/2g+hXiII+8sgP3gaQUXjEHqqcc9alyYnAoo8XwTzL7snlq+LzpOPXaTwmROPdKVefG8lIfhLMRSLJRD2cYPfxuOIc4lC0C7zrpMpwU8IIW3lZsOUNfxc9VdOxmJf5EosWhCAFRE7kJavd49eU4hjOgl4fomJ0O6/aNV6xGzRG2HfbSRmLgzA26NHYsKsxiPnmyyeTkBPfv+Gdfz0Ot0GumH0a2MwerATunUzMi/r+fWwkwZgnd7vxi/rPn0Dkd/rTtCcg43PvY9j/GxEhPCcxHCPLQCl862VELIvSvBbSiTkH3MXj9zi6wa4TwmGfIq4aZvR0QFu0wNr9/Pz7IzS845wM3MeSWINaqCp7o1nBL+yMtOtK3p3KoLqJ1ZmenKLwRe+E8shFEE2m6/bgZgxUo0CpRQS/akd+oggSS2Aqv66VI2Sq4CriOq2NdDkrIV/givC18nAbrU3Il6Qhd+UcQhlbXyQJxdvDz/I50kN7k8siDn1t06pCpdLXSGiqVssjtE62pL41ukowgQvdyRm1M3pTSxRqSoXwgGOOk/TiCD18kb6j0aumIri4RdSAvkXgZAYvGAnlk2DKo0EAoF+gp+fylZc/6JtcFdWbjIfpCube5pDixL8hBDSVvo2TFkTlliNM9uXYWbQamzeugNr5AEYP1jvwlgwCG/pJOD5xU+u3X/zqmXwW/gmXma7NqhAxuZ3kPgvVnxS+r8Jf73fjV8azcFvQK8pB3BZbnx+f/IUEErh/WkkYpLruikqZB8twQQ3riujTkGQYwdMiKU5+a2WXgw1Dxo6rprMSEQKfCGlFyxbreJvM3G6kBV4/87H4bwBGCXuzJ1+CrDeeQkWJNzlNvSG1P9X7Eku1u6HGuSfvYbhI/qwEf3EUmkesA8c1d5wHOcuLN35+bl167bAHbJP4xCfytrxohTEKH0gc6Esg6XjE4fSxXxSSA6J7ksZ6fxrE8yqv3U0GmhcHNGdqq1FMVpHOebEV5MXj6hU3XpciqxTKkhfpVHelszBWQrBnnQ03Ibh4pZRoo2bfv0tioevRxxcN4ZD1uxLeIklUJ2KQtKPrMArSkLMBSlkzsLG8R0kQWByEtLL2X4cZcZxyCQis6ZS61BeWf0b+0yIRVHmfAfJyNdYiRDL1KrHafF+zHq9CPJry+DMVjWHf1lv9MCb2OlVN8dPGRLfG4Ybi25iiStbZaam32V4Xe0I/l2DcPnLyejFVtVpuj8/gn87Bl77Gm+ZmoaIPFH8cTp+/HhWagsqpHyehALcQ278WqjdwiEVCSB5NxBSfijSgwLErwlGnFoMkZrrzHgqED5bAgE/72BOFjT9pRDbqZEdG4MsroOjOhOMLLvl8HXuDpFnILxfbdnVaFpaWhv//U+X7L92QJzLPURO5LueujHkjoNPghFRLoKbQMUdD1IErwmEW+3L/Fo3vnaDL7ESeaIqynA65iwOX/kdBnHXnKqSjhjnL4Pnqx25jTUo/kGFh6IBEPXgd65CflQioi51xcuCYlT2HQ//JQNQ98oZc5XnO1P9bSsPlIj6KBjpAjeINNlQiwIhX+wNcW2SSbdus30/5OpuHwk6F2ngFhIOv0dI8FP73NqMn3/db62FdJgCmB0KH3FDrARDfRE4Vtg4vjpKE3wgK1Ugd3HLZ3mm+LY2E/2rLi2ov7yctegwT4BcpfyR5++m+LYuzQUTdXRYiZnx5fpXW7l+9VENRB4O0Ci5frZHMEK5frY5CUJdFN/WZvr6SJ0ZwfWTsyAYKQau6cZNJ76aJPgO84HSjX+C1rHhyVknGQINPUlrAsW3DakLkLQ1AjEFXLz7AwW3BPD5KBQzavtNjdtnTWE8FCtioOZiKlSnQ/1iIJZ/KoOI72o3gxL8xGJRgp9Yg1Y9Tvk59HerMXohe8GuGW6kbkaG3SzMHFbXZVPj/L7dOH+HFQ3o6q67f4NLO97AoX57sMazmQR/7g54rT+Dfvbd2YoGVXdUsH9X9zuKkLblMK6wkiEDJy7C+JdYgTwRbZ/gtyzUgbVtfHwpwW+7KMFv26h9tm0UX9tG8bVtFF/bRvG1PZTgJxaLEvzEGtj8cfqLGhX/JUS3lgwHIBaHEvzUgbVlfHwpwW+7KMFv26h9tm0UX9tG8bVtFF/bRvG1PTQHPyGEEOOepeQ+IYQQQgghhBBCiKWiBD8hhBBCCCGEEEIIIYQQYoVoih5isWiKHmIN+OOUEEIIIYQQQgghhJD2QAl+YrEowU+sAR2nxBrQHPw0x6Qt4+NLc/DbLpqD37ZR+2zbKL62jeJr2yi+to3ia3toih5CCCGEEEIIIYQQQgghxApRgp8QQgghhBBCCCGEEEIIsUKU4CeEEEIIIYQQQgghhBBCrBAl+AkhhBBCCCGEEEIIIYQQK0QJfkIIsSDVxXk4f13NSs0pQtqW/bj0Cys2pyIH+yJP4AYrNnKnEOdP7kfMls3Yxi/7DiMjv4xtNFPuDngpTqCCFQkhhBBCCCGEEELIk0UJfkIIaUu/FCJR8T6mLViKbYoAeL23FMeua9hGoCLrM7yfXMRKwKUdb2BFqk7Cv+wEVryzA5dqC6XIV6TixoPaQmPXT2BbQh6qWbHWgyKkbc7DfVasc+NQADxXnQUGTYbfwkWYzy9ebhD+cyOm+WzGpbpfj79BUHcDQG9JzOV2+j81Mm5rGv+btTchDP/Mti0LMe2593GshfcRiHXQ3EpHzCe+eMXRFRF5bGUtDQoSguHzThAUK/wxQeqPmEK2SY86MwL+f/JH8OfB8JVOwNoz5t78Im1HiQi3Dgg6aiQ2RUkIfoeLIR/rScFIqWverqUg4vMInWUt/KUd4B6SDoqyZcvfuAQLlp7F3qi65RzyjdzZrfw2DcFzkhAVdgALvA/g8FW2gbQr4+2z6W2NlCsR/3kQJgwwUf9JuzAWQ3VOjF67y52LxY6YEKtie+ig+FosU3VUfSEK/nz/its+bkYUlIauEXgPlIiaMQ6+nyjgP2kc/GML2AbSvrR9ZN8ZLIa6/aZa3PbYIIz7IBgRtdvXIr2cbdJR23+exPe9uDos9UVUXsO1Jmlfpupv9l87YMJ83TY6BtmGml++/n7gg6AV/PWRr9HrKGJZzI7vY5x/O5RXVv/GPhNiUZQ530Ey8jVWIsQytew4VSNt8es49to32OzlpF11cz/mTszGlO+2YHw34PahqRhz81NclrvUbj4f1gnRA29ip5d9bRnF+zHr9SLIry2DM3Kw8bntGHjta7zFNtc7vx52uwbh8peT0YutavyzdfKwsf9n6PftAfj0Zqt0nA/thLghZdg8UcjWaOn/nrUM/Zsmmfj9Savij9Px48ezUhvRqKHWlCDxA1+oV+Si/lApT8HaDRrMWOcNUUeunBcB1yVCxKX7Qazdg+E6r/Oz4L4uEBL+8CtPgv/zWZhRFQ6pQLuHudLS0tr+739KKDeNg2xDOny+vIdIvXaCj2GEVAHhtuPwG8QVr8VgwrsahGcH6sWacysJvu+lw3dPJGR92Doz8fG1G6y97UmetEqcDgrHea9lWDauM1tn2MO8NCyI6IjFO8Zg0LPcirtlUMEeoh7a7eYqz3em+tvajLXPPFPbdNVooH6gQdaG7khxM1T/zUPt8xNgZgw1F9Ziwhohwg9y51n98yrF13KZ6F8FvZMO74NcP8mO2+1UMF45KkXuFzLoRy/7ry8hsv9pxE0XcaUCRP0pCIIvTmvP1S1A8W1l/A2agyIs3yADHxlNpoLrB4uQmOJXWy495AvfDF9EczGt3V6kRImdBKIu/A8zpSkIDlHB9wuuXvPri+LhI8pFIPWfLYPR9rkUSe9JkD69AJGeptpbDdI/kSLJLQ6RXtxRwMfXTYXgkuVwY3uYi+LblsyNL+cxzr80gp8QQtpMIfKjXTDenSX3eX3H4k9DkpH/L1Y24FLCSixaEKBdVsey0futZRBGz8rDoX05TabWqbgci+ijkzH6D492UWcWeyEELexsEishEEIo7I7OfBJfl52Mu3BhyX2eizt8ziihajJAQYLAbSy5z7Nzh3RKOpQ0SsVyXIuB4qAUQVNYWV9eOuLsfDGhLmHQ3wd+4iAk5bByPQ2yY8OBOfIWJ/dJ23tY3RW97U0n97mrE+QduYiX/Udok/u8Hi1P7pMnxFj7zDO1TVdHAbefEN2bOxRI2zMrhqVI2nAc0hC/psl9HsXXchmJrzo7BVljfeBupy0LPHwRmBGDlFvacoNSqC4J4SrmU8Q8MVxHc/2rq/SkRrsbGoholtznCUZNgE+qEgW1oVHh+C41ZszX2e6kl9znOcgQ/hVL7vOcpPCh/rPlMNE+azSOEDk2c92tyULKKXd4j2VHgZMMfl4KpDfpWxNLY1Z8eY9x/qUEPyGEtBkXeKwqQtTunPppbKrzE3D0zhJ4vMJWGOA8fTU2b92hXVbO1hl9zytC2i5+uhu9ufVrqoA798D9bzMEGKY4B7lgJdwmvI+l7EbC3A/ewORJhZiScgA+L7FdW1txEfLhCPturEyeTuUlULk4onuzN3pKUHJVBEd24UramwrxITFw3ySH9Hm2Sp9GA6WdkGtl6gghcZMiV1XKykx5CmKS3OHnUXfJSizXr6g260Urt5AfJcJwF8oOEmKR8uIQ/sAP3iNplIWt0DwoAboIdM65Ykg8kqBqkuB3gJunI+JSlayswuVsGSTiJzighzwaTRXuubCY3spGys9SuLbwKQtwV4NVakcI9W8EEAvDx4l9NOWWCsoBrnilvroK4ThA0rRvTSyMmfF9TJTgJ4SQNiOAs/wbbHklBys+fB+L5gVgxRkHyPcsgvMjX185Yfwcft78N9GPreFd+v4EcPIELtxkK+qdQURtEn8/rrA1fMeg3wtcL0G6GGHsRsLOv87mvq877HuyXRrR4J8XD+N2lrLpC3svxmId//0RZ1HBvwfA4Nz7bAlPwDH7AhzlPtfO4U+eOppyJWKWREGwZgbcTNWBByqkhAQj/T0FvGmEt0VQ7Q1GpFMoAk0lhxxE8M4ugO7szpoa7mdLS1hJq/RUHHI9ZHClmzdW4D7Kvy1Gchg/r34SFnjvQvTfDdxK/ukuCl/tCvyYifWLDiBk9gFsPFSMh2wzIaR9ZR8Nh+MUadPp0ojVcnhRDOXVkkbvsdFw3euSn5tmlUSzYxB8yRWOkxSI+WwtUjxC4dufbSQWQ5OdjiQ3KVz5ZO4tFZIkQtxLXoug9/zhMyMIEacMvD9D3zXuOyq576D4WrhSrj/MXRet4N9Rxr87wci7x8pLkd5o8AzgyPW39fvWxNKYGd/HRAl+QghpU0IMnLgIYV9+jc3bdyBs4TQ46yTRu7l/ip0TG6bwEXQbg4pknSl6QpOhaW7KnDsnsC9+JMJCgb98dVbvpbdjIa9N4k/DwDtnsZF977qjGrz8wya9f0eJyLpygs5zncWHEXN0NmY+uxJx3+kl5ofMRgj//fIx6PbSm9oX9uosb7+QjciaMdrypm9Q/vevEcJ99nF95DscxCqpkR0bgdAVCsRrpPAeZnzktupoBCLWrEVonhi+HqJGHVrSTorioYgVIfQTaZN5fRtxksLXOQoxh/hRRRqokoMRvPGydls9NXIzsuA+1tX0dxEL4QT/62uxf683Apd6Y+veMbgfkIjTt9lmXT9eRubtAQjcPBXrYidhyIUvsepIJdtICGk/SmQliSAzce4lVmioD0KVoYi5wPXNa7h+1iY/BKeybY1w5+NYBRKH5aJg2wTgZxWUZ3Ib3YwnlkCFpO3p8HtPp6+VmoRsoR8i90Qj8Us/YJM71l5g2wzSIHtPDIQfeUPC1hBL5YbllfeQeyQSoWsicfyIHPdmBCKJBubbiLaJLyX4CSGkrVXkYJ/+aHa2RKyei7lHi9iOgHPA/2L/HjY9D79sP4D93wToTdOjqwiJny5FtSIEfgvD8Nef5uKjQw3f10jPMVhS9717vkFy/Nd6/84B7KwrT697HpT7/tWfQRi6GptXrUb+B3NxrJhtIsRsQrjNliN023Gc/tIN6Z6+Rjs4oolyyDdEI4vrCFWtETdzIUOePDVSNsoRL9BAGRuBiM8jEJcNZB0KR8ShAu5SUpcDvL/Kgm9NIrdfFNIFgZB/6AhXJ92kkgrKZBHEL1J632o82xnPsI94dgDGz8zF+Us1bAXD7WM3YDAme9njudoVnTHOewRSz92iUfyEtLdSFXJLXSGiJ+Jsi0CC5alxEF+KQsSmOKjcFAj1kECkf369lYTgL8VQLJZA2McNfhuPI84lCkG7CtgOxBKoEhSIcVDAr+5JSYEAEk8/BI510Ja7SOA93R3Hs43HTZMTAUWeL4L5l7ESy9dFZ2R+Fyl85sQjXak3mM7OAdKiEtxjRV4J16aLHBxZiVgsc+L7mCjBTwghba3bSMzUGdWuu/h76LyAt8759bD78DCaDpAUoJvUoeFE8Ush9s37M/a9vBNhE+25FU7w2XQAw4/+GV6rzjZ5iW69ikIc27IUS+ctxDp2o2GdIgCzFqzHsSs6J52aMqStmtvw/S/NxtcJYsR4B2Cf7n6N5GDjc+/jWBkrEqJPKMUEb66Dc76ZxxQ7ijDByx2JGXVzxpL2IYTsixL8lhIJ+cfy2sXXDXCfEgz5FHHTJyw6OsBtemDtfn6enVF63hFuuvP8chcllynRZMVqoKnujWcEv7Iy060rencqguonVmb4B9YaP1VGCGlztwqQ7iCCOe/6I1ZGKIJsNn9uDsSMkWoUKKWQ6J9fa6d6Ede/qJW/nnCT+SBdqWo0vQ9pP5qctfBPcEX4OhlYOp+7rBPDPbYAZt+GKYqHX0gJ5F8EGn6RNrFwGlRpJBAI9K6x+4ggSS2Aqn61GiVXAVcRNejWxUh8HxMl+AkhpK0V78es/n/GCp2R+3XL335yQ1DDW3Oa4QK/b8Iwns/l8551wPB5J5EsH4lObBWe5fbZcxH7Px4Dw++yLcK+D+biyvBPEbZ9S+10OfyNhpDQHdi9fgzyZ7+PRDaPf/XlM7jychh263x/p2HLkHwkAC+b2XHsNeUALstdWIk8jUrPRCH+gs4lZI0S6UkySAZwx706BUGOHTAhVgVNXjyiUnUfGC9F1ikVpK/SKCSLphNDnuZBQ8dVkxmJSIEvpLoviNNooDHrJcvEEhR/m4nTOjO24d/5OJw3AKPEnYGKAqx3XoIFCXe5Db0h9f8Ve5LrHvGqQf7Zaxg+og8b0U+sjl7dJlZMU4XSAY5oNN6T4msTNA/YB45qbziOy3zgzr/fRje+gyQITE5Cerl2P54y4zhkEhFNlWcB+OS+dDGfmJdDovtiXKEU3p9GIia5rg+tQvbREkxw4/rF+vW3KB6+HnFw3RgOmYGxY8TyqE5FIelHVuAVJSHmghQy58bXRxC4Q/ZpHOJT2XFQlIIYpQ9kLtSRtmRmx/cxdSivrP6NfSbEoihzvoNk5GusRIhleqTjlE/wv14E+bVlJqba0cGP4N81CJe/nIxebNUjMfjvFmGfz1TcDP4WIfpvOf0lB+smbsLL0Qfg8xJbZ4rB35Mfwb8dA699jbfqbkSQNscfp+PHj2eltqBCyudJKMA95MavhdotHFKRAJJ3AyHtUoCkTRGIuiSA2zABSjPUEM1bjuWefOJeA1VOFjT9pRDbqZG9VYHwoxqIPBygUXKdHo9ghM6WtPgCNC0trY3//qdL9l87IM7lHiIn8pHRjSF3HHwSjIhyEdwEKu54kCJ4TSDcdF+my13IdpgnQK6Su5Blq1qKj6/d4EusRJ6oijKcjjmLw1d+h0FclVWVdMQ4fxk8X+3IbaxB8Q8qPBQNgKgHv3MV8qMSubreFS8LilHZdzz8lwxAb35TC5TnO1P9bVUm2mcHU9v02ufYGGSVc992JhhZdsvh69wdIs9AeL/asiQDtc+tzVQMtXuUJvjAMcMP97bJdM6nFF/rYKp/pUTUR8FIF7hBpMmGWhQI+WJviGuTxLrx5UqF8VCsiIHaiTsG1OlQvxiI5Z/KIOKb8hag+LYuzYW1kA5TALND4SNuqGuCob7aqXkeFCB+TTDi1GKI1Fy/2JPrJ3P9YoFufDVJ8B3mA6Ub/4SlY8OTlVysAw09aWkCxbe1mai/Au76aGsEYgq4cn+g4JYAPh+FYkZt4r5x/cUDrq5/yLXNfSToXKSBW0g4/B4hwU/xbUNqc+P7eOdfSvATi0UJfmINHuk4LTuBFR/Goqxvd3Rmqxpzgs+qZRhd9/Ld6yew7ajukEk9AydjvqcZwzOM3Vjgp+jZsRl/+1cnDPyDdvSO5p4K+Xcc8fa8ALxl7hMFBhP8RUjbchhXWMkQ/qXD4825gUAeWdsn+C0LdWBtGx9fSvDbLkrw2zZqn20bxde2UXxtG8XXtlF8bQ8l+InFogQ/sQZ0nBJrQAl+6sDaMj6+lOC3XZTgt23UPts2iq9to/jaNoqvbaP42h6ag58QQgghhBBCCCGEEEIIsUKU4CeEEEIIIYQQQgghhBBCrBBN0UMsFj+lBCGEEEIIIYQQQgghhBDDKMFPLBbNbU6sAR2nxBrQHPw0x6Qt4+NLc/DbLpqD37ZR+2zbKL62jeJr2yi+to3ia3toih5CCCGEEEIIIYQQQgghxApRgp8QQgghhBBCCCGEEEIIsUKU4CeEEEIIIYQQQgghhBBCrBAl+AkhhBBCCCGEEEIIIYQQK0QJfvLUqDgfi20ni1ipeQb3vx6LWQtOoIIVjStC2pb9uPQLK1qJG6mbkZirAXJ3wEuh/TtvJ0zF3OQy7Q7EcmjUqOBChYoc7Is8gRvatYQQQgghhBBCCCHkKUIJfmJ7ivdjVv/1uMSKdaqLTiDykpqVeBrcOLkDS+cFYNGH72Mpn5C/wzZxDO2fsWc/Bs8eg25ciU+Gb9uit9QnWkuRr0jFjQe1hVoV2Zux6J0ArAhdiGkT3kdMPp+dZX7JQ8y8qVgauhRzuW37rrD1zTgf1gnTFuv+DrE4z+4+VOTuwKL3FmKd4n14fbDDwM2GMqR9+mfu92BFzu38pTh5g/uC/1Mj47YG1dy6Xl7z0G9VbJP/nqSVXD+BbQl5tf+tW+L20blwi8oDHhQhbXMe7rP1hFgKza10xHzii1ccXRHBHaoNNChICIbvjCAouO3jJgUjxdi913Il4j8PwoQBHRB0VLc9JpZDiQg3E/EpSkLwO/4IXuGPCfqxfqBE1Ac+CFrBHQ9SX8QUsvXEolXmZWL1nCRErdmHuQGZKDQ2mOFuMVKjkrBg5BKsP1nFVhJL0Fz77PMO1z7zdVbqb7xeUv21WMbjC2T/tQMmzI9AxOd1Swyy9Zvvayk62/llLfylHeAekg46E7c/U/FVX4iCP19/+f7VjCgoda5F61F8LZipPrL57XNpgg9c31M0inPKNbaRtCtT9beBib411V8bYPraSZ0ZAf8/cddOn/P9qwlYe8b8yFKCnzy1buyeioAsJ8i37sDmL79GyPAifDJlPS7p5N0buXMCiZem4S1XQW2RT4Zf7Dsd8xcu0i5vO+B7Y4nWshOI2COAX+wOrFFswf7tnsj4n5XIqP23NMj4bCGuyMIQpgjDTm5bmmw9ztf+oCllKPuXPfp5zmr4HRbOxjD+7gP3u677iwo+m7YgJPRr7J+pwqxVTZ88qChWoqKGFYwRjMHED5JxKN3YfxjyWO7kYcWZIqNPhTS+kbQQ0/oH4Bg9UEGsgMDOFT4hCsjd2Io6F2IQoZQiND4SoRvicPwTARTzY6BimxsRiiGbE4rAKaxMLI5yUzDCjT4cx3VgP4iBeE00wrnl+EYxoqZHoaB2mwbpawJRMDEckWvCEffVBKSMXYvs2m3EYt0tQNSau/AM80bgipnYOv0ugtcVoJJtbqSrPUbN9MTUSaxMLIbR9rk8HUlKd4Tz7XNdneXaZ22d1UX115IZjS9KUXLVAaKJfpB/LGeLH9yEbHOd/jKd7dwyXYwqBHLnain0dyVtz3j9TYHiExVmbGP9q9nctWBIStOkH8XXcpnqI5vdPgMlRVkQDPNtFGdZf7aRtCvj7XMDk31rqr9Wr7lrp7h4AQIPctdOH3P9q4N+UElDYW4qjhL8xPb8VITvy87g4nXuMz86miVHo0/p1qI8HN8F+L73Jnp11K7p5rYIIe4rse87w7Wn4nvuO1+TYCArt4j9m1izPQDOz7Jy37GY6HUWl/iR+pocnDozEm+95sS2vYmZE1cio/kMP6o1jujn0LQpr/g+Fd+/5oXhPbXlTtLp8MuKRVqxttxSzsPfxLb0nBaPMifNu5SVDCScQb6RDH8/z7qbN9wyyxP9ykqQsV//eCbEAgmEEAq7ozNrY+sNDUT0BhlErCgYNQE+qUoUGBqc0FHAfYcQ3TuzMrEs12KgOChFkLEbMHnpiLPzxYRBrNzfB37iICTlcJ81WUg55Q7vsexIcJLBz0sB7lRDLFjlhQJcHDUYLj205Wde/yOm5pxD5k/aciMdO+K5bp3RVTsuglgSY+2znQzLN3hDVLfexR0+Z5RQ6bfPVH8tm7H4cjTctYPIsSVpIA2yY8OBOXLI+rBVpH0Zia86OwVZY33gbqctCzx8EZgRg5Rb2rJhFF+LYqqPbG77zNHUlMLVyZGViEUx0T7Xaq5v3QjVX6vTbHwlCNwWCEndadrOHdIp6VCa+ZQkJfiJjSlC4tZUTAxywKb1h3H7pTfrk6P+HiyBbpI9txhO8F/J34HhA835jjpFSNvF31wwND96FaoqHNC1C/fxJxUu/V6Cl/mR97WEsP+9C/KLmhumzX8H+6in+kEp8KwAnVgZGATnsYdxo9EFOP/zZdA8KMP5fdqbIH/7nm3S11eMt87kwcyZg4i5bsYi4hsv7NyqRsTnZ5t9t0PFd4eRtmo1wsw+ngmxApoq3HMRgHKA1kaF+JAYuG+SQ/o8W6VPo4HSTqgTWyEkblLkqrhz1C0VlANc8Up9nkkIxwES7TZisR7+cp/rX/wOz7Ay3296+fV8FJewIrEt5SVQuTiiu34DTfXXSnF9f0M3000pT0FMkjv8POpSjsRSaR5wDXEX3f6UGBKPJKhMJfgpvpbNVB/ZWPsMDaoMPlZHLJ8ZfWtdVH+tTAvjW6sEJVdFcGQ3bptDCX5iO34pROLHC3HUfQvWfLYTCa+dwOR31iOj2FDC3gUT5gAxWw/XJ9/5OfI3Kufj7f8xNKqFnw7HBf16t2TEixPGz+FvLryJfmxNvetncKxyLIa8xH2+U4aMnkKdZDx3uWzvhBtlXCeN/5tWBWDWjADE5LIe+Z0i8NPk84/Z3k7Pw77QhVhXO6//n7HxO+0+vfoMwqV/lTZKGFdXc39FuU6v/k4eLqQD+75TYdhM7U2Qt4ezbfp6O2FwvgplVvbSYEt2++RKTJt1Dm/vXgafWTuxwWETPOfF4orR/8Z5iNuhwnwPF1YmxDZostOR5CaFa0uaV9LuVHuDEekUisCRBi87tRxE8M4uaDT9kqaG+9lS7vxWXor0Rsl/wJHbv3YbsVg9X+iFwuv3G03J85DrX5TfoTn2bY2mXImYJVEQrJkBN/1qTvXXSpWi9BQX1xX8HN5BmGDG3L6lp+KQ6yGDq5nJBdJ+HF4UQ3m1pNGUPBruMrjkZ+MxpvhaNmN9ZJPtM3cElBYBKeuC2Rze4+Afa2giH2JpzOpb66D6a11aGl88UCElJBjp7yngbeYTGpTgJ7ahJg8xy7ZDPfFL7A5wQSfukmPgzB3I2j4ZggrDI/L7zTqA3Z6l2Pbh+7Uv2V33/SCExS/DsLppdPRU631Nr8FhGHIzoX4KoG1/K8XwBS7oyrYbp8H5+N3oNm8ynNkaY27/cBbw3ozde1ZjYMZceL4XgEWLt+NqbeZ+JJaUluHMwS0I4ef1P7gY6g8Waudnl3gh5OJniMvlfukaNc5HzsWKk/zPNLhxNAE3VoVhZuomJJo7dU9z8/WTZlVkr8eiP09FxPWx+OLkDrzVl18rgHPQN0hd0B3HFryBaR/vx5VGxxt3zIQtxNHXFmNgvqEppwixViokbU+H33s0b6RVKYqHIlaE0E+aiZuTFL7OUYg5xI/q1UCVzF1sbrys3Uask8sQBF46hcN5XIegpgr5O/dj42m2jdgINbJjIxC6QoF4jRTew2hkoO1ww/LKe8g9ws/hHYnjR+S4NyMQSUYfvFAjNyML7mNd6RxtDYb6IFQZipgL2uu/7E1+CE5l2wyi+Fo2Q31kc9pnB8zYcw+XM9gc3unRcDskxdoLbDOxTOb2retR/bUqLYyv6mgEItasRWieGL4eIsNP8RhACX5iGzq6wG/rFvi9pp1i53b+WRzjp53ZdwLnTyXj2Hd5gNcBXJbrjn4WoN+fAhD25de1L9kNWzgZA+unyWmqk16tajQ3ev1iYLS+nurzm7EufzqCJrIpVnraY/TNxqMtysqK0M/eEb1eC4DPYO4f7sjts/AAUvfswOY9YRhfmxTmPKsz8v/ZMZg4az8yLnKdOoELliR/jYGXd2Bb1H7cHPEpQqQNTyBUn1+PRYckCAlYBPlmCaLfNfFy4Tr8f1ry2Lq5LcPmbw4gLGCM9v0PXCzsPjyM2/y2VyZjyVf/i/2fT8PA+uNNgyu752LhP6ZjQ9CbGM2etqApeogtUCUoEOOggJ+5IxmIBVAjZaMc8QINlNxFZsTnEYjLBrIOhSPiUAHXYulygPdXWfCtSeT2i0K6IBDyDx3h6sRdkNo5QFpUgntsT15JqQoiB5oz1qJ16g3/hJkQFWRi784fUDzUA4Gv90bvF+hFGbZDCLfZcoRuO47TX7oh3dO3aQKY6q/16qLz5EUXKXzmxCNdaewiQAVlsgjiFyl9ZBUEEixPjYP4UhQiNsVB5aZAqIcEIqPxo/haMsN9ZDPaZ56Aq+f1c7yLIJ3ujuPZNIrfcrWkb12H6q/1aHl8RRPlkG+IRtYROarWiM2+QUcJfmJjipA4byoi8wVw9mJJ98DpcO6sRMSf38cx/ZHqxfsxq/96XGLFRro44eX60fz2sP99Hm4U6z3iqJOcbUyAblKHpnfabu7HR6tKEBgeAOe6jS+I4HyyEDfra7YaZf8CBjuZuNtgkAYajQs6cQ1HrW5OGF+bDA6AzzA1rlwcA+feQHX+Dry/tAh+27VPK3Qatgz7FUBE6AkYnfW/uAj5fcXo29JfiTyemiIc+3QqVvzTCwlf6bykmRAboMlZC/8EV4Svk8GBrSPWQAjZFyX4LSUS8o+5zie3+LoB7lOCIZ8ibnre6+gAt+mBtfv5eXZG6XlHuIm5i5E+IkhSC6DSOfeVXAVcRXShYvG69cCo6WPwbuAoeP6xCqpLA/DyC2wbsS1CKSZ4xyP9vF7/l+qvjdCgSiOBoO7aQV+pCpdLXSGilzdaD6EIstn8uTkQM0aqUaCUQmIsfhRfi2VWH9lY+2yIRo3uXZr00IjFaGHfmkf114o8QnzrdBRhgpc7EjOUbIVplOAntiV3P/7yy3QEzRyJfnXJ0I4C9Bs2G/NnarDyb3lsZfN6eYYhOaBhxP/AwQHIuGLutCgu8PsmDON1R73f3I+5ExMw5DOdEfg8wUh4yBOQeIqdnG+ewL6LXvCovwNg2I30HTimO9PBzcPYpxwDjz9oL66qdeZyv5GwCafe8MLwnkAn7u/Yz/2sdmoYrW7SZdgd+qbxQfo3C3DDfRAN4m9rHZ3gsewA9n82Gf2MvWmfECvEX7hIF5dA/oUcEv5l43XUKQhy7IAJsbqzthOrohdDzYOGxJEmMxKRAl9IB3EFgTtkn8YhPpWd+4pSEKP0gcyFLkAt3UOd/kXxobPIGD8YLj24QkUB1jsvwYKEu9qNxOqUnolC/AWdZFGNEulJMkgGcH1L3bpN9dcqqU5FIelHVuAVJSHmghQyZ7341tFooDH4Ek9iqTQP2AeOam84jst84M7Pz03xtRrG+sjmts+avHjEZOoM63+QjfgEAbzdaLo1q0X117bp1d+oVJ04oxRZp1SQvmpe/e1QXln9G/tMiEVR5nwHycjXWMlMmjxslH2GbpE74feKziiiO3mIWTwVZfMuIkT3TTT8CP7XiyC/tqzZ+fBx5zAWvXcP84/PxkC2qnYE/65BuPzlZPRiqwwqPoy5r0/FpeGL8PYIx4a7dH3fhJ/XIHT6hfv9FizF9y+4oPNNDYYGh2EmPzWPKRWFOLZjM/b9sxMGvwRcKRZg4rzV2il9+O8LXooMwUj01eTgvtM8zA+ajIHNjAA/H9YJ0QP/f/buBbypKt8b/5fn5QzxLw5BO9IKSuMBJB6LTUcY0iMKkc5IEAfaQYGigi1SaJFLqghkELAgl5aLtlyUWkTachla5JJyBAIjTFsFm1rmJYxwTGHAFqZAKviy8XAe/3s3uzRNmzTF0ibx+3meOFl774Z2fnutvdZvr6x9Fuu6ZdX7u44ueRq7+n6KBTqn/0+pRrPO0+pibNogxkMuetRrOCYPcb8Mz8VtL2Lg2Vk4Meqk9+cw/WJJ5+ngwYPlUmuwwbQsD1ZcQUnOQti1qdCpFNC8lIjIc+LApa8RGJ+CGHVdO6d4IhaJg5SwFRdC6KGDOkhaZzQThVXipx1MRmHQHMSGdYZqSCKiH2uifXSxf//+Vv77f1mK3mmH7PArSB8mXSMEpxiK58GbyUirUkGrsInngw7JCxKhrX0Y2DULMl4TY9tNg7vKBWhnpyLuNhKEUnyD+jT6XTxqaT+cx5Y5O3G0Q3c8cOMMrj70n3h5Yh+oavoXN3H+Kxt+VPWE6t7rKMv9Al9fFrtAf9uJr+8dDL36/8MDzzyJZ3o37451VVkY62+Lct8+6zpakbciDRnHFdD2VaDysB2qSXMwZ4g0sHSu22KxBesv49uSPMRXIcb3/TRkWsVyD8B6ToGY11MwpiZuLvGVFC9Eu0kKlFgM0MibmovxbWme6q9YJ19PhlmhhUoogl2VCMP0aKhrksSMrz8QjnnoI/e94l37rKyEeU0KMvcJCBmghP2oAPUEAwxRzU/wM74tzUP9dfmqhvu+tWM/669/cx9fcfz7vhGpuwSoooIhWGxAVDJSxmvgTSaOCX7yWbeV4JdUl2P/rh34/CsLvr95F3CjA379H+F4atgIDH7YpVo0mXDtjaG31tUXcHje4zj6/D8wI6JmA/DtXqzedVIuNKKJJK3Pkv6uQiVix/ZHJ+EQFsUUY9j2t+qWFaJbbvs8/bkEO6r/V4lO1/Zi7mvlGPlpAhP85FbrJ/h9CzuwgU2KLxP8gYsJ/sDG9jmwMb6BjfENbIxvYGN8Aw8T/OSz2ixx6sm3WRi3IgSr3n8Wv5Tl6C/mvoI/K5Zi3Qgu0NMYnzxPiVwwwc8ObCCT4ssEf+Bigj+wsX0ObIxvYGN8AxvjG9gY38DDNfiJmuPh8djwC0ruS+4f/TGT+0RERERERERERD6ICX4iIiIiIiIiIiIiIj/EJXrIZ3HpE/IH0nlKRERERERERETUFpjgJ5/FBD/5A56n5A+4Bj/XmAxkUny5Bn/g4hr8gY3tc2BjfAMb4xvYGN/AxvgGHi7RQ0RERERERERERETkh5jgJyIiIiIiIiIiIiLyQ0zwExERERERERERERH5ISb4iYiIiIiIiIiIiIj8EBP8RES+4vxmjOuxGM15VOSZgpXYXiLIpZbn7vMvbnsRj6aVyqU6d/r3ISIiIiIiIiKiOu2qrt74SX5P5FMsxZ9D0/8puUTkm5p7nkoJ8D3fyAUnXQYkIKbLDox7uhyG028hTN5e48IhbHo/H4erbwA3OuDxYZMQN6w3Ooi7ji7pgPW9zmLdiC6OY6uLsWlDMb53lGD/v7lYflqDGX/sDaW8Db2GY/KQULkg/khJFhat3Ysb92vx6+qDuNB+OJJSxiPsbpfP/3YvVu86WfMzNZ97qT8WPKWqKUMtfubvQxv+PijH/lU70MifLLLhc6MdY09/jOdqD6c7QjpPBw8eLJdah3DOjOz3MpH2iRVxBSUwhMs76rEgTRsB2+wrSB926wy9xX4kDclLrVCGK2A9cgX65ZlIFN831/79+1v97w90Re+0Q0pFKnRyEwCxhYmcEAetaxivWZDxegqs3VS4cqQCutXZiOst76uyICcrE9kfZEC1vPFzwBtSfIP6NOfWKN2uq199gR3F1+WS5Ht8nfsVbiROxfuj75W3OVz94hCWp1/APY/9G2xf/D88uWAUXnysvbzXe1VlYay/LcxT++xd2+1g37cQcR9WQN1bgOUIEL16fV399hLb55b3s6+/p01Iy7fKBYkAa4ERJ/ofgGmRrq4/6QXGt+V5iq/9WEZNvyk49AqKzkUi9YNEaDrKO51U5sZAX6BGbFhneYvYlR9hgL6HXPAS49vSxLqWa0TKLgGqbmIMT4bA8F4q9DXDNsc+Y77guc1l/fVp7uqvvTgTmYftjkKNChR+lA3hzULsGX+rs12D4yN/JdbFrGQkHVZAH1QB08lHMeejOdAFybtlNfFdIMY3SomKAise/XM25gzyruYywU8+iwl+8gctcZ7eSor3O9gwwX9pL2bqdyDsk5UY20u6cNtxeN4fsSh4HQoSejeSUK/v+KrfYdDW0Tj4t2n1bxrUurQD03QWxHw+HwM6OTZVfzYT2oJBKFrxLL5p4vNdNfX71FeM5fesQS8m+O+4tkjwQ7DDLlRg+6uxsM9tPMFgWfEM9EvNiPmgkQRDpQnJs22IfU8enJbnIEZVgsTrqdA1sw/LDmxLq0TeyxqYR1uRPsRTh1OA+U0d8rTZSB8hDk6kGGptSK6YA620+6YA+zUBhUs7w6Rlgt8f/Vi6H1PSFJi+/kn0lu4617poxfJFl6BfKG6/Wyz/swTJT5zDC2efRz/n47zABP8d4Kl99qLtlgjHFmLoAgVScwyONrrKCivUULsMVJvC9vkO+LnXX1fn8hD7shmxG9Oh7yZv8xLjewe4i2+VCUkvmBG9VewnifVQ2JeMR3fpUPKevkFS1/JuCBI7mlE4RS1vuT2Mbws7loH4rSrMWaqHlNIVjhgRuUiF7aY4qMT4LlwqYMyiaKike+WlaYiYoUS2OU5seT1g/fUtzbrGKpG6VRwHOY97OD7yW5XbYhF7OBbrxTa5pn6XW1ARpIGq3k1YCzImF4r1Xoyv1HBX5SH+N4UY42V8uUQPEZEPq/6yALuix8nJfYkSA16dhC5bD7mZFV+numgx3vxIg8mR+XhzSTFuyNvrOXMSnz2uxiNycl/SqbcG/cwncVYu13OzHLuNr2DiG29jtTEBo6YsxuHz8r7b0UUJRTM7I+QnFEoolZ1xl7sJu6czYdyqQ9JIuewqWI/Uj5xmnoXqEDPSDIvjSyTUxgQhBKqQJpJCQiFM+yIRPUieeRSqR9wII8zFjiLaK8RzRInOd8ll8jNXcSDjBPpO618/uS+5X40ZK+XkvuTBnnjm+VP4xym5TG3LU/vcVNtdQ0Dh1u3QTImra6ODmp/cpzvk515/6xFQlJUKTDA0OzlId4ib+NqLTCgcFINIuR4qomKReDgTpnOOsjPhZiUiQkPkEvmMJxKxXk7uSxRPDkVMgQVWaWJ3kB5zlsrJfUl4JGIOWmBznvTdAOuvz/HqGluJvKV7oJstXmNdx8kcH/kpG/Z8aMeYyU71O9Q1uS/RIHG1nNyXBEVC14z4MsFPRNSmBAhXu+CR7o1PYVd0UODidZc17W9eR3XnDjVL9DTmxqVS7F7yCsatAGabFsMw71Os6roBw2NmYtPRC/UT/RHPwnApC2m7yh3bhXLsfj8XwpSBjc74P7N5KjKCp2PdsvmYnLIWmycoMPeNldi+aSVWr1qJv3wpH+iN8+UoQwi6ON1coF8KG3JmZyJyhQG638ibmnQd1+0hUDboCFHrk2Ihv/XknA2WnhF49NZ9ACVCempQYquUy+TX/v4VNv7wOzzzW4+jVNn/4Eb1r3FPbcKf/JwFRcvEQWffJm7ykQ9q5vW3yoTMvEjERdWmJMhXCdcqgI4K1OUD1dBE5cHWIMEv4PpV+S35NuE6roQ7x9RJVQVs4SHo7GmiFOuvfyrNRuq1OET392YWHMdHfuFcEUz/0iGimcsYSks1VZxSIcTLCRRM8BMRtQFpKZuJ+RfEd9W46DxV/kIRNq1aidXpe3FGLHaIHI3Zn7+NmbvKHfsvFWP1WyvRfZwe3R1b6vtmLzK3nUSnEauQv/UtDPhuLf59+iEox65FQfYMPF4pdvRyS52S/OGI+3QL4joVO/7ddQehmPAxNse7+b6gyPURugoE44mx0zB56jT8qZ+8USKt2S99prtXai52d7Fil/ieD+b9ZbF9koz00BQketVxlZ02I++q2DFq5vqwdCdUonKfBZlzk2AUX0N1Q7HwYCMZ/6pKmIOU9QamIcEq2Cor5BL5s7LPDiJoWM9bM5E8sp3CgWs90Zs5hsBwzoaS8BDAkoGkV+MRGx2P5E8sDfoH5Huae/2t3JeNkig9IvjtDJ8X/KAallMVcL4aC2KlrPiX6/XZjkpxWGFalIzkZcmI1T2D+CznNdvJVwhFYt9XK/Z9Xe6lClViH2xGBhQLxkDroSqz/vqnol2pCBmp87z0Ui2Oj/yD2G/K0yhxJX8hkl6OR8yYJKTts8k73bhmg2l2MswvGxHt5TdwmOAnImpTYke8ejT6dJWLXbQYO3UaJic960jgK8Ix47OtGIuDjqT4tnKELf4rVg5zs2h9r2cxOWEUBvRqZFadogvCho3H5NHh9Wf/t1ei11OjEDc1AbHjRqBvFzuOf34IuzftxT/kQ2p1H7UKhsp3MW7621g9byrGrayAYfGoxm82PCz+LtLf4vT60wNFSL850FFe8Smq/vYxZovvYyKakegl/1aeA2OWCilvNudBXwKKNmZC+Xo0NPIWaktazLl6BSU705GyIB17dhpwZUwi8jgx/xfkPL7ecx+e1NR/sG7jbqJs6xe4Z0IfNHviEvmu0j0wVeqQ8tF6ZOelIrJIj7htbAR8WrOvv3aUHC5E5KCIZlyvqc08EYMUSwoyjwlis2tH0Yo4JBfI++oJxpiNV3Di8HqkvpGKbPN6aLfpsPCYvJt8hA15a8yIe9m5vopxzUpDylwjcgQdovt6umvO+uufLCjMU0HvMba1OD7yKwV5KFLGIX3jemz/IA5YEem23bXtSkPagoVIKVUjNkrV+Ld4GsEEPxFRm5Jm0C/BYE8PmW0vJ+alpLiUvH/YTTetWp6F7/wqVGDBf5TjL67bC8prvg3gfPzMmE6YuPYQyr4uh10ZigHDBjZM3LcPxXMpW7BhxXxMnrcKGz4Sf/eH5H2iXiP+C0n9uOYOuWOHabkBOQoBFnGAkrYsDdlFQOG2VKRts7qd/SkUp8FYGotk6UGt5Bs6Os3M76hDzIQcmC0uEQwKhq68AlfkoqSi0gZVMNf99XsXL8F6sRu6ehHKH786hIy/R+BlvTc3A8gviPU/pHcM4kar5cSREtFj4pBzuISz+H3W7Vx/bbDkq6B+kOlBv6DQYE5BNtTHM5C2Ihs2rREpURqoGoufQryG31pdTQXd6EjsKeIsfl9iyzUiM9iIuHrftlFCO96AlNV7cOADLcxDYj1MrmD99UtiP7mkMgIqL2Zsc3zkRxQKaIbEIXFQsKPcUYNoD+2uapgBhqXrUbjTgOsL1F7fgGWCn4iotZytW7JGWqv+m8+ysCn9bUybkoC5aWuxv8zlK7TCSex2SsBLr8w0x/HT5i1G5iqXGfad+mPs1AT8aUB/DB1Xf+Z8g9eQUOA+6fi6bdLyOp16aTHgqYEY0CcUnTq5WfPx6GIE6RKwyOV3k16LZv0B6V9WywdKirH8nlewW1qNiEgcmOjfq8BPpnQY3hA7LuIrVgtEjkyGYaS68fOtPAdxsytgeC+x4YOmyEcIuC5oxL6rS4qomwqaAitstzbbUXEKiFBxsOn3vruIL++/F0FN3c/9ZwnmLfweLy16suGDeMl/KUOgUhTC6rK2tzRsZYLfV93G9bfShhNeJprIRyhV0I+X4puIMf3tsFp00HgTP8GOzh3ZyfIVQvFCxOdGIHWRvqZdbZRSh6HROTAfdfNQJNZf/3TOCnOwCiFNdZU5PvIvoWpEZlnR7Nuo7VUYOiIS2w9b5A2eMcFPRNRaHqpbsmbJ9hs4uOYtjE2aj5Xvr8UCQwIG93G5kit64zmnBLz0ijM4jl857y3ETX0Wj8iH1qnG4ZUvYPt/y8U7pceziHf53aRXvTX4G3H/yC04YXC/vj/9wtlNSApph6FZ8pqEYuc1NiobEctToQ91bKK2Z9uXgby/ywVJeR4yj+mgDxPbMOcYKiKhn5WNnAJ58FluQqYlBvpwjkT83o0fcenhX6PeMzqrrVgcNgNTci87yv8sweyRX0G94Hk8+aBjE/mxeu2zBtGvC0jNrR1wCij6zAzdAC4F4bdcr78SQYDQ1EM8yacI1+Q3Itsnqdijj0GktP66U3yF0hxkHnGa9n2tCDm5CkRrOQvYF0jJfd10KXFrgMbpwamVBzOQc8wpmX/TAnOeHpqeLn2vWqy//km4jsqeIaj3BUnX+HJ85H+UOkTPSkdmfm0dtqFoVwWGSu2uS/ucUeBUj1GJwn026B7zrn1mgp+IiIhamA2mZdISAOnYc0ocgHwgvc+AuanlmcXOjyH/AFKHiZ2Yc3mI1cbCEqaGsC+jZjmBmpeHpXyodaj66oD8eAwd43jIbsyCEgxdngKdlERwjiEU0M02QbMtBrFvJiP+zULo14gD1prBpmMd2XrLRIjv8/7O6PqDS99dBO69C7+SyzU69cRLGyZhxh/uBb4rw2z9JpxUd8GNvx7BJxmHHK+dF/CjfDi1FU/ts4d99eq22A6Mz0YGUvHMmGQkvzoUmf+WgpSRbueaUqtpgetvrUob8sR2XMEEoQ/xEN9rFmS+/gxiJhvFOvkMFpbHInO61vHtDKf4Kh7TQWVJQezz8TUP2Y1/NRuKWemI40NS2pxwbCF0WiOgDoF1mxRbxyvjYCWCxb6XoiAZz7wg9r2kuEVnAIvkuLH++omm2+fKf1qBIKdlMCXO8eX4yE9JYyIzdEWxGPpaMpJeSEbhkAwYnhAj7dw+h+sRcToNMb+X2mcjksYYYB6QCWOUd9Mn2lVdvfGT/J7Ip1iKP4em/1Nyicg3teh5Kq2hv8GOAVPlB+x64UzBShwOGoexfWsbfTuObtqAo5fkYiN+Hel8fJ3ja/+Abd03YsGQugcCHF3SAet7ncW6EU4PCShZixGLD6J7l87yhjrXL9nQ5SXnzyjH/lU78I1cakyvYdMw+GG5QHeEdJ4OHjxYLv3y7N+//xf99wc6Kb5BfY7LJQo0VWVhrL8BjO1zYGN8AxvjG9gY38DG+AYeJvjJZzHBT/4g4M/TH+yo/j9KdOLsD7/GBD87sIFMii8T/IGLCf7AxvY5sDG+gY3xDWyMb2BjfAMPl+ghIiL37mZyn4iIiIiIiIjIVzHBT0RERERERERERETkh7hED/ksLtFD/kA6T4mIiIiIiIiIiNoCE/zks5jgJ3/A85T8Adfg5xqTgUyKL9fgD1xcgz+wsX0ObIxvYGN8AxvjG9gY38DDJXqIiIiIiIiIiIiIiPwQE/xERERERERERERERH6ICX4iIiIiIiIiIiIiIj/EBD8RERERERERERERkR9igp+IyIfcOF+Ko9/a5VJTyrF/1WYc/0EuNqW6GJvS9+KMXKzn0kkc/WwzMletxGrptWkHDpddkHd6qWQtRhj3olouEhERERERERHRncUEPxFRa/rhJLYbX8GoKTOx2piAES/PxO5vBXknUF34Ll7JL5dLwPG1f8DcAqeE/4W9mPvCWhyvKVSizFiAM9dqCvV9uxerc0txQy7WuFaO/StL8b1crHVmWwKGzDsE9B6OuKnTMFl6jdBC+Y/lGBWzEsdrfz3pBkHtDQCX1/YS8aD/tePwRaH+v1lzE6Lxn1m9aipG3fMKdjfzPgL5B+GcGZlvxuLRkAiklcobZZ72Nc4O0+QQRKywyGXyHRakadshaZebG5PXLMgY8wxi3zQi/vlnEJ9ldWw/bULasjSn10LE69ohcrZZjDb5squlRzB/Qh4yFmzCxIQjONnYTWabFZ9kHHJ67cf86Bl4ZdEpXJUPobbjvg0WYM1NRswLSTDOjcdQXTwyT8q73GL77Gs8X2PFGGcl4ZlXk5EmHvPM8wthrpJ3OauyIGdZEob29NC+U5vwFF/7sQzES/VXiu2YDFgaGyNI3F2bqY052uDYMXIMn0+G6daw0Pv2uTI3BhEvG+v1s0yn5Z3Uplrk+sv664e8jO/PHB8xwU9E1Grs2G98EYd/Ox+b31+CySlrkZ+iwa4RM7HfzbR3ofoQLghOKfObdpwt8aJ5v1SKuQfLvZhNX4rts64g/q0E9H1IIW8T3d0FYSOXwKCZicx98r/XqT/GyjcA/vRAEdJvDnTcDBBfMRFOP1tPKAbLxzR8jUY/+SgKPIqgCMTMNsKglTc48bSvMfZdRiTlywXyKZYVyUituyfZQNGKGBQOW4/spSlYvzMdmtwkR4e2hx6GNwx1r9FqXEcijJN1UDp+lHzRZSsyFlzGkCXRSJw7Fu+PvozkRdaGSXuVGi8lDqx7jbgfN/AkJozriXvkQ6jtuG2Dq8zIs0QiNScdKQvWY89yNTImZ8JT6oDts+/xdI2t3BaHJIse6z9KhWFpNva8p4eqsS6cUg39hBQkjpTL5DPc118TjG/aMGa1WH+l2I63iceZGk0Kub02U9s6lok0iw4pUhssxfBNhdgvyoRN2teM9rmivBCKvrH1+ln6HvJOalMtcf1l/fVD3sb3Z46PmOAnImo1J1G2PhyDI0PlsuihQfj94/ko+2+53IjjuW9j2pQEx2t+ljx7v6X0xoBxpdi2qbjBzYDqE1lYv2s4BvzHHUy3dVFC4e7eAPk3hRJKZWfc1V4uO/O0z9U1M1JmXEHchEh5A/mM05kwbtUhyW0CqBK240pEqFVyWY2IAWZYTrmmGwQUZaUCE8QBaDd5E/mkq8es+PrJPgi/11H+1dO/xYvFX+DId45y426ibPMh4KWBePIBeRO1LXdtcJAec5ZGQ1W7PTwSMQctsLmbV8D22Te5vcbasOdDO8ZM1qO2VVaEaqDqKBectVeIn6FE57vkMvkON/G1F5lQOCgGkUGOsiIqFomHM2E65yjX8fbaTK3uiUSsX+pUP58cipgCC6xSaJrRPgs3KxERGiKXyKf87Osv669fam7/qkbzx0dM8BMRtZpwRM0rR8aG4lvL2Nwoy8WuSzMQ9ai8oRFho+dj5ftrHa+3xyNM3u5Qjv0fSsvduKytf/M6cOkKxP82QYG+xi9gULwN7dBXMFO+kTDx1T9g+PMnMdK0BTEPy4e2tPPlKEMIunSSy0QNiB2bpUZULEjBGLW8iXyEDTmzMxG5wgDdb+RNDQRDOyQE2eLg1MGGE0V6aNQuNw2rTMjMi0RcVO1ghXzVjz98D9z9b/iVXAa64JGny3C+Qi425vIJ5O8JxfCn5bsC5D+qKmALD0HnRm/Es332O+eKYPqXDhG95TIFFOGa2BB3VIg9+1pqaKLyYGuQ4Pfy2kxtT7iOK+HOMXXitn0WcJ1r4fk/t/Fl/Q0IHvtXstsYHzHBT0TUahQIM3yKVY8WY+5rr2DapATMPRgMw8ZpCPPUuHsUisETpOVunkV3eYvk+Jd7gc/24thZecMtB5FWk8TfjG/kLYAS3R8QOwW66Vgi30hY98548fM6o8t98iH1CPjH1ztwsdDS8IG9X2dhkfT5aYdQLT0HoNG19+VXai52d7Fil/i+Zg1/IhfCkRQYSuNgHK0CJxH6FtsnyUgPTUFif8+Nl2p8JpKPRyDkeSMy310IU1QKYl2+Jl65LxslUXpEyLMOyXfd98D9OPnt9/WW5PnxhjgGueT+dvKlv5bg5NNqqJnf9ytClQWZMzKgWDAG2kaqOdtnP3TOhjyNElfyFyLp5XjEjElC2r6axT8oAAQ/qIblVEW9JXkEsXtd8a+GU0S9uTZT2xOKzMjT6hDhkrv13D7bUVkOmBYlI3lZMmJ1XKPd3zR1/WX99W9NxbfW7YyPmOAnImpVSvQaNg1LPvgYK9esxZKpoxDmlETvFDkL64bVLeGj6DQQ1flOS/Sk5ENoasmcS3uxKac/lqQAf/7okMtDbwfBUJPEH4Velw5hufy5i3YJeOSrFS7/jgXpteVcp4X9zu9A5q7xGHv328j+3CUx//h4zJY+3zAQnR5+1mXNfZe1+1d8iqq/fYzZ4nv3a/jTL9a1IqTNtSBuaRw4OdTHlOfAmKVCyptNrQcpwJZlxPa+JbCuHgr8ywbLwRLUTyfZUXK4EJGDIrj2vj8IfxyJx/dhR+nNmm+Kla3bjOUH5H2Nug5rsQ2P/2c3rr3vN+woykpDylwjcgQdovs2MnOM7bP/KshDkTIO6RvXY/sHccCKSCw8Ju8j//ZEDFIsKcg8JvbNb4r1eEUckgvkffV4c22mtmdD3hoz4l527mt50T4jGGM2XsGJw+uR+kYqss3rod2mYz33C97El/XXf3kT31q3Nz5igp+IqLVVF2OT62x2+ZU2fyIm7qp7YmVYwn9h80Z5eR7ptWYLNn+a4LJMj7NybJ81EzeMsxE3dQne+W4iXt/m5gmY9w3EjNrP3fgp8nM+dvl3tmBdbXl07fe5xc+f/y6UKfOxct58lL06EbvPy7uIWpA1ywDjFSVsu9KQtiwN6QViB3ZfJtLEwU6lfAy1BTtMyw3IUQiwiJ1UKTbZRUDhtlSkbbOKww4n5/KQ/IEaxukaKLtpEbd8D7LDM5D0ofNMMjGu+SqoH2R63y906Ir43LFQWY/gk3Vf4fwTUUh8uiu6PuBuDvdlnDTdB1VXzvH2H0poxxuQsnoPDnyghXlILPJcGl22z35KoYBmSBwSBwU7yh01iB4diT1FnN0bEBQazCnIhvp4BtJWZMOmNSIlSgOV6/XVq2sztTVbrhGZwUbE1fumZNPtcw2FEopba7yroGM99xNexJf11495WX9r3N74iAl+IqLW1qk/xjrNand+xUc5PYC31tHFCHptBy7KxToKdNIF163L+MNJbJr0R2x6ZB2WDOsibghFzIot6Lfrjxgx71CDh+jeUn0Su1fNxMxJU7FIvtGwyJiAcVMWY/c3Tum6mxewf97Eus9/eDw+zlUjMzoBm5yPq6cYy+95BbsvyEUiL6mnFOInSzZS3jDAIL6ShqigiYqDYZIOcmqC2oQS+vcq8JMpvSYu0itWC0SOTIZhpLr+OrE1y0Gobz0sTmqztPoYmC023FowoNKGE5URUPHhuv6j0714cvRAvJT4JIb89jpsx3viEXcPz714Cd9e7IaufNaff1LqMDQ6B+aj9Zf4YPvsp0LViMyygmmgAKZUQT9eqpeJGNPfDqtFB43r9dWbazO1KaF4IeJzI5C6SO++TXXTPjdKsKNzR35b2q+4iy/rb2Boqv7e5viICX4iotZ2fjPG9fgj5jrN3K99/eU7LZIe9fZObTjiPl2CwVIuX3J3MPpN+gz5hv7oIG/C3eIxG7/G5jcGovFn2ZZj06sT8U2/WViyZlXNcjnSjYbZKWuxYfFAlI1/BdvldfxvnDiIbx5Zgg1On9+h71vI35mAR7zsM94/cgtOGMLlEpELuwlJIe0wNItfNPVbzjHsrUFifh7MVfI+keXwHug1Ktxq5QQBQlMPmSKf8uMP8hvR+W2HcHhwH4RL6+tXW7E4bAam5F527JTcuIkfH/s1fs34+oXKgxnIOeY02LxpgTlPD01PscayffZ/Sh2iZ6UjM782xjYU7arAUK2K8Q0QwjX5jcj2SSr26GMQKa3f3NxrM7UZKbmvm14Bw3sGaDrKG0Xets9CaQ4yjzhNC75WhJxcBaKlek4+y+vrL+uvX2p2/+o2x0ftqq7e+El+T+RTLMWfQ9P/KblE5Jtu6zyVEvxPl8Nw+i0PS+04kWbwf9gbJz4YjvvlTbel0X+3HJtiXsTZ5L9itutTXn4oxqJhK/DI+i2IeVje5kmjv6c0g38Nep3+GM/V3oigViedp4MHD5ZLrcEG07I8WHEFJTkLYdemQqdSQPNSInTBnvYJsBUXQuihg9rlgUKVuTHQVxpRMl0jb/He/v37W/nv/2UpeqcdssOvIH2YNLSoH0PhZA6MczNhD9VDaTfD/mAi5szSQ1X71XFxINtukgIlFnEgK29qLim+QX2OyyW6o344jy1zduJoh+544MYZXH3oP/HyxD5Q3S3tvInzX9nwo6onVLUP1P1qPzRvtkfugYGoXeituarKwlh/W5SHNrijFXkr0pBxXAFtXwUqD9uhmjQHc4ZIiSG2z/7B0zVW3H3NipwFyci2q6Gy24AhRqSO10BRL77SOsGZKKwSP+1gMgqD5iA2rDNUQxIR/Vjzsg2Mb0vzVH8tyHg9GWaFFiqhCHZVIgzTo6GuSRI389rsJca3ZQnHFkLX1wiMT0GMuq6uKZ6IRWLfK961z8pKmNekIHOfgJABStiPClBPMMAQ1fwEP+Pb0lrm+sv664fEa2+z+le3OT5igp98FhP85A9u6zy9sBdzX8vChYc6o/FViUMRM+8tDKh9+O63e7F6l9NDbl31Go7JQxpZ2seVuxsL0hI9a1fiL//dAb3+w3H3X7hiQ9mlEPxpUgKe8/YbBY0m+Muxf9UOfCOXGiM9dHiwNzcQ6La1foLft7ADG9ik+DLBH7iY4A9sbJ8DG+Mb2BjfwMb4BjbGN/AwwU8+iwl+8gc8T8kfMMHPDmwgk+LLBH/gYoI/sLF9DmyMb2BjfAMb4xvYGN/AwzX4iYiIiIiIiIiIiIj8EGfwk8+SZpwSERERERERERERUeOY4CefxaVPyB/wPCV/wCV6+BXUQCbFl0v0BC4u0RPY2D4HNsY3sDG+gY3xDWyMb+DhEj1ERERERERERERERH6ICX4iIiIiIiIiIiIiIj/EBD8RERERERERERERkR9igp+IiIiIiIiIiIiIyA8xwU9E5I8EO6oF8X+ri7EpfS/OOLYSEREREREREdEvCBP8RG7cqLbjhvRGuIDjReWortnqcOPztzEqvVQueVKO/as24/gPctFPnClYie0lAlCyFiOMe2v+9ou5L2Ji/gXHAdRyvt2L1bmljnOtGS7umghthngOXhPPsZWl+F7eTuQP7McyEP9CEoxvxuKZMRmwXJN3uLpmQcaYZxD7phHxzz+D+CyrvIN8hwVp2nZI2mWXyw3Z9y1EjBTvufEYqotH5kl5hxTfV2OQNDcZsbrYuu3Uxm7Clr8TsxPykLFgEya+tBNH/invqiHuz83DxGk78UnN/v348rK8y8nVLw5h/gtbsDxD/KzoD7H+b9flPdTWhHNmZIrt76MhEUhz6c4WvdMOQyenIW1Z7SsTRY1Vb9Zfn9US8bUfSUP87+ORvEyK71AsPOi+jafW5Sm+dTxfm2vi+7wY37lJ4nU5Fhml0qwh8gWe4yvAmpWEZ15NRprUh35+IcxV8q5G2WGaHIKIFRa5TG3NU3y9q9uiKgtylol1t6fn/jf5Fq/ie9rkdH2WXgsRr2uHyNlmsTY3jQl+CijV5sUY9/JULEpJwKihCdj0jbzjh1JkTnoRM1NmYuLQV+q2u3UBu6f0QUaJ+PbSQaS9tBlnHTtE5di2thxjR4TXlKRk+OpVLq9bM6orUWYswBmX5JXb3/PsXsx9OQFzpe0vLMbhS/L2Jgn4ZtNUjJg0E6uNr2CE089Wl6zFNOnfkra/uraRmw0XsH/WH5FZJhdFF8tm4rMz1cD/2nH4olCTfL5/xCR0n5eF445DqKVcKsXcg/VvIDmrf35NxageCdjN+yzkz6pMML5pw5jV6UhZmo09422ImW1qtNNStCIGhcPWI3tpCtbvTIcmN4lJJB9jWZGM1HK50Ajh2ELEvK+A8SMx3gvWY89WAyKDavbAvCAR1mGpSF+QiuyPhsI0aCGKan6K2lRpMTYe74nEtdFInDsW7ye1R8bML3Be3n1p52Ys/rsac1c+j5ek/YvU6NpB3nnLeZjy2uPFD1/EjMTnsWj973A+eh++bO7dbLojFEERYrtrhEErb7ilEhWngqEaFgfDGwb5FQetUt59C+uvL/v58bUgO0eBxK3rkfqGGN+tcbDpUmBmDtgnuI9vHY/X5koTUj4S45sjxndBOvaI9desMTK+PsJTfCu3xSHJosf6j1JhkPrQ7+mhUsg7G2HfZURSvlwgn+Apvt7U7RpKNfQTUpA4Ui6TX/Aqvj30Ttdn8TVajetIhHGyDg0u1Y1ggp8Cxo2SxRi3VgHDmlWYbVyLzRunod990h4Bh9+dim/0S7DEuATr1gzBfv1iHK35qQvY/vJDGDXLOYnaxHInZTuwu/t4DOjqKErJ8K8fGo3JU6c5Xn8KxpceZlS7/z3LsWn6GgQnr8QCcfvH069j7vTNuFjzU55dzJ+ImV8Pwco1SzA55WNsTn0WD0kX+0t7sejPNsSsEP8taftYG8bNc8zId1Z93oLqm3LBHcVADHs1H9vY+2tRxwvFXlfuQZS5yfB3HyKfV9Jr3BB0v1CBw5tXYv0+Dxk1Ih9mLzKhcFCMnOQVm5aoWCQezoTpnKNcpxK240pEqFVyWY2IAWZYTnGmis84nQnjVh2S3A4wBBRu3Q7NlDhoOsqbgtRQS7EXCmHaF4noQXJ8Q/WIG2GEudhRpDYU/iTenquG3M3Br373KJ45cB62muvUZRzedB1Dxjntf7Arut4tF27piheXPIneneTivSr0e/4U/nFKLlPbUiihVHbGXe3lshNBCIEqpIlhJOuvb/u58YUGiasToak9LCgSupHi9Zc32H2Dh/jWaOraHKxH6kdifGuvy6E6xDC+vsNtfG3Y86EdYybrUdszVoRqoKqNo6trZqTMuIK4CZHyBvIJnupvU3W7VnuFeJwSne+Sy+QfvI3vLQKKslKBCQbou8mbmsAEPwUIAV/m5SMsYRzCageZ9/VGLylxLhRj38H+eO6pUMf2h57F2GFv47Ajw1+j30inJOrUZ9Fd3t6Y45/nIjgyHLVj1ubx8Ht+exDbMRxD+zhuw3fQjsDI/87H4dopc26V47MNdsRMqPu9OzwUju7i51d/WYAvnxoh30AQt+tGI64wC/ub/MzGhfV7FqvF0Rsn4LWQs1lI+3QE1r1vR9qyQ25n8deq/nwH9s+bjyXieRofJZ/PRH5GuFYBdFSgbsKRGpqoPNgaJPiDoR0SguyC2q8V23CiSA+N2pv5C3Tn2ZAzOxORKwzQ/Ube1IAFRcsioevbSMzO2WDpGYFHb+1SIqSnBiW2SrlMPuPG/+D7x9rjV9L778px5FJP9O5Zs6cZvkfVt/ch6F65SD7qOq57cw+V9ddPeRnfBipQcUqFEPnGPPkyb67NrqTzIgRKd4li8g3nimD6lw4RveWyRwKKlhpRsSAFY9TyJiLyL1UmZOZFIi6q9pZe05jgpwBRiqOr+uOp3zaSRPjOhuP/rsEjtzLySnT593CUld/OOicX8M2XQK/uzUkwlWP/h7XfDHD/e94oPwl7PzWC5TIQil79duDMd3LRnfPF2F81CI/3kstOblwTB1p3K1D3zfneCBvk+plip676AoRrF3B0k+NbDH8R/8ZGPaTGcwdL0eQKR9Ski5+9jVHjvsCfNryFmHHrsDR4BYZMysI3bp/XUIrstTZMjnIsDUXkr4IfVMNyqqLekjyCAFT8q2HWQTU+E8nHIxDyvBGZ7y6EKSoFsT3kndSmbJ8kIz00BYn9PXw3/JwNJeEhgCUDSa/GIzY6HsmfWMRhp6iqEuYgpdONHiAkWAVbZYVcIl/x47FTMD/RE2qpH1VxGQfC7sL3pv1YnLQFyQl5+OSvjSzA7+yHyziyaCe+fCEKzzwgbyMfVYnKfRZkzpWemSGtze1m7XXWXz/lZXydXbPBNDsZ5peNiPZyBiG1Ha+uza5Om5F3VYcI9q98m9inytMocSV/IZJejkfMmCSk7bPJO+sTjqTAUBoH42gVOMmbyD9V7stGSZQeEc24uc4EPwWG8+Uo6xMCfL0WMyclYOKYBMytfXDppQs4fJ/SKckNdOkSijMXmh6EHF6ZgGnzndedr8CZwv7o5WmKfwOhGDxB/maAh9+z+lK5SzJeiU7BwIUqseP9w0lsn5eAceLxmSVyR1w8XlomX5pNt7tPJ9h3LcbM18RjXp2K1WbH8i33d+uN4/9dWf8BweI/VvOZtS6V4pgZ2PS5DX3HOr7F8Kd+8j5XXUPRp8yGC3720GBfUl20GNP++CLSvh2E9z5bi+cekrYqEJb0KQqmdMbuKX/AqDc245t6KyEJOLpkKnY9NR29yhw3YbhED/mtJ2KQYklB5jHxJL9pR9GKOCQXyPvqEWDLMmJ73xJYVw8F/mWD5WAJGh/KUKsqz4ExS4WUN71YD7J0D0yVOqR8tB7ZeamILNIjbhtn+fqPyziw4TSGv9AT98hbcKAMZZ1+h7fSX0Rq2u+Adauw3s3Dws5/dgifpO3Dh3/vAv3T9zq+BUA+TIs5V6+gZKf0zIx07NlpwJUxichjlQ0QzYuvbVca0hYsREqpGrFRqno3dMgHNefafIuAoo2ZUL4eDY28hXxYQR6KlHFI37ge2z+IA1ZEYuExeV+ta0VIm2tB3NI4cPI+kb+yo+RwISIHRTSjPWeCnwJJWQH2XRiI2WvWYl3OYvT78nm8nv/znkY6YNparHx7PMLkstQJgstH3t9nCR4/myuv3y++/lKJflPC8Wt5fwO38Xte/OoQEL0SGzbOR6/DEzHk5QRMm74Gp2oz9/t24Gin8VjywVpseH88kPEUlksPCNaMwOyv30V2iSORdjR9IuZ+5viRWmd25eLMvCUYW7AC271duqep9frJrU7at7Dy0y1YkjAQ90vrrx1djKDXdtQ8a6HTo8Mx46P/wuZlo9Dr1ihKwDcbJmLq/x2NpUnPYoB8E4ZL9JDfUmgwpyAb6uMZSFuRDZvWiJQoDVQPunRfzuUh+QM1jNM1UHbTIm75HmSHZyDpQ6t8ALUNO0zLDchRCLBkpSFtWRqyi4DCbalI22aVrpJ1OioR0jsGcaPVcudUiegxccg5XAIhKBi68gpcqdnuUFFpgyo4RC6RLzifb8KO+6Mw4rfygqEd2qP3M7/Di/8pp/vv7grdCBUOH2u8H9P19wPx0twX8fHGgbiRttjtjQDyIWK9vdUF6ahDzIQcmC31ajbA+uu/vImvTDXMAMPS9SjcacD1BeqGiUTyIc24NjsRitNgLI1FstiOk49TKKAZEofEQfL3/TtqED06EnuK6veLrVkGGK8oHTfoxPMgvcAGy75MpK0xg/dqifyFWG/zVVC7jo+bwAQ/BQaxs9ql1wiMHdlbXhtfiedeGI/thRbcuK8LBpytvxzEhQvl6N7ldgYhYpe4i/xWVu8hqLdebtbx9/B7Ku4LxfFKu9P69nZUV4ajS5AC9z+VgBhpbf724t8ydQsKNq7Fyo1LMFia/d1BgbCo8Yh7Sv7F7g7H0D9pse/Lk+KvG44Z+R+j14m1WJ2xGWd/NwuzdeHo3tXRUNw4uhjTtmkwO2EaDCs1WP/SYhx31wOs5fL30x10sxy7Z72Iuf8YgdyPEuqe20Dk75Qq6McbYHgjEWP622G16KBx/ep/zVeR1bceJCa1v1p9DMwWW732nFqbEvr3KvCTKV2MnxRDA2K1QOTIZBhGquvP8FSGQKUohNXl+QrS0FTopoKmwArbrWuOHRWngAhV8zqydOf8+NV+LMjrhumz1ZAf5QM82AWP515s/jdp2t+LAXoVDnxxmw8BojYi4LqggULh0jlk/Q0QbuLrqr0KQ0dEYvvh2mfikO9pxrW5VnkO4mZXwPBeIjSNHkA+JVSNyCwrmprmop5SiJ8s2UiRz4OkIWJ7HRUHwySd01LAROTTKm04URkBVTOXxmOCnwJDp2B0VxThG5dx4/3iS3hAhbDPTuKs0yDkwn8DfUJrF+W/gC8/kWffz5uKaVNewcRVB90kkELQPbIY35yRi7WcZmHXp0AnXXBdp8rD7/lTaG8MsNqc7qyX45svQ9H9gSZ6XN17o9+mk+7Xxe8UisE1s74TENPXjm++HoiwrsCNsrV4ZWY54ta8hb53Ax36voXNRiAtZa/rlxTqSEsMPaTGQ7eeZ0B3VPtQRL21BZvfHY7uXj9tncj3CdfkNyLbJ6nYo49BpLS+oN2EpJB2GJplA3prkJifB3OV4ziJ5fAe6DUqcRhLPss5htAg+nUBqbm1SSEBRZ+ZoRsQAaUiEvpZ2cgpkK+25SZkWmKgD2eWwRdIyf0Jf/4eLy0aiN7ON5c79YRu6mHkm67LGy6j7LPvMeCJ+4BqKxaHzcCU3Mv48e8l2HLAeW3+qyj96yX07c2n7Poy274M5P1dLkjK85B5TAd9mNjqOtdt1l+/5G18hdIcZBQ438arROE+G3SPcZa336p3bRaV5yA2KhsRy1Oh55eC/YNSh+hZ6cjMr81S2FC0qwJDtWK9dI0vBRbGN7A1Fl9BgBAegs7N7Fa1q7p64yf5PZFPsRR/Dk3/p+RS085s+iPGXZqPg1Olh5AKOJryB6z/j61YN6ITDs/rhe2/LcPKYWIH9uxmjBtXDoPpLYS5rTAXsP3lvjgz7SxmdBGPf1o8/rR4vLjnePrvkNn9vxyfVUtK8H/YGyc+GF6TrPfE/e95HZtiXsT3b3+ByX2AG0VvY3iWBh83+ZlC/b8P5eLv/or4u/8XZkQocOMHoIM8OD+T+yISzk7Hjpn96z2TwNXRJR2wvtdZrOuWVf/vEn+nQXsGYUfKQPkbCNSs87S6GJs2FON7uehRr+GYPMR9j/vithcx8OwsnBh1st75SdQY6TwdPHiwXGpj1yzIeD0ZZoUWKqEIdlUiDNOjoe4o7RRgKy6E0EMHdZBYOpkD49xM2EP1UNrNsD+YiDmz9FA184bX/v37fefvD0BF77RDdvgVpNdcg+rHUOy1omhZIoyWEGgUFjHeczDnzzrHNzOkc+G1ZBR20+CucgHa2amIu40EoRTfoD51T8uhn+fH0v2Y8AcTMFqPwT3rKtuvwn/rWJrnhwsoSNsJU3UXdP3+MqCLwozRXfEr3MT5r2z4UdUTqnuvo2x9ATZ+9j944Ol78ONx8binByFRPO7WWv5eqioLY/1tUTaYluXBiisoyVkIuzYVOpUCmpcSoVNYkfd+GjKtYrkHYD2nQMzrKRhTUy9d6nYL1l/GtyW1RHzFdvt9I1J3CVBFBUOw2ICoZKSM1zT7Bjvj29I8xNdlerbba7OQh9i+MbBopVn+IXUT0cS+VqK72f5uML4trYn4XrMiZ0Eysu1qqOxivRwi1lOxXioa9L3qVObGQF9pRMn05j9lgfFtaZ7i62mfS/uclYnCKvHTDorX4KA5iA3rDNWQREQ/1rxrMOPbmryNr3x48UK0m6RAicXQrOejMMFPPqu5CX4piXB01VQs+joYYR1K8X3oLEyfOdCxVM4PpcicMhNfPhCOu84KeCJ5CcZKS9645T7Bj7KVGJQbjr3vDqxLkjcjwe/x9zy7F3OT1+D7XqGwXwpB3Ky3MKDmIaxNkB7C++5MbKvuje7V5cDvZ2HB2HB0kP7u5Jk4rOiPh4Ri8d+ahMlJw9GriaVe3CX4jy55Grv6fooFuuZ27wNX88/TFiLYUf2/SnS6Jp4zr5Vj5KcJTPCTWz6V4G8D7MAGNim+TPAHLib4Axvb58DG+AY2xjewMb6BjfENPEzwk89qs8RpDQEXS4ph7z4QvQSXBD/KsSnmbShXf4znatej/3YvVu86KRca0cRsbJ8l/V2FSsSO7Y9OwiEsiinGsO2evvnwy9O25ymRd5jgZwc2kEnxZYI/cDHBH9jYPgc2xjewMb6BjfENbIxv4OEa/ESNUuD+iIHoJT1VrusobKi3/EkoRk4NRca2UrksevhZl4fsuryG+OnihtLfJSX3xbcX87NwJn48k/tEREREREREREQ+ggl+otvQ4an5KEiS1tD/5bh/9MdYN6L2KwtERERERERERETU1rhED/ksLn1C/kA6T4mIiIiIiIiIiNoCE/zks5jgJ3/A85T8Adfg5xqTgUyKL9fgD1xcgz+wsX0ObIxvYGN8AxvjG9gY38DDJXqIiIiIiIiIiIiIiPwQE/xERERERERERERERH6ICX4iIiIiIiIiIiIiIj/EBD8RERERERERERERkR9igp+IyFec34xxPRajOY+KPFOwEttLBLnU8tx9/sVtL+LRtFK5VOdO/z5ERERERERERFSnXdXVGz/J74l8iqX4c2j6PyWXiHxTc89TKQG+5xu54KTLgATEdNmBcU+Xw3D6LYTJ22tcOIRN7+fjcPUN4EYHPD5sEuKG9UYHcdfRJR2wvtdZrBvRxXFsdTE2bSjG944S7P83F8tPazDjj72hlLeh13BMHhIqF8QfKcnCorV7ceN+LX5dfRAX2g9HUsp4hN3t8vnf7sXqXSdrfqbmcy/1x4KnVDVlqMXP/H1ow98H5di/agca+ZNFNnxutGPs6Y/xXO3hdEdI5+ngwYPlUtuzH8tA8lIrgkOvoOhcJFI/SISmo7zTif1IWs1xynAFrEeuQL88E4ni++bav3+/T/39gcWCNG0EbLOvIH3YrVbmlsrcGOgL1IgN6yxvEZuLEQboe4hvrlmQ8VoyCrtpcdfJImBEOtaPVzsOagYpvkF9mnNrlDy7CVu+CR/+1010feD/oezUr/HSoufx5IOOvT9+dwqm9V9g47YLGJFrwEuPObY38MN5bDHsxNcPdEeHU2cAfTTeHt38xr6qLIz1t4UJ58zIfi8TaZ9YEVdQAkO4vENU9E47pFSkQidf3iH2HiInxEHrXL1Pm5CWb5ULEgHWAiNO9D8A0yJdXX/DC2yfW56n+NbEKisZSYcV0AdVwHTyUcz5aA50QfJuGa+/vst9fMXY5hqRskuAqpvYvzoZAsN7qdDXdfkdWH99msf6W25C8usZsIercf2IFY/+ORtzBjWMGOuv7/LcPtfy3Leu6T+/ngJrNxWuHKmAbnU24nrL+5qB8W1d3sW+ibFTE5jgJ5/FBD/5g5Y4T28lxfsdbJjgv7QXM/U7EPbJSoztJXXM7Dg8749YFLwOBQm9G0mo13d81e8waOtoHPzbtPo3DWpd2oFpOgtiPp+PAZ0cm6o/mwltwSAUrXgW3zTx+a6a+n3qK8bye9agFxP8d5xPJfirTEh6wYzorak1CQVhXzIe3aVDyXv6+oPKSnEQM9uG2Pfk5H95DmJUJUi8Lv5cM8co7MDeOZYVz0C/1IyYDxofhFjeDUFiRzMKpzRM3Be98zDSexxA9mgpk2hFxu+ToHjvQLMHKVJ8meBvQaVHMH/nfYifq0ZXsfjjFya8suo+pOb8rqaMG9dxVfgeB6ZtwlWD+wR/2fIUbFZNxqIR94qlC9jyQh46LJyE4T0d+73FBP8dINhhFyqw/dVY2Oc6DzIrkfeyBubRVqQPaUaa71weYl82I3ZjOvTd5G1eYvt8B7iNrxjhbbGIPRyL9eI1V2p5hXILKoI0UDnfZOf117e5i++xDMRvVWHOUjm2R4yIXKTCdlNcTdkt1l/f4qF9znkhGrYZZszpL1bEa2J/+h6xP+1aL1l/fZuH9rmW5761APObOuRps5E+QqzZUny1NiRXzIFWPsJbjG8r8yL2Ek9jp6ZwiR4iIh9W/WUBdkWPk5P7EiUGvDoJXbYecjMrvk510WK8+ZEGkyPz8eaSYtyQt9dz5iQ+e1yNR+TkvqRTbw36mU/irFyu52Y5dhtfwcQ33sZqYwJGTVmMw+flfbejixKKZnY2yb/Zi0woHBSDSHm2oCIqFomHM2E65yjfEqxH6kdOM/tDdYgZaYbF8SUS8gWnM2HcqkPSSLncCOFmJSJCQ+SSs0rYjisRoa5NO6gRMUCM7ym7XKY2E/4k3paT+5Jf/e5RPHPgPGzV8oYOd+GeTv8fOrSXy426ivPWu6DuKSX3JV2g7n8KJ23X5TK1KYUSSmVn3NVIDAUhBKqQZiT3IaAoKxWYYGh2cpDuELfxtWHPh3aMmexIAEsUoS7JfQmvv77NXXyfSMR6ObkvUTw5FDEFFlg9XlZZf32Oh/pr2xYBTW954NQxApGN1UvWX9/m4fpbo6m+tVAI075IRA+Sa3qoHnEjjDAXO4rkw5qKvcz92KlpTPATEbUpAcLVLnike+NT2BUdFLh43WVN+5vXUd25Q80SPY25cakUu5e8gnErgNmmxTDM+xSrum7A8JiZ2HT0Qv1Ef8SzMFzKQtqucsd2oRy738+FMGVgozP+z2yeiozg6Vi3bD4mp6zF5gkKzH1jJbZvWonVq1biL1/KB3rjfDnKEIIuTjcXKPAJ1yrEQYkCdfd11NBE5cHmmuBv4Dqu20OgdE1EUBuxIWd2JiJXGKD7jbypAQHXr8pvGwiGdkgIsgssctmGE0V6aNTNSSxSq7jxP/j+sfb4lVz0zj3oo/s1TAdq7wBfxrfH1Ojd8y65TL5Jamflt96qMiEzLxJxUbVpRfJZ54pg+pcOEc1eyoHXX78kXMeVcOf+ViNYf/2IBtpZ25G3r9JRvHYCJf/UQeO6BFMDrL/+w4u+9TkbLD0j8Oit7rISIT01KLHJ5wX5OU9jp6YxwU9E1AakpWwm5l8Q31XjovNU+QtF2LRqJVan78UZsdghcjRmf/42Zu4qd+y/VIzVb61E93F6dHdsqe+bvcjcdhKdRqxC/ta3MOC7tfj36YegHLsWBdkz8Hil2JHPLXVK8ocj7tMtiOtU7Ph31x2EYsLH2Bzv5jtjItdH6CoQjCfGTsPkqdPwp37yRom0Zr/0me5eqbnY3cWKXeJ7Ppj3lyP4QTUspyrgnEMSxPBX/KuJrNJpM/Ku6hDhxfqDdOfZPklGemgKEqWvibtlR6XYdJkWJSN5WTJidc8gPqtu3V/V+EwkH49AyPNGZL67EKaoFMQyvj7nx2OnYH6iJ9TNvBnbdfQovGxNw+CXTNixah+OPK2HnjkkH1eJyn0WZM5NglF8DdUNxcKDntvmyn3ZKInSI8JlDXfyQedsyNMocSV/IZJejkfMmCSk7bPJOz3g9dcvCUVi3LRi3DzcN2f99ScK6N7Mg+q9EES+moGMRRkQZidC19S8CNZfv+FV37qqEuYgZb0bdyHBKtgqK+QS+TfPY6emMMFPRNSmKmCvHo0+tWshdNFi7NRpmJz0rCOBrwjHjM+2YiwOOpLi28oRtvivWDnMzaL1vZ7F5IRRGNCrkd6eogvCho3H5NHh9Wf/t1ei11OjEDc1AbHjRqBvFzuOf34IuzftxT/kQ2p1H7UKhsp3MW7621g9byrGrayAYfGoxm82PCz+LtLf4vT60wNFSL850FFe8Smq/vYxZovvYyI8zi+iQPJEDFIsKcg8JgA37ShaEYfkAnmfWwKKNmZC+Xo0NPIWakPlOTBmqZDyZlMP4wvGmI1XcOLweqS+kYps83pot+mw8Ji0T4Aty4jtfUtgXT0U+JcNloMl8CLVRK3qMg5sOI3hL/TEPfIW79zE+VwTDmgMyF/yKHDpMk4eOYefs6IbtQYt5ly9gpKd6UhZkI49Ow24MiYReW4nBtpRcrgQkYMimvVgTmpDBXkoUsYhfeN6bP8gDlgRKbfJ7vD6659syFtjRtzLnq7TrL/+xQ7z0lRUzPgWptkqCKctYvxs4lZPWH/9htd9awpsnsZOTWOCn4ioTUkz6JdgsKeHzLaXE/NSUlxK3j/s5rJfLc/Cd34VKrDgP8rxF9ftBeU13wZwPn5mTCdMXHsIZV+Xw64MxYBhAxsm7tuH4rmULdiwYj4mz1uFDR+Jv/tD8j5RrxH/haR+XHOHPFBoMKcgG+rjGUhbkQ2b1oiUKA1UD7rvzgrFaTCWxiJZepgUtTE7TMsNyFEIsGSlIW1ZGrKLgMJtqUjbZm3wDR9pvUnFrbUmVdCNjsSeImvNQ/2SP1DDOF0DZTct4pbvQXZ4BpI+9H6WCt155/NN2HF/FEb8tokFQ119V4YVn3RB/MSuuOeBUAxfMAGLHjuCxZukb66RT+voNDOwow4xE3Jgtrj7lp0NlnwV1B7ab/IhCgU0Q+KQOCjYUe6oQXRtm+wGr7/+yZZrRGawEXEev2XH+utXijMQb49DilgXlT30MGw9gKTyZ5Cyz/23oFl//UUz+tZBwdCVV+CKXJRUVNqgCr69NdvJB7kbO3mBCX4iotZytm7JGmmt+m8+y8Km9LcxbUoC5qatxf4ylzkYwknsdkrAS6/MNMfx0+YtRuYqlxn2nfpj7NQE/GlAfwwdV3/mfIPXkFDgPun4um3S8jqdemkx4KmBGNAnFJ06uVm38+hiBOkSsMjld5Nei2b9Aelf1j6JUVKM5fe8gt3M6ZAzpQr68QYY3kjEmP52WC06aNw93K08B3GzK2B4LxEaftHDByihf68CP5nSxfhJMTQgVgtEjkyGYaS68TbDmWBH547iUTVLRahvPQxQ7M1Cq4+B2dLUbDRqLT9+tR8L8rph+mw17pO3ea3iMg6Edbn1oF6gPfoMfhxfHr+Mn7G0KLU6AdcFDRQKNwmkShtOVEZAxYdz+odQNSKzrPD6Niqvv35JKF6I+NwIpC7SQ76V0zjWX79SaSuBsmeI0+xuFXQjomH+u5sazfrrR5rRt+6mgqbACtuty7IdFaeACBVv1AWs2rGTF5jgJyJqLQ/VLVmzZPsNHFzzFsYmzcfK99digSEBg/u4XJgVvfGcUwJeesUZHMevnPcW4qY+i0fkQ+tU4/DKF7D9v+XindLjWcS7/G7Sq94a/I24f+QWnDC4X9+ffhmEa/Ibke2TVOzRxyBSWv/VbkJSSDsMzZIXahEHJ7FR2YhYngp9kw8RI5/gFEOhNAeZR5zW9rhWhJxcBaK1KqC3Bon5eTBXyftElsN7oNeo+NVkHyAl9yf8+Xu8tGgget8tb2xKtRWLw2ZgSu5l8RrRFS+ayvCl+LbWyeITeDLs3mYu9UOtybYvA3l/lwuS8jxkHtNBHybWStf2WSIIEMJD0JnJI/+g1CF6Vjoy82tvo9pQtKsCQ6U2mdffgCAl93XTpaSuARrnh6qy/vq94DAdFBvNsMhloBKFhyuge4z1N+A5x1cRCf2sbOQUyO14uQmZlhjow1mR/ZZTfD2OnbzQrurqjZ/k90Q+xVL8OTT9n5JLRL6pRc/T85sx7ulyGE6/hTB5U1Okh/Wu73UW60bUrvFzAdtf7osz085iRoS8yUsNP6vxbTUz+D/sjRMfDMf98qZaDY+XZvCvQa/TH+M5T8sQ0R0lnaeDBw+WS23smgUZryfDrNBCJRTBrkqEYXo01DUDUQG24kIIPXRQC3mI7RsDi1aaxRJSN3slVI9Eb2aKO9m/f7/v/P0BqOiddsgOv4L0YVJq3imGykqY16Qgc5+AkAFK2I8KUE8wwBDl6KQKJ3NgnJsJuxhTpd0M+4OJmDNLD1UzV4OR4hvU57hcop/rx9L9mPAHEzBaj8E964Lxq/Df4sX//B8cySiDDf8P1rz9uPrE8+j3UHs8MvJJ9Lv/Js5/ZcOPqp5Q3St+zqkSpC/9AlcfVOOe6lO42vVJxL+uRtdmxreqLIz1t0XZYFqWByuuoCRnIezaVOhUCmheSoROYUXe+2nItIrlHoD1nAIxr6dgTE3iwKlu1z6Qs3gh2k1SoMRiuO31ndk+tzQP8ZWmc1+zImdBMrLtaqjsNmCIEanjNeI1lddf/+A+vpHnFkLX1wiMT0GMui5KiidikThIyfrrFzzXX/uRNCQvKISivxo4LdbfqGSkiPVXyfrrJ5pon5247VtL9VcaS72WjMJuGtxVLkA7OxVxt5HgZ3xbk6fYez92agoT/OSzmOAnf9Ci56m0hv4GOwZMlR+w64UzBStxOGgcxvatnfNqx9FNG3D0klxsxK8jnY+vc3ztH7Ct+0YsGNJEgr9kLUYsPojuXTrLG+pcv2RDl5ecP6Mc+1ftwDdyqTG9hk3D4IflAt0RPpXgbwPswAY2Kb5M8AcuJvgDG9vnwMb4BjbGN7AxvoGN8Q08TPCTz2KCn/xBwJ+nP9hR/X+U6NT8SQHkQ5jgZwc2kEnxZYI/cDHBH9jYPgc2xjewMb6BjfENbIxv4OEa/ERE5N7dTO4TEREREREREfkqJviJiIiIiIiIiIiIiPwQl+ghn8UlesgfSOcpERERERERERFRW2CCn3wWE/zkD3iekj/gGvxcYzKQSfHlGvyBi2vwBza2z4GN8Q1sjG9gY3wDG+MbeLhEDxERERERERERERGRH2KCn4iIiIiIiIiIiIjIDzHBT0RERERERERERETkh5jgJyIiIiIiIiIiIiLyQ0zwExH5kBvnS3H0W7tcako59q/ajOM/yMWmVBdjU/penJGL9Vw6iaOfbUbmqpVYLb027cDhsgvyTi+VrMUI415Uy0UiIiIiIiIiIrqzmOAnImpNP5zEduMrGDVlJlYbEzDi5ZnY/a0g7wSqC9/FK/nlcgk4vvYPmFvglPC/sBdzX1iL4zWFSpQZC3DmWk2hvm/3YnVuKW7IxRrXyrF/ZSm+l4u1zmxLwJB5h4DewxE3dRomS68RWij/sRyjYlbieO2vJ90gqL0B4PLaXiIe9L92HL4o1P83a25CNP4zq1dNxah7XsHuZt5HIP8gnDMj881YPBoSgbRSeWOtchOSX4hH8tx4DH1+IcxV8nZX1yzIeDUGSXOTEauLReZJeTv5EAvStO2QtMv9jUn7voWIeSEJRineuvi6OFZZkLMsCUN7ev55am03YcvfidkJechYsAkTX9qJI/907Ln61Rf4JOOQ02snkp98G1NyLzsOcHH1r/uRPEH8nCVbMCV6C3ackndQm/LYPt/SRN2W2ucxzyD2TSPin38G8VlWeQe1NU/xLXqnHYZOTkPastpXJooaCzHbZ5/1s+vvaZNT/KXXQsTr2iFythmMdNtrkfrL9tlntcT4yH4kDfG/F49bJo2PhmLhQdZcf+BV2/0z2+d2VVdv/CS/J/IpluLPoen/lFwi8k3NO0/t2D/9aex+6lOsHBHq2HR2MyYOK8LIz1dhcCfg4rYXMfDsLJwwhNfsPrqkA9b3Oot1I7rUlHF+M8Y9XQ7D6bcQhmIsv2cNep3+GM/Ju285uhhBH/bGiQ+G4355U/2frVWK5T3eRfe/bkFMV3mTk6MpHZD9+AWsHKaUtzi4/p41Gvs3PfLw+1OLks7TwYMHy6VWIthhFyqw/dVY2OeWoO5UsSFTnwT7ou3iNgWEI0ZEvvcoTFvHIFg+wkGA+U0d8rTZSB+hEju9OYjR2pBcMQda+Qhv7d+/v/X//l8Iy4pnoF9qRswHV5Du0k5IhGMLMXSBAqk5Bmg6ihuqrLBCDXWQ+P6mAPs1AYVLO8OkbfznvSHFN6iP47YntYDSI5i/8z7Ez1VDuiz8+IUJr6y6T4zh72rKzn4s3Y8paQpMX/8keneQN8oc+9pj+tqB6H23uOHyBbH2d4HqXsd+b1WVhbH+tjS37XOdpup20TsPI73HAWSPFttnsVZn/D4JivcOIK63Y7+32D7fAW7jW4m8lzUwj7YifUgT7W0Lts+Mbwtrgfpbz7k8xL5sRuzGdOi7ydu8xPjeAS1Qf9k++7CfPT6yIGNyISIXJUIjnQZVeYj/TSHGXE+FTuE4wluMbyvzou1uoJntM2fwExG1mpMoWx+OwZFycl/y0CD8/vF8lP23XG7E8dy3MW1KguM1P0uevd9SemPAuFJs21TcYGmd6hNZWL9rOAb8x+0N6rzSRQlFMzsj5CcUSiiVnXFXe7lc67QZOYhGtNh5lSiejEHsqe0wn6sp1hEKYdoXiehB0uBEFKpH3AgjzMWOIvmA05kwbtUhaaRcbkBA4dbt0EyJcyT3JUFycl/SXiGeI0p0vksuk28IfxJvy8l9ya9+9yieOXAetgbrr13FgYwT6Dutf4PkvvQtgNKdX+OR+N85kvuSe5uf3Kc7xF37XKvJul0J23ElItRy+ww1IgaYYTnFWYQ+wUN8BSEEqhAv+nVsn33Xz66/zgQUZaUCEwzNTu7THfKz6y/bZ5/2c8dH0CBxtZzclwRFQjdSjC+/5ez7mmq7G2h++8wEPxFRqwlH1LxyZGwovrWMzY2yXOy6NANRj8obGhE2ej5Wvr/W8Xp7vNPse0k59n8oLXfjsrb+zevApSsQ/9sEBfoav4BB8Ta0Q1/BTPlGwsRX/4Dhz5/ESNMWxDwsH9rSzpejDCHo0kku0y+CYLPiivZRMfK1VFBr82Bz7cCes8HSMwKP3hrHKBHSU4MSW6VcprZlQ87sTESuMED3G3lTAxYULRMHHn3v4E1CuvNu/A++f6w9fiUXb/n7V9j4w+/wzG8bG6mcQ1mGCv3CmR30P97U7WBoh4Qgu8Ail204UaSHRs267tuu4zpzfAHOm/rrpMqEzLxIxEXVJoPJd3lbf9k++yOvx0cNVKDilAohtZNnKHDcRvvMBD8RUatRIMzwKVY9Woy5r72CaZMSMPdgMAwbpyHstmexh2LwBGnd/GfRXd4iOf7lXuCzvTh2Vt5wy0Gk1STxN+MbeYuUOO3+gNjp003HEvlGwrp3xouf1xld7pMPqUfAP77egYuFloYP7P06C4ukz087hGrpOQCNrr0vv1JzsbuLFbvE9zVr+NMvgr3KBnRUiLWhlhKdxd5sxb9cRi1VlTAHKZ2OA0KCVbBVVsglaku2T5KRHpqCxP4eGq9zNpSEi8G1ZCDp1XjERscj+ROL2IKQP/nx2CmYn+gJtcvN2LLPDiJoWE9xCNqI7y7j5GO/Bv5+BIunbcHs8VuwfNt5/CjvJt/lVd0WqcZnIvl4BEKeNyLz3YUwRaUgtoe8k3xUJSr3WZA5V3omShKGcu3mgONt/a1VuS8bJVF6RDA56Ae8r79sn/2P1+MjZ9dsMM1OhvllI6L5DZyAczvtMxP8REStSolew6ZhyQcfY+WatVgydRTCnJLonSJnYd2wuiV8FJ0GojrfaYmelHwITS2Zc2kvNuX0x5IU4M8fHXJ56O0gGGqS+KPQ69IhLJc/d9EuAY98tcLl37Egvbac6/S9v/M7kLlrPMbe/TayP3dJ1T0+HrOlzzcMRKeHn3U8sNfp9acHipB+c6CjvOJTVP3tY8wW38dEeDcQISIfUJ4DY5YKKW/qxBatCaV7YKrUIeWj9cjOS0VkkR5x2/gtDP9xGQc2nMbwF3riHnmLw3l8vec+PKnxsObO30/gyMWeSFz5IhZlPY/Hj32AeTuvyjvJJ3ldtwXYsozY3rcE1tVDgX/ZYDlYApu8l3yVFnOuXkHJznSkLEjHnp0GXBmTiDw2yYGhOdfmGnaUHC5E5KAIL4+ntuVt/WX7/Etg25WGtAULkVKqRmyUqt6EKAoEt9c+M8FPRNTaqouxyXU2u/xKmz8RE3eVywcCYQn/hc0b5eV5pNeaLdj8aYLLMj3OyrF91kzcMM5G3NQleOe7iXh9W93n1XPfQMyo/dyNnyI/52OXf2cL1tWWR9c+lUn8/PnvQpkyHyvnzUfZqxOx+7y8i8gLyiAVLBVXnGZx23GlQoOQ37h0TYOCoSuvwBW5KKmotEEVXPflVWoLdpiWG5CjEGDJEgcXy9KQXQQUbktF2jZr/dn5HZUI6R2DuNFquXOqRPSYOOQcLuEsfj9xPt+EHfdHYYTrMjwXL8F6sRu6uquOd9+FoJ59MHxEF/nGwF14Jvp3KPjiHGfx+6xm1O1zeUj+QA3jdA2U3bSIW74H2eEZSPrQKh9APktsl29dbTvqEDMhB2YLW2T/14z6e4sNlnwV1A8yve83vKm/bJ/9ktfjI5lqmAGGpetRuNOA6wvUWHhM3kEB4vbaZyb4iYhaW6f+GOs0q935FR/l9ADeWkcXI+i1HbgoF+so0EkXXNfR++EkNk36IzY9sg5LhnURN4QiZsUW9Nv1R4yYd6jBQ3RvqT6J3atmYuakqVgk32hYZEzAuCmLsfsbp07jzQvYP29i3ec/PB4f56qRGZ2ATc7H1VOM5fe8gt0X5CL94ilUauj+bkPdQjs2WItUUHVz6cB2U0FTYIXt1qllR8UpIELFgWjbUkL/XgV+MqXD8IY4uBBfsVogcmQyDCPV9WcQKUOgUhTC6rJ+aLD4ctdikO/48av9WJDXDdNnq9FgtbbvLuLL++9FkLtnqHT6Nbp2KIftO7kskz6n/rfKyHc0o26fsyFPo3ZankkBrT4GZotNbKnJfwi4LmigULBF9n/NqL+1Km04URkh9r/kMvkZN/WX7bNf8np85Kq9CkNHRGL7YYu8gQLCbbbPTPATEbW285sxrscfMddp5n7t6y/faZFU91TRJoQj7tMlGCzl8iV3B6PfpM+Qb+iPDvIm3C0es/FrbH5jIBrPw5Rj06sT8U2/WViyZlXNcjnSjYbZKWuxYfFAlI1/BdvldfxvnDiIbx5Zgg1On9+h71vI35mAR5roe9S6f+QWnDCEyyX6ReqhwxhkIK/UURSObMf2sFjopA6M3YSkkHYYmmUTe7qR0M/KRk6BPBwpNyHTEgN9uJcnG7UN5xhCg+jXBaTm1g46BBR9ZoZuAJcD8HVScn/Cn7/HS4sGovfd8kZnN37EpYd/jXrPcKy2YnHYDEzJvSwWukIX/z/YmF/7Fa+bKDt0Gv1+181lqR/yG851u7cGifl5MFfJ+0SWw3ug16hYt32YbZ947f27XJCU5yHzmA76MDFq9dpuCjiNxVcQIISHoDO7VX7B6/rL9tk/eTk+EkpzkFHg3E5XonCfDbrHvH8QK/mYFmyf21VdvfGT/J7Ip1iKP4em/1Nyicg33dZ5KiX4ny6H4fRbHpbacSLN4P+wN058MBz3y5tuS6P/bjk2xbyIs8l/xWytyxXkh2IsGrYCj6zfgpiH5W2eNPp7SjP416DX6Y/xXO2NCGp10nk6ePBgudQabDAty4MVV1CSsxB2bSp0KgU0LyVCJ03fLjch+fUM2HurcKUqBIlz50BX8+UVAbbiQghiJ1ctPVDomgUZryWjsJsGd5UL0M5ORdxtJPj379/fyn//L0vRO+2QHX4F6cOkoaNLDGFH0bJEGC0h0CgssKvmYM6fdVBJ27MyUSgOQG0HxRgHzUFsWGeohiQi+rHmxViKb1Cf43KJfq4fS/djwh9MwGg9BvesW5rnV+G/xYv/6UjPX8rfgMHFv8PnS9ROCfubOP+VDT+qekJVszT/dZRlbEfG8V/jEcV5XH1oMOJn9ETXmmO9V1UWxvrboppon514qtvCyRwY52bCHqqH0m6G/cFEzJmlh8plNaemsH1uaR7iq7Ai7/00ZFrFcg/Aek6BmNdTMKbmuuoc35ZtnxnfltQy9bdG8UK0m6RAicUAjbypuRjfltYS9Zfts+9qifGR2D6/b0TqLgGqqGAIFhsQlYyU8Zpm38BhfFuTp9i3XPvMBD/5LCb4yR/c1nl6YS/mvpaFCw91xl3ypvpCETPvLQyoXRPh271YvcvpIbeueg3H5CGNLO3jyt2NBWmJnrUr8Zf/7oBe/+GY3SFcsaHsUgj+NCkBz3n7jYJGE/zl2L9qB76RS42RHjo82JsbCHTbWj/B71vYgQ1sUnyZ4A9cTPAHNrbPgY3xDWyMb2BjfAMb4xt4mOAnn8UEP/kDnqfkD5jgZwc2kEnxZYI/cDHBH9jYPgc2xjewMb6BjfENbIxv4OEa/EREREREREREREREfogJfiIiIiIiIiIiIiIiP9Ru3759XKKHiIiIiIiIiIiIiMjPcA1+8llc25z8Ac9T8gdcg59rTAYyKb5cgz9wcQ3+wMb2ObAxvoGN8Q1sjG9gY3wDD5foISIiIiIiIiIiIiLyQ0zwExERERERERERERH5ISb4iYiIiIiIiIiIiIj8EBP8RERERERERERERER+qEUS/NVHs7D6s3K51BgB1dWC/B64cb4UR7+1yyWi1lCO/as24/gPctELTZ/XRG1IsKOmWa0uxqb0vTjj2EpERERERERERL8gzUvwn9+McT0W47hcrHWjfC/Sj9cl7I+v/QPmFjgl8M/vwNTfrrz1c9WF7+KVfCZOqWUdXdIBE/MvyCVXlSgzFuDMNbnozMvzmuiO+HYvVueW4oZc9NbFXROhzSgFrpVj/8pSfC9vJ/IVwjkzMt+MxaMhEUgTT1VnnvbdctqEtGVpTq+FiNe1Q+RsM9gy+xIL0rTtkLTLTVSuWZAx5hnEvmlE/PPPID7LKu8A7EfSxG3xSJ6bhKG6WGSU1k0GId91tfQI5k/IQ8aCTZiYcAQn3UyeuPrFIcx/YQuWZ+zE7OgPsf5v1+U91Nbct8ECrLnJiB2TBKO4/5nnk2FyM2SrzI1BxMvGeu206bS8k9qUp2ts0TvtMHSy87U1E0WNNN9sn32Xp/jaj2Ug/gW5/o7JgKWxsa+kPA/JL0jxjcdQD/WcWpunNtixL0aKrxQ3XTwyT8q7nLH/7NO8GgM11bdm/fVzTcRXZN+3sOm63og7skSPUH0IFwTXdFURtq1aidXia/0+noFERDUulWLuwXJUy0VXZwoc7abjNRWjeiRgt7v7WEQ+RBEUgZjZRhi08gYnnvbd0kMPwxuGutdoNa4jEcbJOijlQ6jtWVYkI9VDt65oRQwKh61H9tIUrN+ZDk1ukqOTWmlCykcKJOasR+qCdOz5aCjMGiPMzCH5tstWZCy4jCFLopE4dyzeH30ZyYusuCrvrnMeprz2ePHDFzEj8XksWv87nI/ehy+bezeb7gi3bfCxTKRZdEjJSUfK0mzseVMhtrmZsMm7nVWUF0LRN7ZeO63vIe+kNuX+GluJilPBUA2Lc4pbHLSuF1W2zz7NbXyrTDC+acOY1XL9HW8TjzM1ktS1IO3VTKgXSPFdjz3L1cgYnYG62+/UZjy1wVVm5FkikSrtq42buK9B3Nh/9mnejIE8961Zf/1dU2Mn4dhCxLwv1v2P5Lq+1YDIIHlnE5qX4P+uHF9eOIivvxXfS7NOPSTsz362ui4p9WEBzkCLkVOnYbL4io8KlY8iak2l2DQvAdOmbMY38pYazTiviVra8cJ8IPcgytxk+LsPcbSbNa9xQ9D9QgUOb+b5SX5AoYRS2Rl3tZfLzjzta5SAoqxUYIIB+m7yJmp7pzNh3KpD0ki53EAlbMeViFCr5LIaEQPMsJyyA8F6pH6UCE1HeVeoDjEjxX1ezlChtnH1mBVfP9kH4fc6yr96+rd4sfgLHPnOUa7TFS8ueRK9O8nFe1Xo9/wp/OOUXKa25a4NfiIR65fqUVtjFU8ORUyBBdZGJpkJNysRERoil8ineLjGCkIIVCFNpPnYPvs2N/G1F5lQOCjmViJIERWLxMOZMJ1zlG8pNSM7KBZDe8vlHjGIUychr1guU9vx1AYH6TFnaTRUtXEPj0TMQQts7icBi9h/9jlNjYGa6luz/vq3JsdOAgq3bodmSlzdNThIDXXLJ/jLsf39AgxLCsaKxTtw8eFnbyWdGkvYP/T7yXVJqQlD0B0HkTZFSq4m4M+b3H4XhahlSeuU33r+QzjGzluLle+PQi95S3PPa6IWdTYLaZ+OwLr37UhbdsjtLP5a1Z/vwP5587GE5yf90lSZkJkXibio2iEPtT0bcmZnInKFAbrfyJsaCIZ2SAiyxcGpgw0nivTQqBtLLl3HdXsIlLWdWfJJP/7wPXD3v+FXchnogkeeLsP5Crno1veo+vY+BMk3BshPCNdxJVwBhVysI+B6w69tkM+T2ln5bbOwffYHwjWxIe7oXF/V0ETlweaa4BcEWIKUTscpodHqUGKrlMvkM9y2waKqCtjCQ9C50Z0y9p/9jBd9a9ZfP+bN2MmComWR0PW9ve/beJfg/+Ektr8xFbsiV2HBu+uQ+9ReDH9hMQ6fd/89vW8KXGfwD4LhfSm5uhbvjA2XjyJqOYpOA1Gd/3bNTaRpk6ZikXTubdiLo1+X4kxjmdPbOK+JWsrFz97GqHFf4E8b3kLMuHVYGrwCQyZl4Ru3D4IuRfZaGyZHsf2kX57KfdkoidIjwsvZC3Tn2T5JRnpoChL7expZAqrxmUg+HoGQ543IfHchTFEpiG1sGY/TZuRd1SGCS3z4tPseuB8nv/2+3pI8P94Aqi55WF//h8s4smgnvnwhCs88IG8jvyAUifVSK9bLBuNMOyrLAdOiZCQvS0asrv7zNchXVYrXUwsy50rr+kpr6w/FwoNeZPzZPvuF4AfVsJyqqLckjyAOayv+5RLjYBWii6yOZV9kwk3xul7Z5J1aamXu2mChSqzHMzKgWDAGWg/dMPaf/YtXfWvWX7/lVXzP2VASHgJYMpD0ajxio+OR/IkF3mYom07w3yxF5ltrYB/2ATYkhKMDFOg1di0K1wyH4tbM6Pr6zryBgx/Mr5vBP+9jHDz9FsLk/Z0iZ2HdMM4+pZYVlvBf2LzRcRNp5ZpVmC2dewmjMPip/ujeSYFOuuC6O523cV4TtYTqosWY9scXkfbtILz32Vo895C0VYGwpE9RMKUzdk/5A0a9sRnf1DsNBRxdMhW7npqOXmVcQop+aewoOVyIyEERXDvUV5TnwJilQsqbTa3nKsCWZcT2viWwrh4K/MsGy8GSeoMSBwFFGzOhfD0aGnkL+ajwx5F4fB92lIqjyZvXUbZuM5YfkPc14vxnh/BJ2j58+Pcu0D99r9PMf/J9NuStMSPu5cbqeTDGbLyCE4fXI/WNVGSb10O7TYeFx+Td5KO0mHP1Ckp2Suv6pmPPTgOujElEnseJn2yf/cYTMUixpCDzmDiIuGlH0Yo4JBfI+5yF6hAbloHMbVLgxet0fjKSl59w7CMf0lgbLMY1Kw0pc43IEXSI7utpZj77z37F2741669/8nrsJCrdA1OlDikfrUd2Xioii/SIq4l309pVXb3xk/zeCwIulhXjy7JSnL0klTvhIY0G/SLDcb/rGlLVxdi0oRjfy0Vn9v+bi02PrMMJA2eiknuW4s+h6f+UXPJO9dEsZBe6W+gkGAPiRyHsbrl4SzPOayIXt3Oe1nN0MYI+7I0THwzH/fKm+gR8s2Eixpm1WLcm4db5e3Hbixh4dhZOjDqJcU+Xw+B0E5XIlXSeDh48WC61pkrkvKBHxewSNLzke9rnzIKFIYlQ7itE4mPypmbav39/G/39gcgO0+tqDD0dg9RBjoGl7WAyCoPmIHZYLBJHqutupp/LQczIChiLDHJiSEDR3EgYH8zGgQnqmi0SoXghhi5SInVrIjQeJrW4I8U3qM9xuUR3XPVlHDGVwXa5PYL698Svtm7Cdy8Z8JKn+nnzMnZMWoWqxPmIb2b3v6osjPX3jvDcBttyYxFfFIvs9/RiD7pptk9iEGtPQeGUurrtDbbPd4p319iiue2Qrb2O9CGNN74t0T4zvneCm/jabTDl58FapUDIAB0UG2Nhe62Rc+BmJYq2bUfhOQHKx6Kh+nsMcnqYsX5E81LBjO+d02QbbDfDOCgTEQXZiG70APaffZdr/W1G31rC+utnmhFfuwlJWivirLVjJ9ERI9ptjcR1sS1o6jLcvDX4J72I9DIFwkbIM/MTRyPsLgvS/vgKdp+XD6vVqT/G1s7gd3lx7Wi6U26U70X6zYGNnHf9IRgLcOaafOAtzTyviVrTzXLsnvUi5v5jBHI/qkvuE/2iVNpwojICKj4czEcooX+vAj+Z0mF4w1DzitUCkSOTYXAdgJyzIU+jvvWwOOnbSlp9DMwWm9jVlZXnIG52BQzv3V7yiNpAp3vx5OiBeCnxSQz57XXYjvfEI00tvdP+XgzQq3DgC3as/IGU1I3PjUDqIu+S+zUEOzp3ZCX2LwKuCxooFG6+vcz22f8oVdCPl67NiRjT3w6rRQdNY/2n9sHQjk6suYbHDbkLlUdDoG30+TjUFrxqg5U6DI3Ogfmom2W22H/2I83oW0tYf/1MM+KrDIFKUQiry7NTpHbAm3VGvE/wl2zGn38YjaSx/dG9NsnUXoHufcdj8lgBb//F5cG55zdjXI8/Ym7tOvxOr798p0XSozwByQc097wmak3tQxH11hZsfnc4uvPbJPRLIM1aCGmHoVlOi7gIAoSmHiJGvsM5hr01SMzPg7lK3ieyHN4DvUbl+HpqeQ5io7IRsTwVes798Bs/Oj0r5vy2Qzg8uA/CpYfnVluxOGwGpuRexo9/L8GWA5cdB9W4itK/XkLf3nzKrq+TEku66VJS1wCN80NVneq2UJqDzCNOXxe/VoScXAWitZ6Wi6C2ZtuXgby/ywVJeR4yj+mgDxNbZNfrL9tnvyQ4TWazfZKKPfoYRErrr7vEV7hWlyoSjqQjXRELXW95A7Upd21w5cEM5BxzSubftMCcp4emZyP1V8L+c+Bg/Q1s9eKrQfTrAlJzLY590refPzNDN8C7pba8X6JHKMVy/bvolL4Occ7J+UulyJz+Ii5M+hqznZ/wISX4uWwE/Qy3s/TJrWVLGnwPsRjL71mDXqc/xnNd5E2S5p7XRC6adZ56WLqsgV7DMXmI+xEVl+ih5mj9JXpsMC3LgxVXUJKzEHZtKnQqBTQvJUIX7GmfAFtxIYQeOqhrHwgmDnTaTVKgxOL0VcVm4ldQ76yid9ohO/wK0odJ19H6MRRO5sA4NxP2UD2UdjPsDyZiziw9VJV5iO0bA4tWmsUSUjd7RTyuwVeRmyDFl0v0tJIfzmPLnJ042qE7HrhxBlcf+k+8PLEPVDWTJG7i/Fc2/KjqCdW911G2vgAbP/sfPPD0Pfjx+GXg6UFIHN0V99R8kPe4RE9Lc98GR55bCF1fIzA+BTHqulqoeCIWiYOUdXVbWQnzmhRk7hMQMkAJ+1EB6gkGGKKan+Bn+9zSPFxjFVbkvZ+GTKtY7gFYzykQ83oKxoRLsXZqu4WWbZ8Z35bkIb4dLch4PRlmhRYqoQh2VSIM06OhrkkSO1+bxc94MxlpVSpoFTbxs3RIXpAI7W08iJXxbVnCMQ9tcN8ryFuRhozjCmj7KlB52A7VpDmYM0Rqd9l/9g+exkDyITL3fWvW30DgaewE2FG0LBFGSwg0CovYlov1/M86p29Eu9e8Nfiry7F/1w58/pUF39+8C7jRAb/+j3A8NWwEBj/slByVXNiLua9l4cJDnSEe2YhQxMx7CwPuk4tELm4rwV8wExM/qUT3+1zPuuuwnw3G2A+WYLBzgl/SnPOayMXtnKctQrCj+n+V6HRNamvLMfLTBCb4ya3WT/D7FnZgA5sUXyb4AxcT/IGN7XNgY3wDG+Mb2BjfwMb4Bp5mPmSXqPW0WeKUqBl4npI/YIKfHdhAJsWXCf7AxQR/YGP7HNgY38DG+AY2xjewMb6BpxkP2SUiIiIiIiIiIiIiIl/BBD8RERERERERERERkR/iEj3ks7j0CfkD6TwlIiIiIiIiIiJqC0zwk89igp/8Ac9T8gdcg59rTAYyKb5cgz9wcQ3+wMb2ObAxvoGN8Q1sjG9gY3wDD5foISIiIiIiIiIiIiLyQ0zwExERERERERERERH5ISb4iYiIiIiIiIiIiIj8EBP8RERERERERERERER+iAl+IiJfcX4zxvVYjOY8KvJMwUpsLxHkUstz9/kXt72IR9NK5VKdO/37EBERERERERFRnXZVV2/8JL8n8imW4s+h6f+UXCLyTc09T6UE+J5v5IKTLgMSENNlB8Y9XQ7D6bcQJm+vceEQNr2fj8PVN4AbHfD4sEmIG9YbHcRdR5d0wPpeZ7FuRBfHsdXF2LShGN87SrD/31wsP63BjD/2hlLehl7DMXlIqFwQf6QkC4vW7sWN+7X4dfVBXGg/HEkp4xF2t8vnf7sXq3edrPmZms+91B8LnlLVlKEWP/P3oQ1/H5Rj/6odaORPFtnwudGOsac/xnO1h9MdIZ2ngwcPlkutQzhnRvZ7mUj7xIq4ghIYwuUdEGDNNcKYL0DdW4DlCBC9ej3iesu7a502IS3fKhck4s8VGHGi/wGYFunqzmcv7N+/v9X//l8OC9K0EbDNvoL0YY1EpTwPyW+aADG+1lIlEt9Lhb6u+YF930LEfVjh+VxoghTfoD7NuTVKP8s/rVg++wiuPtYFN764gIcNYxH/n3fJO538cB5b5uyDLeRefP/F9+i3ZCyG95T3NUNVWRjrbwtz3z6Lyk1inc2T66wKho/mQBck73NiP5KG5AVWKKOUqCiw4tE/Z2POoOa0zA5sn1vez77+iipzY6AvUCM2rLO8RezqjTBA30MueInxbXme6q/9WAaSl1oRHHoFRecikfpBIjQd5Z3OrlmQ8VoyCrtpcdfJImBEOtaPV8s7vcf4tjRHHU3ZJUDVTYzhyRAYXPpNDk30vaT4vp4CazcVrhypgG51drP7VhLGt+W5q7/24kxkHrY7CjUqUPhRNoQ3C7FnvDzelrF99ldi/c5KRtJhBfRBFTCdfBRzGutj/Yz2mQl+8llM8JM/aInz9FZSvN/Bhgn+S3sxU78DYZ+sxNheCnGDHYfn/RGLgtehIKF3Iwn1+o6v+h0GbR2Ng3+bVv+mQa1LOzBNZ0HM5/MxoJNjU/VnM6EtGISiFc/imyY+31VTv099xVh+zxr0YoL/jmuLBD8EO+xCBba/Ggv7XKcBaJUJC5cKGLMoGqr2Yrk0DREzlMg2x8Fj1+VcHmJfNiN2Yzr03eRtXmIH9s6xrHgG+qVmxHzQ2CBTHIDqjFCu3uMYWJ7OxNCXBKQWJdbEWji2EEMXKJCaY3AkIKqssIp71I0kEz2R4ssEf2u5ioIJWTifMBnxvxUr8A9WLH74FHRnn0c/6a7zLTfx5YLVMD8xFm/p7wX+WYJk/WW8fHww+shHeIsJ/jvAXfsMGzL1SbAv2i5uU0A4YkTke4/CtHUMguUjHMTB5+RCRC5KhEaq9lV5iP9NIcZcT4VO6qo0A9vnO6AFrr+Wd0OQ2NGMwinNT/o6Y3zvAA/xTXrBjOitYj0Ur6PCvmQ8ukuHkvf0DSZFFL3zMNJ7HED2aClxaEXG75OgeO/Abd1gZ3xb0LEMxG9VYc5SPaTI1LTBi1TYboqrKdfy3PcSYH5ThzxtNtJHiD9VnoMYrQ3JFXOglY/wFuN7B7i9/tbn6CMrkbpVvM66XFfZPvunym2xiD0ci/Vim1xTv8stqAjSQOVyE/bntM9cooeIyIdVf1mAXdHj5OS+RIkBr05Cl62H3MyKr1NdtBhvfqTB5Mh8vLmkGDfk7fWcOYnPHlfjETm5L+nUW4N+5pM4K5fruVmO3cZXMPGNt7HamIBRUxbj8Hl53+3oooSimckA8hMKJZTKzrhLSiI4C9KLAxc5uSAJj0TMQQtszpNWGhBQlJUKTDA0O7lPd9DpTBi36pA0Ui67KjUjOygWQ2s7pD1iEKdOQl6xVBBQuHU7NFPi6mYXBjU/uU+t7RLO7+yG3j3kCnx3Nzz+/Cn845SjeMsNG478NRS6/7zXUX5QjeF6E778ylGkNuaufT5tRg6iER3uuDArnoxB7KntMJ+rKTrRIHG1nNyXBEVCN9IMi+NLftTWWuD6K9ysRERoiFwin+ImvvYiEwoHxSBSvo4qomKReDgTpgb1txK240pEqGtTxmpEDBDr7ymPHTFqDU8kYr2c3JconhyKmAILrM6haarvJRTCtC8S0YPkTwnVI26EEeaavhe1OXftcz2VyFu6B7rZYh+5kXEy22d/ZMOeD+0YM9mpfoc2TO7/3PaZCX4iojYlQLjaBY90b3wKu6KDAhevu6xpf/M6qjt3qFmipzE3LpVi95JXMG4FMNu0GIZ5n2JV1w0YHjMTm45eqJ/oj3gWhktZSNtV7tgulGP3+7kQpgxsdMb/mc1TkRE8HeuWzcfklLXYPEGBuW+sxPZNK7F61Ur85Uv5QG+cL0cZQtDF6eYC/QJVVcAWHoLOnm70VJmQmReJuKjazg61PRtyZmcicoUBut/Im1wJAixBStSFVgmNVocSW6X43oKiZZHQ9XWdeUa+rRv6TP0aB/561VH8oRLW8z3xyIOO4i3fXcY/Hu6Gf7/Vvt+FoIe74uRZ+efIJwk2K65oHxWvzLVUUGvzYGuQIHRVgYpTKoTwBp1/cXv9FXCdVdXvCNcqgI4Kp2uuGpqoxupvMLRDQpBdYJHLNpwo0kOj5vXY5wjXcSXcOaZe9L3O2WDpGYFHb4VTiZCeGrnvRX6hNBup1+IQ3b+xwRHbZ790rgimf+kQ0eQs/J/XPjPBT0TUBqSlbCbmXxDfVeOi81T5C0XYtGolVqfvxRmx2CFyNGZ//jZm7ip37L9UjNVvrUT3cXp0d2yp75u9yNx2Ep1GrEL+1rcw4Lu1+Pfph6AcuxYF2TPweKUJmbmlTkn+cMR9ugVxnYod/+66g1BM+Bib4918X1Dk+ghdhXghemLsNEyeOg1/6idvlEhr9kuf6e6VmovdXazYJb7ng3l/mYQqCzJnZECxYAy0jfVhZZX7slESpUcEk0c+w/ZJMtJDU5DY6OBDFqxCdJFV7JrWEW6KP1tZUTMALQkPASwZSHo1HrHR8Uj+xNKgfSFf0x79Esej6/q38cq0I9iy6m/4cdqT6Od6o/byVXx57134lVyU/Ob++3D+Yu0TYsgX2avE2lovQahEZ7GaVvzLw8yxazaYZifD/LIR0fyGld/wfP21o1LsdpoWJSN5WTJidc8gPsv5mTjki4IfVMNyqkKMXh1BvKg2Vn9V4zORfDwCIc8bkfnuQpiiUhDbzPW76c4TiszI0+oQIef2vOp7VVXCXG9yBRAi9sdq+l7kF4p2pSJkpK7B0mkObJ/9kjjuydMocSV/IZJejkfMmCSk7XMeIdX5Oe0zE/xERG1K7IhXj0afrnKxixZjp07D5KRnHQl8RThmfLYVY3HQkRTfVo6wxX/FymFuFq3v9SwmJ4zCgF6N3OVVdEHYsPGYPDq8/uz/9kr0emoU4qYmIHbcCPTtYsfxzw9h96a9+Id8SK3uo1bBUPkuxk1/G6vnTcW4lRUwLB7V+M2Gh8XfRfpbnF5/eqAI6TcHOsorPkXV3z7GbPF9TISHjioFIDuKstKQMteIHEGH6L6eZubbUXK4EJGDIhqsIUttpDwHxiwVUt5s4mHHoTrEhmUgc5s0a0yALV8cjCw/4dgnKd0DU6UOKR+tR3ZeKiKL9IirOZZ813V8mXEIVQlGpE+9Dz/azsFafAmcTPbLZNuVhrQFC5FSqkZslKpeQol8lTfX32CM2XgFJw6vR+obqcg2r4d2mw4Lj8m7yTc9EYMUSwoyjwnATTHOK+KQXCDvq0e8HmcZsb1vCayrhwL/ssFysKTezXjyBTbkrTEj7mW5r+Vt34v8nAWFeSro3Y6N2D77rYI8FCnjkL5xPbZ/EAesiGwkbj+vfWaCn4ioTUkz6JdgsKeHzLaXE/NSUlxK3j/spltXLc/Cd34VKrDgP8rxF9ftBeU13wZwPn5mTCdMXHsIZV+Xw64MxYBhAxsm7tuH4rmULdiwYj4mz1uFDR+Jv/tD8j5RrxH/haQGUzmJXCmhHW9Ayuo9OPCBFuYhschzm9cVOzb5Kqgf5HDGN9hhWm5AjkKAJSsNacvSkF0EFG5LRdo2q8sM/GBEf1SI2JvbxeMyYFYkwvBaCCJCxUFLRyVCescgbrRaHqgqET0mDjmHSziL35d99TcsqP4dEvX34h6VGi99OBmj/rkGH/71pnyA7N570O+f38N5vv6/Ll5C1/t/LZfIFymDVLBUXHGqg3ZcqdAg5DeNp+5VwwwwLF2Pwp0GXF+gZoLBL3h5/VUoobi1RrQKutGR2FPEWaI+TaHBnIJsqI9nIG1FNmxaI1KiNFC59p/O5SH5AzWM0zVQdtMibvkeZIdnIOlDxteX2HKNyAw2Iq5mtn4z+l5BwdCVV+CKXJRUVNqgCuaa7X5BjFVJZQRUnr4Rx/bZ/ygU0AyJQ+KgYEe5owbRjcXtZ7bPTPATEbWWs3VL1khr1X/zWRY2pb+NaVMSMDdtLfaXuXyFVjiJ3U4JeOmVmeY4ftq8xchc5TLDvlN/jJ2agD8N6I+h4+rPnG/wGhIK3CcdX7dNWl6nUy8tBjw1EAP6hKJTJ+ev6Ts5uhhBugQscvndpNeiWX9A+pfV8oGSYiy/5xXsllYjImqMUoeh0TkwH3WzBITY0T3RVEeXWpES+vcq8JMpHYY3DDWvWC0QOTIZhpHqhm1G+2BoRyfWHBc35C5UHg2BVlpHUhkClaIQVpe1gaVuLxP8vuvS2XO45+Ff4x65DNyLfvo+OHrSpZF/4F48cuACzt9aD+46qr4Fej90l1wmX6RQqaH7uw11CznYYC1Sie1vE3Pz26swdEQkth+uXTOW/EJT119ngh2dOzZxHlDbU6qgHy9dmxMxpr8dVosOGtf+U81SEepbD3oUaz60+hiYLTZ4cSZQKxCKFyI+NwKpi/Q1/aJm9b26qaApsMJ2qzNlR8UpIELFiTJ+4ZwV5mAVQpoTLrbPvi9UjcgsK5pM0//M9pkJfiKi1vJQ3ZI1S7bfwME1b2Fs0nysfH8tFhgSMLiPy5Vc0RvPOSXgpVecwXH8ynlvIW7qs3hEPrRONQ6vfAHb/1su3ik9nkW8y+8mveqtwd+I+0duwQmD+/X9KfBVHsxAzjGnLspNC8x5emh6iue/3YSkkHYYmuX0RURBgNDUQ3jJd7jEULhWl64XjqQjXRELXc0DpjSIfl1Aam5tQlBA0Wdm6AZwKSZfdp+6B3619RROymXgKkqLv0ff3veKlx8rFofNwJTcy0AHFZ6c+hUKDlx3HPZPK3YcfxxPPnZryhn5oh46jEEG8kodReHIdmwPE+uslCB0qttCaQ4yCpy/MF6Jwn026B5zt6QA+QJvr79SfDOPOE3rv1aEnFwForWMr68TrslvRLZPUrFHH4NI6flFztfm3hok5ufBXOU4TmI5vAd6jYrXXx8gJfd10ytgeM8ATUd5Y1Oc46uIhH5WNnIK5LpebkKmJQb6cHak/YJwHZU9Q5wedi9i++z/lDpEz0pHZn7tNdiGol0VGCrFrQXb53ZVV2/8JL8n8imW4s+h6f+UXCLyTS16np7fjHFPl8Nw+i2EyZuaIj2sd32vs1g3onaNnwvY/nJfnJl2FjMi5E1eavhZjW+rmcH/YW+c+GA47pc31Wp4vDSDfw16nf4Yz3lahojuKOk8HTx4sFxqDTaYluXBiisoyVkIuzYVOpUCmpcSoetoRd6KNGQcV0DbV4HKw3aoJs3BnCFSx1SArbgQQg8d1LUP1BUHOu0mKVBiEQc68qbm2r9/fyv//b8sRe+0Q3b4FaQPk7qezjEUz4M3k5FWpYJWYRPPBx2SFyRCe+thyXYULUuE0RICjcICu0o8D/6sc5q14h0pvkF9jsslutOufnEIy9PK0eG34hXAdhl4ehASR3fFPbiJ81/Z8KOqJ1T3igf+cB5bDDvx9QNd0eGfN/H41Ocx/DYS/FVlYay/LcpD+yxNFS03Ifn1DNh7q3ClKgSJc+dAFyr9nHPdFuvu+0ak7hKgigqGYBEHpVHJSBmvaXaCkO1zS2uB66+yEuY1KcjcJyBkgBL2owLUEwwwRDU/gcT4tjRP8bUg4/VkmBVaqIQi8ZqaCMP0aKhrksT1+1fCyRwY52bCHqqH0m6G/cFEzJmlh6qZTTTj27KEYwuh62sExqcgRl2XkFc8EVu3tIfMfd9LLF4Tz4XXklHYTYO7ygVoZ6ci7jYS/IxvS2vi+iuqzI1ByOE4XFkt1k3HJhHb54BwzYqcBcnItquhsov9piFiP0rsNylasH1mgp98FhP85A9a9DyV1tDfYMeAqfIDdr1wpmAlDgeNw9i+tV0AO45u2oCjl+RiI34d6Xx8neNr/4Bt3TdiwZAmEvwlazFi8UF079JZ3lDn+iUburzk/Bnl2L9qB76RS43pNWwaBj8sF+iOaP0Ev29hBzawSfFlgj9wMcEf2Ng+BzbGN7AxvoGN8Q1sjG/gYYKffBYT/OQPAv48/cGO6v+jRCd+q9OvMcHPDmwgk+LLBH/gYoI/sLF9DmyMb2BjfAMb4xvYGN/AwzX4iYjIvbuZ3CciIiIiIiIi8lWcwU8+izP4yR9I5ykREREREREREVFbYIKffBYT/OQPeJ6SP+ASPfwKaiCT4sslegIXl+gJbGyfAxvjG9gY38DG+AY2xjfwcIkeIiIiIiIiIiIiIiI/xAQ/EREREREREREREZEfYoKfiIiIiIiIiIiIiMgPMcFPREREREREREREROSHmOAnIvIhN86X4ui3drnUlHLsX7UZx3+Qi02pLsam9L04IxfruXQSRz/bjMxVK7Faem3agcNlF+SdXipZixHGvaiWi0REREREREREdGe1q7p64yf5PZFPsRR/Dk3/p+QSkW9q9nn6w0lsf/ddbKsOxlOdqrHvbCfEzZuP5x5W1Oy+uO1FDDw7CycM4TXl42v/gG3dt2DBEGVNGRf2Yu6UcozcmoAwFGP5PWvQ6/THeK6LY/ct3+7F6i+CETc6HB3kTTi/GeOeLofh9Fviz9Y5sy0BCZ+HY8Eb49D3IcfvgR8u4LhpORZuDsGc7GkIkzZLNwg2FON7xxH1dBmQgJj/XYmgD3vjxAfDcb+83XETYge+kUv12fC50Y6xjf3+1KKk83Tw4MFyqXUI58zIfi8TaZ9YEVdQAvmUruFpXz3XLMh4PQXWbipcOVIB3epsxPWW9zXD/v37W/3v/+WwIE0bAdvsK0gfJrdTtU6bkJZvlQsSAdYCI070PwDTIh2UUnxfS0ZhNy3uOlkEjEjH+vFq+VjvSfEN6nNcLtGddrX0CJZnXETQg/8PZd+FYnrak+h9t7zT2Q/nscWwE18/0B0dTp0B9NF4e3TzG/uqsjDW3xbmvg0W62iuEcZ8AereAixHgOjV6xttd+1H0pC8wApllBIVBVY8+udszBnk0gZ4ge1zy/N0jS16px1SKlKhU8kboETkhDhoXUPXgu0z49uSHHU0ZZcAVbcrKDoZAsN7qdCHyrvLTUh+Mw8Q66y1VAXDR3OgC5L3OWP/ykd5iq/37XNlbgz0BWrEhnWWtwDqEQboe8gFLzG+La8lrr8ozxPruUmu50okOrcBzcD4tiYv49vU2Ene6g4T/OSzmOAnf9C889SO/dOfxu6nPsXKEfJV+OxmTBxWhJGfr8LgTg0T/EeXdMD6XmexboScFKmXpPeQ4D+6uGGyvdEEfymW93gX3f+6BTFd5U1OjqZ0QPbjF7DSJXHn+nvWaOzf9MjD708tqi0S/BDssAsV2P5qLOxzXZL4nvbdIsD8pg552mykj1CJndkcxGhtSK6YA618hLfYgb1zLCuegX6pGTEfNJLgd3UuD7EvmxG7MR36blKi6WGk9ziA7NFSpsmKjN8nQfHegWYnGaT4MsHfSi5bsTj+FHTrn0e/e4Ef/7oT0Z/1RO5CNe6RD6lVtjwFm1WTsWiEeCAuYMsLeeiwcBKG93Ts9xYT/HeAuza4yoSFSwWMWRQNVXuxXJqGiBlKZJvjUD+1a0HG5EJELkqERqr2VXmI/00hxlxPhU6eJ+Atts93gNtrbCXyXtbAPNqK9NqJI260ZPvM+LagYxmI36rCnKV6SJERjhjFeqjCdlOcWLYhU58E+6LtYswVjn3vPQrT1jEIdvy0jP0rn+Upvl63z2IL/W4IEjuaUTil+TflnDG+d0ALXH/TdEYoV+9xtMenMzH0JQGpRYkNzoOmML6tqBn1tx6XsVNTuEQPEVGrOYmy9eEYHOl0i/2hQfj94/ko+2+53IjjuW9j2pQEx2t+Flo2jdUbA8aVYtum4gZL61SfyML6XcMx4D+aulf8M3RRQtHMZAD5CYUSSmVn3CV1Ylx52ldLKIRpXySiB0lDHFGoHnEjjDAXO4rkA8RBhXGrDkkj5bJHAoqyUoEJBrmDWgnbcSUi1HJ8xe5txAAzLKe8XaKM2sLVY1Z8/WQfhEs5e9Gvnv4tXiz+Ake+c5TrXMV5611Q95QPRBeo+5/CSdt1uUxtyl0bHKTHnKXy4FMSHomYgxbYGlRLDRJXy8l9SVAkdCPF+ntSLlPb8nCNFYQQqEKa6texffZZTyRivZz8lSieHIqYAgusUmhOm5GDaESHOzrWiidjEHtqO8znaop12L/yXZ7i63X7LIb4ZiUiQkPkEvmUn3v9LTUjOygWQ2tvtvaIQZw6CXmsv76tGfW3juvYqWlM8BMRtZpwRM0rR8aGYtyQt9woy8WuSzMQ9ai8oRFho+dj5ftrHa+3x9dbXqdmCZwPpXXzXdbWv3kduHQFTadSFOhr/AIGxdvQDn0FM+UbCRNf/QOGP38SI01bEPOwfGhLO1+OMoSgSye5TOTsnA2WnhF49FYeQomQnhqU2CrlMrUtG3JmZyJyhQG638ibPKkyITMvEnFRtcPWYGiHhCBbHLg62HCiSA+N+g7eUKSf7ccfvgfu/jf8Si5LiftHni7D+Qq5eMs96KP7NUwHzsvly/j2mBq9e94ll8kvVFXAFh6Czk3eiK9AxSkVQhpbCoR8yHVc95hMqMX22W8I13ElXCH25sW3NiuuaB8Ve9a1VFBr82BzTfCzf+U/nOLbgNv2WcD1q/Jb8l/u4isIsAQpnc4JJTRaHeuvv/Gmf9Vg7NQ0JviJiFqNAmGGT7Hq0WLMfe0VTJuUgLkHg2HYKK9xf1tCMXjCNEye+iy6y1skx7/cC3y2F8fOyhtuOYi0miT+Zqd18ZXo/oDYy9dNxxL5RsK6d8aLn9cZXe6TD6lHwD++3oGLhZaGD+z9OguLpM9PO4Rq6TkAtQ/tbeyVmovdXazYJb7fXiLIH0Akq6qEuV4HFggJVsFW2SCTSG3A9kky0kNTkNjfu8arcl82SqL0iHBKAKrGZyL5eARCnjci892FMEWlILaZ68NS67rvgftx8tvv4Zw7+PGGWF0vNbyd3HX0KLxsTcPgl0zYsWofjjyth977MQq1MaHKgswZGVAsGAOtp2p+zQbT7GSYXzYi2ssZZtRWKsW2WIzr3CQYxddQ3VAsPNh4xp/ts38QiszI0+oQIXbj7VU2oKNzMliJziFAxb9cYsz+ld9wjq8zz+2zHZXlgGlRMpKXJSNW9wzis5zX9CZf5zG+Yl2NLrJCrO23CDfFfjnrr9/wtn/V2NipKUzwExG1KiV6DZuGJR98jJVr1mLJ1FEIc0qid4qchXXD6pbwUXQaiOp8pyV6UvIhNLVkzqW92JTTH0tSgD9/dOjWtwUcBsFQk8QfhV6XDmG5/LmLdgl45KsVLv+OBem15Vyn792f34HMXeMx9u63kf25S2L+8fGYLX2+YSA6PfwsJk+Vbj7Uvf70QBHSbw50lFd8iqq/fYzZ4vuYCA9XNyLyLeU5MGapkPJm0w97crCj5HAhIgdFOB0vwJZlxPa+JbCuHgr8ywbLwZJ6AxbyQeGPI/H4PuwoFUeTN6+jbN1mLD8g76vnJs7nmnBAY0D+kkfF69JlnDxyDrXz+cmX2VGUlYaUuUbkCDpE93V/V8a2Kw1pCxYipVSN2ChVvYQh+SIt5ly9gpKd6UhZkI49Ow24MiYReQ0mfrJ99g825K0xI+5lb6/F5F8ai6837XMwxmy8ghOH1yP1jVRkm9dDu02Hhcfk3eTDvIhvqA6xYRnI3CY13GJbnZ+M5OUnHPvIx3nfv2p87NQ0JviJiFpbdTE2uc5ml19p8ydi4q5y+UAgLOG/sHmjvDyP9FqzBZs/TXBZpsdZObbPmokbxtmIm7oE73w3Ea9vq/u8eu4biBm1n7vxU+TnfOzy72zButry6NqF/sTPn/8ulCnzsXLefJS9OhG7mbGhOyEoGLryClyRi5KKShtUwVxTtG3ZYVpuQI5CgEXspKYtS0N2EVC4LRVp26ziUKMxNljyVVA/6NRFPZeH5A/UME7XQNlNi7jle5AdnoGkDznLzKd16Ir43LFQWY/gk3Vf4fwTUUh8uiu6PuCy9M53ZVjxSRfET+yKex4IxfAFE7DosSNYvOmCfAD5LiW04w1IWb0HBz7QwjwktpEEsINqmAGGpetRuNOA6wvUTCD5g45OM7c76hAzIQdmi0vLzfbZL9hyjcgMNiJO/iadMkgFS8UVp+uwHVcqNAj5jcutN/av/IJrfB28bJ8VYj2/tca7CrrRkdhTxPrr+7yJbzCiPypE7M3tYh88A2ZFIgyvhSAilF+R9H3e968aHTt5gQl+IqLW1qk/xjrNand+xUc5PYC31tHFCHptBy7KxToKdNIF1w3UfjiJTZP+iE2PrMOSYV3EDaGIWbEF/Xb9ESPmHWrwEN1bqk9i96qZmDlpKhbJNxoWGRMwbspi7P7GadB38wL2z5tY9/kPj8fHuWpkRidgk/Nx9RRj+T2vYDdzOtRc3VTQFFhhu3Vq2VFxCohQcZ5a21JC/14FfjKlw/CGoeYVqwUiRybDMFLd+AzeShtOVEZA5bx8xzkb8jTqWw+Sk9ozrT4GZotNjDT5tE734snRA/FS4pMY8tvrsB3viUcekPfVqriMA2Fd0FUuAu3RZ/Dj+PL45XrL+5CPU+owNDoH5qNN1Mr2KgwdEYnth2vXbCf/IOC6oIFC4ZrgZ/vs64TihYjPjUDqIj2C5W0KlRq6v9tQt1CHDdYilXjtdbkys3/l8xqLbwPets8SwY7OHRvtoZGv8hTf9sHQjk6s6YPHDbkLlUdDoOUzUvxLU/W3sbGTF5jgJyJqbec3Y1yPP2Ku08z92tdfvtMiqe6pV00IR9ynSzBYyuVL7g5Gv0mfId/QHx3kTbhbPGbj19j8xkA0/izbcmx6dSK+6TcLS9asqlkuR7rRMDtlLTYsHoiy8a9gu7yO/40TB/HNI0uwwenzO/R9C/k7E/CIl33G+0duwQlDuFwicmE3ISmkHYZm2cSRaiT0s7KRUyB3fMpNyLTEQB/OAYpPc45hLUGA4Pogqd4aJObnwVwll0WWw3ug16jAIYpv+/EH+Y3o/LZDODy4D8LvFQvVViwOm4EpuZeBHl3xoqkMX4pva50sPoEnw+7FPXKZfE/lwQzkHHMabN60wJynh6anWCud6rZQmoOMAucFWypRuM8G3WOcQejLbPsykPd3uSApz0PmMR30YfXjy/bZt0nJX930ChjeM0DTUd4o6aHDGIgxLnUUhSPbsT0sFjopQcT+ld9wF9/mtM+ZR5ymBV8rQk6uAtFats++zNv4SoRrdTdlhSPpSFeI9bz2y/bkk5oT3xqNjZ280K7q6o2f5PdEPsVS/Dk0/Z+SS0S+6bbOUynB/3Q5DKff8rDUjhNpBv+HvXHig+G4X950Wxr9d8uxKeZFnE3+K2a7PuXlh2IsGrYCj6zfgpiH5W2eNPp7SjP416DX6Y/xXO2NCGp10nk6ePBgudQabDAty4MVV1CSsxB27f/f3t1ANXWlewP/d71Ojbe1RMsUGNtKesWRTrGGUUd41alRZwTGGYWxVdFWG2wVsH6EWotc2zLR8YP4CX50RJwq+DWirRq8lcbe6gVaLaHYabzV29COFnRUQrXXo6939T0HDhJCEkJFSeL/t1ZWs88+UljP2c/Z58nJPlnQqBRQT06BJthdnwBrWQkE8SI1XHqg0FUzcl5KQ8mjanSpEhCVngXtj7gALS4uvst//72l9E/3Ib9fLbJHS6UfhxhKxIvV+2YoUG4WL1blTRLhVAEyFubCFhoLpc0E22MpWPB6LFS3vlbuGSm+gX1Pyi26o74/h50L3sPxzj3xs+tf48rj/xfPv9wXqgekzps496kVN1RhUHUHbpwuR/ayj3HlsXB0rTuNKz0GI+mVcPRoY3wvVkZw/LYrNzn4QQsKVxqQc1KBqAEK1By1QTVjARbESIUh+7FtQ+naDGTtF6AaGQzBLF6UjkyDfqq6zQVg5uf25ia+CjG+aw3ItYjtXoDlrAIJr+gxsf682jx3t2d+Znzbj3BiETQDMoCpeiSEN82HFP0TkTIsuL5Yn/ZKDmx9VKi9GIKUhQugqf9yMOdXvsBtfAfUepaflTUwrdcj97CAkCFK2I4LCJ+mg25k2wv8jG97a4/zr/gz5qXBcFGFKIVV/FkapGWmIKoND2JtxPjeRVc9jW/D7q6unVrDAj95LRb4yRf8qOP0/CEsfCkP5x/vBodVi2WhSHhzPoY0Pnz3q0NYt9/uIbeOeo9BcoyTpX0cufpgQVqiZ8Mq/O2/O6P3LxruzhJqrai8FII/zpiO33n6jQKnBf4qFK/ehy/lljPSQ4dHePIBAv1od7/A7104gfVvUnxZ4PdfLPD7N+Zn/8b4+jfG178xvv6N8fU/LPCT12KBn3wBj1PyBSzwcwLrz6T4ssDvv1jg92/Mz/6N8fVvjK9/Y3z9G+Prf7gGPxERERERERERERGRD2KBn4iIiIiIiIiIiIjIB3GJHvJa0pISREREREREREREROQcC/zktbi2OfkCHqfkC7gGP9eY9GdSfLkGv//iGvz+jfnZvzG+/o3x9W+Mr39jfP0Pl+ghIiIiIiIiIiIiIvJBLPATEREREREREREREfkgFviJiIiIiIiIiIiIiHwQC/xERERERERERERERD6IBX66Z9Qdz8O696vkVuvauj/RXSXYUCeI/60rw7bsQ/i6YSsREREREREREd1DWOAn/3K+DHs2rMK61Xko/kaqfja5XnUI2SdtcsvOuR2Y0msJTsrNRi73J2pPXx3Cuu0VuC43PXVh/8uIyqkArlaheFUFvpO3E3kL4awJufMS8WRIJAziodpEgGV7GhInpiJD7B/++zQYW/0s1QZjcggiV5rlNnkPMwxR9yF1v4vzZVUh0p5NQtrCJMQ5xvqqGTkvJiB1oXg8aBKRe0reTh3uxrensS9zG+IjDNj6ubyx0T8sWDFtJ1Ys3YmZk4vxyWV5u6Pvz2Hn9PVIzzTircnr8db283IHdbR2yc/uxjZ1KNfxlYgxzkvF8BfTYKiP8SKYLspd9pifvZbb+FYZkfb7OCTVxy0Oi478iHMzdSB3ObihL+FZsU+KmybJ5bi0HTMg6TdifJe3chzQXec+PzdqZW590YyC5amIC3OzD3mxVuJ7G+dfFvjJf3yzA7OTixAwdjaSp0ShRv8rLHyfCY+83KUKLDxShTq56ejrIukDq8bXLIzvNR0HWCMhH6AIjERCegZ0UfKGRidyYTBroC/Ihn5ZPg7OUyAjORdWudsZ2/4MpO6VG+RVzCvTkOWyMCBOYF/MRXjmJmSJr4MrwpEzIQeW+j4BpswUWEZnITszC/mb42Actgil9X3U0e5/+FEMnzUSz/eXN9xyGfteO4afzkrA3NeegyH1Bla+Vo5Lcq+9yo15+Oy3z2Hxwli8sTUeffYWYt9puZM61O3nZ3djmzqay/iKanZrkWqOxabNWdBJMV4TC5VC7ryF+dmbuY5vDQrm6dEtfQ82SXF7LwXVGj1Mze95E3H8ei13OfiiCYXmaGRJfY1xE/taxs2M/AIFUnaJ8X1VPA52aWF1ehxQR3CXnxu5n1uLlOGInaZHyji5TT7FfXxv7/zLAj/5CQFHN7+BzklzMCJIbAb0waTUqTia/AIWysXRTYddjKJvq/DJ+SP47CvxvXQ3dWv7E7WjkyV7ge1HUOmiwt8zZjaSZ8mvKTHoeb4aR3fw+CQfoFBCqeyGLp3kdqP+Kdi0LBYquakYHIeEIjMsrj6PvWqCfm4ttNOi5Q3kNc7kImOXBqmuLjAqTMgPTERcH7ndKwHa8FQUlonvhRIYD0cjfph8JITGQjs2Ayapjzpe5y7oGvAv6Ow4fq2nUYS+0DzV0HH/r55G7FeV+OTb+qadKzhn6YLwsO5yOwjhg07jlPWa3KYOdbv52d3Ypo7nKr6w4uBfbJiYbBfjUDVUD8qNRszP3s1NfK27I6HuI39i82AkoseZYHa8+5Pj13u5y8GBsViwLB6qxrj3i0bCETOsLebPaqSsS4FaKTcDo6FxdhxQx3A5fmWtza0lnRTiz1CiWxe5Tb6jtfje5vmXBX7yE6dw8nA/DOzbeCYT9R2EkedDMTSpoTiaNDJU7rBXhT1rizA6NRgrl+zDhSdG3SqmOt+fqB19kwfDu2Oxca0NhuUfuryLv1HdR/tQ/OZbWMrjk/yJcA21/RRocQNhPQGlyzJQnanHxHB5E3kJKwrScxG9UgfNT+VNjgQB5kClXWyVUEdpUG6tAc5aYQ6LxJO3TttKhISpG/rIa9345jy+6x+EppB3h6p/Jc5Vy81buqKv5iEYPzgnty/jqxPh6BPGq1Gf4io/uxvb5L3OlsL4Tw0iGwu7rjA/+yg1ol7fg8LDcpyufoHyf2igdrxk4Pj1He7myBerYe0Xgm5OO+1Vo/q0CiGBcpO8mAdza/JhHsT3Ns+/LPCTnxAgVCpa3GmmgA3CVbnh6PtT2PPqLOyPXo3MP2/E9qGHMObZJTh6jt9fozvvwvtvYPyUj/HHLfORMGUjlgWvRMyMPHz5vbxDCxXI32BF8sh+cpvIPwilJhSKF5aRdp/PNhKO6aGr0CJjggosC3oX69Y0ZIfqkTLIzZVlsArxpRZxOttEuCn+25pq8cK0BqZmBQYgRNy/vo+81pXLl4EHfoL75TbEkflQkBjOSy3vzO8xYTyetxgwYrIR+1YfxrFfxyK28bZE8gku87O7sU3e66wVhWolavcuQurzSUiYmArDYScL5DE/+ygFNPMKoVoTgugXc5CzOAdCego0HL8+y1UOFi6akTs3B4rMiYhyV+C/aoUxPQ2m5zMQ/6i8jbyWR3Nr8lkexfc2z78s8JOfCEbP0VU4b78IbJ0N54NCERAgt+3drEDu/PWwjX4bW6b3Q2dxCPWetAEl68dAUccCP905daVLMPsPz8Hw1TCseX8Dfve4tFWBiNR3UTSzGw7M/C3Gv7oDXzY7DAUcXzoL+4fOQe9KLiFF/sSKwvUmaJ/XoEV9/2opDAvN0C7Tgjfve5mqAmTkqaCf5yRu9kI1SIzIQe5u6a4TAda9aUhb8UVDH/m5mzi33YgP1DrsXfokcOkyTh07i8b7+ckXuMnPHNu+q6gQpUotst/ZhD1va4GV0Vh0Qu4jH2eDaVkWqud+BWO6CsIZM8qPWsWtDjh+fYSzHGxDaZ4B+oUZKBA0iB/g+lNz634DDJmLoK8IR+JIVbOCIXkhT+fW5JvuUnxZ4Cc/EYr+sUps21+G6/KWr415KI4WcHKjk4Jop37Qrl0N7VBpwX4BFyo/xIFt4n7bDuH44b048FEFMHYnvtDxbmlqXwFR87Hq3Z1YOv0ZPCJ94+T4EgS+tA8XpL4nx2Du5n/HjuXj0fvWLEzAl1texqy/T8Cy1FEYMolLSJH/sG7PQG5wBrRO7mSw5OmQUatsuEBZbkB2kRXmw7kwiBc7/BJ5R7LBuEKHAoUAs3iRKcUmvxQo2Z0Fw26LmLHsBSN+cwkSb+4R98uBSZEC3UshiAwVL0gDg6GpqkatvKekusYKVXCI3CJv1LV7d5w6/z+4IbeBa/jufA8EPvwTuS37thIrtwYh6eUe6PqzUIzJnIbFTx3Dkm18SryvcJef3Y5t8l4KBdQxWqQMC25oP6hG/IRoHCx1eEwn87NvKstBkk0L/VgVlL1iodv1AVKrhkN/2PHmNY5fX+A8BysRNVUH/bqD+ODtKJhiElHoYlKsGq2DbtkmlLynw7XMcH6Q59XaMrcm39OG+N7m+ZcFfvIbPSetxoIrKzF+xmtY/OoLWPz3sdi+fmkra+pXYc+M55BdqUDE2Ib9klMmIKKLGYY/vIADvNWMOtLNKhx4/Tks/C/xWN48HREPyNuJ/IBQtghJ2yORtThWvNRsKXxmCX4w50P/qniBIr5SY1RQj9RCN0PjdH+6W5SIXVONH4zZ9XGRXolRQPS4NOjGhbe8Q6xTMKImpNTvp43pgprjIYgKVwKPivEsssB6a1ZrQ/VpIFLF+5a82f2PB2Hgqcv4p9yW1ta3nngYPUIc1kisvowPIoLQQ26KBwL6jngan5y8jCvyFvJereXneq7GNnmv0HBE51ngUM5vifnZJ9VYy6EMC7G7O1QFzdh4mD53EnGOX6/mUQ5WahAXXwDT8Rbf0WiukwpxY6Ox56hZ3kDep41za/IxbYjvbZ5/WeAnPxKKEfqd2Lt+KdKX/xUb9ePRu7WCaPkO/Nv3E5A6aRB6Nu7bSYGeA6YieZKAN/5WIW8k6gCdQjFy/k7s+PMY9HT1pH0iHyRduGjmVEO3Rgf1g/JGic2I1JD7EJfnZE1g8g0OMRSuNt2XIhzLRrYiERrpAY+KaMS+no+CIvnCtMqIXHMCYvvxMsarqcIQg2Mwfd7QvPHxZygOj8TAn4mNOguWRMzFzO2XgV498JyxEp+IbxudKvsCgyO6o6vcJu/kaX52ObbJeyk1iH89G7l7GwuCVpTur0ZclKp5fJmffVJwhAaKd0xoKuPWoORoNTRPOcRXxPHrvVzl4JojOSg4YVfMv2mGqTAW6jBls/gKFQXIKbKfR4vHwWFrw3FAvslh/JKfacfz730Xr1z/QX5P5FXMZR9BPWio3Lp9F3Y/h2e+eb35sjtCBVbE/hkB2RuhbXpUNXCpArlznsP5GZ8h3e2Ta+he16bjtK4M27aU4Tu56VbvMUiOcb0Mz63jefwpTPl1FXRn5iNC7iNyJB2nI0aMkFt3gxXG5YWwoBblBYtgi8qCRqWAenIKos+KFy4DMoCpeiSEN+VXRf9EpAxTwlpWAqGXBuGBcoesZrs4uanJQPkctbzFc8XFxXf577+3lP7pPuT3q0X2aOk8KtjFUDwO5qXBcFGFKIVVPB40SMtMQVRjbK+akfNSGkoeVaNLlYCo9Cxof0QBSYpvYN+Tcotu32Ucy6kUR/H/wFJYjCv9f4+Bj3fCz8cNxsBHxO5/WLAi/RiuhD2MK5cfwrO6ERj4mPTvbuLcp1bcUIVB1R24cboc2cs+xpXHwtG17jSu9BiMpFfC0aONH1hfrIzg+G1X7ZGfWxnbbcD83N5cx1cj3Qp81YKCzDTk28KhslmBmAxkTVVD0Sx3S/u1X35mfNuT+/jajhnEsVgCxaBw4IwY35Fp0IvxVbbl3NwGjG/7Ek64ycEDalG40oCckwpEDVCg5qgNqhkLsCBGKtzbx9eG0rXiuN4vQDUyGILZ/jhoG8a3vbWSn+24nltLz2HIRclF8acdEXN04AIkRnSDKiYF8U+1LUczvh3HdXzF5m2cf1ngJ6/V3gX+uuN5yL84rGXRtK4Kxfv34aNPzfjuZhfgemc89It+GDp6LEY80dbTIN1r2vs49ZhgQ93/KhFw9RAWvlSFce9OZ4GfXLr7BX7vwgmsf5PiywK//2KB378xP/s3xte/Mb7+jfH1b4yv/+ESPXTPCJCW3Ylxckd0QChGTJqNzJV/xaq1G7Dq7dXInDWVxX3ybgolAqRlpYJGIZPFfSIiIiIiIiKiexIL/EREREREREREREREPogFfiIiIiIiIiIiIiIiH8Q1+Mlrddja5kRtIB2nREREREREREREHYEFfvJaLPCTL+BxSr6AD9nlQ6T8mRRfPmTXf/Ehu/6N+dm/Mb7+jfH1b4yvf2N8/Q+X6CEiIiIiIiIiIiIi8kEs8BMRERERERERERER+SAW+ImIiIiIiIiIiIiIfBAL/EREREREREREREREPogFfiIib3FuB6b0WoK2PCry66JV2FMuyK325+rnX9j9HJ40VMitJnf69yEiIiIiIiIioib3Xbxy/Qf5PZFXMZd9BPWgoXKLyDu19TiVCuAHv5QbdoKGTEdC0D5M+XUVdGfmI0LeXu/8h9i2di+O1l0HrnfG06NnQDu6DzqLXceXdsam3t9g49ighn3ryrBtSxm+a2jB9vftWHFGjbl/6AOlvA29xyA5JlRuiP+kPA+LNxzC9Uei8FDdEZzvNAap+qmIeMDh5391COv2n6r/N/U/99IgZA5V1bcRLv7M34S2/H1QheLV++DkTxZZ8VGGDZPO/BW/a9yd7gjpOB0xYoTcujuEsybkr8mFYasF2qJy6PrJHc2YYYiKhDW9Ftmjbx2hDc4YYdhrkRsSAZaiDHwx6AMYF2uajmcPFBcX3/W/39+V/uk+6KuzoJFTAMSIRE/TIsoxMFfNyHlFD8ujKtQeq4ZmXT60fTzoawMpvoF92/LRKP1YVz79GPvKrsktyXf4bPunuJ4yC2sndJe3yf5RiRWZ4hjuJWb7z7vgucW/x+DH5L42uFgZwfHbzlznZzHPbs+Afr8A1aO1KD0VAt2aLMQ2TRlusR0zIG2ZBcp+CliO1SJ2RS5SxPdtxfzc/tydfz3O3bfYYEwOR0aYEeVz1PI2zzG+7c/t/KrKiLRXcmDrF45rxyx48t/ysWCY8+DaDi+C9i/VCO8jwHwMiF+3qc3nYMa3vXmag93Mn2WMr3dyf30kxj8vDalHFYgNrIbx1JNYsHkBNIFydwvMz76plfFbVYi0eUZAHK+WCiVSXMzDnGGBn7wWC/zkC9rjOL1VFB94pGWB/9IhvBa7DxFbV2FSb+nC2Yajb/4Bi4M3omh6HycF9eZOrv4Vhu2agCP/Obv5hwaNLu3DbI0ZCR+9hSEBDZvq3n8NUUXDULpyFL5s5ec7au33aa4MK7quR28W+O+4jijwQ7DBJlRjz4uJsC10XuA3rxyO2GUmJLzt+gLllrOFSHzehMR3shH7qLzNQ5zAtrcaFD6vhmmCBdkx7uImwDRPg8KofGSPVYkT1gIkRFmRVr0AUW772kaKLwv8HeNGRTFmGhSYs2kw+kifOt9yDlvjjei6dBrGhIlN68eYmfL/MNc4GLfqih5igf8OcJWfT+QgaZcKC5bF1sdJOJaB6MUq7DFqm8etxoi0dCsS16RA/aDYlsavqhwp17KgaWONn/n5DnB5/vU0dzex7U9F5Et7oJzHApLXcBPfgmfjYZ1rwoJB4kC8akRqVxPinYxL4cQixGUqkFWgaxjDFy2wIBzhLguJzjG+7czDHNza/Jnx9WJuro9qdici8WgiNq2R419lRnWgGiophk4wP/sm9+PXDIMmA8p1Bxs+kDuTi7jJArJKU8QR3Dou0UNE5MXqPinC/vgpcnFfosSQF2cgaNeHLu6Kb1JXugTzNquRHL0X85aW4bq8vZmvT+H9p8Pxc7m4Lwnoo8ZA0yl8I7ebuVmFAxkv4OVX38C6jOkYP3MJjp6T+36MICUUbSwGkI9QKKFUdkOXTnLbkThhydilQeo4ue2WgNK8LGCars3FfbozBCEEqpBWCkRCCYyHoxE/TL4sDY2FdmwGTGWt9JGPuIIPcr7AgNmDHIr7os9Pw/jwLzFEKu5LVH0xpnchPvhUblPHcpWf+6dgk1xYkigGxyGhyAyLTd7QKDgWWZvl4r4kVIOEcSaYG77kRx3NzfnXo9zd6KoJ+rm10E6LljeQV3AZXyusuyOh7iNPrB+MRLTTcSmgZNceqGdqm8ZwYNuLv3QHeJKDW50/M75ezc34PfgXGyYm28U/1HVxn/nZR7U2fitMyA9MRFzjt216JUAbnopCD6+PWOAnIupQAoQrQfh5T+e3sCs6K3DhmsOa9jevoa5b5/olepy5fqkCB5a+gCkrgXTjEujefBere2zBmITXsO34+eaF/shR0F3Kg2F/VcN2oQoH1m6HMPMZp3f8f71jFnKC52Dj8reQrN+AHdMUWPjqKuzZtgrrVq/C3z6Rd/TEuSpUIgRBdh8u0L3CioL0XESv1EHzU3mTOxeNyC2MhnZk45SXOtY1XHMs+Dlz1gpzWCSevFVLUiIkTI1ya437PvINn3+Kd77/FYb/0kkV8fpNnOreBffLTaAL+vQPw6lvrsht8gnCNdT2U6D1z+GlnBACpatCBHkJD3N3PQGlyzJQnanHRE9uGyQvoEbU63tQeFg+j179AuX/0EDtZHmX0uXR0Azw8IMe6jgtcrAn82fG1yedLYXxnxpEerSMEvOzb/Jg/AoCzIFKuzGvhDpK4/H1EQv8REQdQFrK5uW958V3dbhgf6v8+VJsW70K67IP4Wux2Tl6AtI/egOv7a9q6L9UhnXzV6HnlFj0bNjS3JeHkLv7FALGrsbeXfMx5NsN+Nc5H0I5aQOK8ufi6RojcrdX2BX5+0H77k5oA8oa/r8bj0Ax7a/YkeRkPRWZ4yN0FQhG/0mzkTxrNv44UN4okdbsl36mq1fWdhwIsmC/+J4P5r23WLemITtUjxTpK+QeqDmcj/KRsYjk3UdeokaMiRm5C1ORIb7iNHFYdMRJ1ehiDUzNJqlASLAK1ppq933kEyrfP4LA0WHNlg245ZHuGH7iPOy/4HXjJnDuQuMTYsgXCKUmFIoXlpGt1YnOiPtdEffrJbfJS3mYu0XCMT10FVpkTFChi7yNvJ0CmnmFUK0JQfSLOchZnAMhPQUax/F71oryfiGAOQepLyYhMT4JaVvNLeb31PEcc7BH82fG1zeJcStUK1G7dxFSn09CwsRUGA5b5c7mmJ99k0fjV7wWii+1wD7ygjh/9vT6iAV+IqIOVQ1b3QT07SE3g6IwadZsJKeOaijgK/ph7vu7MAlHGoriu6sQseQ/sGq0i0Xre49C8vTxGNLbydW4IggRo6cieUK/5nf/d1Ki99Dx0M6ajsQpYzEgyIaTH32IA9sO4b/kXRr1HL8aupo/Y8qcN7DuzVmYsqoauiXjnX/Y8IT4u0h/i93rjz8rRfbNZxraK9/Fxf/8K9LF9wmRnhV6yQ9UFSAjTwX9PE8flGtD+dESRA+L9HB/uvOisOBKLcrfy4Y+MxsH39OhdmIKCnnz/T3kHD47+DAGqx0erNvosTDEhB/DvvekO/Zv4pzxPazYwAPEt1hRuN4E7fOt5WoBpe/kQvlKPNq+AjDdXR7m7qulMCw0Q7tM69Gav+QtbDAty0L13K9gTFdBOGMW509WcasTFQdhrNFAv3kT8guzEF0aC+1u5mjv4pCD2zJ/Znx9U1EhSpVaZL+zCXve1gIro7HohNzXiPnZN3k6fkM1SIzIQW79eBVg3ZuGtBVfNPR5gAV+IqIOJd1BvxQj3D1ktpNcmJeK4lLx/gkXp4U6+S58+1eJApm/qMLfHLcXVdV/G8B+/9cSAvDyhg9R+VkVbMpQDBn9TMvCfadQ/E6/E1tWvoXkN1djy2bxd39c7hP1HvvvSB3INXfIFRuMK3QoUAgw5xlgWG5AfilQsjsLht0WF3cXWWHeq0L4Y61eztDd9KDd3fcPapAwrQAms0MEA4OhqapGrdyUVNdYoQoOcd9H3u/CJVguPIoeLsPVFcNXzULs/36GrTnHcLzzYEye/BD6PObiAwHyOtbtGcgNzoC2lW9aCWUGZFQkIk16WDZ5Pw9ytyVPh4xaJaz7G87T2UXiefhwLgzrTWCJ0IuV5SDJpoVeHIvKXrHQ7foAqVXDoT/scG4Wj4GQPgnQTgiXC01KxE/UouBoOe/y9iLNc3Ab5s+Mr29SKKCO0SJlWHBD+0E14idE42CppaEtY372RW25/g1G/OYSJN7cI+6XA5MiBbqXQhAZ6tkciwV+IqK75ZumJWukteq/fD8P27LfwOyZ07HQsAHFlQ732AincMCuAC+9cg0N+89+cwlyVzvcYR8wCJNmTccfhwxC3JTmd863eMWEAg9L+zdtk5bXCegdhSFDn8GQvqEICHCx7u7xJQjUTMdih99Nei1+/bfI/qRO3lFShhVdX8ABaTUiIvEiI3ZNNX4wZkP3qq7+lRgFRI9Lg25cuPPjrcaKL2oioeLDdb2YgGuCWrw2cbh0fFQFdZEF1lubbag+DUSqxEtOd33k/b69gE8e6Y5Ad5/nduqKvmMHY3LKMxgz/Ce4VPEQng7jl8l9gVC2CEnbI5G1OFa81HSjqgDa9Gro1qRA7TSBk3dznrvDZ5bgB3M+9PJ5OjVGzNcjtdDN0Lg/HqhD1VjLoQwLkYu6EhU0Y+Nh+rx5gRDKEKgUJbCcldsyKbYOZ3HqIC1zcBvmz4yvbwoNR3SeBQ6jtQXmZ1/UxuvfTsGImpBSv582pgtqjocgKtyz6yMW+ImI7pbHm5asWbrnOo6sn49JqW9h1doNyNRNx4i+Dolb0Qe/syvASy+trmH/VW/Oh3bWKPxc3rVJHY6uehZ7/ltu3im9RiHJ4XeTXs3W4HfikXE78YXO9fr+dI+zGZEach/i8uxWHhQECP1C0I3FI69hPZyDws/lhqSqELknNIiNEHOYfQwV0Yh9PR8FRfKHl1VG5JoTENtPDKa7PvJ+12/g0hMPodkzwuosWBIxFzO3X65v3vj+Zv1/JTc+PoodnX+JAWHyBvJaUmFJM0cq2uugtn9ormN+ripA4sh8RK7IQmyLh3iSN/I4d5NPCo7QQPGOCWa5LT1zoeRoNTRPqRziq0b8KwKytjfuKaD0fRM0Q7gUojdwmYPdYXx9n1KD+Nezkbu38YY/K0r3VyMuynH8kt9xiK9wtemjOOFYNrIVidB49PBlFviJiIio3VlhXC59BTEbB0+bYXpbep8DU2vfHRUnt7q9HyBrtN3XEGusKIRC+uYqeQnVAA2wNwlxExse1JiQWY64FXpopIcgN4uhApp0I9S7E5A4Lw1J80oQu168YK2Ppbs+8naXvr0AdO+C++V2vYAwTN4yA3N/Ky3DcxmfGLbh5dnvIee1LUgvfAi6zEg0Pm6GOpLr/CycWARNVAYQHgLL7oavkUuvnCNip/3YPluIxKhEmCPCIRzOubWf66XW6O5xHV/Pczd5Lzfzq6dSYFwL5PwmAakLM5A6UQfTgBxkjFS2iK9qaj5ykIXhE9OQ9mIccn+ih34c7//taG5zsDuMr49wd30kzYtN0JQmIu6lNKQ+m4aSmBzo+osTY+Zn/9YsvlaYMhMx/MU0ZCSL10gFITCsmAhPI3/fxSvXf5DfE3kVc9lHUA8aKreIvFO7HqfSGvpbbBgyS37Arge+LlqFo4FTMGlA4z0ZNhzftgXHL8lNJx6Ktt+/yckNv8Xunu8gM6bpgQDHl3bGpt7fYONYu4cElG/A2CVH0DOom7yhybVLVgRNtv8ZVShevQ9fyi1neo+ejRFPyA26I6TjdMSIEXLr3lNcXHxP//3+TopvYN+Tcov8zcXKCI5fP8b87N8YX//G+Po3xte/Mb7+hwV+8los8JMv8Pvj9Hsb6v6PEgG8q9anscDPCaw/k+LLAr//YoHfvzE/+zfG178xvv6N8fVvjK//4RI9RETk2gMs7hMREREREREReSsW+ImIiIiIiIiIiIiIfBCX6CGvxSV6yBdIxykREREREREREVFHYIGfvBYL/OQLeJySL+Aa/Fxj0p9J8eUa/P6La/D7N+Zn/8b4+jfG178xvv6N8fU/XKKHiIiIiIiIiIiIiMgHscBPREREREREREREROSDWOAnIiIiIiIiIiIiIvJBLPATEREREREREREREfkgPmSXvBYfXkq+oL2P0+vnKlB5PRQDnlDKW9ypQvHqMgQljUfEA/Imd+rKsG2rDUNSR6GnvOmWS6dw/FPx/22pwXWp/XAoIvpGYUjfoPpuj5RvwNjCUGzRj0KAvIm8g3ScDhw4UG4RERERERERkX8A/j9hhMvkDYpFSwAAAABJRU5ErkJggg==)"
      ],
      "metadata": {
        "id": "51886Z0XqxM3"
      }
    },
    {
      "cell_type": "code",
      "source": [
        "이용정도 = ['전혀 이용하지 않는다', '거의 이용하지 않는다', '별로 이용하지 않는다', '보통', '어느 정도 이용한다', '자주 이용한다', '매우 자주 이용한다']\n",
        "응답자특성 = ['유아동', '청소년', '성인', '60대', '남성', '여성']\n",
        "유아동 = [21.5, 10.3, 11.1, 21.8, 19.8,\t10.2, 5.3]\n",
        "청소년 = [5.6, 10.3, 5.3, 19.8, 27.4, 16.2, 5.3]\n",
        "성인 = [9.1, 13.0, 15.7, 19.7, 23.5, 14.7, 4.3]\n",
        "육십대 = [26.3, 15.0, 15.3, 14.2, 16.4, 11.1, 1.7]\n",
        "남성 = [9.3, 12.5, 15.2, 19.9, 23.7, 14.9, 4.6]\n",
        "여성 = [10.8, 12.9, 16.0, 18.9, 23.3, 14.1, 4.0]\n",
        "비율 = [유아동, 청소년, 성인, 육십대, 남성, 여성]\n",
        "\n",
        "#dataframe으로 만들기\n",
        "d1 = pd.DataFrame(비율, index=응답자특성, columns=이용정도)\n",
        "d1 #확인용"
      ],
      "metadata": {
        "id": "DJfqu2zAUiO4",
        "colab": {
          "base_uri": "https://localhost:8080/",
          "height": 281
        },
        "outputId": "042561fb-c61f-4dd1-f331-4e09b1ceea17"
      },
      "execution_count": null,
      "outputs": [
        {
          "output_type": "execute_result",
          "data": {
            "text/plain": [
              "     전혀 이용하지 않는다  거의 이용하지 않는다  별로 이용하지 않는다    보통  어느 정도 이용한다  자주 이용한다  \\\n",
              "유아동         21.5         10.3         11.1  21.8        19.8     10.2   \n",
              "청소년          5.6         10.3          5.3  19.8        27.4     16.2   \n",
              "성인           9.1         13.0         15.7  19.7        23.5     14.7   \n",
              "60대         26.3         15.0         15.3  14.2        16.4     11.1   \n",
              "남성           9.3         12.5         15.2  19.9        23.7     14.9   \n",
              "여성          10.8         12.9         16.0  18.9        23.3     14.1   \n",
              "\n",
              "     매우 자주 이용한다  \n",
              "유아동         5.3  \n",
              "청소년         5.3  \n",
              "성인          4.3  \n",
              "60대         1.7  \n",
              "남성          4.6  \n",
              "여성          4.0  "
            ],
            "text/html": [
              "\n",
              "  <div id=\"df-eaed7bfb-5018-4c56-b69c-5cea1fc1cdd6\">\n",
              "    <div class=\"colab-df-container\">\n",
              "      <div>\n",
              "<style scoped>\n",
              "    .dataframe tbody tr th:only-of-type {\n",
              "        vertical-align: middle;\n",
              "    }\n",
              "\n",
              "    .dataframe tbody tr th {\n",
              "        vertical-align: top;\n",
              "    }\n",
              "\n",
              "    .dataframe thead th {\n",
              "        text-align: right;\n",
              "    }\n",
              "</style>\n",
              "<table border=\"1\" class=\"dataframe\">\n",
              "  <thead>\n",
              "    <tr style=\"text-align: right;\">\n",
              "      <th></th>\n",
              "      <th>전혀 이용하지 않는다</th>\n",
              "      <th>거의 이용하지 않는다</th>\n",
              "      <th>별로 이용하지 않는다</th>\n",
              "      <th>보통</th>\n",
              "      <th>어느 정도 이용한다</th>\n",
              "      <th>자주 이용한다</th>\n",
              "      <th>매우 자주 이용한다</th>\n",
              "    </tr>\n",
              "  </thead>\n",
              "  <tbody>\n",
              "    <tr>\n",
              "      <th>유아동</th>\n",
              "      <td>21.5</td>\n",
              "      <td>10.3</td>\n",
              "      <td>11.1</td>\n",
              "      <td>21.8</td>\n",
              "      <td>19.8</td>\n",
              "      <td>10.2</td>\n",
              "      <td>5.3</td>\n",
              "    </tr>\n",
              "    <tr>\n",
              "      <th>청소년</th>\n",
              "      <td>5.6</td>\n",
              "      <td>10.3</td>\n",
              "      <td>5.3</td>\n",
              "      <td>19.8</td>\n",
              "      <td>27.4</td>\n",
              "      <td>16.2</td>\n",
              "      <td>5.3</td>\n",
              "    </tr>\n",
              "    <tr>\n",
              "      <th>성인</th>\n",
              "      <td>9.1</td>\n",
              "      <td>13.0</td>\n",
              "      <td>15.7</td>\n",
              "      <td>19.7</td>\n",
              "      <td>23.5</td>\n",
              "      <td>14.7</td>\n",
              "      <td>4.3</td>\n",
              "    </tr>\n",
              "    <tr>\n",
              "      <th>60대</th>\n",
              "      <td>26.3</td>\n",
              "      <td>15.0</td>\n",
              "      <td>15.3</td>\n",
              "      <td>14.2</td>\n",
              "      <td>16.4</td>\n",
              "      <td>11.1</td>\n",
              "      <td>1.7</td>\n",
              "    </tr>\n",
              "    <tr>\n",
              "      <th>남성</th>\n",
              "      <td>9.3</td>\n",
              "      <td>12.5</td>\n",
              "      <td>15.2</td>\n",
              "      <td>19.9</td>\n",
              "      <td>23.7</td>\n",
              "      <td>14.9</td>\n",
              "      <td>4.6</td>\n",
              "    </tr>\n",
              "    <tr>\n",
              "      <th>여성</th>\n",
              "      <td>10.8</td>\n",
              "      <td>12.9</td>\n",
              "      <td>16.0</td>\n",
              "      <td>18.9</td>\n",
              "      <td>23.3</td>\n",
              "      <td>14.1</td>\n",
              "      <td>4.0</td>\n",
              "    </tr>\n",
              "  </tbody>\n",
              "</table>\n",
              "</div>\n",
              "      <button class=\"colab-df-convert\" onclick=\"convertToInteractive('df-eaed7bfb-5018-4c56-b69c-5cea1fc1cdd6')\"\n",
              "              title=\"Convert this dataframe to an interactive table.\"\n",
              "              style=\"display:none;\">\n",
              "        \n",
              "  <svg xmlns=\"http://www.w3.org/2000/svg\" height=\"24px\"viewBox=\"0 0 24 24\"\n",
              "       width=\"24px\">\n",
              "    <path d=\"M0 0h24v24H0V0z\" fill=\"none\"/>\n",
              "    <path d=\"M18.56 5.44l.94 2.06.94-2.06 2.06-.94-2.06-.94-.94-2.06-.94 2.06-2.06.94zm-11 1L8.5 8.5l.94-2.06 2.06-.94-2.06-.94L8.5 2.5l-.94 2.06-2.06.94zm10 10l.94 2.06.94-2.06 2.06-.94-2.06-.94-.94-2.06-.94 2.06-2.06.94z\"/><path d=\"M17.41 7.96l-1.37-1.37c-.4-.4-.92-.59-1.43-.59-.52 0-1.04.2-1.43.59L10.3 9.45l-7.72 7.72c-.78.78-.78 2.05 0 2.83L4 21.41c.39.39.9.59 1.41.59.51 0 1.02-.2 1.41-.59l7.78-7.78 2.81-2.81c.8-.78.8-2.07 0-2.86zM5.41 20L4 18.59l7.72-7.72 1.47 1.35L5.41 20z\"/>\n",
              "  </svg>\n",
              "      </button>\n",
              "      \n",
              "  <style>\n",
              "    .colab-df-container {\n",
              "      display:flex;\n",
              "      flex-wrap:wrap;\n",
              "      gap: 12px;\n",
              "    }\n",
              "\n",
              "    .colab-df-convert {\n",
              "      background-color: #E8F0FE;\n",
              "      border: none;\n",
              "      border-radius: 50%;\n",
              "      cursor: pointer;\n",
              "      display: none;\n",
              "      fill: #1967D2;\n",
              "      height: 32px;\n",
              "      padding: 0 0 0 0;\n",
              "      width: 32px;\n",
              "    }\n",
              "\n",
              "    .colab-df-convert:hover {\n",
              "      background-color: #E2EBFA;\n",
              "      box-shadow: 0px 1px 2px rgba(60, 64, 67, 0.3), 0px 1px 3px 1px rgba(60, 64, 67, 0.15);\n",
              "      fill: #174EA6;\n",
              "    }\n",
              "\n",
              "    [theme=dark] .colab-df-convert {\n",
              "      background-color: #3B4455;\n",
              "      fill: #D2E3FC;\n",
              "    }\n",
              "\n",
              "    [theme=dark] .colab-df-convert:hover {\n",
              "      background-color: #434B5C;\n",
              "      box-shadow: 0px 1px 3px 1px rgba(0, 0, 0, 0.15);\n",
              "      filter: drop-shadow(0px 1px 2px rgba(0, 0, 0, 0.3));\n",
              "      fill: #FFFFFF;\n",
              "    }\n",
              "  </style>\n",
              "\n",
              "      <script>\n",
              "        const buttonEl =\n",
              "          document.querySelector('#df-eaed7bfb-5018-4c56-b69c-5cea1fc1cdd6 button.colab-df-convert');\n",
              "        buttonEl.style.display =\n",
              "          google.colab.kernel.accessAllowed ? 'block' : 'none';\n",
              "\n",
              "        async function convertToInteractive(key) {\n",
              "          const element = document.querySelector('#df-eaed7bfb-5018-4c56-b69c-5cea1fc1cdd6');\n",
              "          const dataTable =\n",
              "            await google.colab.kernel.invokeFunction('convertToInteractive',\n",
              "                                                     [key], {});\n",
              "          if (!dataTable) return;\n",
              "\n",
              "          const docLinkHtml = 'Like what you see? Visit the ' +\n",
              "            '<a target=\"_blank\" href=https://colab.research.google.com/notebooks/data_table.ipynb>data table notebook</a>'\n",
              "            + ' to learn more about interactive tables.';\n",
              "          element.innerHTML = '';\n",
              "          dataTable['output_type'] = 'display_data';\n",
              "          await google.colab.output.renderOutput(dataTable, element);\n",
              "          const docLink = document.createElement('div');\n",
              "          docLink.innerHTML = docLinkHtml;\n",
              "          element.appendChild(docLink);\n",
              "        }\n",
              "      </script>\n",
              "    </div>\n",
              "  </div>\n",
              "  "
            ]
          },
          "metadata": {},
          "execution_count": 38
        }
      ]
    },
    {
      "cell_type": "code",
      "source": [
        "d1['이용X'] = d1.loc[:, '전혀 이용하지 않는다':'별로 이용하지 않는다'].sum(axis=1)\n",
        "d1['이용O'] = d1.loc[:, '어느 정도 이용한다':'매우 자주 이용한다'].sum(axis=1)\n",
        "\n",
        "# 새로운 dataframe 만들기\n",
        "d2 = d1[['이용X', '보통', '이용O']]\n",
        "d2"
      ],
      "metadata": {
        "id": "OTZSi_qgrE5D",
        "colab": {
          "base_uri": "https://localhost:8080/",
          "height": 237
        },
        "outputId": "5ee86a0e-f622-40fc-b6d7-3e9ee693390b"
      },
      "execution_count": null,
      "outputs": [
        {
          "output_type": "execute_result",
          "data": {
            "text/plain": [
              "      이용X    보통   이용O\n",
              "유아동  42.9  21.8  35.3\n",
              "청소년  21.2  19.8  48.9\n",
              "성인   37.8  19.7  42.5\n",
              "60대  56.6  14.2  29.2\n",
              "남성   37.0  19.9  43.2\n",
              "여성   39.7  18.9  41.4"
            ],
            "text/html": [
              "\n",
              "  <div id=\"df-3a95ea27-8922-4c4e-b1d4-f5b541c0bd95\">\n",
              "    <div class=\"colab-df-container\">\n",
              "      <div>\n",
              "<style scoped>\n",
              "    .dataframe tbody tr th:only-of-type {\n",
              "        vertical-align: middle;\n",
              "    }\n",
              "\n",
              "    .dataframe tbody tr th {\n",
              "        vertical-align: top;\n",
              "    }\n",
              "\n",
              "    .dataframe thead th {\n",
              "        text-align: right;\n",
              "    }\n",
              "</style>\n",
              "<table border=\"1\" class=\"dataframe\">\n",
              "  <thead>\n",
              "    <tr style=\"text-align: right;\">\n",
              "      <th></th>\n",
              "      <th>이용X</th>\n",
              "      <th>보통</th>\n",
              "      <th>이용O</th>\n",
              "    </tr>\n",
              "  </thead>\n",
              "  <tbody>\n",
              "    <tr>\n",
              "      <th>유아동</th>\n",
              "      <td>42.9</td>\n",
              "      <td>21.8</td>\n",
              "      <td>35.3</td>\n",
              "    </tr>\n",
              "    <tr>\n",
              "      <th>청소년</th>\n",
              "      <td>21.2</td>\n",
              "      <td>19.8</td>\n",
              "      <td>48.9</td>\n",
              "    </tr>\n",
              "    <tr>\n",
              "      <th>성인</th>\n",
              "      <td>37.8</td>\n",
              "      <td>19.7</td>\n",
              "      <td>42.5</td>\n",
              "    </tr>\n",
              "    <tr>\n",
              "      <th>60대</th>\n",
              "      <td>56.6</td>\n",
              "      <td>14.2</td>\n",
              "      <td>29.2</td>\n",
              "    </tr>\n",
              "    <tr>\n",
              "      <th>남성</th>\n",
              "      <td>37.0</td>\n",
              "      <td>19.9</td>\n",
              "      <td>43.2</td>\n",
              "    </tr>\n",
              "    <tr>\n",
              "      <th>여성</th>\n",
              "      <td>39.7</td>\n",
              "      <td>18.9</td>\n",
              "      <td>41.4</td>\n",
              "    </tr>\n",
              "  </tbody>\n",
              "</table>\n",
              "</div>\n",
              "      <button class=\"colab-df-convert\" onclick=\"convertToInteractive('df-3a95ea27-8922-4c4e-b1d4-f5b541c0bd95')\"\n",
              "              title=\"Convert this dataframe to an interactive table.\"\n",
              "              style=\"display:none;\">\n",
              "        \n",
              "  <svg xmlns=\"http://www.w3.org/2000/svg\" height=\"24px\"viewBox=\"0 0 24 24\"\n",
              "       width=\"24px\">\n",
              "    <path d=\"M0 0h24v24H0V0z\" fill=\"none\"/>\n",
              "    <path d=\"M18.56 5.44l.94 2.06.94-2.06 2.06-.94-2.06-.94-.94-2.06-.94 2.06-2.06.94zm-11 1L8.5 8.5l.94-2.06 2.06-.94-2.06-.94L8.5 2.5l-.94 2.06-2.06.94zm10 10l.94 2.06.94-2.06 2.06-.94-2.06-.94-.94-2.06-.94 2.06-2.06.94z\"/><path d=\"M17.41 7.96l-1.37-1.37c-.4-.4-.92-.59-1.43-.59-.52 0-1.04.2-1.43.59L10.3 9.45l-7.72 7.72c-.78.78-.78 2.05 0 2.83L4 21.41c.39.39.9.59 1.41.59.51 0 1.02-.2 1.41-.59l7.78-7.78 2.81-2.81c.8-.78.8-2.07 0-2.86zM5.41 20L4 18.59l7.72-7.72 1.47 1.35L5.41 20z\"/>\n",
              "  </svg>\n",
              "      </button>\n",
              "      \n",
              "  <style>\n",
              "    .colab-df-container {\n",
              "      display:flex;\n",
              "      flex-wrap:wrap;\n",
              "      gap: 12px;\n",
              "    }\n",
              "\n",
              "    .colab-df-convert {\n",
              "      background-color: #E8F0FE;\n",
              "      border: none;\n",
              "      border-radius: 50%;\n",
              "      cursor: pointer;\n",
              "      display: none;\n",
              "      fill: #1967D2;\n",
              "      height: 32px;\n",
              "      padding: 0 0 0 0;\n",
              "      width: 32px;\n",
              "    }\n",
              "\n",
              "    .colab-df-convert:hover {\n",
              "      background-color: #E2EBFA;\n",
              "      box-shadow: 0px 1px 2px rgba(60, 64, 67, 0.3), 0px 1px 3px 1px rgba(60, 64, 67, 0.15);\n",
              "      fill: #174EA6;\n",
              "    }\n",
              "\n",
              "    [theme=dark] .colab-df-convert {\n",
              "      background-color: #3B4455;\n",
              "      fill: #D2E3FC;\n",
              "    }\n",
              "\n",
              "    [theme=dark] .colab-df-convert:hover {\n",
              "      background-color: #434B5C;\n",
              "      box-shadow: 0px 1px 3px 1px rgba(0, 0, 0, 0.15);\n",
              "      filter: drop-shadow(0px 1px 2px rgba(0, 0, 0, 0.3));\n",
              "      fill: #FFFFFF;\n",
              "    }\n",
              "  </style>\n",
              "\n",
              "      <script>\n",
              "        const buttonEl =\n",
              "          document.querySelector('#df-3a95ea27-8922-4c4e-b1d4-f5b541c0bd95 button.colab-df-convert');\n",
              "        buttonEl.style.display =\n",
              "          google.colab.kernel.accessAllowed ? 'block' : 'none';\n",
              "\n",
              "        async function convertToInteractive(key) {\n",
              "          const element = document.querySelector('#df-3a95ea27-8922-4c4e-b1d4-f5b541c0bd95');\n",
              "          const dataTable =\n",
              "            await google.colab.kernel.invokeFunction('convertToInteractive',\n",
              "                                                     [key], {});\n",
              "          if (!dataTable) return;\n",
              "\n",
              "          const docLinkHtml = 'Like what you see? Visit the ' +\n",
              "            '<a target=\"_blank\" href=https://colab.research.google.com/notebooks/data_table.ipynb>data table notebook</a>'\n",
              "            + ' to learn more about interactive tables.';\n",
              "          element.innerHTML = '';\n",
              "          dataTable['output_type'] = 'display_data';\n",
              "          await google.colab.output.renderOutput(dataTable, element);\n",
              "          const docLink = document.createElement('div');\n",
              "          docLink.innerHTML = docLinkHtml;\n",
              "          element.appendChild(docLink);\n",
              "        }\n",
              "      </script>\n",
              "    </div>\n",
              "  </div>\n",
              "  "
            ]
          },
          "metadata": {},
          "execution_count": 39
        }
      ]
    },
    {
      "cell_type": "code",
      "source": [
        "# 응답자 특성에 따른 이용 정도 시각화\n",
        "d2.plot(kind='barh', stacked = True, figsize=(10,2)) # 가로 막대 그래프\n",
        "plt.title('주이용 콘텐츠 이용정도') # 그래프의 제목\n",
        "\n",
        "plt.show()"
      ],
      "metadata": {
        "id": "u23KG5o2rOUd",
        "colab": {
          "base_uri": "https://localhost:8080/",
          "height": 1000
        },
        "outputId": "dee7b343-8a4b-4007-8e03-8da444fbeeba"
      },
      "execution_count": null,
      "outputs": [
        {
          "output_type": "stream",
          "name": "stderr",
          "text": [
            "/usr/local/lib/python3.8/dist-packages/matplotlib/backends/backend_agg.py:214: RuntimeWarning: Glyph 51452 missing from current font.\n",
            "  font.set_text(s, 0.0, flags=flags)\n",
            "/usr/local/lib/python3.8/dist-packages/matplotlib/backends/backend_agg.py:214: RuntimeWarning: Glyph 51060 missing from current font.\n",
            "  font.set_text(s, 0.0, flags=flags)\n",
            "/usr/local/lib/python3.8/dist-packages/matplotlib/backends/backend_agg.py:214: RuntimeWarning: Glyph 50857 missing from current font.\n",
            "  font.set_text(s, 0.0, flags=flags)\n",
            "/usr/local/lib/python3.8/dist-packages/matplotlib/backends/backend_agg.py:214: RuntimeWarning: Glyph 53080 missing from current font.\n",
            "  font.set_text(s, 0.0, flags=flags)\n",
            "/usr/local/lib/python3.8/dist-packages/matplotlib/backends/backend_agg.py:214: RuntimeWarning: Glyph 53584 missing from current font.\n",
            "  font.set_text(s, 0.0, flags=flags)\n",
            "/usr/local/lib/python3.8/dist-packages/matplotlib/backends/backend_agg.py:214: RuntimeWarning: Glyph 52768 missing from current font.\n",
            "  font.set_text(s, 0.0, flags=flags)\n",
            "/usr/local/lib/python3.8/dist-packages/matplotlib/backends/backend_agg.py:214: RuntimeWarning: Glyph 51221 missing from current font.\n",
            "  font.set_text(s, 0.0, flags=flags)\n",
            "/usr/local/lib/python3.8/dist-packages/matplotlib/backends/backend_agg.py:214: RuntimeWarning: Glyph 46020 missing from current font.\n",
            "  font.set_text(s, 0.0, flags=flags)\n",
            "/usr/local/lib/python3.8/dist-packages/matplotlib/backends/backend_agg.py:214: RuntimeWarning: Glyph 50976 missing from current font.\n",
            "  font.set_text(s, 0.0, flags=flags)\n",
            "/usr/local/lib/python3.8/dist-packages/matplotlib/backends/backend_agg.py:214: RuntimeWarning: Glyph 50500 missing from current font.\n",
            "  font.set_text(s, 0.0, flags=flags)\n",
            "/usr/local/lib/python3.8/dist-packages/matplotlib/backends/backend_agg.py:214: RuntimeWarning: Glyph 46041 missing from current font.\n",
            "  font.set_text(s, 0.0, flags=flags)\n",
            "/usr/local/lib/python3.8/dist-packages/matplotlib/backends/backend_agg.py:214: RuntimeWarning: Glyph 52397 missing from current font.\n",
            "  font.set_text(s, 0.0, flags=flags)\n",
            "/usr/local/lib/python3.8/dist-packages/matplotlib/backends/backend_agg.py:214: RuntimeWarning: Glyph 49548 missing from current font.\n",
            "  font.set_text(s, 0.0, flags=flags)\n",
            "/usr/local/lib/python3.8/dist-packages/matplotlib/backends/backend_agg.py:214: RuntimeWarning: Glyph 45380 missing from current font.\n",
            "  font.set_text(s, 0.0, flags=flags)\n",
            "/usr/local/lib/python3.8/dist-packages/matplotlib/backends/backend_agg.py:214: RuntimeWarning: Glyph 49457 missing from current font.\n",
            "  font.set_text(s, 0.0, flags=flags)\n",
            "/usr/local/lib/python3.8/dist-packages/matplotlib/backends/backend_agg.py:214: RuntimeWarning: Glyph 51064 missing from current font.\n",
            "  font.set_text(s, 0.0, flags=flags)\n",
            "/usr/local/lib/python3.8/dist-packages/matplotlib/backends/backend_agg.py:214: RuntimeWarning: Glyph 45824 missing from current font.\n",
            "  font.set_text(s, 0.0, flags=flags)\n",
            "/usr/local/lib/python3.8/dist-packages/matplotlib/backends/backend_agg.py:214: RuntimeWarning: Glyph 45224 missing from current font.\n",
            "  font.set_text(s, 0.0, flags=flags)\n",
            "/usr/local/lib/python3.8/dist-packages/matplotlib/backends/backend_agg.py:214: RuntimeWarning: Glyph 50668 missing from current font.\n",
            "  font.set_text(s, 0.0, flags=flags)\n",
            "/usr/local/lib/python3.8/dist-packages/matplotlib/backends/backend_agg.py:214: RuntimeWarning: Glyph 48372 missing from current font.\n",
            "  font.set_text(s, 0.0, flags=flags)\n",
            "/usr/local/lib/python3.8/dist-packages/matplotlib/backends/backend_agg.py:214: RuntimeWarning: Glyph 53685 missing from current font.\n",
            "  font.set_text(s, 0.0, flags=flags)\n",
            "/usr/local/lib/python3.8/dist-packages/matplotlib/backends/backend_agg.py:183: RuntimeWarning: Glyph 50976 missing from current font.\n",
            "  font.set_text(s, 0, flags=flags)\n",
            "/usr/local/lib/python3.8/dist-packages/matplotlib/backends/backend_agg.py:183: RuntimeWarning: Glyph 50500 missing from current font.\n",
            "  font.set_text(s, 0, flags=flags)\n",
            "/usr/local/lib/python3.8/dist-packages/matplotlib/backends/backend_agg.py:183: RuntimeWarning: Glyph 46041 missing from current font.\n",
            "  font.set_text(s, 0, flags=flags)\n",
            "/usr/local/lib/python3.8/dist-packages/matplotlib/backends/backend_agg.py:183: RuntimeWarning: Glyph 52397 missing from current font.\n",
            "  font.set_text(s, 0, flags=flags)\n",
            "/usr/local/lib/python3.8/dist-packages/matplotlib/backends/backend_agg.py:183: RuntimeWarning: Glyph 49548 missing from current font.\n",
            "  font.set_text(s, 0, flags=flags)\n",
            "/usr/local/lib/python3.8/dist-packages/matplotlib/backends/backend_agg.py:183: RuntimeWarning: Glyph 45380 missing from current font.\n",
            "  font.set_text(s, 0, flags=flags)\n",
            "/usr/local/lib/python3.8/dist-packages/matplotlib/backends/backend_agg.py:183: RuntimeWarning: Glyph 49457 missing from current font.\n",
            "  font.set_text(s, 0, flags=flags)\n",
            "/usr/local/lib/python3.8/dist-packages/matplotlib/backends/backend_agg.py:183: RuntimeWarning: Glyph 51064 missing from current font.\n",
            "  font.set_text(s, 0, flags=flags)\n",
            "/usr/local/lib/python3.8/dist-packages/matplotlib/backends/backend_agg.py:183: RuntimeWarning: Glyph 45824 missing from current font.\n",
            "  font.set_text(s, 0, flags=flags)\n",
            "/usr/local/lib/python3.8/dist-packages/matplotlib/backends/backend_agg.py:183: RuntimeWarning: Glyph 45224 missing from current font.\n",
            "  font.set_text(s, 0, flags=flags)\n",
            "/usr/local/lib/python3.8/dist-packages/matplotlib/backends/backend_agg.py:183: RuntimeWarning: Glyph 50668 missing from current font.\n",
            "  font.set_text(s, 0, flags=flags)\n",
            "/usr/local/lib/python3.8/dist-packages/matplotlib/backends/backend_agg.py:183: RuntimeWarning: Glyph 51452 missing from current font.\n",
            "  font.set_text(s, 0, flags=flags)\n",
            "/usr/local/lib/python3.8/dist-packages/matplotlib/backends/backend_agg.py:183: RuntimeWarning: Glyph 51060 missing from current font.\n",
            "  font.set_text(s, 0, flags=flags)\n",
            "/usr/local/lib/python3.8/dist-packages/matplotlib/backends/backend_agg.py:183: RuntimeWarning: Glyph 50857 missing from current font.\n",
            "  font.set_text(s, 0, flags=flags)\n",
            "/usr/local/lib/python3.8/dist-packages/matplotlib/backends/backend_agg.py:183: RuntimeWarning: Glyph 53080 missing from current font.\n",
            "  font.set_text(s, 0, flags=flags)\n",
            "/usr/local/lib/python3.8/dist-packages/matplotlib/backends/backend_agg.py:183: RuntimeWarning: Glyph 53584 missing from current font.\n",
            "  font.set_text(s, 0, flags=flags)\n",
            "/usr/local/lib/python3.8/dist-packages/matplotlib/backends/backend_agg.py:183: RuntimeWarning: Glyph 52768 missing from current font.\n",
            "  font.set_text(s, 0, flags=flags)\n",
            "/usr/local/lib/python3.8/dist-packages/matplotlib/backends/backend_agg.py:183: RuntimeWarning: Glyph 51221 missing from current font.\n",
            "  font.set_text(s, 0, flags=flags)\n",
            "/usr/local/lib/python3.8/dist-packages/matplotlib/backends/backend_agg.py:183: RuntimeWarning: Glyph 46020 missing from current font.\n",
            "  font.set_text(s, 0, flags=flags)\n",
            "/usr/local/lib/python3.8/dist-packages/matplotlib/backends/backend_agg.py:183: RuntimeWarning: Glyph 48372 missing from current font.\n",
            "  font.set_text(s, 0, flags=flags)\n",
            "/usr/local/lib/python3.8/dist-packages/matplotlib/backends/backend_agg.py:183: RuntimeWarning: Glyph 53685 missing from current font.\n",
            "  font.set_text(s, 0, flags=flags)\n"
          ]
        },
        {
          "output_type": "display_data",
          "data": {
            "text/plain": [
              "<Figure size 720x144 with 1 Axes>"
            ],
            "image/png": "[encoded data removed]"
          },
          "metadata": {
            "needs_background": "light"
          }
        }
      ]
    },
    {
      "cell_type": "markdown",
      "source": [
        "### 2.2.1. 웹툰 분석"
      ],
      "metadata": {
        "id": "TlFua-EyUjPy"
      }
    },
    {
      "cell_type": "markdown",
      "source": [
        "```\n",
        "- 네이버 웹툰에서 [드라마원작] 키워드 검색: (https://comic.naver.com/search?m=webtoon&keyword=%EB%93%9C%EB%9D%BC%EB%A7%88&type=all) \n",
        "\n",
        "- 나무위키에서 [분류:웹툰 원작 드라마] 키워드 검색: (https://namu.wiki/w/%EB%B6%84%EB%A5%98:%EC%9B%B9%ED%88%B0%20%EC%9B%90%EC%9E%91%20%EB%93%9C%EB%9D%BC%EB%A7%88)\n",
        "```\n",
        "\n",
        "[네이버 웹툰 사이트와 나무위키를 종합하여 검색]\n",
        "원작이 네이버 사이트에 연재되었다고 표기된 웹툰 리스트(중복 제외): 총 72개 \n",
        "(웹드라마 제외 시 59개)\n",
        "\n",
        "웹툰 가운데 아직 방영되지 않은 작품들도 있고, 웹툰과 드라마의 제목이 다른 경우가 있어 '웹툰_리스트'와 '드라마_리스트'를 따로 설정함"
      ],
      "metadata": {
        "id": "nCCGYgyKrc3g"
      }
    },
    {
      "cell_type": "code",
      "source": [
        "# 웹툰 리스트 정의\n",
        "웹툰_리스트 = ['간 떨어지는 동거', '계룡선녀전', '한번 더 해요', '꽃가족', '내 ID는 강남미인', '내과 박원장', '냄새를 보는 소녀', '놓지마 정신줄', '닥터 프로스트', '멜로홀릭', '사장님을 잠금해제', '송곳', '싸우자 귀신아', '쌉니다 천리마마트', '아일랜드', '알고있지만', '약한 영웅', '어서와', '오렌지 마말레이드', '운빨로맨스', '은주의 방', '녹두전', '조선왕조실톡', '참치와 돌고래', '청춘 블라썸', '치즈인더트랩', '커넥트', '타인은 지옥이다', '가우스전자', '금수저', '내일', '동네변호사 조들호', '머니게임', '스위트홈', '안나라수마나라', '여신강림', '우월한 하루', '유미의 세포들', '지금 우리 학교는', '지옥', 'D.P 개의날', '마음의 소리', '만찢남녀', '무한동력', '백수세끼', '소녀의 세계', '손의 흔적', '썸남', '연애세포', '연애혁명', '오늘도 형제는 평화롭다', '우리 헤어졌어요', '질풍기획', '후유증', '고래별', '낮에 뜨는 달', '닭강정', '마음의 숙제', '방과 후 전쟁활동', '비질란테', '사냥개들', '살인자o난감', '언터쳐블', '오늘도 사랑스럽개', '우연일까', '운수오진날', '이두나!', '이제 곧 죽습니다', '정년이', '하이브', '마스크걸', '이번 생도 잘 부탁해']\n",
        "웹툰_리스트.sort()\n",
        "print(웹툰_리스트)"
      ],
      "metadata": {
        "id": "lkVSiiSjUmBz",
        "colab": {
          "base_uri": "https://localhost:8080/"
        },
        "outputId": "addb14a0-3e2f-4bce-ece9-616d1678bb37"
      },
      "execution_count": null,
      "outputs": [
        {
          "output_type": "stream",
          "name": "stdout",
          "text": [
            "['D.P 개의날', '가우스전자', '간 떨어지는 동거', '계룡선녀전', '고래별', '금수저', '꽃가족', '낮에 뜨는 달', '내 ID는 강남미인', '내과 박원장', '내일', '냄새를 보는 소녀', '녹두전', '놓지마 정신줄', '닥터 프로스트', '닭강정', '동네변호사 조들호', '마스크걸', '마음의 소리', '마음의 숙제', '만찢남녀', '머니게임', '멜로홀릭', '무한동력', '방과 후 전쟁활동', '백수세끼', '비질란테', '사냥개들', '사장님을 잠금해제', '살인자o난감', '소녀의 세계', '손의 흔적', '송곳', '스위트홈', '싸우자 귀신아', '쌉니다 천리마마트', '썸남', '아일랜드', '안나라수마나라', '알고있지만', '약한 영웅', '어서와', '언터쳐블', '여신강림', '연애세포', '연애혁명', '오늘도 사랑스럽개', '오늘도 형제는 평화롭다', '오렌지 마말레이드', '우리 헤어졌어요', '우연일까', '우월한 하루', '운빨로맨스', '운수오진날', '유미의 세포들', '은주의 방', '이두나!', '이번 생도 잘 부탁해', '이제 곧 죽습니다', '정년이', '조선왕조실톡', '지금 우리 학교는', '지옥', '질풍기획', '참치와 돌고래', '청춘 블라썸', '치즈인더트랩', '커넥트', '타인은 지옥이다', '하이브', '한번 더 해요', '후유증']\n"
          ]
        }
      ]
    },
    {
      "cell_type": "code",
      "source": [
        "# 표 형식으로 보기 위해 dataframe 설정\n",
        "webtoon1 = pd.DataFrame(index=웹툰_리스트)\n",
        "webtoon1"
      ],
      "metadata": {
        "id": "aGe-7KTirrQ0",
        "colab": {
          "base_uri": "https://localhost:8080/",
          "height": 206
        },
        "outputId": "6397f500-db69-4226-fb76-684eb5710bcb"
      },
      "execution_count": null,
      "outputs": [
        {
          "output_type": "error",
          "ename": "NameError",
          "evalue": "ignored",
          "traceback": [
            "\u001b[0;31m---------------------------------------------------------------------------\u001b[0m",
            "\u001b[0;31mNameError\u001b[0m                                 Traceback (most recent call last)",
            "\u001b[0;32m<ipython-input-2-3fb0d62dd790>\u001b[0m in \u001b[0;36m<module>\u001b[0;34m\u001b[0m\n\u001b[1;32m      1\u001b[0m \u001b[0;31m# 표 형식으로 보기 위해 dataframe 설정\u001b[0m\u001b[0;34m\u001b[0m\u001b[0;34m\u001b[0m\u001b[0;34m\u001b[0m\u001b[0m\n\u001b[0;32m----> 2\u001b[0;31m \u001b[0mwebtoon1\u001b[0m \u001b[0;34m=\u001b[0m \u001b[0mpd\u001b[0m\u001b[0;34m.\u001b[0m\u001b[0mDataFrame\u001b[0m\u001b[0;34m(\u001b[0m\u001b[0mindex\u001b[0m\u001b[0;34m=\u001b[0m\u001b[0m웹툰_리스트\u001b[0m\u001b[0;34m)\u001b[0m\u001b[0;34m\u001b[0m\u001b[0;34m\u001b[0m\u001b[0m\n\u001b[0m\u001b[1;32m      3\u001b[0m \u001b[0mwebtoon1\u001b[0m \u001b[0;31m# 실제로는 print를 해야겠지만 코랩에서 보기 편하기 위해\u001b[0m\u001b[0;34m\u001b[0m\u001b[0;34m\u001b[0m\u001b[0m\n",
            "\u001b[0;31mNameError\u001b[0m: name 'pd' is not defined"
          ]
        }
      ]
    },
    {
      "cell_type": "markdown",
      "source": [
        "#### 별점"
      ],
      "metadata": {
        "id": "5n5Eqj3vrt7s"
      }
    },
    {
      "cell_type": "code",
      "source": [
        "# 빈 리스트 설정 (추후 계산할 웹툰의 별점이 들어갈 리스트)\n",
        "웹툰별점_리스트 = []"
      ],
      "metadata": {
        "id": "62k1vX01rrxO"
      },
      "execution_count": null,
      "outputs": []
    },
    {
      "cell_type": "code",
      "source": [
        "# 정규식 (추후 사용 - 튜터님의 도움을 받음)\n",
        "import re\n",
        "pattern = re.compile('[0-9]\\.[0-9][0-9]') # 별점의 형식이 *.**(소수점 둘째자리까지)이므로\n",
        "rate = 'ddd' # 정상적으로 작동하는지 확인하고자\n",
        "print(pattern.match(rate))"
      ],
      "metadata": {
        "id": "l91WxjHMr4HK"
      },
      "execution_count": null,
      "outputs": []
    },
    {
      "cell_type": "code",
      "source": [
        "# 별점 함수\n",
        "def webtoon_rating(name):\n",
        "    driver.get('https://comic.naver.com/')\n",
        "    driver.find_element(By.CLASS_NAME, 'snb_search_text').send_keys(name) # 검색어 입력\n",
        "    time.sleep(3)    \n",
        "    \n",
        "    xpath = '//*[@id=\"search_bar_button\"]/span' # 검색 클릭\n",
        "    driver.find_element(By.XPATH, value=xpath).click()\n",
        "    time.sleep(3)  \n",
        "    \n",
        "    if (driver.find_element(By.CLASS_NAME, \"resultList\").text) != '검색 결과가 없습니다.':\n",
        "        xpath = '//*[@id=\"content\"]/div[2]/ul/li[1]/h5/a' # 제일 첫 번째 항목 클릭\n",
        "        driver.find_element(By.XPATH, value=xpath).click()\n",
        "        time.sleep(3)\n",
        "        html=driver.page_source\n",
        "        soup = BeautifulSoup(html, 'html.parser')\n",
        "        \n",
        "        strong_list = soup.find_all('strong', {\"class\": \"\"}) # strong 태그가 별점. 별점 모두 찾아서\n",
        "        \n",
        "        rate_list = []\n",
        "        \n",
        "        for strong in strong_list:\n",
        "            if pattern.match(strong.text.strip()) != None:\n",
        "                rate_list.append(strong.text.strip())\n",
        "            \n",
        "        \n",
        "        for i in range(len(rate_list)):\n",
        "            rate_list[i] = float(rate_list[i]) # 다 실수형으로 변환\n",
        "        \n",
        "        mean = sum(rate_list) / len(rate_list) # 평균 내기\n",
        "        \n",
        "        return mean"
      ],
      "metadata": {
        "id": "CZzLcSjkr81y"
      },
      "execution_count": null,
      "outputs": []
    },
    {
      "cell_type": "code",
      "source": [
        "# 별점 계산하는 코드.\n",
        "for i in 웹툰_리스트:\n",
        "    웹툰별점_리스트.append(webtoon_rating(i))\n",
        "    \n",
        "print(웹툰별점_리스트)"
      ],
      "metadata": {
        "id": "uxPI8Mu9r9uo",
        "colab": {
          "base_uri": "https://localhost:8080/",
          "height": 241
        },
        "outputId": "8d841fe1-e148-40da-838a-a5a4bd5951ba"
      },
      "execution_count": null,
      "outputs": [
        {
          "output_type": "error",
          "ename": "NameError",
          "evalue": "ignored",
          "traceback": [
            "\u001b[0;31m---------------------------------------------------------------------------\u001b[0m",
            "\u001b[0;31mNameError\u001b[0m                                 Traceback (most recent call last)",
            "\u001b[0;32m<ipython-input-1-08ff4a46e51b>\u001b[0m in \u001b[0;36m<module>\u001b[0;34m\u001b[0m\n\u001b[1;32m      1\u001b[0m \u001b[0;31m# 별점 계산하는 코드.\u001b[0m\u001b[0;34m\u001b[0m\u001b[0;34m\u001b[0m\u001b[0;34m\u001b[0m\u001b[0m\n\u001b[0;32m----> 2\u001b[0;31m \u001b[0;32mfor\u001b[0m \u001b[0mi\u001b[0m \u001b[0;32min\u001b[0m \u001b[0m웹툰_리스트\u001b[0m\u001b[0;34m:\u001b[0m\u001b[0;34m\u001b[0m\u001b[0;34m\u001b[0m\u001b[0m\n\u001b[0m\u001b[1;32m      3\u001b[0m     \u001b[0m웹툰별점_리스트\u001b[0m\u001b[0;34m.\u001b[0m\u001b[0mappend\u001b[0m\u001b[0;34m(\u001b[0m\u001b[0mwebtoon_rating\u001b[0m\u001b[0;34m(\u001b[0m\u001b[0mi\u001b[0m\u001b[0;34m)\u001b[0m\u001b[0;34m)\u001b[0m\u001b[0;34m\u001b[0m\u001b[0;34m\u001b[0m\u001b[0m\n\u001b[1;32m      4\u001b[0m \u001b[0;34m\u001b[0m\u001b[0m\n\u001b[1;32m      5\u001b[0m \u001b[0mprint\u001b[0m\u001b[0;34m(\u001b[0m\u001b[0m웹툰별점_리스트\u001b[0m\u001b[0;34m)\u001b[0m\u001b[0;34m\u001b[0m\u001b[0;34m\u001b[0m\u001b[0m\n",
            "\u001b[0;31mNameError\u001b[0m: name '웹툰_리스트' is not defined"
          ]
        }
      ]
    },
    {
      "cell_type": "code",
      "source": [
        "# 계산한 별점을 dataframe에 추가하는 코드\n",
        "webtoon1['별점'] = pd.Series(웹툰별점_리스트, index=웹툰_리스트)\n",
        "webtoon1"
      ],
      "metadata": {
        "id": "fQHaP6Vcr_Si"
      },
      "execution_count": null,
      "outputs": []
    },
    {
      "cell_type": "code",
      "source": [
        "# 별점을 boxplot으로 시각화\n",
        "sns.boxplot (x='별점', data=webtoon1)\n",
        "plt.title('드라마로 만들어진 웹툰의 별점 boxplot')\n",
        "plt.show()\n",
        "\n",
        "별점평균 = webtoon1.mean()\n",
        "print(f'별점 평균 : {별점평균}')"
      ],
      "metadata": {
        "id": "2zleEg9kr4aa"
      },
      "execution_count": null,
      "outputs": []
    },
    {
      "cell_type": "markdown",
      "source": [
        "실사화된 웹툰들의 별점 평균은 9.89이며, 별점 9.9를 넘는 웹툰들도 상당히 많다는 것을 알 수 있다.\n",
        "\n",
        "평균에서 크게 벗어나는 웹툰들(평균 9.4대)은 닭강정/여신강림이라고 볼 수 있는데, 상대적으로 낮은 평점에도 불구하고 그 왜 실사화가 됐을지를 추정해보면,\n",
        "\n",
        "- 닭강정: 특이한 소재와 줄거리\n",
        "[줄거리] 인턴 사원 ‘고백중’이 거래처에서 받은 기계를 꺼내놓은 사이, 사장의 딸 ‘최민아’가 기계를 신기해하며 안에 들어간다. 그 기계가 잠기면서 펑 터지고, 최민아는 닭강정으로 변해버리는데...\n",
        "\n",
        "- 여신강림: 그림체와 작가 개인의 인기\n",
        "[그림체] 작품이 연재가 될 당시 ‘여신강림’은 그 그림체도 유명해지기도 했었는데, 작가의 작화력에 대해 호평이 많다. 특히, 등장인물들의 외모가 모두 연예인에 버금가 큰 인기를 끌기도 했다. \n",
        "[작가 개인의 인기] ‘여신강림’을 그린 ‘야옹이’ 작가는, 웹툰의 주인공을 닮은 듯한 아름다운 외모로 sns상에서 큰 인기를 얻고 있다. 실제로 그녀는 145.2만 팔로워를 보유하고 있기도 하다.\n",
        "\n",
        "=> 따라서 웹툰 실사화에는 웹툰에 별점을 높게 줄 만한 전형적인 요인들(탄탄한 스토리, 작화, 개인의 선호) 외에도 스토리의 독창성, 창의성이나 작가 개인의 인지도라는 변수도 영향을 줄 수 있음을 알 수 있다."
      ],
      "metadata": {
        "id": "Zvl0uVd3sFI6"
      }
    },
    {
      "cell_type": "markdown",
      "source": [
        "#### 장르"
      ],
      "metadata": {
        "id": "CWdeAOmwrvmO"
      }
    },
    {
      "cell_type": "code",
      "source": [
        "# 빈 리스트 설정 (추후 계산할 웹툰의 장르가 들어갈 리스트)\n",
        "웹툰장르_리스트 = []"
      ],
      "metadata": {
        "id": "aGWEQYjCsCgA"
      },
      "execution_count": null,
      "outputs": []
    },
    {
      "cell_type": "code",
      "source": [
        "# 장르 함수\n",
        "def webtoon_genre(name):\n",
        "    global 웹툰장르_리스트\n",
        "    driver.get('https://comic.naver.com/')\n",
        "    driver.find_element(By.CLASS_NAME, 'snb_search_text').send_keys(name) # 검색어 입력\n",
        "    time.sleep(3)    \n",
        "    xpath = '//*[@id=\"search_bar_button\"]/span' # 검색 클릭\n",
        "    driver.find_element(By.XPATH, value=xpath).click()\n",
        "    time.sleep(3)  \n",
        "    if (driver.find_element(By.CLASS_NAME, \"resultList\").text) != '검색 결과가 없습니다.':\n",
        "        xpath = '//*[@id=\"content\"]/div[2]/ul/li[1]/h5/a' # 제일 첫 번째 항목 클릭\n",
        "        driver.find_element(By.XPATH, value=xpath).click()\n",
        "        time.sleep(3)  \n",
        "        웹툰장르 = driver.find_elements(By.CLASS_NAME, \"genre\") # 장르 가져오기\n",
        "        if len(웹툰장르) != 0:\n",
        "            for i in range(len(웹툰장르)):\n",
        "                gen_text= 웹툰장르[i].text\n",
        "                웹툰장르_리스트.append(gen_text) # 리스트에 추가\n",
        "    else:\n",
        "        웹툰장르_리스트.append('None')"
      ],
      "metadata": {
        "id": "FEUfxKh4r44h"
      },
      "execution_count": null,
      "outputs": []
    },
    {
      "cell_type": "code",
      "source": [
        "# 웹툰장르_리스트가 만들어짐\n",
        "for i in 웹툰_리스트:\n",
        "    webtoon_genre(i)"
      ],
      "metadata": {
        "id": "IdkTOIBYr4pi"
      },
      "execution_count": null,
      "outputs": []
    },
    {
      "cell_type": "code",
      "source": [
        "# 확인용\n",
        "print(웹툰장르_리스트)"
      ],
      "metadata": {
        "id": "kBaiAMmWsLPb"
      },
      "execution_count": null,
      "outputs": []
    },
    {
      "cell_type": "code",
      "source": [
        "# 웹툰장르_리스트에 있는 아이템들을 쪼개주기\n",
        "genre = []\n",
        "for a in 웹툰장르_리스트:\n",
        "    a = a.split(', ')\n",
        "    for b in a:\n",
        "        genre.append(b)\n",
        "print(genre)"
      ],
      "metadata": {
        "id": "Pk9jyrdTsNAz"
      },
      "execution_count": null,
      "outputs": []
    },
    {
      "cell_type": "code",
      "source": [
        "# 각 장르의 개수를 세기 위한 함수 (연습문제 코드 활용)\n",
        "def pop_vote(data):\n",
        "    result = dict()\n",
        "    for each_data in data:\n",
        "        if (each_data in result) == True:\n",
        "            result[each_data] = result[each_data] +1\n",
        "        else:\n",
        "            result[each_data] = 1\n",
        "    return result\n",
        "\n",
        "dic_genre = pop_vote(genre)\n",
        "print(dic_genre)"
      ],
      "metadata": {
        "id": "nFBIYrjXsyCm"
      },
      "execution_count": null,
      "outputs": []
    },
    {
      "cell_type": "code",
      "source": [
        "# 시각화\n",
        "# 형식 차원\n",
        "print('스토리:', dic_genre['스토리'])\n",
        "print('에피소드:', dic_genre['에피소드'])\n",
        "print('옴니버스:', dic_genre['옴니버스'])\n",
        "print()\n",
        "\n",
        "# 내용 차원\n",
        "print('로맨스:', dic_genre['로맨스'])\n",
        "print('드라마', dic_genre['드라마'])\n",
        "print('개그:', dic_genre['개그'])\n",
        "print('감성:', dic_genre['감성'])\n",
        "print('스릴러:', dic_genre['스릴러'])\n",
        "print('액션:', dic_genre['액션'])\n",
        "print('판타지:', dic_genre['판타지'])\n",
        "print('일상:', dic_genre['일상'])"
      ],
      "metadata": {
        "id": "yEUr8ypssydI"
      },
      "execution_count": null,
      "outputs": []
    },
    {
      "cell_type": "code",
      "source": [
        "# 형식 차원의 구분 코드\n",
        "form_num = [59,9,4]\n",
        "form_genre = ['스토리', '에피소드', '옴니버스']\n",
        "form_column= ['웹툰의 수']\n",
        "form=pd.DataFrame(form_num, index=form_genre, columns= form_column)\n",
        "\n",
        "sorted_form=form.sort_values(by='웹툰의 수')\n",
        "sorted_form\n",
        "\n",
        "# 줄거리의 내용 구분\n",
        "story_num = [20,23,10,1,13,3,1,1]\n",
        "story_genre = ['로맨스','드라마','개그','감성','스릴러','액션','판타지','일상']\n",
        "story_column= ['웹툰의 수']\n",
        "story=pd.DataFrame(story_num, index=story_genre, columns= story_column)\n",
        "\n",
        "sorted_story=story.sort_values(by='웹툰의 수')\n",
        "sorted_story\n",
        "\n",
        "# 시각화\n",
        "sorted_form.plot(kind='barh', stacked = True) \n",
        "plt.title('드라마 실사화 웹툰의 장르 구분 (형식 차원)')\n",
        "plt.show()\n",
        "\n",
        "sorted_story.plot(kind='barh')\n",
        "plt.title('드라마 실사화 웹툰의 장르 구분 (내용 차원)')\n",
        "plt.show()"
      ],
      "metadata": {
        "id": "FH5Rp2yds2Yu"
      },
      "execution_count": null,
      "outputs": []
    },
    {
      "cell_type": "markdown",
      "source": [
        "- 형식의 경우 스토리: 59/에피소드: 9/옴니버스: 4로 스토리가 압도적으로 많았다.\n",
        "그 이유를 추측해보자면, 현재 상당수의 드라마는 스토리, 어떠한 문제(사건)가 시작되어 해결되는 구조를 따르는 경우가 많고, 정해진 시간(회차) 안에 압축적으로 서사를 풀어낼 수 있다는 드라마라는 영상매체의 특성상 매회 다른 사건들이 나열되는 에피소드나 옴니버스보다는 하나의 스토리를 가진 웹툰이 실사화되기에 적합해보인다. 가장 쉬운 방식으로 드라마화(化)할 수 있는 형식이 스토리로 보인다.\n",
        "\n",
        "- 내용의 경우는 로맨스: 20/드라마 23/개그: 10/감성: 1/스릴러: 13/액션: 3/판타지: 1/일상: 1로 형식에 비해서는 비교적 고른 분포를 보인다고 할 수 있다. 드라마와 로맨스가 가장 큰 비중을 차지한다고 할 수 있는데, 이는 앞서 언급한 압축적으로 서사를 전달하기 좋은 드라마의 특성 때문이라고 할 수도 있지만, 한국 드라마 자체의 장르가 로맨스에 쏠려 있는 경향성을 보여주기도 한다. 2000년대부터 한국 드라마는 청춘 로맨스, 로맨스 스릴러, 로맨틱 코미디, 판타지 로맨스 등 다양한 장르가 결합된 '로맨스물' 작품들이 쏟아지기 시작했는데, 이러한 흐름에 맞춰 로맨스 및 드라마 웹툰들이 많이 드라마화 되고 있는 것으로 보인다."
      ],
      "metadata": {
        "id": "SJkhAi-ys7gb"
      }
    },
    {
      "cell_type": "markdown",
      "source": [
        "### 2.2.2. 드라마 분석"
      ],
      "metadata": {
        "id": "EnOpokoBUpXO"
      }
    },
    {
      "cell_type": "code",
      "source": [
        "# 드라마 리스트 정의\n",
        "드라마_리스트 = ['간 떨어지는 동거', '계룡선녀전', '고백부부', '꽃가족', '내 아이디는 강남미인', '내과 박원장', '냄새를 보는 소녀', '놓지마 정신줄', '닥터 프로스트', '멜로홀릭', '사장님을 잠금해제', '송곳', '싸우자 귀신아', '쌉니다 천리마마트', '아일랜드', '알고있지만', '약한영웅 Class 1', '어서와', '오렌지 마말레이드', '운빨로맨스', '은주의 방', '녹두전', '조선왕조실톡', '참치와 돌고래', '청춘 블라썸', '치즈인더트랩', '커넥트', '타인은 지옥이다', '가우스전자', '금수저', '내일', '동네변호사 조들호 1', '머니게임', '스위트홈', '안나라수마나라', '여신강림', '우월한 하루', '유미의 세포들 1', '지금 우리 학교는', '지옥', 'D.P.']\n",
        "드라마_리스트.sort()"
      ],
      "metadata": {
        "id": "4aRnbDXgUroS"
      },
      "execution_count": null,
      "outputs": []
    },
    {
      "cell_type": "markdown",
      "source": [
        "#### 시청률"
      ],
      "metadata": {
        "id": "b-JH2wlLtU43"
      }
    },
    {
      "cell_type": "code",
      "source": [
        "from selenium import webdriver\n",
        "from selenium.webdriver.chrome.options import Options\n",
        "from selenium.webdriver.common.by import By\n",
        "from bs4 import BeautifulSoup\n",
        "import time\n",
        "import pandas as pd\n",
        "import numpy as np\n",
        "\n",
        "url = \"http://naver.com\" \n",
        "options = Options()\n",
        "options.add_argument(\"--headless\")\n",
        "options.add_argument(\"--no-sandbox\")\n",
        "\n",
        "options.headless = True\n",
        "\n",
        "driver = webdriver.Chrome(\"/usr/bin/chromedriver\", options=options)\n",
        "\n",
        "시청률_리스트={}\n",
        "기준=['시청률']\n",
        "for each in 드라마_리스트:\n",
        "    driver.get(url)\n",
        "    elem_search = driver.find_element(By.ID, 'query')\n",
        "    elem_search.send_keys(each, '드라마')\n",
        "    xpath = '//*[@id=\"search_btn\"]' #검색버튼 xpath\n",
        "    driver.find_element(By.XPATH, value=xpath).click()\n",
        "    driver.implicitly_wait(3)\n",
        "    html=driver.page_source\n",
        "    soup = BeautifulSoup(html, 'html.parser')\n",
        "    b=soup.find_all('em', class_=\"value\") # 각 화면에서 시청률 수치 크롤링\n",
        "    for i in range(len(b)):\n",
        "        c=b[i].get_text()\n",
        "        if c==None:\n",
        "            시청률_리스트[each]=np.NaN\n",
        "        else:\n",
        "            c = c[:-1] # 실수형으로 변환하기 위해 \"%\" 제거\n",
        "            c = float(c) # 실수형으로 변환 -> 추후 시청률 대소비교에 필요\n",
        "            시청률_리스트[each]=c #시청률 결과가 검색될 경우 딕셔너리 형태로 저장\n",
        "\n",
        "df1=pd.DataFrame(시청률_리스트, index=기준) #시청률 리스트를 데이터프레임 형태로\n",
        "df1=df1.T\n",
        "df1"
      ],
      "metadata": {
        "id": "9ydPbQQktWFt"
      },
      "execution_count": null,
      "outputs": []
    },
    {
      "cell_type": "markdown",
      "source": [
        "#### 방송사"
      ],
      "metadata": {
        "id": "biytLsSItZst"
      }
    },
    {
      "cell_type": "code",
      "source": [
        "방송사_리스트 = ['tvN', 'tvN', 'KBS2', 'MBC', 'JTBC', 'tvN', 'MBC', 'SBS', 'KBS2', 'OCN', 'KBS2', 'tvN', 'OCN', 'ENA', 'JTBC', 'tvN', 'tvN', 'JTBC', 'KBS2', 'tvN', 'KBS2', 'OCN', 'MBC', 'tvN', 'KBS2', 'tvN', 'OCN']\n",
        "df1.insert(1,\"방송사\", 방송사_리스트, True)\n",
        "df1 # 확인용"
      ],
      "metadata": {
        "id": "C8_QmT_qtaz-"
      },
      "execution_count": null,
      "outputs": []
    },
    {
      "cell_type": "code",
      "source": [
        "# 웹드라마(시청률 검색되지 않는 드라마)\n",
        "extra_list = ['D.P', '가우스전자','놓지마 정신줄','사장님을 잠금해제','아일랜드','안나라수마나라','약한 영웅 Class1','은주의 방','지금 우리 학교는','지옥','청춘 블라썸','커넥트','툰드라쇼 꽃가족','툰드라쇼 조선왕조실톡']\n",
        "extra_broadcast = ['넷플릭스', 'Seezn','JTBC', 'ENA', '티빙', '넷플릭스', '웨이브', 'Olive', '넷플릭스', '넷플릭스', '웨이브', '디즈니플러스', 'MBC every1', 'MBC every1' ]\n",
        "# extra_broadcast: 웹드라마 방송사 이름\n",
        "extra_rating = ['넷플릭스 국내 1위', 'NaN', 'NaN','NaN','NaN','넷플릭스 국내 7위', '국내 OTT화제성 4위', 'NaN', '넷플릭스 국내 1위', '넷플릭스 국내 1위', 'NaN', '디즈니 플러스 국내 1위', 'NaN', 'NaN' ]\n",
        "#extra_rating: 웹드라마의 성적. NaN은 큰 흥행 실적이 없는 것"
      ],
      "metadata": {
        "id": "E9orcyfhtbjm"
      },
      "execution_count": null,
      "outputs": []
    },
    {
      "cell_type": "code",
      "source": [
        "# 웹드라마 dataframe 만들기\n",
        "s1=pd.Series(extra_rating, index=extra_list)\n",
        "s2=pd.Series(extra_broadcast, index=extra_list)\n",
        "\n",
        "df2=pd.DataFrame()\n",
        "df2['비고']=s1 #추후 extra_rating으로 채울 예정\n",
        "df2['방송사']=s2\n",
        "df2  # 확인용"
      ],
      "metadata": {
        "id": "RIkIEiUctn44"
      },
      "execution_count": null,
      "outputs": []
    },
    {
      "cell_type": "code",
      "source": [
        "# 새로운 전체 dataframe 만들기\n",
        "new_df = df1.append(df2, ignore_index = False) # df1에 df2를 추가하여, 시청률 자료가 없는 웹드라마까지 모두 포함\n",
        "\n",
        "new_df=new_df.fillna(0) # 빈칸이 있을 경우 모두 0으로 채움\n",
        "new_df # 확인용"
      ],
      "metadata": {
        "id": "s93H1PQVtuRF"
      },
      "execution_count": null,
      "outputs": []
    },
    {
      "cell_type": "code",
      "source": [
        "# 채널명을 방송사 유형으로 변경\n",
        "방송사_mapping={'KBS':'지상파', 'KBS2':'지상파', 'KBS1':'지상파', 'MBC':'지상파', 'SBS':'지상파', 'tvN':'종편', 'OCN':'종편', 'JTBC':'종편', 'Olive':'종편', 'MBC every1': '종편', 'ENA':'종편', '넷플릭스':'OTT', 'Seezn':'OTT', '티빙':'OTT', '웨이브':'OTT', '디즈니플러스':'OTT'}\n",
        "new_df['방송사']=new_df['방송사'].map(방송사_mapping)\n",
        "new_df # 확인용"
      ],
      "metadata": {
        "id": "H_y7UmeTt1lv"
      },
      "execution_count": null,
      "outputs": []
    },
    {
      "cell_type": "markdown",
      "source": [
        "#### 흥행(성공/실패)"
      ],
      "metadata": {
        "id": "fAeWQyB_t52U"
      }
    },
    {
      "cell_type": "code",
      "source": [
        "new_df['흥행'] = 0 # 성공작/비성공작을 구분하는 column\n",
        "new_df # 확인용"
      ],
      "metadata": {
        "id": "8VYHVZdZt3ps"
      },
      "execution_count": null,
      "outputs": []
    },
    {
      "cell_type": "code",
      "source": [
        "new_df.loc [ ( new_df['방송사'] == '지상파' ) & ( new_df['시청률'] > 10) , '흥행'] = '성공'\n",
        "new_df.loc [ ( new_df['방송사'] == '지상파' ) & ( new_df['시청률'] <= 10) , '흥행'] = '실패'\n",
        "# 지상파의 경우 시청률 10% 초과의 드라마를 흥행작으로 설정\n",
        "new_df # 확인용"
      ],
      "metadata": {
        "id": "TUb-q46bt_js"
      },
      "execution_count": null,
      "outputs": []
    },
    {
      "cell_type": "code",
      "source": [
        "new_df.loc [ ( new_df['방송사'] == '종편'   ) & ( new_df['시청률'] > 5) , '흥행'] = '성공'\n",
        "new_df.loc [ ( new_df['방송사'] == '종편'   ) & ( new_df['시청률'] <= 5) , '흥행'] = '실패'\n",
        "# 종편의 경우 시청률 5% 초과의 드라마를 흥행작으로 설정\n",
        "new_df # 확인용"
      ],
      "metadata": {
        "id": "f-W3pRC7t_8h"
      },
      "execution_count": null,
      "outputs": []
    },
    {
      "cell_type": "code",
      "source": [
        "new_df.loc [ ( new_df['방송사'] == 'OTT'   ) & ( new_df['비고']=='NaN') , '흥행'] = '실패'\n",
        "new_df.loc [ ( new_df['방송사'] == 'OTT'   ) & ( new_df['비고']==0) , '흥행'] = '실패'\n",
        "new_df.loc [ ( new_df['방송사'] == 'OTT'   ) & ( new_df['비고']!=0) & (new_df['비고']!='NaN') , '흥행'] = '성공'\n",
        "# OTT의 경우 화제성이나 국내 랭킹 10위 안에 들어가면 흥행작으로 설정\n",
        "new_df # 확인용"
      ],
      "metadata": {
        "id": "WKItHd8buCHc"
      },
      "execution_count": null,
      "outputs": []
    },
    {
      "cell_type": "code",
      "source": [
        "# 성공작 행추출\n",
        "final_df=new_df[new_df['흥행'].isin(['성공'])]\n",
        "final_df # 확인용"
      ],
      "metadata": {
        "id": "YyrlIdv0uEa5"
      },
      "execution_count": null,
      "outputs": []
    },
    {
      "cell_type": "code",
      "source": [
        "success_index=final_df.index.to_list()\n",
        "print(success_index) # 성공작들의 리스트"
      ],
      "metadata": {
        "id": "G1EXNaPsuGRa"
      },
      "execution_count": null,
      "outputs": []
    },
    {
      "cell_type": "markdown",
      "source": [
        "#### 시각화"
      ],
      "metadata": {
        "id": "gn4wibkluJyJ"
      }
    },
    {
      "cell_type": "code",
      "source": [
        "# 성공작들의 별점\n",
        "성공작_별점 = [9.96, 9.96, 9.89, 9.94, 9.91, 9.90, 9.95, 9.84, 9.95, 9.72, 9.73, 9.93, 9.78]\n",
        "sns.boxplot(data=성공작_별점)\n",
        "plt.title('웹툰 원작 드라마 중 성공작들의 별점 boxplot')\n",
        "plt.show()\n",
        "\n",
        "sns.boxplot (y='별점', data=webtoon1)\n",
        "plt.title('드라마로 만들어진 웹툰의 별점 boxplot')\n",
        "plt.show()"
      ],
      "metadata": {
        "id": "Zxh_T0ReuK7b"
      },
      "execution_count": null,
      "outputs": []
    },
    {
      "cell_type": "markdown",
      "source": [
        "드라마로 만들어진 웹툰 전체와 그 가운데 성공작들의 boxplot을 비교해보았다. 확실히 성공작들의 별점이 평균적으로 훨씬 높은 것으로 보인다."
      ],
      "metadata": {
        "id": "nl_l186muOH6"
      }
    },
    {
      "cell_type": "code",
      "source": [
        "# 성곡작들의 방송사 종류\n",
        "sns.countplot(x='방송사', data=final_df)\n",
        "plt.title('흥행한 웹툰 원작 드라마가 방영된 채널 유형')\n",
        "plt.show()"
      ],
      "metadata": {
        "id": "70YNDsTduO3x"
      },
      "execution_count": null,
      "outputs": []
    },
    {
      "cell_type": "markdown",
      "source": [
        "웹툰 원작 드라마가 성공한 작품들을 살펴보았을 때 OTT 제작이 가장 많았다. 장르와 소재의 제약을 뛰어넘는 신선함이 무기인 웹툰이 지상파에서 드라마로 방영될 경우 PPL이나 비교적 엄격한 방송 규정 등으로 인해 그 신선함이 다소 떨어질 수밖에 없어 흥행이 상대적으로 어렵지 않을까 하는 생각이 들었다."
      ],
      "metadata": {
        "id": "t_Xk-DVxuTNg"
      }
    },
    {
      "cell_type": "markdown",
      "source": [
        "## 3.소감\n",
        "\n",
        "작업을 하면서 어려웠던 점은 크게 세 가지였다.\n",
        "\n",
        "첫째, 자료(시청률, 제작사)가 한곳에 모여있거나 같은 형태로 나타나 있지 않아서 크롤링하는 데에 어려움이 있었다. 여러 사이트에서 정보를 가져와야 하는 상황이어서 현재까지 배운 크롤링의 기술로는 쉽지 않았다. 따라서 일부 자료의 경우 결국 직접 리스트로 만들어 작업을 진행하기도 하였다.\n",
        "\n",
        "둘째, OTT나 다시 보기 서비스의 발달로 인해 시청률과 같은 단순 지표로 성공작/비 성공작을 판단하기에 어려움이 있었다. 웹툰 실사화 드라마의 흥행 여부를 판단하기 위해서는 시청률이나 조회수와 같은 수치적 데이터를 이용해야 하는데, OTT의 경우 정확한 조회수의 데이터를 제공하지 않아서 흥행 여부를 판단하는 데에 있어 어려움이 있었다. 결국 논의 끝에 국내 10위 랭킹권 안에 드는 작품들을 흥행작으로 선정하며 기준을 새로 잡아야 했다.\n",
        "\n",
        "마지막으로는, 표본(실사화된 작품)이 신뢰성을 얻을 만큼 많지 않아서, 데이터가 다소 단순하게 나온 측면이 있는 것 같다. 아무래도 웹툰 IP를 이용한 실사화 제작 작업이 근래부터 성장세를 타기 시작한 작업인 만큼, 수집할 수 있는 데이터가 한정적이었다. 하지만 앞으로도 많은 웹툰의 실사화 작품들이 방영 예정되어있는 만큼, 추가 연구를 진행할 시 유의미한 결과를 도출할 수 있을 것 같다.\n",
        "\n",
        "어려운 점이 없지는 않았지만 팀원 모두가 흥미를 느꼈던 주제이니만큼, 주제 선정이나 파트 분담의 과정 및 협업의 과정이 순조롭게 흘러갔다. 작업을 하면서 웹 크롤링 능력이 크게 성장한 것을 느꼈고, 덤으로 몰랐던 웹툰 실사화 작품들을 새로 알게 되니 작업을 하면서도 즐거웠다. 한 달가량의 짧은 시간 동안 코딩을 속성으로 배우고, 이렇게 실전 응용까지 가능하다는 것이 신기하다.\n",
        "\n",
        "이상입니다. 감사합니다. "
      ],
      "metadata": {
        "id": "BOAJT2GBUsFG"
      }
    }
  ]
}